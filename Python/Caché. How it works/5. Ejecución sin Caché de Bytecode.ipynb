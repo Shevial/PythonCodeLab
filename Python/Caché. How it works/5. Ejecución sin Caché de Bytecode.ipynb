{
 "cells": [
  {
   "cell_type": "markdown",
   "id": "7ec00999-b830-4f10-8c2c-2d0216d3e741",
   "metadata": {},
   "source": [
    "## 5. Ejecución sin Caché de Bytecode"
   ]
  },
  {
   "cell_type": "code",
   "execution_count": null,
   "id": "c6811e87-be3c-4c99-a126-279080704b94",
   "metadata": {},
   "outputs": [],
   "source": [
    "# Para desactivar .pyc\n",
    "PYTHONDONTWRITEBYTECODE=1 python3 mi_script.py\n",
    "# o\n",
    "python3 -B mi_script.py"
   ]
  },
  {
   "cell_type": "markdown",
   "id": "acddd761-4f90-4b9b-91ae-4f0cf3f2e97c",
   "metadata": {},
   "source": [
    "### Recursos Adicionales\n",
    "Python import system\n",
    "\n",
    "functools.lru_cache\n",
    "\n",
    "PEP 552 (Deterministic pycs)"
   ]
  }
 ],
 "metadata": {
  "kernelspec": {
   "display_name": "Python [conda env:base] *",
   "language": "python",
   "name": "conda-base-py"
  },
  "language_info": {
   "codemirror_mode": {
    "name": "ipython",
    "version": 3
   },
   "file_extension": ".py",
   "mimetype": "text/x-python",
   "name": "python",
   "nbconvert_exporter": "python",
   "pygments_lexer": "ipython3",
   "version": "3.12.7"
  }
 },
 "nbformat": 4,
 "nbformat_minor": 5
}
