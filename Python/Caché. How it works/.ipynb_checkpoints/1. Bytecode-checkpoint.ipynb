{
 "cells": [
  {
   "cell_type": "markdown",
   "id": "a758ecb6-7839-4d16-9c18-605fb5cb07dd",
   "metadata": {},
   "source": [
    "# 🐍 Caché en Python - Explicación Práctica\n",
    "Este repositorio explora dos tipos de caché en Python:\n",
    "\n",
    "- Caché de bytecode (.pyc)\n",
    "\n",
    "- Memoización de funciones (optimización)\n",
    "\n",
    "## 1. Caché de Bytecode (.pyc)\n",
    "¿Qué ocurre al importar un módulo?\n",
    "1. Python compila el código a bytecode\n",
    "2. Guarda una copia en ``__pycache__/modulo.pyc``\n",
    "3. En futuras importaciones usa el bytecode compilado"
   ]
  },
  {
   "cell_type": "code",
   "execution_count": 5,
   "id": "68d61a67-41e0-4277-8660-b83b0d56637a",
   "metadata": {},
   "outputs": [],
   "source": [
    "# modulo_ejemplo.py\n",
    "def hola():\n",
    "    return \"¡Hola Mundo!\""
   ]
  },
  {
   "cell_type": "code",
   "execution_count": null,
   "id": "fdac0586-1430-4e86-9e42-4c0f8edaede0",
   "metadata": {},
   "outputs": [],
   "source": [
    "# Ejecutar en consola\n",
    "$ python3 -c \"import modulo_ejemplo\"\n",
    "$ ls __pycache__\n",
    "modulo_ejemplo.cpython-310.pyc  # El número varía según versión de Python"
   ]
  },
  {
   "cell_type": "markdown",
   "id": "4733f399-7885-4055-8358-cb8623520b5d",
   "metadata": {},
   "source": [
    "¿Cuándo se actualiza?  \n",
    "Python verifica la **fecha de modificación** del archivo .py\n",
    "\n",
    "**Si el .py es más reciente, regenera el .pyc**"
   ]
  },
  {
   "cell_type": "code",
   "execution_count": null,
   "id": "79af0473-4671-4aec-b453-47f2e7dc6c59",
   "metadata": {},
   "outputs": [],
   "source": [
    "# Modificar modulo_ejemplo.py y volver a importar\n",
    "$ touch modulo_ejemplo.py  # Simular cambio\n",
    "$ python3 -c \"import modulo_ejemplo\"\n",
    "# Se genera nuevo .pyc"
   ]
  },
  {
   "cell_type": "markdown",
   "id": "2b8523b3-6085-40e7-88ca-5bc6e77c9dec",
   "metadata": {},
   "source": [
    "### Proceso de Compilación\n",
    "1. Parsing y AST:\n",
    "\n",
    "Python convierte el código fuente (.py) en un Abstract Syntax Tree (árbol sintáctico abstracto)  \n",
    "\n",
    "2. Generación de Bytecode:\n",
    "\n",
    "El AST se convierte en instrucciones para la Python Virtual Machine (PVM)\n",
    "\n",
    "Usa el módulo dis para ver el bytecode:  \n",
    "``import dis``\n"
   ]
  },
  {
   "cell_type": "code",
   "execution_count": 21,
   "id": "48b32ac2-03c5-486d-8443-32e4cc1e7e99",
   "metadata": {
    "scrolled": true
   },
   "outputs": [
    {
     "name": "stdout",
     "output_type": "stream",
     "text": [
      "  0           0 RESUME                   0\n",
      "\n",
      "  1           2 LOAD_CONST               0 (3)\n",
      "              4 STORE_NAME               0 (x)\n",
      "              6 RETURN_CONST             1 (None)\n"
     ]
    }
   ],
   "source": [
    "import dis\n",
    "dis.dis('x = 1 + 2')"
   ]
  },
  {
   "cell_type": "markdown",
   "id": "1e89d518-dab5-4c96-8e6a-d4af5052e5cc",
   "metadata": {},
   "source": [
    "3. Escritura del .pyc:\n",
    "\n",
    "Python serializa el code object usando el módulo marshal\n",
    "\n",
    "Estructura del archivo .pyc:"
   ]
  },
  {
   "cell_type": "markdown",
   "id": "cfe90a16-f48e-4626-8fc4-77eae86586e1",
   "metadata": {},
   "source": [
    "#### Mecanismo de Importación\n",
    "Cuando haces import modulo:\n",
    "\n",
    "1. Búsqueda en sys.modules (si ya está cargado, no se recompila)\n",
    "\n",
    "2. Verificación de .pyc:\n",
    "\n",
    "- Compara el timestamp del .py vs .pyc\n",
    "\n",
    "- Si el .py es más nuevo: recompila\n",
    "\n",
    "3. Ejecución del bytecode:\n",
    "\n",
    "- La PVM interpreta las instrucciones (ejecuta el code object)\n",
    "\n",
    "Ejemplo Práctico Interno"
   ]
  },
  {
   "cell_type": "code",
   "execution_count": 26,
   "id": "9e44dd41-fdcf-403d-91f6-a19df424927a",
   "metadata": {},
   "outputs": [],
   "source": [
    "def suma(a, b):\n",
    "    return a + b"
   ]
  },
  {
   "cell_type": "markdown",
   "id": "c805247e-59ed-4b14-af01-af5047ebd19b",
   "metadata": {},
   "source": [
    "1. Compilación"
   ]
  },
  {
   "cell_type": "code",
   "execution_count": null,
   "id": "9e4297d1-b8c0-4b9f-b008-a6f73bb6f35d",
   "metadata": {},
   "outputs": [],
   "source": [
    "code_obj = compile(source, 'modulo.py', 'exec')"
   ]
  },
  {
   "cell_type": "markdown",
   "id": "58189a38-f780-4c57-a234-d1f38cdd8410",
   "metadata": {},
   "source": [
    "2. Serialización:"
   ]
  },
  {
   "cell_type": "code",
   "execution_count": null,
   "id": "56bddfc0-d7e6-4660-bf70-5a3280ceacfa",
   "metadata": {},
   "outputs": [],
   "source": [
    "with open('modulo.pyc', 'wb') as f:\n",
    "  f.write(importlib.util.MAGIC_NUMBER)\n",
    "  f.write(struct.pack('<I', timestamp))\n",
    "  marshal.dump(code_obj, f)"
   ]
  }
 ],
 "metadata": {
  "kernelspec": {
   "display_name": "Python [conda env:base] *",
   "language": "python",
   "name": "conda-base-py"
  },
  "language_info": {
   "codemirror_mode": {
    "name": "ipython",
    "version": 3
   },
   "file_extension": ".py",
   "mimetype": "text/x-python",
   "name": "python",
   "nbconvert_exporter": "python",
   "pygments_lexer": "ipython3",
   "version": "3.12.7"
  }
 },
 "nbformat": 4,
 "nbformat_minor": 5
}
