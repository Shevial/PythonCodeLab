{
 "cells": [
  {
   "cell_type": "markdown",
   "id": "a95954af-0f97-4c57-bd5b-40b1cc198007",
   "metadata": {},
   "source": [
    "## 2. Memoización con ``functools.lru_cache``"
   ]
  },
  {
   "cell_type": "markdown",
   "id": "1ee00875-4f40-48ab-bec3-b09320488583",
   "metadata": {},
   "source": [
    "Ejemplo con Fibonacci:"
   ]
  },
  {
   "cell_type": "code",
   "execution_count": 5,
   "id": "3c79d0fc-3049-436b-baeb-f8786668dbb6",
   "metadata": {},
   "outputs": [
    {
     "name": "stdout",
     "output_type": "stream",
     "text": [
      "Sin caché: 1.42s\n",
      "Con caché: 0.00s\n"
     ]
    }
   ],
   "source": [
    "from functools import lru_cache\n",
    "import time\n",
    "\n",
    "# Sin caché\n",
    "def fib(n):\n",
    "    if n < 2:\n",
    "        return n\n",
    "    return fib(n-1) + fib(n-2)\n",
    "\n",
    "# Con caché\n",
    "@lru_cache(maxsize=None)\n",
    "def fib_cached(n):\n",
    "    if n < 2:\n",
    "        return n\n",
    "    return fib_cached(n-1) + fib_cached(n-2)\n",
    "\n",
    "# Test de velocidad\n",
    "start = time.time()\n",
    "fib(35)\n",
    "print(f\"Sin caché: {time.time() - start:.2f}s\")\n",
    "\n",
    "start = time.time()\n",
    "fib_cached(35)\n",
    "print(f\"Con caché: {time.time() - start:.2f}s\")"
   ]
  },
  {
   "cell_type": "markdown",
   "id": "5a8d188c-3768-471e-9f42-1224d715c4ba",
   "metadata": {},
   "source": [
    "Implementación manual de caché:"
   ]
  },
  {
   "cell_type": "code",
   "execution_count": 17,
   "id": "fc4bee17-293b-4c24-9408-291a223eddbd",
   "metadata": {},
   "outputs": [
    {
     "name": "stdout",
     "output_type": "stream",
     "text": [
      "1\n"
     ]
    }
   ],
   "source": [
    "def mi_cache(func):\n",
    "    cache = {}\n",
    "    def wrapper(*args):\n",
    "        if args not in cache:\n",
    "            cache[args] = func(*args)\n",
    "        return cache[args]\n",
    "    return wrapper\n",
    "\n",
    "@mi_cache\n",
    "def factorial(n):\n",
    "    return 1 if n < 2 else n * factorial(n-1)\n",
    "\n",
    "print(factorial(100))  # Se calcula una vez"
   ]
  }
 ],
 "metadata": {
  "kernelspec": {
   "display_name": "Python [conda env:base] *",
   "language": "python",
   "name": "conda-base-py"
  },
  "language_info": {
   "codemirror_mode": {
    "name": "ipython",
    "version": 3
   },
   "file_extension": ".py",
   "mimetype": "text/x-python",
   "name": "python",
   "nbconvert_exporter": "python",
   "pygments_lexer": "ipython3",
   "version": "3.12.7"
  }
 },
 "nbformat": 4,
 "nbformat_minor": 5
}
