{
 "cells": [
  {
   "cell_type": "markdown",
   "id": "c51fe91f-133f-4a70-9375-599b3b49cb54",
   "metadata": {},
   "source": [
    "## 3. Buenas Prácticas y Consideraciones"
   ]
  },
  {
   "cell_type": "markdown",
   "id": "1e877a0a-2c50-4705-9d9a-313d0a02de5a",
   "metadata": {},
   "source": [
    "✔️ Funciones Puras Ideales:\n",
    "- Mismas entradas → mismas salidas\n",
    "\n",
    "- Sin efectos secundarios\n",
    "\n",
    "- Ejemplo perfecto para caché"
   ]
  },
  {
   "cell_type": "markdown",
   "id": "36b249ca-c795-419f-9c73-30e33ca072ec",
   "metadata": {},
   "source": [
    "❌ Caso Peligroso:"
   ]
  },
  {
   "cell_type": "code",
   "execution_count": 14,
   "id": "3690c049-0af4-49d9-9be3-b53d62959368",
   "metadata": {},
   "outputs": [
    {
     "name": "stdout",
     "output_type": "stream",
     "text": [
      "Sin caché: 1.67s\n",
      "Con caché: 0.00s\n"
     ]
    }
   ],
   "source": [
    "from functools import lru_cache\n",
    "import time\n",
    "\n",
    "# Sin caché\n",
    "def fib(n):\n",
    "    if n < 2:\n",
    "        return n\n",
    "    return fib(n-1) + fib(n-2)\n",
    "\n",
    "# Con caché\n",
    "@lru_cache(maxsize=None)\n",
    "def fib_cached(n):\n",
    "    if n < 2:\n",
    "        return n\n",
    "    return fib_cached(n-1) + fib_cached(n-2)\n",
    "\n",
    "# Test de velocidad\n",
    "start = time.time()\n",
    "fib(35)\n",
    "print(f\"Sin caché: {time.time() - start:.2f}s\")\n",
    "\n",
    "start = time.time()\n",
    "fib_cached(35)\n",
    "print(f\"Con caché: {time.time() - start:.2f}s\")"
   ]
  },
  {
   "cell_type": "code",
   "execution_count": 16,
   "id": "fd4eb89e-7e47-479b-9d62-db57142cc7a8",
   "metadata": {},
   "outputs": [
    {
     "name": "stdout",
     "output_type": "stream",
     "text": [
      "1\n"
     ]
    }
   ],
   "source": [
    "contador = 0\n",
    "\n",
    "@lru_cache\n",
    "def funcion_impura(x):\n",
    "    global contador\n",
    "    contador += 1\n",
    "    return x * 2\n",
    "\n",
    "funcion_impura(2)\n",
    "funcion_impura(2)\n",
    "print(contador)  # ¡Sigue siendo 1!"
   ]
  },
  {
   "cell_type": "markdown",
   "id": "eb130e1c-b98c-4349-a249-17a4c4c397ee",
   "metadata": {},
   "source": [
    "¡Sigue siendo 1!"
   ]
  },
  {
   "cell_type": "markdown",
   "id": "fa4c6a2e-787b-4f2f-ac93-1b6fb0b32839",
   "metadata": {},
   "source": [
    "Parámetros Importantes:"
   ]
  },
  {
   "cell_type": "code",
   "execution_count": null,
   "id": "357246a3-d852-4241-8dc2-82909cb4a105",
   "metadata": {},
   "outputs": [],
   "source": [
    "@lru_cache(maxsize=128, typed=False)\n",
    "def funcion(x):\n",
    "    ..."
   ]
  },
  {
   "cell_type": "markdown",
   "id": "9208f40d-4ed7-4e9c-a78f-985b0d70717b",
   "metadata": {},
   "source": [
    "- ``maxsize``: Tamaño máximo de caché (None para ilimitado)\n",
    "\n",
    "- ``typed``: Distingue tipo de datos (ej. 1 vs 1.0)"
   ]
  }
 ],
 "metadata": {
  "kernelspec": {
   "display_name": "Python [conda env:base] *",
   "language": "python",
   "name": "conda-base-py"
  },
  "language_info": {
   "codemirror_mode": {
    "name": "ipython",
    "version": 3
   },
   "file_extension": ".py",
   "mimetype": "text/x-python",
   "name": "python",
   "nbconvert_exporter": "python",
   "pygments_lexer": "ipython3",
   "version": "3.12.7"
  }
 },
 "nbformat": 4,
 "nbformat_minor": 5
}
