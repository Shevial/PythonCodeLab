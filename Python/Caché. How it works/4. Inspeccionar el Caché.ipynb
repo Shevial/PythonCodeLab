{
 "cells": [
  {
   "cell_type": "markdown",
   "id": "904cd34c-3fc5-445a-ad5a-fb1199fe8cc8",
   "metadata": {},
   "source": [
    "## 4. Inspeccionar el Caché"
   ]
  },
  {
   "cell_type": "markdown",
   "id": "dfe6d060-5304-4202-b8ea-af0a62dc6e07",
   "metadata": {},
   "source": [
    "Ejemplo con Fibbonacci"
   ]
  },
  {
   "cell_type": "code",
   "execution_count": 3,
   "id": "db21afe9-59f6-430d-abf4-e6739cccf77a",
   "metadata": {},
   "outputs": [
    {
     "name": "stdout",
     "output_type": "stream",
     "text": [
      "Sin caché: 1.36s\n",
      "Con caché: 0.00s\n"
     ]
    }
   ],
   "source": [
    "from functools import lru_cache\n",
    "import time\n",
    "\n",
    "# Sin caché\n",
    "def fib(n):\n",
    "    if n < 2:\n",
    "        return n\n",
    "    return fib(n-1) + fib(n-2)\n",
    "\n",
    "# Con caché\n",
    "@lru_cache(maxsize=None)\n",
    "def fib_cached(n):\n",
    "    if n < 2:\n",
    "        return n\n",
    "    return fib_cached(n-1) + fib_cached(n-2)\n",
    "\n",
    "# Test de velocidad\n",
    "start = time.time()\n",
    "fib(35)\n",
    "print(f\"Sin caché: {time.time() - start:.2f}s\")\n",
    "\n",
    "start = time.time()\n",
    "fib_cached(35)\n",
    "print(f\"Con caché: {time.time() - start:.2f}s\")"
   ]
  },
  {
   "cell_type": "code",
   "execution_count": 5,
   "id": "b19dd2c1-900c-437d-9d89-8878853073fd",
   "metadata": {},
   "outputs": [
    {
     "name": "stdout",
     "output_type": "stream",
     "text": [
      "CacheInfo(hits=33, misses=36, maxsize=None, currsize=36)\n"
     ]
    }
   ],
   "source": [
    "funcion_cached = fib_cached\n",
    "\n",
    "print(funcion_cached.cache_info())\n",
    "# CacheInfo(hits=34, misses=36, maxsize=None, currsize=36)\n",
    "\n",
    "funcion_cached.cache_clear()  # Limpiar caché"
   ]
  }
 ],
 "metadata": {
  "kernelspec": {
   "display_name": "Python [conda env:base] *",
   "language": "python",
   "name": "conda-base-py"
  },
  "language_info": {
   "codemirror_mode": {
    "name": "ipython",
    "version": 3
   },
   "file_extension": ".py",
   "mimetype": "text/x-python",
   "name": "python",
   "nbconvert_exporter": "python",
   "pygments_lexer": "ipython3",
   "version": "3.12.7"
  }
 },
 "nbformat": 4,
 "nbformat_minor": 5
}
