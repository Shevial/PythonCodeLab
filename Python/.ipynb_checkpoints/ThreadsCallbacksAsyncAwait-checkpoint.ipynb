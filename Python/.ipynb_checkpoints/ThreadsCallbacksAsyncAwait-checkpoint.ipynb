{
 "cells": [
  {
   "cell_type": "markdown",
   "id": "739b3b1d-eced-4b40-853a-d1e11329197e",
   "metadata": {},
   "source": [
    "## Hilos (Threading)"
   ]
  },
  {
   "cell_type": "markdown",
   "id": "420663c3-fc7e-411d-800e-f0e619c9ad8e",
   "metadata": {},
   "source": [
    "Se pueden usar hilos en Python (threading) o en Java (Thread). Problema: Los hilos se ejecutan en paralelo, pero no garantizan que un subproceso espere al anterior. Solución: Usar ``Thread.join()`` para que un hilo espere a que termine el anterior antes de continuar.Hilos (Threading)"
   ]
  },
  {
   "cell_type": "markdown",
   "id": "e48a2e7b-dc1b-4dfa-8a77-e4fd4ac9ea9c",
   "metadata": {},
   "source": [
    "Ejemplo en Python con Threading:"
   ]
  },
  {
   "cell_type": "code",
   "execution_count": null,
   "id": "c1ed6388-cc7e-439f-bb0b-75d6660f579f",
   "metadata": {},
   "outputs": [],
   "source": [
    "import threading \n",
    "import time\n",
    "\n",
    "def seleccion_compra(): \n",
    "    print(\" Cliente seleccionando productos...\") \n",
    "    time.sleep(2)\n",
    "    print(\" Selección de compra completada.\")\n",
    "def verificar_existencias(): \n",
    "    print(\" Verificando existencias...\") \n",
    "    time.sleep(1) \n",
    "    print(\" Existencias verificadas.\")\n",
    "def pago_compra(): \n",
    "    print(\" Cliente realizando el pago...\") \n",
    "    time.sleep(3) \n",
    "    print(\" Pago completado.\")\n",
    "# Crear hilos \n",
    "t1 = threading.Thread(target=seleccion_compra) \n",
    "t2 = threading.Thread(target=verificar_existencias) \n",
    "t3 = threading.Thread(target=pago_compra)\n",
    "# Ejecutar hilos en orden \n",
    "t1.start() \n",
    "t1.join() # Esperar que termine t1 antes de seguir\n",
    "t2.start() \n",
    "t2.join() # Esperar que termine t2 antes de seguir\n",
    "t3.start() \n",
    "t3.join() # Esperar que termine t3 antes de seguir\n",
    "print(\" Proceso de compra finalizado.\")"
   ]
  },
  {
   "cell_type": "markdown",
   "id": "7ce776d0-06ee-4d6d-b237-5681da6d35d9",
   "metadata": {},
   "source": [
    "Limitación: Aunque logramos la secuencialidad con ``.join()``, no aprovechamos la concurrencia real."
   ]
  },
  {
   "cell_type": "markdown",
   "id": "108ddcbd-8d35-4f33-8325-3155677c3ef3",
   "metadata": {},
   "source": [
    "## Callbacks (Programación Basada en Eventos)"
   ]
  },
  {
   "cell_type": "markdown",
   "id": "9c65659f-5aba-4743-abe0-be059bcb0858",
   "metadata": {},
   "source": [
    "Se pueden usar funciones callback, especialmente en JavaScript y Node.js. Problema: Puede generar \"callback hell\" si no se maneja bien."
   ]
  },
  {
   "cell_type": "markdown",
   "id": "1a01e884-fabb-4e17-9385-157b1d33e34c",
   "metadata": {},
   "source": [
    "Ejemplo con JavaScript (Node.js):"
   ]
  },
  {
   "cell_type": "code",
   "execution_count": null,
   "id": "bfd5d13d-7d2e-4c65-b755-b2b339b2d73f",
   "metadata": {
    "scrolled": true
   },
   "outputs": [],
   "source": [
    "function seleccionCompra(callback) { \n",
    "    console.log(\" Cliente seleccionando productos...\");\n",
    "    setTimeout(() => {\n",
    "        console.log(\" Selección de compra completada.\");\n",
    "        callback(); \n",
    "        }, 2000); \n",
    "    }\n",
    "function verificarExistencias(callback) {\n",
    "    console.log(\" Verificando existencias...\");\n",
    "    setTimeout(() => {\n",
    "        console.log(\" Existencias verificadas.\");\n",
    "        callback(); \n",
    "        }, 1000); \n",
    "    }\n",
    "seleccionCompra(() => { \n",
    "    verificarExistencias(() => {\n",
    "    console.log(\" Proceso de compra finalizado.\"); \n",
    "    }); \n",
    "});"
   ]
  },
  {
   "cell_type": "markdown",
   "id": "40de3498-fe72-4571-b4ca-66800c2699f2",
   "metadata": {},
   "source": [
    "Limitación: Código difícil de leer si hay muchas dependencias encadenadas."
   ]
  },
  {
   "cell_type": "markdown",
   "id": "9dc9d0fb-4d46-4f15-8e22-e3ac7251e9c5",
   "metadata": {},
   "source": [
    "## Async/Await (Programación Asíncrona en Python y JS)"
   ]
  },
  {
   "cell_type": "markdown",
   "id": "0d41058a-b9f6-4868-aad4-8d25d1e53f58",
   "metadata": {},
   "source": [
    "Usa async y await para manejar tareas de forma secuencial pero sin bloquear el hilo principal. Ideal cuando hay operaciones de entrada/salida como consultas a bases de datos o APIs. Evita el problema del \"callback hell\"."
   ]
  },
  {
   "cell_type": "markdown",
   "id": "57d13afb-b652-4f8f-ade7-9e011e1db0b7",
   "metadata": {},
   "source": [
    "Ejemplo en Python con ``asyncio``"
   ]
  },
  {
   "cell_type": "code",
   "execution_count": 17,
   "id": "33f8dda0-e240-41ee-aa53-770b43599fb6",
   "metadata": {},
   "outputs": [
    {
     "name": "stdout",
     "output_type": "stream",
     "text": [
      " Cliente seleccionando productos...\n",
      " Selección de compra completada.\n",
      " Verificando existencias...\n",
      " Existencias verificadas.\n",
      " Cliente realizando el pago...\n",
      " Pago completado.\n",
      " Proceso de compra finalizado.\n"
     ]
    }
   ],
   "source": [
    "import asyncio\n",
    "\n",
    "async def seleccion_compra():\n",
    "        print(\" Cliente seleccionando productos...\") \n",
    "        await asyncio.sleep(2) \n",
    "        print(\" Selección de compra completada.\")\n",
    "    \n",
    "async def verificar_existencias(): \n",
    "    print(\" Verificando existencias...\") \n",
    "    await asyncio.sleep(1) \n",
    "    print(\" Existencias verificadas.\")\n",
    "    \n",
    "async def pago_compra(): \n",
    "    print(\" Cliente realizando el pago...\") \n",
    "    await asyncio.sleep(3)\n",
    "    print(\" Pago completado.\")\n",
    "    \n",
    "async def proceso_compra(): \n",
    "    await seleccion_compra() # Espera a que termine \n",
    "    await verificar_existencias() \n",
    "    await pago_compra() \n",
    "    print(\" Proceso de compra finalizado.\")\n",
    "# Ejecutar el proceso ( asyncio.run(proceso_compra()))\n",
    "await proceso_compra()\n"
   ]
  },
  {
   "cell_type": "markdown",
   "id": "9a98edd5-8fd8-42e6-85d2-b196af095d0a",
   "metadata": {},
   "source": [
    "**Ventaja:** Código claro y mantiene la secuencialidad sin bloquear el programa.  \n",
    "**Desventaja:** No es útil si las tareas no dependen entre sí (en ese caso, mejor asyncio.gather())."
   ]
  },
  {
   "cell_type": "markdown",
   "id": "3f204d8b-60ee-4534-b02c-e599d3b38295",
   "metadata": {},
   "source": [
    "Si quieres **ejecutar los procesos de forma secuencial sin bloqueos:**  \n",
    "✔ Usa async/await (Python: asyncio, JS: async/await).\n",
    "Si quieres hacer uso de **múltiples hilos en Python pero asegurando orden:**  \n",
    "✔ Usa threading con .join().  \n",
    "Si el código está en **JavaScript y es basado en eventos:**  \n",
    "✔ Usa callbacks o mejor aún async/await para evitar callback hell."
   ]
  }
 ],
 "metadata": {
  "kernelspec": {
   "display_name": "Python [conda env:base] *",
   "language": "python",
   "name": "conda-base-py"
  },
  "language_info": {
   "codemirror_mode": {
    "name": "ipython",
    "version": 3
   },
   "file_extension": ".py",
   "mimetype": "text/x-python",
   "name": "python",
   "nbconvert_exporter": "python",
   "pygments_lexer": "ipython3",
   "version": "3.12.7"
  }
 },
 "nbformat": 4,
 "nbformat_minor": 5
}
