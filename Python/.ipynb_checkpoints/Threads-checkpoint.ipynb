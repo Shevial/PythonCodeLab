{
 "cells": [
  {
   "cell_type": "markdown",
   "id": "705b0f76-cd1e-4f91-b312-eda563e06526",
   "metadata": {},
   "source": [
    "### Creating Threads\n"
   ]
  },
  {
   "cell_type": "code",
   "execution_count": 7,
   "id": "0c32f1f2-314f-444c-bf12-46dae91fd44c",
   "metadata": {},
   "outputs": [
    {
     "name": "stdout",
     "output_type": "stream",
     "text": [
      "llamada a run\n",
      "Thread-13 (saludar)\n",
      "llamada a run\n",
      "Thread-14 (saludar)\n",
      "llamada a run\n",
      "Thread-15 (saludar)\n"
     ]
    }
   ],
   "source": [
    "import threading\n",
    "import time\n",
    "\n",
    "def print_hi(name):\n",
    "    print(f'Hi, {name}')\n",
    "\n",
    "\n",
    "\n",
    "def saludar():\n",
    "    print(\"llamada a run\")\n",
    "    print(threading.current_thread().name)\n",
    "    \n",
    "hilo1 = threading.Thread(target=saludar)\n",
    "hilo2 = threading.Thread(target=saludar)\n",
    "hilo3 = threading.Thread(target=saludar)\n",
    "\n",
    "hilo1.start()\n",
    "hilo2.start()\n",
    "hilo3.start()\n",
    "\n"
   ]
  },
  {
   "cell_type": "code",
   "execution_count": 20,
   "id": "9fce9939-e6da-4bdf-8ea5-04d7f2fe4a66",
   "metadata": {},
   "outputs": [
    {
     "name": "stdout",
     "output_type": "stream",
     "text": [
      "llamada a run\n",
      "llamada a run\n",
      "llamada a run\n"
     ]
    }
   ],
   "source": [
    "import threading\n",
    "import time\n",
    "\n",
    "def print_hi(name):\n",
    "    print(f'Hi, {name}')\n",
    "\n",
    "\n",
    "\n",
    "def saludar():\n",
    "    print(\"llamada a run\")\n",
    "    time.sleep(1)\n",
    "    print(threading.current_thread().name)\n",
    "    \n",
    "hilo1 = threading.Thread(target=saludar)\n",
    "hilo2 = threading.Thread(target=saludar)\n",
    "hilo3 = threading.Thread(target=saludar)\n",
    "\n",
    "hilo1.start()\n",
    "hilo2.start()\n",
    "hilo3.start()\n"
   ]
  },
  {
   "cell_type": "markdown",
   "id": "59750728-d7bf-4c68-995f-0ac718525875",
   "metadata": {},
   "source": [
    "## Threads en un bucle\n"
   ]
  },
  {
   "cell_type": "code",
   "execution_count": 13,
   "id": "af0fffdf-6c68-4e2e-a91b-11c8ee8e5721",
   "metadata": {},
   "outputs": [
    {
     "name": "stdout",
     "output_type": "stream",
     "text": [
      "llamada a run 0\n",
      "llamada a run 1\n",
      "llamada a run 2\n",
      "llamada a run 3\n",
      "llamada a run 4\n",
      "llamada a run 5\n",
      "llamada a run 6\n",
      "llamada a run 7\n",
      "llamada a run 8\n",
      "llamada a run 9\n"
     ]
    }
   ],
   "source": [
    "import threading\n",
    "import time\n",
    "\n",
    "def print_hi(name):\n",
    "    print(f'Hi, {name}')\n",
    "\n",
    "\n",
    "\n",
    "def saludar(x):\n",
    "    print(f'llamada a run {x}')\n",
    "    time.sleep(5)\n",
    "    print(threading.current_thread().name)\n",
    "    \n",
    "for i in range(10):\n",
    "    hilo = threading.Thread(target=saludar, args=(i,))\n",
    "    hilo.start()\n",
    "\n"
   ]
  }
 ],
 "metadata": {
  "kernelspec": {
   "display_name": "Python [conda env:base] *",
   "language": "python",
   "name": "conda-base-py"
  },
  "language_info": {
   "codemirror_mode": {
    "name": "ipython",
    "version": 3
   },
   "file_extension": ".py",
   "mimetype": "text/x-python",
   "name": "python",
   "nbconvert_exporter": "python",
   "pygments_lexer": "ipython3",
   "version": "3.12.7"
  }
 },
 "nbformat": 4,
 "nbformat_minor": 5
}
