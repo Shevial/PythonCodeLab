{
 "cells": [
  {
   "cell_type": "markdown",
   "id": "33c0e535-98d0-41fb-8076-726a2991615a",
   "metadata": {},
   "source": [
    "# Kwargs vs __init__"
   ]
  },
  {
   "cell_type": "markdown",
   "id": "8aa0119c-5c86-44ca-8769-cb121cdcccbe",
   "metadata": {},
   "source": [
    "**Both options are better than explicitly defining all parameters at each level of inheritance.**"
   ]
  },
  {
   "cell_type": "markdown",
   "id": "4fa6ac9a-7c10-4d5c-b335-c0a3ffa041c8",
   "metadata": {},
   "source": [
    "## Use of ** Kwargs for more flexibility"
   ]
  },
  {
   "cell_type": "markdown",
   "id": "225f9613-78d0-45a9-8f33-ba936f8385d3",
   "metadata": {},
   "source": [
    "To avoid having to specify the parent class arguments.  \n",
    "If the parent class constructor (Car) accepts additional parameters, you can use ``kwargs`` to avoid explicitly defining all the arguments in the subclass (ElectricCar)."
   ]
  },
  {
   "cell_type": "code",
   "execution_count": 7,
   "id": "801677a7-adc3-40d2-b364-f1fdbba2b22d",
   "metadata": {},
   "outputs": [
    {
     "name": "stdout",
     "output_type": "stream",
     "text": [
      "Tesla\n",
      "Roadster\n",
      "30000\n"
     ]
    }
   ],
   "source": [
    "class Car:\n",
    "    def __init__(self, brand, model):\n",
    "        self.brand = brand\n",
    "        self.model = model\n",
    "\n",
    "class ElectricCar(Car):\n",
    "    def __init__(self, price,**kwargs):\n",
    "        super().__init__(**kwargs) #Automatically pass the remaining parameters\n",
    "        self.price = price\n",
    "            \n",
    "    # Creating the object without repeating parameters\n",
    "car = ElectricCar(price =30000, brand=\"Tesla\", model=\"Roadster\")\n",
    "\n",
    "print(car.brand) # Tesla\n",
    "print(car.model) # Roadster\n",
    "print(car.price) #30000\n",
    "\n"
   ]
  },
  {
   "cell_type": "markdown",
   "id": "405ef1d3-12c1-4021-833f-884eeaab470f",
   "metadata": {},
   "source": [
    "## Inheritance using **__init__ in superclass**"
   ]
  },
  {
   "cell_type": "markdown",
   "id": "cc2eb803-663d-4ef7-819a-ecafad43134b",
   "metadata": {},
   "source": [
    "Not necessary to use ``super()`` and repeat code"
   ]
  },
  {
   "cell_type": "markdown",
   "id": "ce5b04ee-31d2-452d-b723-533c07afa054",
   "metadata": {},
   "source": [
    "If the attribute price makes sense in the base class, you can define it there and avoid rewriting init in the subclass"
   ]
  },
  {
   "cell_type": "code",
   "execution_count": 16,
   "id": "901a663c-42cf-48b3-b0e3-6c3b1f525372",
   "metadata": {},
   "outputs": [
    {
     "name": "stdout",
     "output_type": "stream",
     "text": [
      "Tesla\n",
      "Model S\n",
      "50000\n"
     ]
    }
   ],
   "source": [
    "class Car:\n",
    "    def __init__(self, brand, model, price):\n",
    "        self.brand = brand\n",
    "        self.model = model\n",
    "        self.price = price #define directly in supeclass\n",
    "\n",
    "class ElectricCar(Car):\n",
    "    pass # not necesary redefine consructor \n",
    "    \n",
    "#object creation\n",
    "car = ElectricCar(brand=\"Tesla\", model = \"Model S\", price = 50000)\n",
    "print(car.brand)\n",
    "print(car.model)\n",
    "print(car.price)\n",
    "\n"
   ]
  },
  {
   "cell_type": "markdown",
   "id": "782c6fd5-24fd-4332-b294-435ad1871c50",
   "metadata": {},
   "source": [
    "## Use of super() y **kwargs"
   ]
  },
  {
   "cell_type": "raw",
   "id": "63c8bccc-105b-48c2-a442-af8a0ae589f7",
   "metadata": {},
   "source": [
    "Cuando una subclase extiende la funcionalidad de su clase padre, normalmente queremos reutilizar el constructor de la clase padre sin repetir todos los argumentos manualmente. Para eso, podemos usar **kwargs en super()."
   ]
  },
  {
   "cell_type": "markdown",
   "id": "1bcebf6d-40aa-42b3-a77e-cc168d3233fc",
   "metadata": {},
   "source": [
    "Example 1: Flexible handling of parameters"
   ]
  },
  {
   "cell_type": "code",
   "execution_count": null,
   "id": "4a263836-4a71-4d84-9d6d-5d8dd81beb6b",
   "metadata": {},
   "outputs": [],
   "source": [
    "class Coche:\n",
    "    def __init__(self, marca, modelo, color=\"Blanco\"):\n",
    "        self.marca = marca\n",
    "        self.modelo = modelo\n",
    "        self.color = color # Parámetro opcional\n",
    "        \n",
    "    def info(self):\n",
    "        return f\"{self.marca} {self.modelo} - Color: {self.color}\"\n",
    "        \n",
    "class CocheElectrico(Coche):\n",
    "    def __init__(self, precio, **kwargs):\n",
    "        super().__init__(**kwargs) # Pasa automáticamente los parámetros al padre\n",
    "        self.precio = precio\n",
    "        \n",
    "    def info(self):\n",
    "         return f\"{super().info()} - Precio: {self.precio}€\"\n",
    "\n",
    "# Creación de un coche eléctrico sin repetir parámetros\n",
    "tesla = CocheElectrico(precio=50000, marca=\"Tesla\", modelo=\"Model S\", color=\"Rojo\")\n",
    "\n",
    "print(tesla.info())\n",
    "# Salida: Tesla Model S - Color: Rojo - Precio: 50000€"
   ]
  },
  {
   "cell_type": "markdown",
   "id": "039880b0-03d2-4398-a568-56b49cfde576",
   "metadata": {},
   "source": [
    "● ``**kwargs`` permite capturar todos los parámetros adicionales.\n",
    "● ``super().__init__(**kwargs)`` los pasa automáticamente a ``Coche.__init__()``, sin necesidad de escribirlos uno a uno.\n",
    "● La función ``info()`` reutiliza el método del padre con ``super().info()``, extendiéndolo."
   ]
  },
  {
   "cell_type": "markdown",
   "id": "9057ba1b-525c-4ae1-8a5d-9fb80a655124",
   "metadata": {},
   "source": [
    "## Alternative: Define atributes in base class"
   ]
  },
  {
   "cell_type": "markdown",
   "id": "2aa5dcc5-2bb5-4f1d-b59c-94cf4ae97a68",
   "metadata": {},
   "source": [
    "Si precio es relevante para todos los coches (no solo eléctricos), podemos moverlo a la clase base y evitar redefinir __init__ en la subclase."
   ]
  },
  {
   "cell_type": "markdown",
   "id": "c3c8429a-8299-4f9a-b983-fee485b2b51b",
   "metadata": {},
   "source": [
    "Ejemplo 2: Herencia sin redefinir ``__init__``"
   ]
  },
  {
   "cell_type": "code",
   "execution_count": null,
   "id": "e787e291-4b46-4399-b9be-b239f49f3016",
   "metadata": {},
   "outputs": [],
   "source": [
    "class Coche:\n",
    "    def __init__(self, marca, modelo, precio, color=\"Blanco\"):\n",
    "        self.marca = marca\n",
    "        self.modelo = modelo\n",
    "        self.precio = precio\n",
    "        self.color = color\n",
    "        \n",
    "    def info(self):\n",
    "        return f\"{self.marca} {self.modelo} - Color: {self.color} - Precio: {self.precio}€\"\n",
    "        \n",
    "    class CocheElectrico(Coche): # No es necesario redefinir __init__\n",
    "        def bateria(self):\n",
    "            return \"Este coche tiene una batería de larga duración.\"\n",
    "# Creación del objeto sin repetir parámetros\n",
    "tesla = CocheElectrico(marca=\"Tesla\", modelo=\"Model Y\", precio=55000, color=\"Azul\")\n",
    "\n",
    "print(tesla.info())\n",
    "print(tesla.bateria())"
   ]
  },
  {
   "cell_type": "markdown",
   "id": "7095c0f4-cc84-4d87-a56d-973b2875b72c",
   "metadata": {},
   "source": [
    "¿Por qué es útil esto?\n",
    "● Se evita definir ``__init__`` en la subclase si no es necesario.\n",
    "● Todos los coches, eléctricos o no, comparten la lógica de inicialización.\n",
    "● La subclase puede añadir métodos específicos (``bateria()``) sin tocar el constructor"
   ]
  },
  {
   "cell_type": "markdown",
   "id": "0230f741-890c-4749-af94-3c9322f47081",
   "metadata": {},
   "source": [
    "## Aplicando herencia múltiple con super()"
   ]
  },
  {
   "cell_type": "markdown",
   "id": "a8d64495-54b3-4be0-a893-308020dd8365",
   "metadata": {},
   "source": [
    "Si una subclase hereda de múltiples clases, ``super()`` sigue el orden de resolución de métodos (MRO, Method Resolution Order)."
   ]
  },
  {
   "cell_type": "markdown",
   "id": "f592a468-4aec-412b-8c71-142296aad339",
   "metadata": {},
   "source": [
    "Ejemplo 3: Combinando herencia de dos clases"
   ]
  },
  {
   "cell_type": "code",
   "execution_count": null,
   "id": "ab095c17-eeb1-48ab-b8f3-eac3891036ef",
   "metadata": {},
   "outputs": [],
   "source": [
    "class Motor:\n",
    "    def __init__(self, potencia):\n",
    "        self.potencia = potencia\n",
    "    \n",
    "    def info_motor(self):\n",
    "        return f\"Motor de {self.potencia} kW\"\n",
    "        \n",
    "class Coche:\n",
    "    def __init__(self, marca, modelo):\n",
    "    self.marca = marca\n",
    "    self.modelo = modelo\n",
    "    \n",
    "    def info_coche(self):\n",
    "        return f\"{self.marca} {self.modelo}\"\n",
    "        \n",
    "class CocheElectrico(Coche, Motor):\n",
    "    def __init__(self, marca, modelo, potencia, precio):\n",
    "        Coche.__init__(self, marca, modelo) # Llamamos explícitamente a Coche\n",
    "        Motor.__init__(self, potencia) # Llamamos explícitamente a Motor\n",
    "        self.precio = precio\n",
    "        \n",
    "    def info(self):\n",
    "        return f\"{self.info_coche()} - {self.info_motor()} - Precio: {self.precio}€\"\n",
    "        \n",
    "# Creación del objeto\n",
    "tesla = CocheElectrico(marca=\"Tesla\", modelo=\"Model X\", potencia=300, precio=80000)\n",
    "\n",
    "print(tesla.info())\n",
    "# Salida: Tesla Model X - Motor de 300 kW - Precio: 80000€"
   ]
  },
  {
   "cell_type": "markdown",
   "id": "a5b21888-a572-4c7d-8a94-79fd321ed2c0",
   "metadata": {},
   "source": [
    "● CocheElectrico hereda de Coche y Motor, combinando atributos de ambos.\n",
    "● super() en este caso no se usa para evitar ambigüedades, sino que llamamos explícitamente a cada constructor."
   ]
  },
  {
   "cell_type": "markdown",
   "id": "28b9a1dd-cb32-4b2a-a0ab-093de73cd079",
   "metadata": {},
   "source": [
    "| Método | Descripción | Cuándo usarlo |\n",
    "|--------|-------------|---------------|\n",
    "| super().__init__(**kwargs) | Pasa automáticamente los parámetros al padre sin repetirlos | Cuando la clase padre tiene muchos atributos y queremos flexibilidad |\n",
    "| No redefinir __init__ | La subclase hereda __init__ de la clase base sin modificarlo | Cuando la inicialización es igual para todas las subclases |\n",
    "| Llamado manual a cada padre en herencia múltiple | Evita conflictos de super() en herencia múltiple | Cuando heredamos de varias clases con diferentes atributos |"
   ]
  },
  {
   "cell_type": "markdown",
   "id": "adc136b6-7462-4b13-b287-44fdf57c7b12",
   "metadata": {},
   "source": [
    "Conclusión:\n",
    "● super() con **kwargs es la mejor opción cuando queremos flexibilidad en la herencia.\n",
    "● Si los atributos son comunes a todas las clases, lo mejor es definirlos en la clase base.\n",
    "● En herencia múltiple, a veces conviene llamar a cada clase padre manualmente en lugar de usar super()."
   ]
  }
 ],
 "metadata": {
  "kernelspec": {
   "display_name": "Python [conda env:base] *",
   "language": "python",
   "name": "conda-base-py"
  },
  "language_info": {
   "codemirror_mode": {
    "name": "ipython",
    "version": 3
   },
   "file_extension": ".py",
   "mimetype": "text/x-python",
   "name": "python",
   "nbconvert_exporter": "python",
   "pygments_lexer": "ipython3",
   "version": "3.12.7"
  }
 },
 "nbformat": 4,
 "nbformat_minor": 5
}
