{
 "cells": [
  {
   "cell_type": "markdown",
   "id": "6fbb4392-c7a8-481e-89c1-f0aa4d6a690e",
   "metadata": {},
   "source": [
    "# Hilos y Procesos en Python"
   ]
  },
  {
   "cell_type": "markdown",
   "id": "e298034c-5e7b-4037-9c35-b576f2386ab6",
   "metadata": {},
   "source": [
    "Programación Concurrente: Se refiere a la capacidad de un programa para manejar múltiples tareas a la vez, pero no necesariamente ejecutarlas simultáneamente. Puede alternar la ejecución entre tareas.  \n",
    "Programación Paralela: Implica la ejecución de múltiples tareas exactamente al mismo tiempo, utilizando varios procesadores o núcleos.  \n",
    "Ejemplo  \n",
    "● Concurrente: Un solo cajero atendiendo a 10 clientes, cambiando entre ellos.  \n",
    "● Paralela: 10 cajeros atendiendo a 10 clientes al mismo tiempo."
   ]
  },
  {
   "cell_type": "markdown",
   "id": "98f9641c-f579-446c-a8e2-f8ea1ec7690f",
   "metadata": {},
   "source": [
    "Gestión de Hilos en Python vs Java  \n",
    "🔹 Python y el GIL (Global Interpreter Lock)  \n",
    "● Python (CPython) tiene una limitación llamada GIL, que no permite que varios hilos se ejecuten al mismo tiempo en múltiples núcleos.  \n",
    "● Con threading, Python ejecuta los 10 hilos de manera concurrente, pero no en paralelo; alterna la ejecución de cada uno en pequeños fragmentos de tiempo.  \n",
    "● Para computación real en paralelo, se usa multiprocessing, que crea procesos separados en lugar de hilos."
   ]
  },
  {
   "cell_type": "markdown",
   "id": "fda83b3a-9570-4aeb-92a4-b968c5a5f7ac",
   "metadata": {},
   "source": [
    "### Ejemplo en Python usando threading (concurrente, pero no paralelo)"
   ]
  },
  {
   "cell_type": "code",
   "execution_count": 11,
   "id": "ce14895d-91db-4e12-85f0-136f65fd6e18",
   "metadata": {},
   "outputs": [
    {
     "name": "stdout",
     "output_type": "stream",
     "text": [
      "Iniciando hilo 0\n",
      "Iniciando hilo 1\n",
      "Iniciando hilo 2\n",
      "Iniciando hilo 3\n",
      "Iniciando hilo 4\n",
      "Iniciando hilo 5\n",
      "Iniciando hilo 6\n",
      "Iniciando hilo 7\n",
      "Iniciando hilo 8\n",
      "Iniciando hilo 9\n",
      "Finalizando hilo 0\n",
      "Finalizando hilo 1\n",
      "Finalizando hilo 2\n",
      "Finalizando hilo 3\n",
      "Finalizando hilo 4\n",
      "Finalizando hilo 5\n",
      "Finalizando hilo 6\n",
      "Finalizando hilo 7\n",
      "Finalizando hilo 8\n",
      "Finalizando hilo 9\n"
     ]
    }
   ],
   "source": [
    "import threading\n",
    "import time\n",
    "\n",
    "def tarea(id):\n",
    "    print(f\"Iniciando hilo {id}\")\n",
    "    time.sleep(2)\n",
    "    print(f\"Finalizando hilo {id}\")\n",
    "    \n",
    "hilos = []\n",
    "for i in range(10):\n",
    "    hilo = threading.Thread(target=tarea, args=(i,))\n",
    "    hilos.append(hilo)\n",
    "    hilo.start()\n",
    "    \n",
    "for hilo in hilos:\n",
    "    hilo.join()"
   ]
  },
  {
   "cell_type": "markdown",
   "id": "bcd61b11-8558-4f47-8f18-97691b50e6af",
   "metadata": {},
   "source": [
    "Salida: Python ejecutará los hilos intercalando su ejecución, pero sin paralelismo real."
   ]
  },
  {
   "cell_type": "markdown",
   "id": "c884535b-5182-4851-821c-db9419fcbe7f",
   "metadata": {},
   "source": [
    "Java y su gestión eficiente de hilos  \n",
    "● En Java, los hilos sí pueden ejecutarse en paralelo, aprovechando múltiples núcleos.  \n",
    "● El ThreadPoolExecutor o ForkJoinPool pueden manejar múltiples hilos de manera eficiente."
   ]
  },
  {
   "cell_type": "markdown",
   "id": "925ac71c-cbd9-4a07-b7ce-bb9ad27a580f",
   "metadata": {},
   "source": [
    "Ejemplo en Java usando ExecutorService (paralelismo real si hay varios núcleos)"
   ]
  },
  {
   "cell_type": "code",
   "execution_count": null,
   "id": "131a5cf4-9acd-4a88-a419-886185ef87aa",
   "metadata": {},
   "outputs": [],
   "source": [
    "import java.util.concurrent.*;\n",
    "public class HilosJava {\n",
    "    public static void main(String[] args) {\n",
    "        ExecutorService executor = Executors.newFixedThreadPool(10);\n",
    "        for (int i = 0; i < 10; i++) {\n",
    "            int id = i;\n",
    "            executor.execute(() -> {\n",
    "                System.out.println(\"Iniciando hilo \" + id);\n",
    "                try { Thread.sleep(2000); } catch (InterruptedException e) {}\n",
    "                System.out.println(\"Finalizando hilo \" + id);\n",
    "            });\n",
    "        }\n",
    "        executor.shutdown();\n",
    "    }\n",
    "}"
   ]
  },
  {
   "cell_type": "markdown",
   "id": "1131d526-7272-42f8-8461-23672ddd2465",
   "metadata": {},
   "source": [
    "Salida: Java puede ejecutar varios hilos en paralelo si hay múltiples núcleos disponibles."
   ]
  },
  {
   "cell_type": "markdown",
   "id": "74e723f5-faa3-45c1-805b-d47d75ce02d4",
   "metadata": {},
   "source": [
    "### ¿Cómo maneja cada lenguaje los 10 hilos?"
   ]
  },
  {
   "cell_type": "markdown",
   "id": "99a51202-ad8a-44dd-98e1-4cb05baf2eaa",
   "metadata": {},
   "source": [
    "| Lenguaje | Modelo de Hilos | Ejecución de 10 Hilos |\n",
    "|----------|----------------|------------------------|\n",
    "| Python (threading) | Concurrente (pero no paralelo, por el GIL) | Ejecuta 1 hilo durante un pequeño intervalo y luego cambia al siguiente. |\n",
    "| Python (multiprocessing) | Paralelo (usa múltiples procesos) | Puede ejecutar los 10 hilos en paralelo si hay múltiples núcleos. |\n",
    "| Java (Thread, ExecutorService) | Realmente paralelo si hay múltiples núcleos | Ejecuta múltiples hilos en paralelo si la CPU lo permite. |"
   ]
  },
  {
   "cell_type": "markdown",
   "id": "6d8dcfb8-e9a9-4466-a59b-fa9942c9e26c",
   "metadata": {},
   "source": [
    "Conclusión:  \n",
    "\n",
    "Si necesitas concurrencia en Python: Usa threading (pero recuerda que no es paralelo).   \n",
    "Si necesitas paralelismo en Python: Usa multiprocessing.  \n",
    "Si usas Java: La ejecución puede ser concurrente o paralela dependiendo del número de núcleos y del gestor de hilos."
   ]
  }
 ],
 "metadata": {
  "kernelspec": {
   "display_name": "Python [conda env:base] *",
   "language": "python",
   "name": "conda-base-py"
  },
  "language_info": {
   "codemirror_mode": {
    "name": "ipython",
    "version": 3
   },
   "file_extension": ".py",
   "mimetype": "text/x-python",
   "name": "python",
   "nbconvert_exporter": "python",
   "pygments_lexer": "ipython3",
   "version": "3.12.7"
  }
 },
 "nbformat": 4,
 "nbformat_minor": 5
}
