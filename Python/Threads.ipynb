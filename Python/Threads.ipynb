{
 "cells": [
  {
   "cell_type": "markdown",
   "id": "705b0f76-cd1e-4f91-b312-eda563e06526",
   "metadata": {},
   "source": [
    "### Creating Threads\n"
   ]
  },
  {
   "cell_type": "code",
   "execution_count": 7,
   "id": "0c32f1f2-314f-444c-bf12-46dae91fd44c",
   "metadata": {},
   "outputs": [
    {
     "name": "stdout",
     "output_type": "stream",
     "text": [
      "llamada a run\n",
      "Thread-13 (saludar)\n",
      "llamada a run\n",
      "Thread-14 (saludar)\n",
      "llamada a run\n",
      "Thread-15 (saludar)\n"
     ]
    }
   ],
   "source": [
    "import threading\n",
    "import time\n",
    "\n",
    "def print_hi(name):\n",
    "    print(f'Hi, {name}')\n",
    "\n",
    "\n",
    "\n",
    "def saludar():\n",
    "    print(\"llamada a run\")\n",
    "    print(threading.current_thread().name)\n",
    "    \n",
    "hilo1 = threading.Thread(target=saludar)\n",
    "hilo2 = threading.Thread(target=saludar)\n",
    "hilo3 = threading.Thread(target=saludar)\n",
    "\n",
    "hilo1.start()\n",
    "hilo2.start()\n",
    "hilo3.start()\n",
    "\n"
   ]
  },
  {
   "cell_type": "code",
   "execution_count": 20,
   "id": "9fce9939-e6da-4bdf-8ea5-04d7f2fe4a66",
   "metadata": {},
   "outputs": [
    {
     "name": "stdout",
     "output_type": "stream",
     "text": [
      "llamada a run\n",
      "llamada a run\n",
      "llamada a run\n"
     ]
    }
   ],
   "source": [
    "import threading\n",
    "import time\n",
    "\n",
    "def print_hi(name):\n",
    "    print(f'Hi, {name}')\n",
    "\n",
    "\n",
    "\n",
    "def saludar():\n",
    "    print(\"llamada a run\")\n",
    "    time.sleep(1)\n",
    "    print(threading.current_thread().name)\n",
    "    \n",
    "hilo1 = threading.Thread(target=saludar)\n",
    "hilo2 = threading.Thread(target=saludar)\n",
    "hilo3 = threading.Thread(target=saludar)\n",
    "\n",
    "hilo1.start()\n",
    "hilo2.start()\n",
    "hilo3.start()\n"
   ]
  },
  {
   "cell_type": "markdown",
   "id": "59750728-d7bf-4c68-995f-0ac718525875",
   "metadata": {},
   "source": [
    "## Threads en un bucle\n"
   ]
  },
  {
   "cell_type": "code",
   "execution_count": 13,
   "id": "af0fffdf-6c68-4e2e-a91b-11c8ee8e5721",
   "metadata": {},
   "outputs": [
    {
     "name": "stdout",
     "output_type": "stream",
     "text": [
      "llamada a run 0\n",
      "llamada a run 1\n",
      "llamada a run 2\n",
      "llamada a run 3\n",
      "llamada a run 4\n",
      "llamada a run 5\n",
      "llamada a run 6\n",
      "llamada a run 7\n",
      "llamada a run 8\n",
      "llamada a run 9\n"
     ]
    }
   ],
   "source": [
    "import threading\n",
    "import time\n",
    "\n",
    "def print_hi(name):\n",
    "    print(f'Hi, {name}')\n",
    "\n",
    "\n",
    "\n",
    "def saludar(x):\n",
    "    print(f'llamada a run {x}')\n",
    "    time.sleep(5)\n",
    "    print(threading.current_thread().name)\n",
    "    \n",
    "for i in range(10):\n",
    "    hilo = threading.Thread(target=saludar, args=(i,))\n",
    "    hilo.start()\n",
    "\n"
   ]
  },
  {
   "cell_type": "markdown",
   "id": "c984f1b8-3db9-4c11-a0c7-b84a96b46ee6",
   "metadata": {},
   "source": [
    "## Hilos (Threading)"
   ]
  },
  {
   "cell_type": "markdown",
   "id": "6fbfc8d8-a9a2-4893-a775-768b233c09a8",
   "metadata": {},
   "source": [
    "Se pueden usar hilos en Python (threading) o en Java (Thread). Problema: Los hilos se ejecutan en paralelo, pero no garantizan que un subproceso espere al anterior. Solución: Usar ``Thread.join()`` para que un hilo espere a que termine el anterior antes de continuar.Hilos (Threading)"
   ]
  },
  {
   "cell_type": "markdown",
   "id": "8a1c373e-0818-4b2e-a3b7-f4c461a87500",
   "metadata": {},
   "source": [
    "Ejemplo en Python con Threading:"
   ]
  },
  {
   "cell_type": "code",
   "execution_count": 12,
   "id": "e9a230e7-b78e-4149-bb34-cadc5e8b808b",
   "metadata": {},
   "outputs": [
    {
     "name": "stdout",
     "output_type": "stream",
     "text": [
      " Cliente seleccionando productos...\n",
      " Selección de compra completada.\n",
      " Verificando existencias...\n",
      " Existencias verificadas.\n",
      " Cliente realizando el pago...\n",
      " Pago completado.\n",
      " Proceso de compra finalizado.\n"
     ]
    }
   ],
   "source": [
    "import threading \n",
    "import time\n",
    "\n",
    "def seleccion_compra(): \n",
    "    print(\" Cliente seleccionando productos...\") \n",
    "    time.sleep(2)\n",
    "    print(\" Selección de compra completada.\")\n",
    "def verificar_existencias(): \n",
    "    print(\" Verificando existencias...\") \n",
    "    time.sleep(1) \n",
    "    print(\" Existencias verificadas.\")\n",
    "def pago_compra(): \n",
    "    print(\" Cliente realizando el pago...\") \n",
    "    time.sleep(3) \n",
    "    print(\" Pago completado.\")\n",
    "# Crear hilos \n",
    "t1 = threading.Thread(target=seleccion_compra) \n",
    "t2 = threading.Thread(target=verificar_existencias) \n",
    "t3 = threading.Thread(target=pago_compra)\n",
    "# Ejecutar hilos en orden \n",
    "t1.start() \n",
    "t1.join() # Esperar que termine t1 antes de seguir\n",
    "t2.start() \n",
    "t2.join() # Esperar que termine t2 antes de seguir\n",
    "t3.start() \n",
    "t3.join() # Esperar que termine t3 antes de seguir\n",
    "print(\" Proceso de compra finalizado.\")"
   ]
  },
  {
   "cell_type": "markdown",
   "id": "cabd559a-5fed-42fd-8892-66c81ceab366",
   "metadata": {},
   "source": [
    "Limitación: Aunque logramos la secuencialidad con ``.join()``, no aprovechamos la concurrencia real."
   ]
  },
  {
   "cell_type": "markdown",
   "id": "8f3a7889-9d78-4690-acb1-475f7e1a9956",
   "metadata": {},
   "source": []
  }
 ],
 "metadata": {
  "kernelspec": {
   "display_name": "Python [conda env:base] *",
   "language": "python",
   "name": "conda-base-py"
  },
  "language_info": {
   "codemirror_mode": {
    "name": "ipython",
    "version": 3
   },
   "file_extension": ".py",
   "mimetype": "text/x-python",
   "name": "python",
   "nbconvert_exporter": "python",
   "pygments_lexer": "ipython3",
   "version": "3.12.7"
  }
 },
 "nbformat": 4,
 "nbformat_minor": 5
}
