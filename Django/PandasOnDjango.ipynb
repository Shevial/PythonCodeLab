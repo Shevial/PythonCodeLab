{
 "cells": [
  {
   "cell_type": "markdown",
   "id": "7a1b01cb-058e-49b7-8f60-52cce63f415b",
   "metadata": {},
   "source": [
    "https://django-pandas.readthedocs.io/en/latest/  \n",
    "https://github.com/chrisdev/django-pandas"
   ]
  },
  {
   "cell_type": "markdown",
   "id": "6cfe8185-7ef4-4426-891f-69c822a21e11",
   "metadata": {},
   "source": [
    "### Dependencies  \n",
    "``django-pandas`` supports Django (>=1.4.5) or later and requires django-model-utils (>= 1.4.0) and Pandas (>= 0.12.0).  \n",
    "Note because of problems with the requires directive of setuptools you probably need to install ``numpy`` in your virtualenv before you install this package or if you want to run the test suite  \n",
    "Some pandas functionality requires parts of the ``Scipy`` stack. You may wish to consult http://www.scipy.org/install.html for more information on installing the Scipy stack."
   ]
  },
  {
   "cell_type": "markdown",
   "id": "3af7b962-b615-4c36-bc7f-5d30f93b02a9",
   "metadata": {},
   "source": [
    "## Installation\n",
    "Create a new ``virtualenv``"
   ]
  },
  {
   "cell_type": "code",
   "execution_count": null,
   "id": "e109c1cd-f893-4a4f-8c82-c835d6f30e9a",
   "metadata": {},
   "outputs": [],
   "source": [
    "mkvirtualenv myproject"
   ]
  },
  {
   "cell_type": "markdown",
   "id": "20c9db03-45b2-4b11-a862-5c86fc2b0177",
   "metadata": {},
   "source": [
    "Next install ``numpy`` and ``pandas`` and optionally ``scipy``  \n",
    "You may want to consult the scipy documentation for more information on installing the Scipy stack."
   ]
  },
  {
   "cell_type": "code",
   "execution_count": null,
   "id": "08188d87-d4aa-4d28-8471-644f3196ddab",
   "metadata": {},
   "outputs": [],
   "source": [
    "pip install numpy\n",
    "pip install pandas"
   ]
  },
  {
   "cell_type": "markdown",
   "id": "2eb3092f-6522-41f2-abac-6556f9a1c7e6",
   "metadata": {},
   "source": [
    "Finally, install ``django-pandas`` using pip.  \n",
    "Or install the development version from github"
   ]
  },
  {
   "cell_type": "code",
   "execution_count": null,
   "id": "e8aa1ca4-f294-4bf6-aab8-cedea6717b5f",
   "metadata": {},
   "outputs": [],
   "source": [
    "pip install django-pandas\n",
    "pip install https://github.com/chrisdev/django-pandas/tarball/master"
   ]
  },
  {
   "cell_type": "markdown",
   "id": "43054c92-b800-40b9-9439-14a47538973d",
   "metadata": {},
   "source": [
    "## Usage\n",
    "### IO Module\n",
    "The ``django-pandas.io`` module provides some convenience methods to facilitate the creation of DataFrames from Django QuerySets.\n",
    "#### read_frame\n",
    "**Parameters**\n",
    "\n",
    "* qs: A Django QuerySet.\n",
    "* fieldnames: A list of model field names to use in creating the DataFrame.  \n",
    "You can span a relationship in the usual Django way by using double underscores to specify a related field in another model\n",
    "* index_col: Use specify the field name to use for the DataFrame index.  \n",
    "If the index field is not in the field list it will be appended\n",
    "* coerce_float : Boolean, defaults to True  \n",
    "Attempt to convert values to non-string, non-numeric objects (like decimal.Decimal) to floating point.\n",
    "* verbose: If this is True then populate the DataFrame with the human readable versions of any foreign key or choice fields else use the actual values set in the model."
   ]
  },
  {
   "cell_type": "markdown",
   "id": "22e01c97-45ca-4071-bc7a-555e133a560c",
   "metadata": {},
   "source": [
    "Example  \n",
    "Assume that this is your model:"
   ]
  },
  {
   "cell_type": "code",
   "execution_count": null,
   "id": "d29bc1eb-41c1-41a7-b535-774f0538d132",
   "metadata": {},
   "outputs": [],
   "source": [
    "class MyModel(models.Model):\n",
    "\n",
    "    full_name = models.CharField(max_length=25)\n",
    "    age = models.IntegerField()\n",
    "    department = models.CharField(max_length=3)\n",
    "    wage = models.FloatField()"
   ]
  },
  {
   "cell_type": "markdown",
   "id": "cb5eeebb-7c75-4699-b531-1d5f5cfe3959",
   "metadata": {},
   "source": [
    "First create a query set:"
   ]
  },
  {
   "cell_type": "code",
   "execution_count": null,
   "id": "85f58b99-d4ff-4647-be10-1a39680ea3e1",
   "metadata": {},
   "outputs": [],
   "source": [
    "from django_pandas.io import read_frame\n",
    "qs = MyModel.objects.all()"
   ]
  },
  {
   "cell_type": "markdown",
   "id": "a24c5e34-aee5-4110-adbe-12629fb8b3b0",
   "metadata": {},
   "source": [
    "To create a dataframe using all the fields in the underlying model"
   ]
  },
  {
   "cell_type": "code",
   "execution_count": null,
   "id": "90bedfd2-4fbe-4bef-b7d2-b910243121e4",
   "metadata": {},
   "outputs": [],
   "source": [
    "df = read_frame(qs)"
   ]
  },
  {
   "cell_type": "markdown",
   "id": "5eedb2d5-6727-4dd4-bd1f-785f4a9c1727",
   "metadata": {},
   "source": [
    "The df will contain human readable column values for foreign key and choice fields.  \n",
    "The DataFrame will include all the fields in the underlying model including the primary key.  \n",
    "To create a DataFrame using specified field names:"
   ]
  },
  {
   "cell_type": "code",
   "execution_count": null,
   "id": "e653ee0d-6815-46ca-b514-8e883e5399ee",
   "metadata": {},
   "outputs": [],
   "source": [
    "df = read_frame(qs, fieldnames=['age', 'wage', 'full_name'])"
   ]
  },
  {
   "cell_type": "markdown",
   "id": "c22723c3-4d63-4ee1-b192-3a30c88c5faf",
   "metadata": {},
   "source": [
    "To set full_name as the DataFrame index"
   ]
  },
  {
   "cell_type": "code",
   "execution_count": null,
   "id": "9ba046ea-251a-41b8-9f07-bbdbb599b519",
   "metadata": {},
   "outputs": [],
   "source": [
    "qs.to_dataframe(['age', 'wage'], index='full_name'])"
   ]
  }
 ],
 "metadata": {
  "kernelspec": {
   "display_name": "Python [conda env:base] *",
   "language": "python",
   "name": "conda-base-py"
  },
  "language_info": {
   "codemirror_mode": {
    "name": "ipython",
    "version": 3
   },
   "file_extension": ".py",
   "mimetype": "text/x-python",
   "name": "python",
   "nbconvert_exporter": "python",
   "pygments_lexer": "ipython3",
   "version": "3.12.7"
  }
 },
 "nbformat": 4,
 "nbformat_minor": 5
}
