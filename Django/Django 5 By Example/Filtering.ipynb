{
 "cells": [
  {
   "cell_type": "markdown",
   "id": "1147af88-6a14-4c3e-9a29-4fc2352c908e",
   "metadata": {},
   "source": [
    "Open the Python shell:"
   ]
  },
  {
   "cell_type": "code",
   "execution_count": null,
   "id": "14e75f74-8164-4e06-b7d0-acd35b546e2f",
   "metadata": {},
   "outputs": [],
   "source": [
    "python manage.py shell"
   ]
  },
  {
   "cell_type": "markdown",
   "id": "ed9deded-8a02-467d-a34e-c48450d9e356",
   "metadata": {},
   "source": [
    "### **Filtering** objects\n",
    "To filter a QuerySet, you can use the ``filter()`` method of the manager. This method allows you to\n",
    "specify the content of a SQL WHERE clause by using field lookups.\n",
    "For example, you can use the following to filter Post objects by their title:"
   ]
  },
  {
   "cell_type": "code",
   "execution_count": null,
   "id": "1e0fd908-9bfe-43bb-9cf0-80569b0d1013",
   "metadata": {},
   "outputs": [],
   "source": [
    ">>> Post.objects.filter(title='Who was Django Reinhardt?')"
   ]
  },
  {
   "cell_type": "code",
   "execution_count": null,
   "id": "dac0c2c8-83c6-401a-a308-54e336ce9a33",
   "metadata": {},
   "outputs": [],
   "source": [
    "posts = Post.objects.filter(title='Who was Django Reinhardt?')\n",
    ">>> print(posts.query)"
   ]
  },
  {
   "cell_type": "markdown",
   "id": "81be4b83-6cf6-4809-8e2d-bb51384b16b2",
   "metadata": {},
   "source": [
    "By printing the query attribute of the QuerySet, we can get the SQL produced by it:"
   ]
  },
  {
   "cell_type": "code",
   "execution_count": null,
   "id": "89922a5d-07ab-4a01-a0e4-a21e93c672be",
   "metadata": {},
   "outputs": [],
   "source": [
    "SELECT \"blog_post\".\"id\", \"blog_post\".\"title\", \"blog_post\".\"slug\", \"blog_\n",
    "post\".\"author_id\", \"blog_post\".\"body\", \"blog_post\".\"publish\", \"blog_\n",
    "post\".\"created\", \"blog_post\".\"updated\", \"blog_post\".\"status\" FROM \"blog_post\"\n",
    "WHERE \"blog_post\".\"title\" = Who was Django Reinhardt? ORDER BY \"blog_\n",
    "post\".\"publish\" DESC"
   ]
  },
  {
   "cell_type": "markdown",
   "id": "191fbb22-3681-4f7a-a5a8-b5dbeb677846",
   "metadata": {},
   "source": [
    "The generated WHERE clause performs an exact match on the title column. The ORDER BY clause\n",
    "specifies the default order defined in the ordering attribute of the Post model’s Meta options since\n",
    "we haven’t provided any specific ordering in the QuerySet.  \n",
    "Note that the query attribute is not part of the QuerySet public API."
   ]
  },
  {
   "cell_type": "markdown",
   "id": "638d060f-d019-44d2-807b-a452e4bea860",
   "metadata": {},
   "source": [
    "### Using field lookups  \n",
    "The previous QuerySet example consists of a filter lookup with an exact match. The QuerySet interface provides you with multiple lookup types.  \n",
    "**Two underscores** are used to define the lookup type, with the format ``field__lookup``. For example, the following lookup produces an exact match:"
   ]
  },
  {
   "cell_type": "code",
   "execution_count": null,
   "id": "9d13b4a2-6a17-40ea-bfa6-ab84778f472c",
   "metadata": {},
   "outputs": [],
   "source": [
    ">>> Post.objects.filter(id__exact=1)"
   ]
  },
  {
   "cell_type": "markdown",
   "id": "c2117703-45bd-4c7c-b1c2-4f153c3c8966",
   "metadata": {},
   "source": [
    "When no specific lookup type is provided, the lookup type is assumed to be exact. The following lookup is **equivalent to the previous one**:"
   ]
  },
  {
   "cell_type": "code",
   "execution_count": null,
   "id": "756a5e8f-9b1c-4540-83d4-f45bcdb933b9",
   "metadata": {},
   "outputs": [],
   "source": [
    ">>> Post.objects.filter(id=1)"
   ]
  },
  {
   "cell_type": "markdown",
   "id": "1c5f4937-f288-4daf-beb8-249e33e29a50",
   "metadata": {},
   "source": [
    "You can generate a case-insensitive lookup with iexact:"
   ]
  },
  {
   "cell_type": "code",
   "execution_count": null,
   "id": "b0f80089-9246-4b38-9d42-f8c99f8bbd94",
   "metadata": {},
   "outputs": [],
   "source": [
    ">>> Post.objects.filter(title__iexact='who was django reinhardt?')"
   ]
  },
  {
   "cell_type": "markdown",
   "id": "ead17d96-dfc0-4c75-ae77-beb65903e775",
   "metadata": {},
   "source": [
    "You can also filter objects using a containment test. The ``contains`` lookup translates to a SQL lookup\n",
    "using the ``LIKE`` operator:"
   ]
  },
  {
   "cell_type": "code",
   "execution_count": null,
   "id": "f0f6b91b-0b29-4637-8c5b-6841826fc957",
   "metadata": {},
   "outputs": [],
   "source": [
    ">>> Post.objects.filter(title__contains='Django')"
   ]
  },
  {
   "cell_type": "markdown",
   "id": "bba3ced7-90be-4d96-80b6-71421cff3cec",
   "metadata": {},
   "source": [
    "The equivalent SQL clause is ``WHERE title LIKE`` '%Django%'. A case-insensitive version is also available,\n",
    "named ``icontains``:"
   ]
  },
  {
   "cell_type": "code",
   "execution_count": null,
   "id": "7e8c5c35-3d4f-4cc6-a0f9-f642a24242f9",
   "metadata": {},
   "outputs": [],
   "source": [
    ">>> Post.objects.filter(title__icontains='django')"
   ]
  },
  {
   "cell_type": "markdown",
   "id": "531535fc-83ff-49ae-a7c4-b2427a026b88",
   "metadata": {},
   "source": [
    "You can check for a given iterable (often a list, tuple, or another QuerySet object) with the ``in`` lookup.\n",
    "The following example retrieves posts with an id that is 1 or 3:"
   ]
  },
  {
   "cell_type": "code",
   "execution_count": null,
   "id": "2e5a659b-cf3b-4ca5-9376-b9307868afe1",
   "metadata": {},
   "outputs": [],
   "source": [
    ">>> Post.objects.filter(id__in=[1, 3])"
   ]
  },
  {
   "cell_type": "markdown",
   "id": "74275298-9720-440d-a6e8-4f29048e6bdc",
   "metadata": {},
   "source": [
    "The following example shows the **greater than** (``gt``) lookup:  \n",
    "The equivalent SQL clause is ``WHERE ID > 3``"
   ]
  },
  {
   "cell_type": "code",
   "execution_count": null,
   "id": "6d6e52df-ea3b-41dd-b1de-653ca8b99c91",
   "metadata": {},
   "outputs": [],
   "source": [
    ">>> Post.objects.filter(id__gt=3)"
   ]
  },
  {
   "cell_type": "markdown",
   "id": "5b5eabe5-ab90-4c13-b190-73d0b19b663a",
   "metadata": {},
   "source": [
    "This example shows the **greater than or equal to** lookup:"
   ]
  },
  {
   "cell_type": "code",
   "execution_count": null,
   "id": "286e3e24-afa6-47ab-87e4-0c687c56024b",
   "metadata": {},
   "outputs": [],
   "source": [
    ">>> Post.objects.filter(id__gte=3)"
   ]
  },
  {
   "cell_type": "markdown",
   "id": "6c1c786e-08a3-40bb-840c-f61a7f511925",
   "metadata": {},
   "source": [
    "This one shows the less than lookup:"
   ]
  },
  {
   "cell_type": "code",
   "execution_count": null,
   "id": "288d5da1-3c02-4b17-bbe5-4e1664ad3f68",
   "metadata": {},
   "outputs": [],
   "source": []
  }
 ],
 "metadata": {
  "kernelspec": {
   "display_name": "Python [conda env:base] *",
   "language": "python",
   "name": "conda-base-py"
  },
  "language_info": {
   "codemirror_mode": {
    "name": "ipython",
    "version": 3
   },
   "file_extension": ".py",
   "mimetype": "text/x-python",
   "name": "python",
   "nbconvert_exporter": "python",
   "pygments_lexer": "ipython3",
   "version": "3.12.7"
  }
 },
 "nbformat": 4,
 "nbformat_minor": 5
}
