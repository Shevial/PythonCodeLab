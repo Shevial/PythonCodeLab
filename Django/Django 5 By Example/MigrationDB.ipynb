{
 "cells": [
  {
   "cell_type": "markdown",
   "id": "ea36e9df-15fb-47d8-b3f4-cc43189e12d2",
   "metadata": {},
   "source": [
    "## Creating and applying migrations"
   ]
  },
  {
   "cell_type": "markdown",
   "id": "de52e586-1af5-466f-b438-6f8addfe4e7e",
   "metadata": {},
   "source": [
    "Create the corresponding database table"
   ]
  },
  {
   "cell_type": "markdown",
   "id": "1e5af8c9-b638-4164-8eef-d22288e0a072",
   "metadata": {},
   "source": [
    "The migrate command applies migrations for all applications listed in INSTALLED_APPS. It synchronizes\n",
    "the database with the current models and existing migrations.  \n",
    "First, we will need to create an initial migration for our Post model.  \n",
    "Run the following command in the shell prompt from the root directory of your project:"
   ]
  },
  {
   "cell_type": "code",
   "execution_count": null,
   "id": "1ddd4797-6087-4b5a-b2c0-353c94fe1aa9",
   "metadata": {},
   "outputs": [],
   "source": [
    "python manage.py makemigrations blog"
   ]
  },
  {
   "cell_type": "markdown",
   "id": "f2e457cc-8b00-4c91-8746-1a2c1f630298",
   "metadata": {},
   "source": [
    "You should get an output similar to the following one:"
   ]
  },
  {
   "cell_type": "code",
   "execution_count": null,
   "id": "40eb46fb-0ace-480a-ae3c-3b7b290f99cd",
   "metadata": {},
   "outputs": [],
   "source": [
    "Migrations for 'blog':\n",
    "blog/migrations/0001_initial.py\n",
    "- Create model Post\n",
    "- Create index blog_post_publish_bb7600_idx on field(s)\n",
    "-publish of model post"
   ]
  },
  {
   "cell_type": "markdown",
   "id": "459573a4-ff3d-4a51-9898-8fd868b52f9a",
   "metadata": {},
   "source": [
    "Django just created the 0001_initial.py file inside the migrations directory of the blog application.\n",
    "This migration contains the SQL statements to create the database table for the Post model and the\n",
    "definition of the database index for the publish field."
   ]
  },
  {
   "cell_type": "markdown",
   "id": "3b8c2060-0455-4bbf-83d2-189a06e67fd2",
   "metadata": {},
   "source": [
    "Run the following command from the shell prompt to inspect the SQL output of your first migration:"
   ]
  },
  {
   "cell_type": "code",
   "execution_count": null,
   "id": "6704df3f-d07f-4c33-bf98-a6a49417f9eb",
   "metadata": {},
   "outputs": [],
   "source": [
    "python manage.py sqlmigrate blog 0001"
   ]
  },
  {
   "cell_type": "markdown",
   "id": "c6b2051b-9a91-41c9-8f38-15b64f4d63ba",
   "metadata": {},
   "source": [
    "Execute the following command in the shell prompt to apply the existing migrations:"
   ]
  },
  {
   "cell_type": "code",
   "execution_count": null,
   "id": "b269974d-a8cc-4dfb-8f5c-3424f60da285",
   "metadata": {},
   "outputs": [],
   "source": [
    "python manage.py migrate"
   ]
  },
  {
   "cell_type": "markdown",
   "id": "8071cf51-0af8-46a1-90f3-2489db97515c",
   "metadata": {},
   "source": [
    "We just applied migrations for the applications listed in INSTALLED_APPS, including the blog application.\n",
    "After applying the migrations, the database reflects the current status of the models.\n",
    "If you edit the models.py file in order to add, remove, or change the fields of existing models, or if you add new models, **you will have to create a new migration using the makemigrations command.**"
   ]
  }
 ],
 "metadata": {
  "kernelspec": {
   "display_name": "Python [conda env:base] *",
   "language": "python",
   "name": "conda-base-py"
  },
  "language_info": {
   "codemirror_mode": {
    "name": "ipython",
    "version": 3
   },
   "file_extension": ".py",
   "mimetype": "text/x-python",
   "name": "python",
   "nbconvert_exporter": "python",
   "pygments_lexer": "ipython3",
   "version": "3.12.7"
  }
 },
 "nbformat": 4,
 "nbformat_minor": 5
}
