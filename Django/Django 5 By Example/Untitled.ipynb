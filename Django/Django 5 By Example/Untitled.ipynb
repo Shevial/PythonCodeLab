{
 "cells": [
  {
   "cell_type": "markdown",
   "id": "2f817762-b017-4590-a706-de749565be6c",
   "metadata": {},
   "source": [
    "## Creating a Python virtual environment"
   ]
  },
  {
   "cell_type": "markdown",
   "id": "b46719e2-1b9c-4444-82d8-f6976f0261c3",
   "metadata": {},
   "source": [
    "Create a Python environment:"
   ]
  },
  {
   "cell_type": "markdown",
   "id": "bc07fbc0-f270-4132-9879-41afa819fc63",
   "metadata": {},
   "source": [
    "`` python -m venv my_env `` linux  \n",
    "`` py -m venv my_env `` windows"
   ]
  },
  {
   "cell_type": "markdown",
   "id": "f7db28fc-a27f-4625-9119-19851ad6237c",
   "metadata": {},
   "source": [
    "Activate virtual environment:"
   ]
  },
  {
   "cell_type": "markdown",
   "id": "8a817945-530c-4121-a83e-03a238dccb3f",
   "metadata": {},
   "source": [
    "`` source my_env/bin/activate `` linux  \n",
    "`` .\\my_env\\Scripts\\activate `` windows\n"
   ]
  },
  {
   "cell_type": "markdown",
   "id": "4d5b5816-9888-47a0-9d6e-802ce184ce05",
   "metadata": {},
   "source": [
    "## Installing Django"
   ]
  }
 ],
 "metadata": {
  "kernelspec": {
   "display_name": "Python [conda env:base] *",
   "language": "python",
   "name": "conda-base-py"
  },
  "language_info": {
   "codemirror_mode": {
    "name": "ipython",
    "version": 3
   },
   "file_extension": ".py",
   "mimetype": "text/x-python",
   "name": "python",
   "nbconvert_exporter": "python",
   "pygments_lexer": "ipython3",
   "version": "3.12.7"
  }
 },
 "nbformat": 4,
 "nbformat_minor": 5
}
