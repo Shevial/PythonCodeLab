{
 "cells": [
  {
   "cell_type": "markdown",
   "id": "ea36e9df-15fb-47d8-b3f4-cc43189e12d2",
   "metadata": {},
   "source": [
    "## Creating and applying migrations"
   ]
  },
  {
   "cell_type": "markdown",
   "id": "de52e586-1af5-466f-b438-6f8addfe4e7e",
   "metadata": {},
   "source": [
    "Create the corresponding database table"
   ]
  }
 ],
 "metadata": {
  "kernelspec": {
   "display_name": "Python [conda env:base] *",
   "language": "python",
   "name": "conda-base-py"
  },
  "language_info": {
   "codemirror_mode": {
    "name": "ipython",
    "version": 3
   },
   "file_extension": ".py",
   "mimetype": "text/x-python",
   "name": "python",
   "nbconvert_exporter": "python",
   "pygments_lexer": "ipython3",
   "version": "3.12.7"
  }
 },
 "nbformat": 4,
 "nbformat_minor": 5
}
