{
 "cells": [
  {
   "cell_type": "markdown",
   "id": "32fbe9dc-6545-41a4-a783-b2dd369dfbfb",
   "metadata": {},
   "source": [
    "## Creating the Post model"
   ]
  },
  {
   "cell_type": "markdown",
   "id": "09ba20d4-242d-46b5-8ac5-b277172984a3",
   "metadata": {},
   "source": [
    "* __str__() method to the model class. This is the default Python method to\n",
    "return a string with the human-readable representation of the object. Django will use this method to\n",
    "display the name of the object in many places, such as the Django administration site."
   ]
  },
  {
   "cell_type": "markdown",
   "id": "b086f369-a79e-4a20-bc15-7ea18340b5d1",
   "metadata": {},
   "source": [
    "* title: This is the field for the post title. This is a CharField field that translates into a VARCHAR\n",
    "column in the SQL database.\n",
    "* slug: This is a SlugField field that translates into a VARCHAR column in the SQL database. A\n",
    "slug is a short label that contains only letters, numbers, underscores, or hyphens. A post with\n",
    "the title Django Reinhardt: A legend of Jazz could have a slug like django-reinhardt-legend-jazz.\n",
    "We will use the slug field to build beautiful, SEO-friendly URLs for blog posts in Chapter 2,\n",
    "Enhancing Your Blog with Advanced Features.\n",
    "* body: This is the field for storing the body of the post. This is a TextField field that translates\n",
    "into a TEXT column in the SQL database."
   ]
  },
  {
   "cell_type": "markdown",
   "id": "95b12afc-a579-47e7-b475-008310b98088",
   "metadata": {},
   "source": [
    "* DateTimeField field that translates into\n",
    "a DATETIME column in the SQL database. We will use it to store the date and time when the post was\n",
    "published. We use Django’s timezone.now method as the default value for the field. Note that we\n",
    "imported the timezone module to use this method."
   ]
  },
  {
   "cell_type": "markdown",
   "id": "24afe510-aee2-4263-94fb-1aa65a1f7335",
   "metadata": {},
   "source": [
    "* created: This is a DateTimeField field. We will use it to store the date and time when the post\n",
    "was created. By using auto_now_add, the date will be saved automatically when creating an\n",
    "object.  \n",
    "* updated: This is a DateTimeField field. We will use it to store the last date and time when the\n",
    "post was updated. By using auto_now, the date will be updated automatically when saving an\n",
    "object."
   ]
  },
  {
   "cell_type": "markdown",
   "id": "5db44986-c413-4994-9976-fbf52bea9d70",
   "metadata": {},
   "source": [
    "To use database-generated default values, we use the db_default attribute instead of default."
   ]
  },
  {
   "cell_type": "code",
   "execution_count": null,
   "id": "986c090e-0c42-4b55-91a2-8e2ac04f32b0",
   "metadata": {},
   "outputs": [],
   "source": [
    "from django.db import models\n",
    "from django.utils import timezone\n",
    "class Post(models.Model):\n",
    "    title = models.CharField(max_length=250)\n",
    "    slug = models.SlugField(max_length=250)\n",
    "    body = models.TextField()\n",
    "    publish = models.DateTimeField(default=timezone.now)\n",
    "    created = models.DateTimeField(auto_now_add=True)\n",
    "    updated = models.DateTimeField(auto_now=True)\n",
    "    def __str__(self):\n",
    "        return self.title"
   ]
  },
  {
   "cell_type": "markdown",
   "id": "41efc013-850f-40f4-9aeb-e1082f3004bd",
   "metadata": {},
   "source": [
    "Utilizing the `` auto_now_add ``and ``auto_now`` datetime fields in your Django models is highly\n",
    "beneficial for **tracking the creation and last modification times of objects**"
   ]
  },
  {
   "cell_type": "code",
   "execution_count": null,
   "id": "f63481ce-c9da-44bd-b2ce-12b9dfc11c27",
   "metadata": {},
   "outputs": [],
   "source": [
    "from django.db import models\n",
    "from django.utils import timezone\n",
    "class Post(models.Model):\n",
    "    title = models.CharField(max_length=250)\n",
    "    slug = models.SlugField(max_length=250)\n",
    "    body = models.TextField()\n",
    "    publish = models.DateTimeField(default=timezone.now)\n",
    "    created = models.DateTimeField(auto_now_add=True)\n",
    "    updated = models.DateTimeField(auto_now=True)\n",
    "    class Meta:\n",
    "        ordering = ['-publish']\n",
    "        indexes = [\n",
    "            models.Index(fields=['-publish']),\n",
    "        ]\n",
    "    def __str__(self):\n",
    "        return self.title"
   ]
  },
  {
   "cell_type": "markdown",
   "id": "123b1e8a-e8a9-44d8-9370-0a45f15abf16",
   "metadata": {},
   "source": [
    "We indicate\n",
    "descending order by using a hyphen before the field name, ``-publish``. Posts will be returned in reverse\n",
    "chronological order by default."
   ]
  },
  {
   "cell_type": "markdown",
   "id": "fc102a88-f7fa-440b-85e7-763fe8e0e5af",
   "metadata": {},
   "source": [
    " We have added an index for the publish field. We\n",
    "use a hyphen before the field name to define the index specifically in descending order."
   ]
  }
 ],
 "metadata": {
  "kernelspec": {
   "display_name": "Python [conda env:base] *",
   "language": "python",
   "name": "conda-base-py"
  },
  "language_info": {
   "codemirror_mode": {
    "name": "ipython",
    "version": 3
   },
   "file_extension": ".py",
   "mimetype": "text/x-python",
   "name": "python",
   "nbconvert_exporter": "python",
   "pygments_lexer": "ipython3",
   "version": "3.12.7"
  }
 },
 "nbformat": 4,
 "nbformat_minor": 5
}
