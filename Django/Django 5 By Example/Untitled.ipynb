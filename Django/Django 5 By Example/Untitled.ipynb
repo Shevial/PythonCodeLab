{
 "cells": [
  {
   "cell_type": "markdown",
   "id": "793f8c0a-b5d8-40da-91e0-9ad6fcfbb5fa",
   "metadata": {},
   "source": [
    "### Working with QuerySets and managers\n",
    "How to read and write content to the database programmatically.\n",
    "The Django object-relational mapper (ORM) is a powerful database abstraction API that lets you create, retrieve, update, and delete objects easily."
   ]
  },
  {
   "cell_type": "code",
   "execution_count": null,
   "id": "e3c97c8b-6ed7-4efe-ae6e-18a7f038bcaa",
   "metadata": {},
   "outputs": [],
   "source": []
  }
 ],
 "metadata": {
  "kernelspec": {
   "display_name": "Python [conda env:base] *",
   "language": "python",
   "name": "conda-base-py"
  },
  "language_info": {
   "codemirror_mode": {
    "name": "ipython",
    "version": 3
   },
   "file_extension": ".py",
   "mimetype": "text/x-python",
   "name": "python",
   "nbconvert_exporter": "python",
   "pygments_lexer": "ipython3",
   "version": "3.12.7"
  }
 },
 "nbformat": 4,
 "nbformat_minor": 5
}
