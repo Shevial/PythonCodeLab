{
 "cells": [
  {
   "cell_type": "markdown",
   "id": "793f8c0a-b5d8-40da-91e0-9ad6fcfbb5fa",
   "metadata": {},
   "source": [
    "### Working with QuerySets and managers\n",
    "How to read and write content to the database programmatically.\n",
    "The Django object-relational mapper (ORM) is a powerful database abstraction API that lets you create, retrieve, update, and delete objects easily."
   ]
  },
  {
   "cell_type": "markdown",
   "id": "2d53b84a-3448-4b1d-87ec-fbaa1c3054b3",
   "metadata": {},
   "source": [
    "You can define the database of your project in the DATABASES setting of your project’s settings.py file."
   ]
  },
  {
   "cell_type": "markdown",
   "id": "7848a367-87e0-4d52-a7ba-697949aaa85a",
   "metadata": {},
   "source": [
    "Once you have created your data models, Django gives you a free API to interact with them. You can find the model API reference of the official documentation at https://docs.djangoproject.com/en/5.0/ref/models/."
   ]
  },
  {
   "cell_type": "markdown",
   "id": "9dec9888-3c75-4de6-ba94-af39277cf68c",
   "metadata": {},
   "source": [
    "## **Creating** objects"
   ]
  },
  {
   "cell_type": "markdown",
   "id": "8f3fdb44-df73-4878-9ee1-12c322e2a9b2",
   "metadata": {},
   "source": [
    "Open the Python shell:"
   ]
  },
  {
   "cell_type": "code",
   "execution_count": null,
   "id": "6f582059-48df-4659-b40c-ff77416a333a",
   "metadata": {},
   "outputs": [],
   "source": [
    "python manage.py shell"
   ]
  },
  {
   "cell_type": "code",
   "execution_count": null,
   "id": "43022df1-734b-451f-add1-ae4665c2b77f",
   "metadata": {},
   "outputs": [],
   "source": [
    ">>> from django.contrib.auth.models import User\n",
    ">>> from blog.models import Post\n",
    ">>> user = User.objects.get(username='admin')\n",
    ">>> post = Post(title='Another post',\n",
    "... slug='another-post',\n",
    "... body='Post body.',\n",
    "... author=user)\n",
    ">>> post.save()"
   ]
  },
  {
   "cell_type": "markdown",
   "id": "f39a3081-aa76-4a95-9f29-4c9214153ee3",
   "metadata": {},
   "source": [
    "Let’s analyze what this code does.  \n",
    "First, we are retrieving the user object with the username admin:"
   ]
  },
  {
   "cell_type": "code",
   "execution_count": null,
   "id": "3251ebcf-46c5-444a-a73c-d91735f87964",
   "metadata": {},
   "outputs": [],
   "source": [
    ">>> user = User.objects.get(username='admin')"
   ]
  },
  {
   "cell_type": "markdown",
   "id": "f8a1b753-b87a-4738-92d9-767237894792",
   "metadata": {},
   "source": [
    "The ``get()`` method allows us to retrieve a single object from the database. This method executes a SELECT SQL statement behind the scenes.  \n",
    "Note that this method expects a result that matches the\n",
    "query.  \n",
    "If no results are returned -> DoesNotExist exception,\n",
    "and if the database returns more than one result, MultipleObjectsReturned exception."
   ]
  },
  {
   "cell_type": "markdown",
   "id": "b666e722-aad6-4e40-9b0d-735540f0ce56",
   "metadata": {},
   "source": [
    "Then, we create a Post instance with a custom title, slug, and body, and set the user that we previously\n",
    "retrieved as the author of the post:"
   ]
  },
  {
   "cell_type": "code",
   "execution_count": null,
   "id": "7a0806a9-55df-4052-b7c3-3548680daa54",
   "metadata": {},
   "outputs": [],
   "source": [
    "post = Post(title='Another post', slug='another-post', body='Post body.',\n",
    "author=user)"
   ]
  },
  {
   "cell_type": "markdown",
   "id": "1e855b39-13ed-4825-80e7-f9499103cf1b",
   "metadata": {},
   "source": [
    "This object is in memory and not persisted to the database; we created a Python object that can be\n",
    "used during runtime but is not saved into the database.  \n",
    "Finally, we are saving the Post object in the database using the ``save()`` method:"
   ]
  },
  {
   "cell_type": "code",
   "execution_count": null,
   "id": "82705afa-5ca2-4f4a-bee4-39b4eddc3a77",
   "metadata": {},
   "outputs": [],
   "source": [
    ">>> post.save()"
   ]
  },
  {
   "cell_type": "markdown",
   "id": "b17717e8-b06b-420a-99a6-df616db4a61e",
   "metadata": {},
   "source": [
    "This action performs an INSERT SQL statement behind the scenes.  \n",
    "\n",
    "We created an object in memory first and then persisted it to the database. However, you can create\n",
    "the object and persist it to the database in a single operation using the ``create()`` method, as follows:"
   ]
  },
  {
   "cell_type": "code",
   "execution_count": null,
   "id": "e724fabb-d325-430e-a2d9-ceb09ba5428c",
   "metadata": {},
   "outputs": [],
   "source": [
    ">>> Post.objects.create(title='One more post',\n",
    "slug='one-more-post',\n",
    "body='Post body.',\n",
    "author=user)"
   ]
  },
  {
   "cell_type": "markdown",
   "id": "18d6a7db-369e-4af1-89a9-a20c4fc2b8c1",
   "metadata": {},
   "source": [
    "In certain situations, you might need to fetch an object from the database or create it if it’s absent.\n",
    "The get_or_create() method facilitates this by either retrieving an object or creating it if not found."
   ]
  },
  {
   "cell_type": "code",
   "execution_count": null,
   "id": "3907c38f-b9e9-4f06-88e7-3be1dc83a982",
   "metadata": {},
   "outputs": [],
   "source": [
    ">>> user, created = User.objects.get_or_create(username='user2')"
   ]
  },
  {
   "cell_type": "markdown",
   "id": "4ca1ab3b-8e73-4b8b-88d9-cfa693725b43",
   "metadata": {},
   "source": [
    "## **Updating** objects\n",
    "Now, change the title of the previous Post object to something different and save the object again:"
   ]
  },
  {
   "cell_type": "code",
   "execution_count": null,
   "id": "e701777b-64a0-4f79-acd0-efdd01bb887d",
   "metadata": {},
   "outputs": [],
   "source": [
    ">>> post.title = 'New title'\n",
    ">>> post.save()"
   ]
  },
  {
   "cell_type": "markdown",
   "id": "de112811-5968-4b2a-b3de-55bb791dc35b",
   "metadata": {},
   "source": [
    "**The changes you make to a model object are not persisted to the database until you call\n",
    "the ``save()`` method**"
   ]
  },
  {
   "cell_type": "markdown",
   "id": "2e4ec389-e73c-4a6b-a36a-5166b51d7d29",
   "metadata": {},
   "source": [
    "## **Retrieving** objects\n",
    "You already know how to retrieve a single object from the database using the ``get()`` method. We accessed\n",
    "this method using ``Post.objects.get().``  \n",
    "Each Django model has at least one manager, and the\n",
    "default manager is called objects. You get a QuerySet object using your model manager.  \n",
    "To retrieve all objects from a table, we use the ``all()`` method on the default objects manager, like this:"
   ]
  },
  {
   "cell_type": "code",
   "execution_count": null,
   "id": "a7c8c357-8d74-458e-bf62-c331c5bba384",
   "metadata": {},
   "outputs": [],
   "source": [
    ">>> all_posts = Post.objects.all()"
   ]
  },
  {
   "cell_type": "markdown",
   "id": "eb16a440-6b16-4617-9ecb-2c388a0cdc6a",
   "metadata": {},
   "source": [
    "#### QuerySets  \n",
    "Django QuerySets are lazy, which means they are only evaluated when they\n",
    "are forced to. This behavior makes QuerySets very efficient. If you don’t assign the QuerySet to a variable\n",
    "but, instead, write it directly on the Python shell, the SQL statement of the QuerySet is executed\n",
    "because you are forcing it to generate output:"
   ]
  },
  {
   "cell_type": "code",
   "execution_count": null,
   "id": "6644fe2c-cff0-44e9-842d-e8da920b5493",
   "metadata": {},
   "outputs": [],
   "source": [
    ">>> Post.objects.all()\n",
    "<QuerySet [<Post: Who was Django Reinhardt?>, <Post: New title>]>"
   ]
  }
 ],
 "metadata": {
  "kernelspec": {
   "display_name": "Python [conda env:base] *",
   "language": "python",
   "name": "conda-base-py"
  },
  "language_info": {
   "codemirror_mode": {
    "name": "ipython",
    "version": 3
   },
   "file_extension": ".py",
   "mimetype": "text/x-python",
   "name": "python",
   "nbconvert_exporter": "python",
   "pygments_lexer": "ipython3",
   "version": "3.12.7"
  }
 },
 "nbformat": 4,
 "nbformat_minor": 5
}
