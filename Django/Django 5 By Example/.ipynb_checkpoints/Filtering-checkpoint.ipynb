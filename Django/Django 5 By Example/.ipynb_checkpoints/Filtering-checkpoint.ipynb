{
 "cells": [
  {
   "cell_type": "markdown",
   "id": "1147af88-6a14-4c3e-9a29-4fc2352c908e",
   "metadata": {},
   "source": [
    "Open the Python shell:"
   ]
  },
  {
   "cell_type": "code",
   "execution_count": null,
   "id": "14e75f74-8164-4e06-b7d0-acd35b546e2f",
   "metadata": {},
   "outputs": [],
   "source": [
    "python manage.py shell"
   ]
  },
  {
   "cell_type": "markdown",
   "id": "ed9deded-8a02-467d-a34e-c48450d9e356",
   "metadata": {
    "jp-MarkdownHeadingCollapsed": true
   },
   "source": [
    "### **Filtering** objects\n",
    "To filter a QuerySet, you can use the ``filter()`` method of the manager. This method allows you to\n",
    "specify the content of a SQL WHERE clause by using field lookups.\n",
    "For example, you can use the following to filter Post objects by their title:"
   ]
  },
  {
   "cell_type": "code",
   "execution_count": null,
   "id": "1e0fd908-9bfe-43bb-9cf0-80569b0d1013",
   "metadata": {},
   "outputs": [],
   "source": [
    ">>> Post.objects.filter(title='Who was Django Reinhardt?')"
   ]
  },
  {
   "cell_type": "code",
   "execution_count": null,
   "id": "dac0c2c8-83c6-401a-a308-54e336ce9a33",
   "metadata": {},
   "outputs": [],
   "source": [
    "posts = Post.objects.filter(title='Who was Django Reinhardt?')\n",
    ">>> print(posts.query)"
   ]
  },
  {
   "cell_type": "markdown",
   "id": "81be4b83-6cf6-4809-8e2d-bb51384b16b2",
   "metadata": {},
   "source": [
    "By printing the query attribute of the QuerySet, we can get the SQL produced by it:"
   ]
  },
  {
   "cell_type": "code",
   "execution_count": null,
   "id": "89922a5d-07ab-4a01-a0e4-a21e93c672be",
   "metadata": {},
   "outputs": [],
   "source": [
    "SELECT \"blog_post\".\"id\", \"blog_post\".\"title\", \"blog_post\".\"slug\", \"blog_\n",
    "post\".\"author_id\", \"blog_post\".\"body\", \"blog_post\".\"publish\", \"blog_\n",
    "post\".\"created\", \"blog_post\".\"updated\", \"blog_post\".\"status\" FROM \"blog_post\"\n",
    "WHERE \"blog_post\".\"title\" = Who was Django Reinhardt? ORDER BY \"blog_\n",
    "post\".\"publish\" DESC"
   ]
  },
  {
   "cell_type": "markdown",
   "id": "191fbb22-3681-4f7a-a5a8-b5dbeb677846",
   "metadata": {},
   "source": [
    "The generated WHERE clause performs an exact match on the title column. The ORDER BY clause\n",
    "specifies the default order defined in the ordering attribute of the Post model’s Meta options since\n",
    "we haven’t provided any specific ordering in the QuerySet.  \n",
    "Note that the query attribute is not part of the QuerySet public API."
   ]
  },
  {
   "cell_type": "markdown",
   "id": "638d060f-d019-44d2-807b-a452e4bea860",
   "metadata": {
    "jp-MarkdownHeadingCollapsed": true
   },
   "source": [
    "### Using field lookups  \n",
    "The previous QuerySet example consists of a filter lookup with an exact match. The QuerySet interface provides you with multiple lookup types.  \n",
    "**Two underscores** are used to define the lookup type, with the format ``field__lookup``. For example, the following lookup produces an exact match:"
   ]
  },
  {
   "cell_type": "code",
   "execution_count": null,
   "id": "9d13b4a2-6a17-40ea-bfa6-ab84778f472c",
   "metadata": {},
   "outputs": [],
   "source": [
    ">>> Post.objects.filter(id__exact=1)"
   ]
  },
  {
   "cell_type": "markdown",
   "id": "c2117703-45bd-4c7c-b1c2-4f153c3c8966",
   "metadata": {},
   "source": [
    "When no specific lookup type is provided, the lookup type is assumed to be exact. The following lookup is **equivalent to the previous one**:"
   ]
  },
  {
   "cell_type": "code",
   "execution_count": null,
   "id": "756a5e8f-9b1c-4540-83d4-f45bcdb933b9",
   "metadata": {},
   "outputs": [],
   "source": [
    ">>> Post.objects.filter(id=1)"
   ]
  },
  {
   "cell_type": "markdown",
   "id": "1c5f4937-f288-4daf-beb8-249e33e29a50",
   "metadata": {},
   "source": [
    "You can generate a case-insensitive lookup with iexact:"
   ]
  },
  {
   "cell_type": "code",
   "execution_count": null,
   "id": "b0f80089-9246-4b38-9d42-f8c99f8bbd94",
   "metadata": {},
   "outputs": [],
   "source": [
    ">>> Post.objects.filter(title__iexact='who was django reinhardt?')"
   ]
  },
  {
   "cell_type": "markdown",
   "id": "ead17d96-dfc0-4c75-ae77-beb65903e775",
   "metadata": {},
   "source": [
    "You can also filter objects using a containment test. The ``contains`` lookup translates to a SQL lookup\n",
    "using the ``LIKE`` operator:"
   ]
  },
  {
   "cell_type": "code",
   "execution_count": null,
   "id": "f0f6b91b-0b29-4637-8c5b-6841826fc957",
   "metadata": {},
   "outputs": [],
   "source": [
    ">>> Post.objects.filter(title__contains='Django')"
   ]
  },
  {
   "cell_type": "markdown",
   "id": "bba3ced7-90be-4d96-80b6-71421cff3cec",
   "metadata": {},
   "source": [
    "The equivalent SQL clause is ``WHERE title LIKE`` '%Django%'. A case-insensitive version is also available,\n",
    "named ``icontains``:"
   ]
  },
  {
   "cell_type": "code",
   "execution_count": null,
   "id": "7e8c5c35-3d4f-4cc6-a0f9-f642a24242f9",
   "metadata": {},
   "outputs": [],
   "source": [
    ">>> Post.objects.filter(title__icontains='django')"
   ]
  },
  {
   "cell_type": "markdown",
   "id": "531535fc-83ff-49ae-a7c4-b2427a026b88",
   "metadata": {},
   "source": [
    "You can check for a given iterable (often a list, tuple, or another QuerySet object) with the ``in`` lookup.\n",
    "The following example retrieves posts with an id that is 1 or 3:"
   ]
  },
  {
   "cell_type": "code",
   "execution_count": null,
   "id": "2e5a659b-cf3b-4ca5-9376-b9307868afe1",
   "metadata": {},
   "outputs": [],
   "source": [
    ">>> Post.objects.filter(id__in=[1, 3])"
   ]
  },
  {
   "cell_type": "markdown",
   "id": "74275298-9720-440d-a6e8-4f29048e6bdc",
   "metadata": {},
   "source": [
    "The following example shows the **greater than** (``gt``) lookup:  \n",
    "The equivalent SQL clause is ``WHERE ID > 3``"
   ]
  },
  {
   "cell_type": "code",
   "execution_count": null,
   "id": "6d6e52df-ea3b-41dd-b1de-653ca8b99c91",
   "metadata": {},
   "outputs": [],
   "source": [
    ">>> Post.objects.filter(id__gt=3)"
   ]
  },
  {
   "cell_type": "markdown",
   "id": "5b5eabe5-ab90-4c13-b190-73d0b19b663a",
   "metadata": {},
   "source": [
    "This example shows the **greater than or equal to** lookup:"
   ]
  },
  {
   "cell_type": "code",
   "execution_count": null,
   "id": "286e3e24-afa6-47ab-87e4-0c687c56024b",
   "metadata": {},
   "outputs": [],
   "source": [
    ">>> Post.objects.filter(id__gte=3)"
   ]
  },
  {
   "cell_type": "markdown",
   "id": "6c1c786e-08a3-40bb-840c-f61a7f511925",
   "metadata": {},
   "source": [
    "This one shows the **less than** lookup:"
   ]
  },
  {
   "cell_type": "code",
   "execution_count": null,
   "id": "288d5da1-3c02-4b17-bbe5-4e1664ad3f68",
   "metadata": {},
   "outputs": [],
   "source": [
    ">>> Post.objects.filter(id__lt=3)"
   ]
  },
  {
   "cell_type": "markdown",
   "id": "c5cf76e4-949c-495d-803e-241c5297ffce",
   "metadata": {},
   "source": [
    "This shows the **less than or equal to** lookup:"
   ]
  },
  {
   "cell_type": "code",
   "execution_count": null,
   "id": "1d41df2e-0639-4aee-a0de-5d729e74ff34",
   "metadata": {},
   "outputs": [],
   "source": [
    ">>> Post.objects.filter(id__lte=3)"
   ]
  },
  {
   "cell_type": "markdown",
   "id": "e832a521-a411-4412-bcf1-aaab3d42c1f3",
   "metadata": {},
   "source": [
    "A **case-sensitive/insensitive starts-with** lookup can be performed with the ``startswith`` and ``istartswith``\n",
    "lookup types, respectively:"
   ]
  },
  {
   "cell_type": "code",
   "execution_count": null,
   "id": "3d978248-e769-4fbf-b0eb-2b749ea3c4c8",
   "metadata": {},
   "outputs": [],
   "source": [
    ">>> Post.objects.filter(title__istartswith='who')"
   ]
  },
  {
   "cell_type": "markdown",
   "id": "bc1cdd05-2b8b-4817-b08d-f5e174546076",
   "metadata": {},
   "source": [
    "A **case-sensitive/insensitive ends-with** lookup can be performed with the ``endswith`` and ``iendswith``\n",
    "lookup types, respectively:"
   ]
  },
  {
   "cell_type": "code",
   "execution_count": null,
   "id": "2739f1b8-fb87-4f98-ab5e-45e5b26c0792",
   "metadata": {},
   "outputs": [],
   "source": [
    ">>> Post.objects.filter(title__iendswith='reinhardt?')"
   ]
  },
  {
   "cell_type": "markdown",
   "id": "2609f7fe-bbb0-47cb-a5c9-9052d94e9eef",
   "metadata": {
    "jp-MarkdownHeadingCollapsed": true
   },
   "source": [
    "#### Date\n",
    " An **exact** date lookup can be performed as\n",
    "follows:"
   ]
  },
  {
   "cell_type": "code",
   "execution_count": null,
   "id": "58186832-5216-46ce-8252-46c296263ef2",
   "metadata": {},
   "outputs": [],
   "source": [
    ">>> from datetime import date\n",
    ">>> Post.objects.filter(publish__date=date(2024, 1, 31))"
   ]
  },
  {
   "cell_type": "markdown",
   "id": "8fab7000-e320-4b52-8e8c-20a12c14a07f",
   "metadata": {},
   "source": [
    "This shows how to filter a DateField or DateTimeField field **by year**:"
   ]
  },
  {
   "cell_type": "code",
   "execution_count": null,
   "id": "f19ff5a1-8a7c-4094-a1af-81307143a98a",
   "metadata": {},
   "outputs": [],
   "source": [
    ">>> Post.objects.filter(publish__year=2024)"
   ]
  },
  {
   "cell_type": "markdown",
   "id": "706d0b4f-8313-4486-8e24-9ec0f9fc7c1a",
   "metadata": {},
   "source": [
    "You can also filter **by month**:"
   ]
  },
  {
   "cell_type": "code",
   "execution_count": null,
   "id": "798123d2-3f0c-47f6-9f0b-9974d03c05b6",
   "metadata": {},
   "outputs": [],
   "source": [
    ">>> Post.objects.filter(publish__month=1)"
   ]
  },
  {
   "cell_type": "markdown",
   "id": "7b285ef8-24bc-4b53-9f70-393e7429f274",
   "metadata": {},
   "source": [
    "And you can filter **by day**:"
   ]
  },
  {
   "cell_type": "code",
   "execution_count": null,
   "id": "1085d90b-b4ba-4b9a-9def-5fffd1ce4420",
   "metadata": {},
   "outputs": [],
   "source": [
    ">>> Post.objects.filter(publish__day=1)"
   ]
  },
  {
   "cell_type": "markdown",
   "id": "baf8208c-36a6-40ff-893b-1db59c20cf38",
   "metadata": {},
   "source": [
    "You can chain additional lookups to date, year, month, and day. For example, here is a lookup for a **value greater than a given date**:"
   ]
  },
  {
   "cell_type": "code",
   "execution_count": null,
   "id": "c506e04f-60d7-4679-8166-f9b776074144",
   "metadata": {},
   "outputs": [],
   "source": [
    ">>> Post.objects.filter(publish__date__gt=date(2024, 1, 1))"
   ]
  },
  {
   "cell_type": "markdown",
   "id": "2da61d79-66bf-41ec-9c61-fe6d585bde67",
   "metadata": {},
   "source": [
    "To lookup ``related object fields``, you also use the **two-underscores notation**. For example, to retrieve\n",
    "the posts written by the user with the admin username, use the following:"
   ]
  },
  {
   "cell_type": "code",
   "execution_count": null,
   "id": "ebed841d-0855-4e61-b170-d918f5ca0bb4",
   "metadata": {},
   "outputs": [],
   "source": [
    ">>> Post.objects.filter(author__username='admin')"
   ]
  },
  {
   "cell_type": "markdown",
   "id": "39d73b20-884b-4c83-8eda-5460c203e67d",
   "metadata": {},
   "source": [
    "You can also chain additional lookups for the related fields. For example, to retrieve posts written by any user with a username that starts with ad, use the following:"
   ]
  },
  {
   "cell_type": "code",
   "execution_count": null,
   "id": "3debb608-7fc7-4506-a44b-39234f20b7ce",
   "metadata": {},
   "outputs": [],
   "source": [
    ">>> Post.objects.filter(author__username__starstwith='ad')"
   ]
  },
  {
   "cell_type": "markdown",
   "id": "ff1858e2-2999-4fd0-bdd3-392b8937c1cd",
   "metadata": {},
   "source": [
    "You can also filter by multiple fields. For example, the following QuerySet retrieves all posts published\n",
    "in 2024 by the author with the username admin:"
   ]
  },
  {
   "cell_type": "code",
   "execution_count": null,
   "id": "99fe79cd-aadf-476d-8b0d-3bc6227a1e6c",
   "metadata": {},
   "outputs": [],
   "source": [
    ">>> Post.objects.filter(publish__year=2024, author__username='admin')"
   ]
  },
  {
   "cell_type": "markdown",
   "id": "3f1a2e92-5789-4ab3-bc4d-a0983f4c31ca",
   "metadata": {
    "jp-MarkdownHeadingCollapsed": true
   },
   "source": [
    "### Chaining filters"
   ]
  },
  {
   "cell_type": "markdown",
   "id": "f4ce6eac-8ba1-4b76-91ee-5d33c68e86aa",
   "metadata": {},
   "source": [
    "The result of a filtered QuerySet is another QuerySet object. This allows you to chain QuerySets together.\n",
    "You can build an equivalent QuerySet to the previous one by chaining multiple filters:"
   ]
  },
  {
   "cell_type": "code",
   "execution_count": null,
   "id": "18f1f9fe-f22d-49cc-a40a-ea10a5e9e202",
   "metadata": {},
   "outputs": [],
   "source": [
    ">>> Post.objects.filter(publish__year=2024) \\\n",
    ">>> .filter(author__username='admin')"
   ]
  },
  {
   "cell_type": "markdown",
   "id": "e64530e7-6920-4495-a017-8e0abd7e7fe4",
   "metadata": {
    "jp-MarkdownHeadingCollapsed": true
   },
   "source": [
    "### Excluding objects\n",
    "You can exclude certain results from your QuerySet by using the exclude() method of the manager.\n",
    "For example, you can retrieve all posts published in 2024 whose titles don’t start with Why:"
   ]
  },
  {
   "cell_type": "code",
   "execution_count": null,
   "id": "19cbf50e-dd10-4e49-8a5b-28f3ad5e8a32",
   "metadata": {},
   "outputs": [],
   "source": [
    ">>> Post.objects.filter(publish__year=2024) \\\n",
    ">>> .exclude(title__startswith='Why')"
   ]
  },
  {
   "cell_type": "markdown",
   "id": "ebb1d1d8-9b04-452a-b52b-9921d4cb6d40",
   "metadata": {
    "jp-MarkdownHeadingCollapsed": true
   },
   "source": [
    "### Ordering objects\n",
    "The default order is defined in the ordering option of the model’s Meta. You can override the default\n",
    "ordering using the order_by() method of the manager. For example, you can retrieve all objects\n",
    "ordered by their title, as follows:"
   ]
  },
  {
   "cell_type": "code",
   "execution_count": null,
   "id": "6ed81137-641d-46a8-a73d-1500598a86e2",
   "metadata": {},
   "outputs": [],
   "source": [
    ">>> Post.objects.order_by('title')"
   ]
  },
  {
   "cell_type": "markdown",
   "id": "777afeea-6efc-44d4-9695-c4fc335498e7",
   "metadata": {},
   "source": [
    "Ascending order is implied. You can indicate descending order with a negative sign prefix, like this:"
   ]
  },
  {
   "cell_type": "code",
   "execution_count": null,
   "id": "edaf54dc-5c6f-4ada-a85b-03ae4cb2d916",
   "metadata": {},
   "outputs": [],
   "source": [
    ">>> Post.objects.order_by('-title')"
   ]
  },
  {
   "cell_type": "markdown",
   "id": "94bf0fbe-595f-4da7-934f-a89bfea2ff72",
   "metadata": {},
   "source": [
    "You can order by multiple fields. The following example orders objects by author first and then title:"
   ]
  },
  {
   "cell_type": "code",
   "execution_count": null,
   "id": "c35c15cf-e155-4c11-b599-6593135385ce",
   "metadata": {},
   "outputs": [],
   "source": [
    ">>> Post.objects.order_by('author', 'title')"
   ]
  },
  {
   "cell_type": "markdown",
   "id": "1e352683-9b14-4543-9c55-68c479adfc84",
   "metadata": {},
   "source": [
    "To order randomly, use the string '?', as follows:"
   ]
  },
  {
   "cell_type": "code",
   "execution_count": null,
   "id": "2e494a33-d99a-4ca6-95bd-28012caf362b",
   "metadata": {},
   "outputs": [],
   "source": [
    ">>> Post.objects.order_by('?')"
   ]
  },
  {
   "cell_type": "markdown",
   "id": "56309699-cf0e-4ed3-b1a5-060842c62b24",
   "metadata": {
    "jp-MarkdownHeadingCollapsed": true
   },
   "source": [
    "### Limiting QuerySets\n",
    "You can limit a QuerySet to a certain number of results by using a subset of Python’s array-slicing\n",
    "syntax. For example, the following QuerySet limits the results to 5 objects:"
   ]
  },
  {
   "cell_type": "code",
   "execution_count": null,
   "id": "d622d404-b605-4005-ae68-af8af42a2afd",
   "metadata": {},
   "outputs": [],
   "source": [
    ">>> Post.objects.all()[:5]"
   ]
  },
  {
   "cell_type": "markdown",
   "id": "ef6d11db-fa07-48aa-935f-04d471f761e5",
   "metadata": {},
   "source": [
    "This translates to a SQL LIMIT 5 clause. Note that negative indexing is not supported."
   ]
  },
  {
   "cell_type": "code",
   "execution_count": null,
   "id": "cbdbd97d-8628-4dd0-87ae-33ef5143fe3b",
   "metadata": {},
   "outputs": [],
   "source": [
    ">>> Post.objects.all()[3:6]"
   ]
  },
  {
   "cell_type": "markdown",
   "id": "43fbb7e5-f07e-4626-834c-0c3128e745ef",
   "metadata": {},
   "source": [
    "The preceding translates to a SQL OFFSET 3 LIMIT 6 clause, to return the fourth through sixth objects.\n",
    "To retrieve a single object, you can use an index instead of a slice. For example, use the following to\n",
    "retrieve the first object of posts in random order:"
   ]
  },
  {
   "cell_type": "code",
   "execution_count": null,
   "id": "3d20033d-0fc9-44fa-b68d-610134914c9e",
   "metadata": {},
   "outputs": [],
   "source": [
    ">>> Post.objects.order_by('?')[0]"
   ]
  },
  {
   "cell_type": "markdown",
   "id": "5dbdf270-4bd1-45e8-826d-804b044fe257",
   "metadata": {},
   "source": [
    "### Counting objects\n",
    "The count() method counts the total number of objects matching the QuerySet and returns an integer.\n",
    "This method translates to a SELECT COUNT(*) SQL statement. The following example returns the total\n",
    "number of posts with an id lower than 3:"
   ]
  },
  {
   "cell_type": "code",
   "execution_count": null,
   "id": "ca27b4d5-0a76-4a04-879b-3da16fe613c3",
   "metadata": {},
   "outputs": [],
   "source": [
    ">>> Post.objects.filter(id_lt=3).count()\n",
    "2"
   ]
  },
  {
   "cell_type": "markdown",
   "id": "328b51c2-479c-4601-b40c-0d92d0c86ef8",
   "metadata": {},
   "source": [
    "### Checking if an object exists\n",
    "The exists() method allows you to check if a QuerySet contains any results. This method returns\n",
    "True if the QuerySet contains any items and False otherwise. For example, you can check if there are\n",
    "any posts with a title that starts with Why using the following QuerySet:"
   ]
  },
  {
   "cell_type": "code",
   "execution_count": null,
   "id": "614ec344-0229-4ff4-af5a-6147937b521a",
   "metadata": {},
   "outputs": [],
   "source": [
    ">>> Post.objects.filter(title__startswith='Why').exists()\n",
    "False"
   ]
  },
  {
   "cell_type": "markdown",
   "id": "c87dc8c3-4380-400a-b0aa-ec8a6b3fc3b2",
   "metadata": {},
   "source": [
    "### Deleting objects\n",
    "If you want to delete an object, you can do it from an object instance using the delete() method, as\n",
    "follows:"
   ]
  },
  {
   "cell_type": "code",
   "execution_count": null,
   "id": "c5a77d60-6484-47ad-9b79-ca16aa97e987",
   "metadata": {},
   "outputs": [],
   "source": [
    ">>> post = Post.objects.get(id=1)\n",
    ">>> post.delete()"
   ]
  },
  {
   "cell_type": "markdown",
   "id": "8d778786-972c-4b00-ab9a-a427793cc2f3",
   "metadata": {},
   "source": [
    "Note that deleting objects will also delete any dependent relationships for ForeignKey objects defined\n",
    "with on_delete set to CASCADE."
   ]
  },
  {
   "cell_type": "markdown",
   "id": "5fd9b600-7de6-4dd2-b4b0-97c09921f81d",
   "metadata": {},
   "source": [
    "### Complex lookups with Q objects\n",
    "Field lookups using filter() are joined with a SQL AND operator. For example, filter(field1='foo ',\n",
    "field2='bar') will retrieve objects where field1 is foo and field2 is bar. If you need to build more\n",
    "complex queries, such as queries with OR statements, you can use Q objects.\n",
    "A Q object allows you to encapsulate a collection of field lookups. You can compose statements by\n",
    "combining Q objects with the & (and), | (or), and ^ (xor) operators.\n",
    "For example, the following code retrieves posts with a title that starts with the string who or why\n",
    "(case-insensitive):"
   ]
  },
  {
   "cell_type": "markdown",
   "id": "c3cbc5fd-f416-48a6-8b91-a4367be2aad7",
   "metadata": {},
   "source": [
    "In this case, we use the | operator to build an OR statement."
   ]
  },
  {
   "cell_type": "code",
   "execution_count": null,
   "id": "626011c1-844b-48b7-b588-b2910a711978",
   "metadata": {},
   "outputs": [],
   "source": [
    ">>> from django.db.models import Q\n",
    ">>> starts_who = Q(title__istartswith='who')\n",
    ">>> starts_why = Q(title__istartswith='why')\n",
    ">>> Post.objects.filter(starts_who | starts_why)"
   ]
  },
  {
   "cell_type": "markdown",
   "id": "aeff7ce9-1fe4-46a8-99b6-d81874c09013",
   "metadata": {},
   "source": [
    "You can read more about Q objects at https://docs.djangoproject.com/en/5.0/topics/db/queries/#complex-lookups-with-q-objects"
   ]
  },
  {
   "cell_type": "markdown",
   "id": "d73efc00-61f7-403c-a95e-338d3516f31c",
   "metadata": {},
   "source": [
    "### When QuerySets are evaluated\n",
    "Creating a QuerySet doesn’t involve any database activity until it is evaluated. QuerySets will usually\n",
    "return another unevaluated QuerySet. You can concatenate as many filters as you like to a QuerySet,\n",
    "and you will not hit the database until the QuerySet is evaluated. When a QuerySet is evaluated, it\n",
    "translates into a SQL query to the database.\n",
    "QuerySets are only evaluated in the following cases:\n",
    "• The first time you iterate over them\n",
    "• When you slice them, for instance, Post.objects.all()[:3]\n",
    "• When you pickle or cache them\n",
    "• When you call repr() or len() on them\n",
    "• When you explicitly call list() on them\n",
    "• When you test them in a statement, such as bool(), or, and, or if"
   ]
  },
  {
   "cell_type": "code",
   "execution_count": null,
   "id": "5b7f783f-5348-4577-9913-0cd14285ac61",
   "metadata": {},
   "outputs": [],
   "source": []
  }
 ],
 "metadata": {
  "kernelspec": {
   "display_name": "Python [conda env:base] *",
   "language": "python",
   "name": "conda-base-py"
  },
  "language_info": {
   "codemirror_mode": {
    "name": "ipython",
    "version": 3
   },
   "file_extension": ".py",
   "mimetype": "text/x-python",
   "name": "python",
   "nbconvert_exporter": "python",
   "pygments_lexer": "ipython3",
   "version": "3.12.7"
  }
 },
 "nbformat": 4,
 "nbformat_minor": 5
}
