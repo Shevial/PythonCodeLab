{
 "cells": [
  {
   "cell_type": "markdown",
   "id": "2f817762-b017-4590-a706-de749565be6c",
   "metadata": {},
   "source": [
    "## Creating a Python virtual environment"
   ]
  },
  {
   "cell_type": "markdown",
   "id": "b46719e2-1b9c-4444-82d8-f6976f0261c3",
   "metadata": {},
   "source": [
    "Create a Python environment:"
   ]
  },
  {
   "cell_type": "markdown",
   "id": "bc07fbc0-f270-4132-9879-41afa819fc63",
   "metadata": {},
   "source": [
    "`` python -m venv my_env `` linux  \n",
    "`` py -m venv my_env `` windows"
   ]
  },
  {
   "cell_type": "markdown",
   "id": "f7db28fc-a27f-4625-9119-19851ad6237c",
   "metadata": {},
   "source": [
    "Activate virtual environment:"
   ]
  },
  {
   "cell_type": "markdown",
   "id": "8a817945-530c-4121-a83e-03a238dccb3f",
   "metadata": {},
   "source": [
    "`` source my_env/bin/activate `` linux  \n",
    "`` .\\my_env\\Scripts\\activate `` windows\n"
   ]
  },
  {
   "cell_type": "markdown",
   "id": "225435ec-b027-4e1b-98d8-c851e014401a",
   "metadata": {},
   "source": [
    "Open and close python shell"
   ]
  },
  {
   "cell_type": "code",
   "execution_count": null,
   "id": "76c8d5d4-f346-4f8a-8ff8-878bc4959728",
   "metadata": {},
   "outputs": [],
   "source": [
    "python manage.py shell\n",
    "exit()"
   ]
  },
  {
   "cell_type": "markdown",
   "id": "4d5b5816-9888-47a0-9d6e-802ce184ce05",
   "metadata": {},
   "source": [
    "## Installing Django"
   ]
  },
  {
   "cell_type": "markdown",
   "id": "49db742b-cdec-4bed-9cd4-67cc4cbb8a0d",
   "metadata": {},
   "source": [
    "`` python -m pip install Django~=5.0.4 ``  \n",
    "`` python -m django --version ``"
   ]
  },
  {
   "cell_type": "markdown",
   "id": "e2722117-4c21-4145-9324-252fb745c849",
   "metadata": {},
   "source": [
    "## Creating your first project"
   ]
  },
  {
   "cell_type": "markdown",
   "id": "812ac66a-847d-473a-bde6-fa15dad3185c",
   "metadata": {},
   "source": [
    "`` django-admin startproject mysite ``  \n",
    "`` cd mysite ``  \n",
    "`` python manage.py migrate ``\n"
   ]
  },
  {
   "cell_type": "markdown",
   "id": "bcfee9e4-481b-49b9-b355-f66ebb6a8eb0",
   "metadata": {},
   "source": [
    " Running the development server:"
   ]
  },
  {
   "cell_type": "markdown",
   "id": "c4c9c1c8-c299-4ed1-b3ea-ad55775c034e",
   "metadata": {},
   "source": [
    "`` python manage.py runserver ``"
   ]
  },
  {
   "cell_type": "markdown",
   "id": "81453624-75c6-451c-8094-c410f9dc3229",
   "metadata": {},
   "source": [
    "You can run the Django development server on a custom host and port or tell Django to load a specific settings file, as follows:"
   ]
  },
  {
   "cell_type": "markdown",
   "id": "b3e7e21a-a9c3-447f-ba9c-c3260dd3334a",
   "metadata": {},
   "source": [
    "`` python manage.py runserver 127.0.0.1:8001 --settings=mysite.settings ``"
   ]
  },
  {
   "cell_type": "markdown",
   "id": "7735f4be-9038-48e3-94e1-8bdf1216e171",
   "metadata": {},
   "source": [
    "* When you have to deal with multiple environments that require different configurations,\n",
    "you can create a different settings file for each environment"
   ]
  },
  {
   "cell_type": "markdown",
   "id": "3f4f3617-c22b-4cae-9a2b-e997ae4d0e6f",
   "metadata": {},
   "source": [
    "Creating an application:"
   ]
  },
  {
   "cell_type": "markdown",
   "id": "b37a461c-3e30-4c3d-8829-13c9261041e0",
   "metadata": {},
   "source": [
    "`` python manage.py startapp blog ``"
   ]
  },
  {
   "cell_type": "markdown",
   "id": "a8c6fd7e-8634-4326-a8c6-983f7b55c35c",
   "metadata": {},
   "source": [
    "### Activating the application"
   ]
  },
  {
   "cell_type": "markdown",
   "id": "e496553d-746b-40c5-9fa6-7d53be5be8f8",
   "metadata": {},
   "source": [
    "Edit the settings.py file and add blog.apps.BlogConfig to the INSTALLED_APPS setting. It should\n",
    "look like this; the new lines are highlighted in bold:"
   ]
  },
  {
   "cell_type": "code",
   "execution_count": 38,
   "id": "d79d4ac8-9504-43ac-95b9-dd1bf3c1edf6",
   "metadata": {},
   "outputs": [],
   "source": [
    "INSTALLED_APPS = [\n",
    "'django.contrib.admin',\n",
    "'django.contrib.auth',\n",
    "'django.contrib.contenttypes',\n",
    "'django.contrib.sessions',\n",
    "'django.contrib.messages',\n",
    "'django.contrib.staticfiles',\n",
    "'blog.apps.BlogConfig', ## new line\n",
    "]"
   ]
  },
  {
   "cell_type": "code",
   "execution_count": null,
   "id": "7963b787-af94-4574-9693-4299723d14fa",
   "metadata": {},
   "outputs": [],
   "source": []
  }
 ],
 "metadata": {
  "kernelspec": {
   "display_name": "Python [conda env:base] *",
   "language": "python",
   "name": "conda-base-py"
  },
  "language_info": {
   "codemirror_mode": {
    "name": "ipython",
    "version": 3
   },
   "file_extension": ".py",
   "mimetype": "text/x-python",
   "name": "python",
   "nbconvert_exporter": "python",
   "pygments_lexer": "ipython3",
   "version": "3.12.7"
  }
 },
 "nbformat": 4,
 "nbformat_minor": 5
}
