{
 "cells": [
  {
   "cell_type": "markdown",
   "id": "1af4c16c-ebf1-43a9-89c3-8c5bd919a3c2",
   "metadata": {},
   "source": [
    "### Converting a a Model into DataFrame"
   ]
  },
  {
   "cell_type": "code",
   "execution_count": null,
   "id": "2381aa84-7a27-4f99-ba76-2df07dc50e5b",
   "metadata": {},
   "outputs": [],
   "source": [
    "import pandas as pd\n",
    "from nombreApp.nombreArchivo import nombreClase \n",
    "\n",
    "# Pasar Clase a Queryset con todos los datos\n",
    "qs = Clase.objects.all()\n",
    "qsdict = Clase.objects.all().values()  # .values() lo convierte a dicts\n",
    "\n",
    "# Pasar QuerySet a DataFrame\n",
    "df = pd.DataFrame(list(qs))\n",
    "dfdict = pd.DataFrame(list(qsdict))\n",
    "\n",
    "# Mostrar\n",
    "print(df.head())\n",
    "print(dfdict.head())"
   ]
  }
 ],
 "metadata": {
  "kernelspec": {
   "display_name": "Python [conda env:base] *",
   "language": "python",
   "name": "conda-base-py"
  },
  "language_info": {
   "codemirror_mode": {
    "name": "ipython",
    "version": 3
   },
   "file_extension": ".py",
   "mimetype": "text/x-python",
   "name": "python",
   "nbconvert_exporter": "python",
   "pygments_lexer": "ipython3",
   "version": "3.12.7"
  }
 },
 "nbformat": 4,
 "nbformat_minor": 5
}
