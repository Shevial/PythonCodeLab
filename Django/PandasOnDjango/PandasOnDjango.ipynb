{
 "cells": [
  {
   "cell_type": "markdown",
   "id": "7a1b01cb-058e-49b7-8f60-52cce63f415b",
   "metadata": {},
   "source": [
    "https://django-pandas.readthedocs.io/en/latest/  \n",
    "https://github.com/chrisdev/django-pandas"
   ]
  },
  {
   "cell_type": "markdown",
   "id": "6cfe8185-7ef4-4426-891f-69c822a21e11",
   "metadata": {},
   "source": [
    "### Dependencies  \n",
    "``django-pandas`` supports Django (>=1.4.5) or later and requires django-model-utils (>= 1.4.0) and Pandas (>= 0.12.0).  \n",
    "Note because of problems with the requires directive of setuptools you probably need to install ``numpy`` in your virtualenv before you install this package or if you want to run the test suite  \n",
    "Some pandas functionality requires parts of the ``Scipy`` stack. You may wish to consult http://www.scipy.org/install.html for more information on installing the Scipy stack."
   ]
  },
  {
   "cell_type": "markdown",
   "id": "3af7b962-b615-4c36-bc7f-5d30f93b02a9",
   "metadata": {},
   "source": [
    "## Installation\n",
    "Create a new ``virtualenv``"
   ]
  },
  {
   "cell_type": "code",
   "execution_count": null,
   "id": "e109c1cd-f893-4a4f-8c82-c835d6f30e9a",
   "metadata": {},
   "outputs": [],
   "source": [
    "mkvirtualenv myproject"
   ]
  },
  {
   "cell_type": "markdown",
   "id": "20c9db03-45b2-4b11-a862-5c86fc2b0177",
   "metadata": {},
   "source": [
    "Next install ``numpy`` and ``pandas`` and optionally ``scipy``  \n",
    "You may want to consult the scipy documentation for more information on installing the Scipy stack."
   ]
  },
  {
   "cell_type": "code",
   "execution_count": null,
   "id": "08188d87-d4aa-4d28-8471-644f3196ddab",
   "metadata": {},
   "outputs": [],
   "source": [
    "pip install numpy\n",
    "pip install pandas"
   ]
  },
  {
   "cell_type": "markdown",
   "id": "2eb3092f-6522-41f2-abac-6556f9a1c7e6",
   "metadata": {},
   "source": [
    "Finally, install ``django-pandas`` using pip.  \n",
    "Or install the development version from github"
   ]
  },
  {
   "cell_type": "code",
   "execution_count": null,
   "id": "e8aa1ca4-f294-4bf6-aab8-cedea6717b5f",
   "metadata": {},
   "outputs": [],
   "source": [
    "pip install django-pandas\n",
    "pip install https://github.com/chrisdev/django-pandas/tarball/master"
   ]
  },
  {
   "cell_type": "markdown",
   "id": "43054c92-b800-40b9-9439-14a47538973d",
   "metadata": {},
   "source": [
    "## Usage\n",
    "### IO Module\n",
    "The ``django-pandas.io`` module provides some convenience methods to facilitate the creation of DataFrames from Django QuerySets.\n",
    "#### read_frame\n",
    "**Parameters**\n",
    "\n",
    "* qs: A Django QuerySet.\n",
    "* fieldnames: A list of model field names to use in creating the DataFrame.  \n",
    "You can span a relationship in the usual Django way by using double underscores to specify a related field in another model\n",
    "* index_col: Use specify the field name to use for the DataFrame index.  \n",
    "If the index field is not in the field list it will be appended\n",
    "* coerce_float : Boolean, defaults to True  \n",
    "Attempt to convert values to non-string, non-numeric objects (like decimal.Decimal) to floating point.\n",
    "* verbose: If this is True then populate the DataFrame with the human readable versions of any foreign key or choice fields else use the actual values set in the model."
   ]
  },
  {
   "cell_type": "markdown",
   "id": "22e01c97-45ca-4071-bc7a-555e133a560c",
   "metadata": {},
   "source": [
    "Example  \n",
    "Assume that this is your model:"
   ]
  },
  {
   "cell_type": "code",
   "execution_count": null,
   "id": "d29bc1eb-41c1-41a7-b535-774f0538d132",
   "metadata": {},
   "outputs": [],
   "source": [
    "class MyModel(models.Model):\n",
    "\n",
    "    full_name = models.CharField(max_length=25)\n",
    "    age = models.IntegerField()\n",
    "    department = models.CharField(max_length=3)\n",
    "    wage = models.FloatField()"
   ]
  },
  {
   "cell_type": "markdown",
   "id": "cb5eeebb-7c75-4699-b531-1d5f5cfe3959",
   "metadata": {},
   "source": [
    "First create a query set:"
   ]
  },
  {
   "cell_type": "code",
   "execution_count": null,
   "id": "85f58b99-d4ff-4647-be10-1a39680ea3e1",
   "metadata": {},
   "outputs": [],
   "source": [
    "from django_pandas.io import read_frame\n",
    "qs = MyModel.objects.all()"
   ]
  },
  {
   "cell_type": "markdown",
   "id": "a24c5e34-aee5-4110-adbe-12629fb8b3b0",
   "metadata": {},
   "source": [
    "To create a dataframe using all the fields in the underlying model"
   ]
  },
  {
   "cell_type": "code",
   "execution_count": null,
   "id": "90bedfd2-4fbe-4bef-b7d2-b910243121e4",
   "metadata": {},
   "outputs": [],
   "source": [
    "df = read_frame(qs)"
   ]
  },
  {
   "cell_type": "markdown",
   "id": "5eedb2d5-6727-4dd4-bd1f-785f4a9c1727",
   "metadata": {},
   "source": [
    "The df will contain human readable column values for foreign key and choice fields.  \n",
    "The DataFrame will include all the fields in the underlying model including the primary key.  \n",
    "To create a DataFrame using specified field names:"
   ]
  },
  {
   "cell_type": "code",
   "execution_count": null,
   "id": "e653ee0d-6815-46ca-b514-8e883e5399ee",
   "metadata": {},
   "outputs": [],
   "source": [
    "df = read_frame(qs, fieldnames=['age', 'wage', 'full_name'])"
   ]
  },
  {
   "cell_type": "markdown",
   "id": "c22723c3-4d63-4ee1-b192-3a30c88c5faf",
   "metadata": {},
   "source": [
    "To set full_name as the DataFrame index"
   ]
  },
  {
   "cell_type": "code",
   "execution_count": null,
   "id": "9ba046ea-251a-41b8-9f07-bbdbb599b519",
   "metadata": {},
   "outputs": [],
   "source": [
    "qs.to_dataframe(['age', 'wage'], index='full_name'])"
   ]
  },
  {
   "cell_type": "markdown",
   "id": "44a7195b-64bf-4509-8a90-0022b994b326",
   "metadata": {},
   "source": [
    "You can use filters and excludes"
   ]
  },
  {
   "cell_type": "code",
   "execution_count": null,
   "id": "f251770b-cbef-4c95-a66a-58fea3ef7e64",
   "metadata": {},
   "outputs": [],
   "source": [
    "qs.filter(age__gt=20, department='IT').to_dataframe(index='full_name')"
   ]
  },
  {
   "cell_type": "markdown",
   "id": "644cbaf6-c944-4a6a-9be5-6bce9fb83b18",
   "metadata": {},
   "source": [
    "#### to_timeseries\n",
    "A convenience method for creating a time series i.e the DataFrame index is instance of a DateTime or PeriodIndex  \n",
    "**Parameters**\n",
    "\n",
    "* fieldnames: The model field names to utilise in creating the frame.  \n",
    "to span a relationship, just use the field name of related fields across models, separated by double underscores,\n",
    "* index: specify the field to use for the index.\n",
    "If the index field is not in the field list it will be appended. This is mandatory.\n",
    "* storage: Specify if the queryset uses the wide or long format for data.\n",
    "* pivot_columns: Required once the you specify long format storage. This could either be a list or string identifying the field name or combination of field.\n",
    "If the pivot_column is a single column then the unique values in this column become a new columns in the DataFrame. If the pivot column is a list the values in these columns are concatenated (using the ‘-‘ as a separator) and these values are used for the new timeseries columns\n",
    "* values: Also required if you utilize the long storage the values column name is use for populating new frame values\n",
    "* freq: the offset string or object representing a target conversion\n",
    "* rs_kwargs: Arguments based on pandas.DataFrame.resample \n",
    "* verbose: If this is ``True`` then populate the DataFrame with the\n",
    "human readable versions of any foreign key or choice fields else use the actual value set in the model."
   ]
  },
  {
   "cell_type": "markdown",
   "id": "b1a8a74d-9411-4e83-a458-33508cb69736",
   "metadata": {},
   "source": [
    "Examples  \n",
    "Using a long storage format"
   ]
  },
  {
   "cell_type": "code",
   "execution_count": null,
   "id": "fe79501c-0a32-4a59-adff-66e957de6fdb",
   "metadata": {},
   "outputs": [],
   "source": [
    "#models.py\n",
    "\n",
    "class LongTimeSeries(models.Model):\n",
    "    date_ix = models.DateTimeField()\n",
    "    series_name = models.CharField(max_length=100)\n",
    "    value = models.FloatField()\n",
    "\n",
    "    objects = DataFrameManager()"
   ]
  },
  {
   "cell_type": "markdown",
   "id": "8681f47a-767b-465a-aaa7-922225b3f017",
   "metadata": {},
   "source": [
    "Some sample data::"
   ]
  },
  {
   "cell_type": "code",
   "execution_count": null,
   "id": "1a7d8366-e21e-4992-9eae-53d7df82fafd",
   "metadata": {},
   "outputs": [],
   "source": [
    "========   =====       =====\n",
    "date_ix    series_name value\n",
    "========   =====       ======\n",
    "2010-01-01  gdp        204699\n",
    "\n",
    "2010-01-01  inflation  2.0\n",
    "\n",
    "2010-01-01  wages      100.7\n",
    "\n",
    "2010-02-01  gdp        204704\n",
    "\n",
    "2010-02-01  inflation  2.4\n",
    "\n",
    "2010-03-01  wages      100.4\n",
    "\n",
    "2010-02-01  gdp        205966\n",
    "\n",
    "2010-02-01  inflation  2.5\n",
    "\n",
    "2010-03-01  wages      100.5\n",
    "==========  ========== ======"
   ]
  },
  {
   "cell_type": "markdown",
   "id": "d3093625-429c-4330-adb4-40b221e79c41",
   "metadata": {},
   "source": [
    "Create a QuerySet"
   ]
  },
  {
   "cell_type": "code",
   "execution_count": null,
   "id": "45e994b1-9451-4f22-a18c-8d3d17549f4f",
   "metadata": {},
   "outputs": [],
   "source": [
    "qs = LongTimeSeries.objects.filter(date_ix__year__gte=2010)"
   ]
  },
  {
   "cell_type": "markdown",
   "id": "4aef6cb6-1432-4b94-9105-41cca28c41fc",
   "metadata": {},
   "source": [
    "Create a timeseries dataframe"
   ]
  },
  {
   "cell_type": "code",
   "execution_count": null,
   "id": "af284885-3c4c-422d-b60c-050db3086b35",
   "metadata": {},
   "outputs": [],
   "source": [
    "df = qs.to_timeseries(index='date_ix',\n",
    "                      pivot_columns='series_name',\n",
    "                      values='value',\n",
    "                      storage='long')\n",
    "df.head()"
   ]
  },
  {
   "cell_type": "markdown",
   "id": "1fd83000-dc2a-4b94-9167-b1b9607c8e2d",
   "metadata": {},
   "source": [
    "Using a wide storage format"
   ]
  },
  {
   "cell_type": "code",
   "execution_count": null,
   "id": "4f3abaa1-0e6f-48e4-a544-d745e633f6be",
   "metadata": {},
   "outputs": [],
   "source": [
    "class WideTimeSeries(models.Model):\n",
    "    date_ix = models.DateTimeField()\n",
    "    col1 = models.FloatField()\n",
    "    col2 = models.FloatField()\n",
    "    col3 = models.FloatField()\n",
    "    col4 = models.FloatField()\n",
    "\n",
    "    objects = DataFrameManager()\n",
    "\n",
    "qs = WideTimeSeries.objects.all()\n",
    "\n",
    "rs_kwargs = {'how': 'sum', 'kind': 'period'}\n",
    "df = qs.to_timeseries(index='date_ix', pivot_columns='series_name',\n",
    "                      values='value', storage='long',\n",
    "                      freq='M', rs_kwargs=rs_kwargs)"
   ]
  },
  {
   "cell_type": "markdown",
   "id": "83a63812-4555-48f3-b0bf-6519b7eaadaf",
   "metadata": {},
   "source": [
    "#### to_pivot_table\n",
    "A convenience method for creating a pivot table from a QuerySet\n",
    "\n",
    "**Parameters**\n",
    "\n",
    "* fieldnames: The model field names to utilise in creating the frame. To span a relationship, just use the field name of related fields across models, separated by double underscores,\n",
    "* values : column to aggregate, optional\n",
    "* rows : list of column names or arrays to group on Keys to group on the x-axis of the pivot table\n",
    "* cols : list of column names or arrays to group on Keys to group on the y-axis of the pivot table\n",
    "* aggfunc : function, default numpy.mean, or list of functions  \n",
    "If list of functions passed, the resulting pivot table will have hierarchical columns whose top level are the function names (inferred from the function objects themselves)\n",
    "* fill_value : scalar, default None  \n",
    "Value to replace missing values with\n",
    "* margins : boolean, default False  \n",
    "Add all row / columns (e.g. for subtotal / grand totals)\n",
    "* dropna : boolean, default True"
   ]
  },
  {
   "cell_type": "code",
   "execution_count": null,
   "id": "759651fd-f496-43d1-96a1-266f79e62bc1",
   "metadata": {},
   "outputs": [],
   "source": [
    "# models.py\n",
    "class PivotData(models.Model):\n",
    "    row_col_a = models.CharField(max_length=15)\n",
    "    row_col_b = models.CharField(max_length=15)\n",
    "    row_col_c = models.CharField(max_length=15)\n",
    "    value_col_d = models.FloatField()\n",
    "    value_col_e = models.FloatField()\n",
    "    value_col_f = models.FloatField()\n",
    "\n",
    "    objects = DataFrameManager()"
   ]
  },
  {
   "cell_type": "markdown",
   "id": "8db77142-97ae-4464-8ba8-b12bb32c59f5",
   "metadata": {},
   "source": [
    "Usage"
   ]
  },
  {
   "cell_type": "code",
   "execution_count": null,
   "id": "0e7b816c-7356-435f-af6c-3a45c99f663d",
   "metadata": {},
   "outputs": [],
   "source": [
    "rows = ['row_col_a', 'row_col_b']\n",
    "cols = ['row_col_c']\n",
    "\n",
    "pt = qs.to_pivot_table(values='value_col_d', rows=rows, cols=cols)"
   ]
  }
 ],
 "metadata": {
  "kernelspec": {
   "display_name": "Python [conda env:base] *",
   "language": "python",
   "name": "conda-base-py"
  },
  "language_info": {
   "codemirror_mode": {
    "name": "ipython",
    "version": 3
   },
   "file_extension": ".py",
   "mimetype": "text/x-python",
   "name": "python",
   "nbconvert_exporter": "python",
   "pygments_lexer": "ipython3",
   "version": "3.12.7"
  }
 },
 "nbformat": 4,
 "nbformat_minor": 5
}
