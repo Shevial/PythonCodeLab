{
 "cells": [
  {
   "cell_type": "code",
   "execution_count": null,
   "id": "52affc76-4daa-493b-9aa9-319f979d3dd8",
   "metadata": {},
   "outputs": [],
   "source": [
    "$ python3 -m pip install requests pandas matplotlib "
   ]
  },
  {
   "cell_type": "code",
   "execution_count": null,
   "id": "06236656-29ce-44af-848c-e7ac08ff27a3",
   "metadata": {},
   "outputs": [],
   "source": [
    "import pandas as pd\n",
    "from django.db import connection"
   ]
  },
  {
   "cell_type": "code",
   "execution_count": null,
   "id": "b76eca0a-7088-4be2-99bb-29f5ec6cbb95",
   "metadata": {},
   "outputs": [],
   "source": [
    "class MySQLData:\n",
    "    def __init__(self):\n",
    "        pass # Constructor de clase MySQLData, en este caso no hace nada.\n",
    "    \n",
    "    def query_to_dataframe(self, sql_query):\n",
    "        \"\"\"Ejecutar una consulta SQL y devolver los resultados como un DataFrame de pandas\"\"\"\n",
    "        with connection.cursor() as cursor: # Abre un cursor para interactuar con la base de datos.\n",
    "            cursor.execute(sql_query)  # Ejecuto consulta SQL\n",
    "            columns = [col[0] for col in cursor.description]  # Obtengo nombres de columnas de consulta\n",
    "            results = cursor.fetchall()  # Obtengo todos los resultados de consulta\n",
    "            df = pd.DataFrame(results, columns=columns)  # Creo DataFrame a partir de los resultados\n",
    "        return df # Devuelve el DataFrame con los resultados de la consulta.\n",
    "\n",
    "db = MySQLData()  #instancia de la clase MySQLData.\n",
    "sql_query =\"SHOW TABLES\"\n",
    "df = db.query_to_dataframe(sql_query) # Llamo al método query_to_dataframe() de la clase MySQLData para meter resultados de la consulta en un DataFrame.\n",
    "\n",
    "print(df)"
   ]
  }
 ],
 "metadata": {
  "kernelspec": {
   "display_name": "Python [conda env:base] *",
   "language": "python",
   "name": "conda-base-py"
  },
  "language_info": {
   "codemirror_mode": {
    "name": "ipython",
    "version": 3
   },
   "file_extension": ".py",
   "mimetype": "text/x-python",
   "name": "python",
   "nbconvert_exporter": "python",
   "pygments_lexer": "ipython3",
   "version": "3.12.7"
  }
 },
 "nbformat": 4,
 "nbformat_minor": 5
}
