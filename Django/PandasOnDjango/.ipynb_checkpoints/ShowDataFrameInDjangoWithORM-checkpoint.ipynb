{
 "cells": [
  {
   "cell_type": "markdown",
   "id": "8f7b7bb9-635f-46ea-a1b2-294e836f6982",
   "metadata": {},
   "source": [
    "## Crear modelo a partir de BD"
   ]
  },
  {
   "cell_type": "markdown",
   "id": "e23dc613-5f50-44d3-bf7d-bd44effa37c7",
   "metadata": {},
   "source": [
    "Normalmente se crean modelos para crear tablas, pero para generar modelos a partir de bd existente se usa ``inspectdb``  \n",
    "\n",
    "https://docs.djangoproject.com/en/5.2/ref/django-admin/#django-admin-inspectdb"
   ]
  },
  {
   "cell_type": "markdown",
   "id": "5efda8f0-3fd0-4398-840c-c93dc2e31b04",
   "metadata": {},
   "source": [
    "### ``inspectdb``"
   ]
  },
  {
   "cell_type": "markdown",
   "id": "b4631f16-2ebe-436f-999a-2f216564849c",
   "metadata": {},
   "source": [
    "Generar modelos de Django automáticamente a partir de una base de datos existente con sus tablas ya creadas. Es ideal para cuando estás trabajando con una base de datos legada o ya poblada."
   ]
  },
  {
   "cell_type": "code",
   "execution_count": null,
   "id": "bb8ddd0b-b5ec-4271-8091-1a2a51897774",
   "metadata": {},
   "outputs": [],
   "source": [
    "django-admin inspectdb [table [table ...]"
   ]
  },
  {
   "cell_type": "markdown",
   "id": "9a2629dc-679b-474c-8c4e-22163373fa65",
   "metadata": {},
   "source": [
    "Introspects the database tables in the database pointed-to by the NAME setting and **outputs a Django model module (a models.py file)** to standard output."
   ]
  },
  {
   "cell_type": "markdown",
   "id": "ffbd8cb0-49f5-48ff-a569-746e483deea2",
   "metadata": {},
   "source": [
    "You may choose what tables or views to inspect by passing their names as arguments. If no arguments are provided, models are created for views only if the --include-views option is used."
   ]
  },
  {
   "cell_type": "markdown",
   "id": "b54f068d-9be9-4c70-bc48-82da398bd9f6",
   "metadata": {
    "jp-MarkdownHeadingCollapsed": true
   },
   "source": [
    " The script will inspect the database and create a model for each table within it.\n",
    "\n",
    "As you might expect, the created models will have an attribute for every field in the table.  \n",
    "#### inspectdb has a few special cases in its field-name output:"
   ]
  },
  {
   "cell_type": "markdown",
   "id": "927f80cc-086c-4ff9-b8e6-f8de4fe75e14",
   "metadata": {},
   "source": [
    "* If inspectdb cannot map a column’s type to a model field type, it’ll use TextField and will insert the Python comment 'This field type is a guess.' next to the field in the generated model. The recognized fields may depend on apps listed in INSTALLED_APPS. For example, django.contrib.postgres adds recognition for several PostgreSQL-specific field types.\n",
    "\n",
    "* If the database column name is a Python reserved word (such as 'pass', 'class' or 'for'), inspectdb will append '_field' to the attribute name. For example, if a table has a column 'for', the generated model will have a field 'for_field', with the db_column attribute set to 'for'. inspectdb will insert the Python comment 'Field renamed because it was a Python reserved word.' next to the field."
   ]
  },
  {
   "cell_type": "markdown",
   "id": "00567e79-d5bf-4900-934c-3c84d88408ae",
   "metadata": {},
   "source": [
    "- Django doesn’t create database defaults when a default is specified on a model field. Similarly, database defaults aren’t translated to model field defaults or detected in any fashion by inspectdb.\n",
    "\n",
    "- By default, inspectdb creates unmanaged models. That is, managed = False in the model’s Meta class tells Django not to manage each table’s creation, modification, and deletion. If you do want to allow Django to manage the table’s lifecycle, you’ll need to change the managed option to True (or remove it because True is its default value)."
   ]
  },
  {
   "cell_type": "code",
   "execution_count": null,
   "id": "f0952804-1faf-454f-9de8-35247e28cfa3",
   "metadata": {},
   "outputs": [],
   "source": [
    "django-admin inspectdb [table [table ...]]¶"
   ]
  },
  {
   "cell_type": "markdown",
   "id": "9d8237a1-8e32-44bc-81fd-19d566f29e3b",
   "metadata": {},
   "source": [
    "### 1. Este comando inspecciona la base de datos y genera automáticamente código de modelos:"
   ]
  },
  {
   "cell_type": "code",
   "execution_count": null,
   "id": "a43654b3-2fe7-4670-a022-22688fdc02d0",
   "metadata": {},
   "outputs": [],
   "source": [
    "python manage.py inspectdb > nombre_app/models.py\n"
   ]
  },
  {
   "cell_type": "markdown",
   "id": "fffa5b5f-9f5f-4e3c-aa29-af09cad661c6",
   "metadata": {},
   "source": [
    "Si solo quieres generar modelos para algunas tablas:"
   ]
  },
  {
   "cell_type": "code",
   "execution_count": null,
   "id": "93e8fe5e-a69e-430a-a6b5-e53fa4354773",
   "metadata": {},
   "outputs": [],
   "source": [
    "python manage.py inspectdb ftth_ont  > consolidacion/models_generated.py"
   ]
  },
  {
   "cell_type": "markdown",
   "id": "93c5a1c8-c645-4b02-a414-39c383c458d3",
   "metadata": {},
   "source": [
    "Y se generó un modelo de la tabla en models_generated.py  \n",
    "Con el usuario y contraseña arriba, que hay que meter entre comillas para poder ejecutar la función que transforma a dataframe."
   ]
  },
  {
   "cell_type": "markdown",
   "id": "14bbb99a-c114-41f4-aaa9-53c07c355c73",
   "metadata": {},
   "source": [
    "### 2. Función que lo pasa a Dataframe"
   ]
  },
  {
   "cell_type": "markdown",
   "id": "6ca79873-0d8b-4326-a1a5-788fb6e5dc24",
   "metadata": {},
   "source": [
    "- Se importa la clase que se ha generado automáticamente\n",
    "- Se "
   ]
  },
  {
   "cell_type": "code",
   "execution_count": null,
   "id": "86dd1b6e-ae54-4a0a-8187-2038bece264f",
   "metadata": {},
   "outputs": [],
   "source": [
    "import pandas as pd\n",
    "from consolidacion.models_generated import FtthOnt \n",
    "\n",
    "def mostrar_dataframe():\n",
    "    print(FtthOnt.objects.all()[:5]+\"fefefefe\")  # Muestra los primeros 5 registros\n",
    "    # Queryset con todos los datos\n",
    "    qs = FtthOnt.objects.all() # esto muestra solo los objetos\n",
    "    qsdict = FtthOnt.objects.all().values()  # .values() lo convierte a dicts\n",
    "\n",
    "    # DataFrame\n",
    "    df = pd.DataFrame(list(qs))\n",
    "    dfdict = pd.DataFrame(list(qsdict))\n",
    "\n",
    "    # Mostrar\n",
    "    print(df.head())\n",
    "    print(dfdict.head())"
   ]
  },
  {
   "cell_type": "code",
   "execution_count": null,
   "id": "71b84bac-5809-47de-af18-bf84bde52a1c",
   "metadata": {},
   "outputs": [],
   "source": []
  }
 ],
 "metadata": {
  "kernelspec": {
   "display_name": "Python [conda env:base] *",
   "language": "python",
   "name": "conda-base-py"
  },
  "language_info": {
   "codemirror_mode": {
    "name": "ipython",
    "version": 3
   },
   "file_extension": ".py",
   "mimetype": "text/x-python",
   "name": "python",
   "nbconvert_exporter": "python",
   "pygments_lexer": "ipython3",
   "version": "3.12.7"
  }
 },
 "nbformat": 4,
 "nbformat_minor": 5
}
