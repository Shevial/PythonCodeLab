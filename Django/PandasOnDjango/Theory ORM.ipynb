{
 "cells": [
  {
   "cell_type": "markdown",
   "id": "417e6684-955a-4b50-bd8b-c5ad01f341e3",
   "metadata": {},
   "source": [
    "Define Django models and Fields\n",
    "* OOP Class\n",
    "* Fields & Behaviors  \n",
    "Once we created the Django model, we migratr and map it to the database"
   ]
  },
  {
   "cell_type": "markdown",
   "id": "ad0185c0-97e4-48bc-a77d-a1a1512e9a14",
   "metadata": {},
   "source": [
    "``objects`` is our model manager.\n",
    "Role of the model manager:  \n",
    "* interface: provides access to the Django ORM features\n",
    "* Query Set API: provides access to the query set API\n",
    "* Objects: all Django models can have one or more model managers. Each model will have a model manager signed by default called objects.\n",
    "* Modify data returned from database: can be extended to provide customizatons.\n"
   ]
  },
  {
   "cell_type": "markdown",
   "id": "53b6b46e-4a31-4934-8fa6-ef1eb3ae8648",
   "metadata": {},
   "source": [
    "``SELECT * FROM nameTable``  \n",
    "is equivalent to:  \n",
    "`` nameTable.objects.all()``"
   ]
  }
 ],
 "metadata": {
  "kernelspec": {
   "display_name": "Python [conda env:base] *",
   "language": "python",
   "name": "conda-base-py"
  },
  "language_info": {
   "codemirror_mode": {
    "name": "ipython",
    "version": 3
   },
   "file_extension": ".py",
   "mimetype": "text/x-python",
   "name": "python",
   "nbconvert_exporter": "python",
   "pygments_lexer": "ipython3",
   "version": "3.12.7"
  }
 },
 "nbformat": 4,
 "nbformat_minor": 5
}
