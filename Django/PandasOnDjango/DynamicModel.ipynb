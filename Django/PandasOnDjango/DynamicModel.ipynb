{
 "cells": [
  {
   "cell_type": "markdown",
   "id": "90f82777-c17e-41a3-b9f1-a0740b2128b6",
   "metadata": {},
   "source": [
    "### django_dynamic_model \n",
    "Para crear modelos en tiempos de ejecución basados en estructuras que puedo cargar desde la BD"
   ]
  },
  {
   "cell_type": "markdown",
   "id": "87bbe87b-6f71-490f-bdf7-debc8ef48295",
   "metadata": {},
   "source": [
    "https://pypi.org/project/django-dynamic-model/"
   ]
  },
  {
   "cell_type": "code",
   "execution_count": null,
   "id": "946027fc-6fbe-4d7b-8cfc-e4cb32d1db6b",
   "metadata": {},
   "outputs": [],
   "source": []
  }
 ],
 "metadata": {
  "kernelspec": {
   "display_name": "Python [conda env:base] *",
   "language": "python",
   "name": "conda-base-py"
  },
  "language_info": {
   "codemirror_mode": {
    "name": "ipython",
    "version": 3
   },
   "file_extension": ".py",
   "mimetype": "text/x-python",
   "name": "python",
   "nbconvert_exporter": "python",
   "pygments_lexer": "ipython3",
   "version": "3.12.7"
  }
 },
 "nbformat": 4,
 "nbformat_minor": 5
}
