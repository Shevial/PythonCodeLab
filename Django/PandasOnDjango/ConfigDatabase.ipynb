{
 "cells": [
  {
   "cell_type": "markdown",
   "id": "b0b7200e-6845-4307-98e3-7506ab1c957e",
   "metadata": {},
   "source": [
    "## Configuración de la base de datos\n",
    "``mysite/settings.py`` Es un módulo normal de Python con variables de nivel de módulo que representan la configuración de Django.  \n",
    "Por defecto la configuración utiliza SQLite.  \n",
    "Si desea utilizar otra base de datos, instale los conectores de base de datos apropiados, y cambie las siguientes claves en el ítem ``DATABASES 'default'`` para que se ajusten a la configuración de conexión de la base de datos:\n",
    "* If you’re using MySQL or MariaDB, you’ll need a DB API driver like mysqlclient. See notes for the MySQL backend for details.\n"
   ]
  },
  {
   "cell_type": "markdown",
   "id": "1f9e0681-aa14-4ca0-ac67-f8d9f98ba9f9",
   "metadata": {},
   "source": [
    "#### MySQL DB API Drivers\n",
    "MySQL has a couple drivers that implement the Python Database API described in PEP 249:\n",
    "\n",
    "* mysqlclient is a native driver. It’s the recommended choice.\n",
    "Django requires mysqlclient 1.4.3 or later.\n",
    "* MySQL Connector/Python is a pure Python driver from Oracle that does not require the MySQL client library or any Python modules outside the standard library.\n",
    "In addition to a DB API driver, Django needs an adapter to access the database drivers from its ORM. Django provides an adapter for mysqlclient while MySQL Connector/Python includes its own.  \n",
    "https://dev.mysql.com/doc/connector-python/en/connector-python-django-backend.html \n",
    "\n",
    "If you plan on using Django’s **timezone support**, use mysql_tzinfo_to_sql to load time zone tables into the MySQL database. This needs to be done just once for your MySQL server, not per database.\n"
   ]
  },
  {
   "cell_type": "markdown",
   "id": "8217488f-f674-4a38-9022-197c5637adf9",
   "metadata": {},
   "source": [
    "### Connecting to the database\n",
    "https://docs.djangoproject.com/es/5.0/ref/settings/ \n",
    "Connection settings are used in this order:\n",
    "1. OPTIONS.\n",
    "2. NAME, USER, PASSWORD, HOST, PORT\n",
    "3. MySQL option files.  \n",
    "In other words, if you set the name of the database in OPTIONS, this will take precedence over NAME, which would override anything in a MySQL option file."
   ]
  },
  {
   "cell_type": "markdown",
   "id": "f9000dff-4d96-40c4-90c3-9a0ae3a0b4b0",
   "metadata": {},
   "source": [
    "## Creating your database\n",
    "You can create your database using the command-line tools and this SQL:"
   ]
  },
  {
   "cell_type": "code",
   "execution_count": null,
   "id": "df1591f9-2f9a-47fd-81a2-085b079c718b",
   "metadata": {},
   "outputs": [],
   "source": [
    "CREATE DATABASE <dbname> CHARACTER SET utf8;"
   ]
  },
  {
   "cell_type": "markdown",
   "id": "4d446d72-e3f5-49aa-a57f-fd0a7f2b53ab",
   "metadata": {},
   "source": [
    "### Collation settings"
   ]
  },
  {
   "cell_type": "markdown",
   "id": "65e9e68c-eb57-4747-8e0b-90d25bb1442b",
   "metadata": {},
   "source": [
    "\n",
    "https://dev.mysql.com/doc/refman/8.4/en/charset.html  \n",
    "\n",
    "The collation setting for a column controls the order in which data is sorted as well as what strings compare as equal. You can specify the db_collation parameter to set the collation name of the column for CharField and TextField.  \n",
    "blabla .... mas en https://docs.djangoproject.com/es/5.0/ref/databases/#creating-your-database"
   ]
  },
  {
   "cell_type": "markdown",
   "id": "16f8e593-879b-4cab-92b7-60cdfd2f5641",
   "metadata": {},
   "source": [
    "Here’s a sample configuration which uses a MySQL option file:"
   ]
  },
  {
   "cell_type": "code",
   "execution_count": null,
   "id": "f2c60285-8371-4573-a1b9-8aaa3cc3650b",
   "metadata": {},
   "outputs": [],
   "source": [
    "# settings.py\n",
    "DATABASES = {\n",
    "    \"default\": {\n",
    "        \"ENGINE\": \"django.db.backends.mysql\",\n",
    "        \"OPTIONS\": {\n",
    "            \"read_default_file\": \"/path/to/my.cnf\",\n",
    "        },\n",
    "    }\n",
    "}"
   ]
  },
  {
   "cell_type": "code",
   "execution_count": null,
   "id": "44c058a5-2e89-4f4d-9baa-5bbffea73ddd",
   "metadata": {},
   "outputs": [],
   "source": [
    "# my.cnf\n",
    "[client]\n",
    "database = NAME\n",
    "user = USER\n",
    "password = PASSWORD\n",
    "default-character-set = utf8"
   ]
  }
 ],
 "metadata": {
  "kernelspec": {
   "display_name": "Python [conda env:base] *",
   "language": "python",
   "name": "conda-base-py"
  },
  "language_info": {
   "codemirror_mode": {
    "name": "ipython",
    "version": 3
   },
   "file_extension": ".py",
   "mimetype": "text/x-python",
   "name": "python",
   "nbconvert_exporter": "python",
   "pygments_lexer": "ipython3",
   "version": "3.12.7"
  }
 },
 "nbformat": 4,
 "nbformat_minor": 5
}
