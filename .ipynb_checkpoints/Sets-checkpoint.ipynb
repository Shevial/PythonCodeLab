{
 "cells": [
  {
   "cell_type": "raw",
   "id": "67e77898-c713-4c6c-b9b0-e1738a6fb9b0",
   "metadata": {},
   "source": [
    "### Sets \n",
    "* Unordered \n",
    "* No duplicate elements\n",
    " Basic uses include membership testing and eliminating duplicate entries.\n",
    " Set objects also support mathematical operations like union, intersection, difference, and symmetric difference."
   ]
  },
  {
   "cell_type": "code",
   "execution_count": null,
   "id": "e1df5f06-e513-4d8f-b6f2-d0722f17941e",
   "metadata": {},
   "outputs": [],
   "source": []
  }
 ],
 "metadata": {
  "kernelspec": {
   "display_name": "Python [conda env:base] *",
   "language": "python",
   "name": "conda-base-py"
  },
  "language_info": {
   "codemirror_mode": {
    "name": "ipython",
    "version": 3
   },
   "file_extension": ".py",
   "mimetype": "text/x-python",
   "name": "python",
   "nbconvert_exporter": "python",
   "pygments_lexer": "ipython3",
   "version": "3.12.7"
  }
 },
 "nbformat": 4,
 "nbformat_minor": 5
}
