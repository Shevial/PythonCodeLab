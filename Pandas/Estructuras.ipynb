{
 "cells": [
  {
   "cell_type": "markdown",
   "id": "e18cb0d2-5854-4174-842d-98e768ca6729",
   "metadata": {},
   "source": [
    "### Importar creando alias:  \n",
    "Esta convención crea un alias 'pd' para Pandas, permitiéndonos acceder a sus funcionalidades de manera concisa, como ``pd.DataFrame()`` en lugar de ``pandas.DataFrame()``."
   ]
  },
  {
   "cell_type": "code",
   "execution_count": null,
   "id": "c1c96214-cee2-4fc5-a377-a48e5ff4a346",
   "metadata": {},
   "outputs": [],
   "source": [
    "import pandas as pd "
   ]
  },
  {
   "cell_type": "markdown",
   "id": "786181c5-997a-491d-b7cb-ef970ac696a8",
   "metadata": {},
   "source": [
    "## **Estructura** de datos  \n",
    "El **núcleo** de Pandas se basa en dos estructuras de datos principales:  \n",
    "- **Series**:  \n",
    "  Es una **matriz unidimensional**(VECTOR) que puede contener **cualquier tipo de datos** (enteros, cadenas, números de punto flotante, objetos de Python, etc.).\n",
    "  Las Series tienen **etiquetas en los ejes (índices)**, que permiten acceder a los datos de manera eficiente."
   ]
  },
  {
   "cell_type": "code",
   "execution_count": 3,
   "id": "01408235-a367-4e41-9bf3-6537114d40e1",
   "metadata": {},
   "outputs": [
    {
     "name": "stdout",
     "output_type": "stream",
     "text": [
      "0    1\n",
      "1    3\n",
      "2    5\n",
      "3    7\n",
      "4    9\n",
      "dtype: int64\n"
     ]
    }
   ],
   "source": [
    "import pandas as pd\n",
    "\n",
    "# Crear una Serie\n",
    "serie = pd.Series([1, 3, 5, 7, 9])\n",
    "print(serie)"
   ]
  },
  {
   "cell_type": "markdown",
   "id": "456773a4-eee5-4a6d-add7-0561cb38d2f4",
   "metadata": {},
   "source": [
    "- **DataFrame**:\n",
    "   Es una estructura de datos **bidimensional**(MATRIZ), similar a una tabla en una base de datos, en la que **cada columna puede contener diferentes tipos de datos** (números, cadenas, booleanos, etc.).  \n",
    "  Los DataFrames tienen tanto **etiquetas de fila** como de **columna**, lo que facilita la manipulación y análisis de los datos."
   ]
  },
  {
   "cell_type": "code",
   "execution_count": 6,
   "id": "7b59f760-412c-445e-a29d-808ee7936b0e",
   "metadata": {},
   "outputs": [
    {
     "name": "stdout",
     "output_type": "stream",
     "text": [
      "   Nombre  Edad     Ciudad\n",
      "0     Ana    23     Madrid\n",
      "1    Luis    25  Barcelona\n",
      "2  Carlos    30   Valencia\n",
      "3   Marta    22    Sevilla\n"
     ]
    }
   ],
   "source": [
    "import pandas as pd\n",
    "\n",
    "# Crear un DataFrame\n",
    "datos = {\n",
    "    'Nombre': ['Ana', 'Luis', 'Carlos', 'Marta'],\n",
    "    'Edad': [23, 25, 30, 22],\n",
    "    'Ciudad': ['Madrid', 'Barcelona', 'Valencia', 'Sevilla']\n",
    "}\n",
    "df = pd.DataFrame(datos)\n",
    "print(df)\n"
   ]
  }
 ],
 "metadata": {
  "kernelspec": {
   "display_name": "Python [conda env:base] *",
   "language": "python",
   "name": "conda-base-py"
  },
  "language_info": {
   "codemirror_mode": {
    "name": "ipython",
    "version": 3
   },
   "file_extension": ".py",
   "mimetype": "text/x-python",
   "name": "python",
   "nbconvert_exporter": "python",
   "pygments_lexer": "ipython3",
   "version": "3.12.7"
  }
 },
 "nbformat": 4,
 "nbformat_minor": 5
}
