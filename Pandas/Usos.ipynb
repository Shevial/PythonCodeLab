{
 "cells": [
  {
   "cell_type": "markdown",
   "id": "23de5ef9-56be-461c-93d1-373feaf20dad",
   "metadata": {},
   "source": [
    "## **Usos**\n",
    "* **Análisis de datos**: Pandas permite realizar análisis exploratorios de datos (**EDA**) de manera eficiente.  \n",
    "Puedes calcular estadísticas descriptivas, como medias, medianas, desviaciones estándar y percentiles, utilizando métodos integrados."
   ]
  },
  {
   "cell_type": "code",
   "execution_count": 26,
   "id": "ebee3d9e-4946-4c92-a90f-8791417d7287",
   "metadata": {},
   "outputs": [
    {
     "name": "stdout",
     "output_type": "stream",
     "text": [
      "              A         B\n",
      "count  4.000000  4.000000\n",
      "mean   2.500000  6.500000\n",
      "std    1.290994  1.290994\n",
      "min    1.000000  5.000000\n",
      "25%    1.750000  5.750000\n",
      "50%    2.500000  6.500000\n",
      "75%    3.250000  7.250000\n",
      "max    4.000000  8.000000\n"
     ]
    }
   ],
   "source": [
    "import pandas as pd\n",
    "\n",
    "data = {'A': [1, 2, 3, 4], 'B': [5, 6, 7, 8]}\n",
    "df = pd.DataFrame(data)\n",
    "print(df.describe())"
   ]
  },
  {
   "cell_type": "markdown",
   "id": "a49206c7-189e-400a-8f06-dd22893fef71",
   "metadata": {},
   "source": [
    "* **Manipulación de datos**: Pandas facilita la limpieza y transformación de datos.  \n",
    "Ofrece métodos para agregar, eliminar y modificar columnas y filas, así como para realizar operaciones de agrupación y agregación.\n",
    "Puedes filtrar, agrupar, unir y pivotar datos con facilidad.\n",
    "Estas operaciones son esenciales para preparar datos antes de cualquier análisis o modelado."
   ]
  },
  {
   "cell_type": "code",
   "execution_count": 32,
   "id": "8a458b64-2d61-4e3a-a19c-cb379e375577",
   "metadata": {},
   "outputs": [
    {
     "name": "stdout",
     "output_type": "stream",
     "text": [
      "Antes de eliminar la columna:\n",
      "  Nombre  Edad  Edad+5\n",
      "0    Ana    23      28\n",
      "1   Juan    25      30\n",
      "2  Pedro    30      35\n",
      "3  Laura    28      33\n",
      "\n",
      "Después de eliminar la columna:\n",
      "  Nombre  Edad\n",
      "0    Ana    23\n",
      "1   Juan    25\n",
      "2  Pedro    30\n",
      "3  Laura    28\n"
     ]
    }
   ],
   "source": [
    "# Ejemplo de DataFrame\n",
    "df = pd.DataFrame({\n",
    "    'Nombre': ['Ana', 'Juan', 'Pedro', 'Laura'],\n",
    "    'Edad': [23, 25, 30, 28]\n",
    "})\n",
    "\n",
    "# Agregar una nueva columna\n",
    "df['Edad+5'] = df['Edad'] + 5\n",
    "\n",
    "# Mostrar el DataFrame antes de eliminar la columna\n",
    "print(\"Antes de eliminar la columna:\")\n",
    "print(df)\n",
    "\n",
    "# Eliminar una columna\n",
    "df = df.drop(columns=['Edad+5'])\n",
    "\n",
    "# Mostrar el DataFrame después de eliminar la columna\n",
    "print(\"\\nDespués de eliminar la columna:\")\n",
    "print(df)\n"
   ]
  },
  {
   "cell_type": "code",
   "execution_count": null,
   "id": "58da2060-c007-4aa8-8fff-90a2752f7de9",
   "metadata": {},
   "outputs": [],
   "source": []
  }
 ],
 "metadata": {
  "kernelspec": {
   "display_name": "Python [conda env:base] *",
   "language": "python",
   "name": "conda-base-py"
  },
  "language_info": {
   "codemirror_mode": {
    "name": "ipython",
    "version": 3
   },
   "file_extension": ".py",
   "mimetype": "text/x-python",
   "name": "python",
   "nbconvert_exporter": "python",
   "pygments_lexer": "ipython3",
   "version": "3.12.7"
  }
 },
 "nbformat": 4,
 "nbformat_minor": 5
}
