{
 "cells": [
  {
   "cell_type": "markdown",
   "id": "23de5ef9-56be-461c-93d1-373feaf20dad",
   "metadata": {},
   "source": [
    "## **Usos**\n",
    "* **Análisis de datos**: Pandas permite realizar análisis exploratorios de datos (**EDA**) de manera eficiente.  \n",
    "Puedes calcular estadísticas descriptivas, como medias, medianas, desviaciones estándar y percentiles, utilizando métodos integrados."
   ]
  },
  {
   "cell_type": "code",
   "execution_count": 26,
   "id": "ebee3d9e-4946-4c92-a90f-8791417d7287",
   "metadata": {},
   "outputs": [
    {
     "name": "stdout",
     "output_type": "stream",
     "text": [
      "              A         B\n",
      "count  4.000000  4.000000\n",
      "mean   2.500000  6.500000\n",
      "std    1.290994  1.290994\n",
      "min    1.000000  5.000000\n",
      "25%    1.750000  5.750000\n",
      "50%    2.500000  6.500000\n",
      "75%    3.250000  7.250000\n",
      "max    4.000000  8.000000\n"
     ]
    }
   ],
   "source": [
    "import pandas as pd\n",
    "\n",
    "data = {'A': [1, 2, 3, 4], 'B': [5, 6, 7, 8]}\n",
    "df = pd.DataFrame(data)\n",
    "print(df.describe())"
   ]
  },
  {
   "cell_type": "markdown",
   "id": "a49206c7-189e-400a-8f06-dd22893fef71",
   "metadata": {},
   "source": [
    "* **Manipulación de datos**: Pandas facilita la limpieza y transformación de datos.  \n",
    "Ofrece métodos para agregar, eliminar y modificar columnas y filas, así como para realizar operaciones de agrupación y agregación.\n",
    "Puedes filtrar, agrupar, unir y pivotar datos con facilidad.\n",
    "Estas operaciones son esenciales para preparar datos antes de cualquier análisis o modelado."
   ]
  },
  {
   "cell_type": "code",
   "execution_count": 32,
   "id": "8a458b64-2d61-4e3a-a19c-cb379e375577",
   "metadata": {},
   "outputs": [
    {
     "name": "stdout",
     "output_type": "stream",
     "text": [
      "Antes de eliminar la columna:\n",
      "  Nombre  Edad  Edad+5\n",
      "0    Ana    23      28\n",
      "1   Juan    25      30\n",
      "2  Pedro    30      35\n",
      "3  Laura    28      33\n",
      "\n",
      "Después de eliminar la columna:\n",
      "  Nombre  Edad\n",
      "0    Ana    23\n",
      "1   Juan    25\n",
      "2  Pedro    30\n",
      "3  Laura    28\n"
     ]
    }
   ],
   "source": [
    "# Ejemplo de DataFrame\n",
    "df = pd.DataFrame({\n",
    "    'Nombre': ['Ana', 'Juan', 'Pedro', 'Laura'],\n",
    "    'Edad': [23, 25, 30, 28]\n",
    "})\n",
    "\n",
    "# Agregar una nueva columna\n",
    "df['Edad+5'] = df['Edad'] + 5\n",
    "\n",
    "# Mostrar el DataFrame antes de eliminar la columna\n",
    "print(\"Antes de eliminar la columna:\")\n",
    "print(df)\n",
    "\n",
    "# Eliminar una columna\n",
    "df = df.drop(columns=['Edad+5'])\n",
    "\n",
    "# Mostrar el DataFrame después de eliminar la columna\n",
    "print(\"\\nDespués de eliminar la columna:\")\n",
    "print(df)\n"
   ]
  },
  {
   "cell_type": "markdown",
   "id": "1700e1fc-49e3-48e3-8ca5-3db846c6c04a",
   "metadata": {},
   "source": [
    "* **Selección y filtrado**:  \n",
    "Permite seleccionar y filtrar datos de manera eficiente utilizando etiquetas, condiciones y expresiones regulares."
   ]
  },
  {
   "cell_type": "code",
   "execution_count": 55,
   "id": "c1c725bc-9d28-4066-b571-1a238d72a440",
   "metadata": {},
   "outputs": [
    {
     "name": "stdout",
     "output_type": "stream",
     "text": [
      "Antes de filtrar\n",
      "  Nombre  Edad\n",
      "0    Ana    23\n",
      "1   Juan    25\n",
      "2  Pedro    30\n",
      "3  Laura    28\n",
      "\n",
      "Columna edades\n",
      "0    23\n",
      "1    25\n",
      "2    30\n",
      "3    28\n",
      "Name: Edad, dtype: int64\n",
      "\n",
      "Filtrando\n",
      "  Nombre  Edad\n",
      "2  Pedro    30\n",
      "3  Laura    28\n"
     ]
    }
   ],
   "source": [
    "import pandas as pd\n",
    "\n",
    "# Ejemplo de DataFrame\n",
    "df = pd.DataFrame({\n",
    "    'Nombre': ['Ana', 'Juan', 'Pedro', 'Laura'],\n",
    "    'Edad': [23, 25, 30, 28]\n",
    "})\n",
    "\n",
    "\n",
    "# Mostrar el DataFrame antes de eliminar la columna\n",
    "print(\"Antes de filtrar\")\n",
    "print(df)\n",
    "\n",
    "# Seleccionar una columna\n",
    "edades = df['Edad']\n",
    "\n",
    "# Filtrar filas basado en una condición\n",
    "mayores_de_25 = df[df['Edad'] > 25]\n",
    "\n",
    "# Mostrar el DataFrame después de eliminar la columna\n",
    "print(\"\\nColumna edades\")\n",
    "print(edades)\n",
    "print(\"\\nFiltrando\")\n",
    "print(mayores_de_25)\n",
    "\n"
   ]
  },
  {
   "cell_type": "markdown",
   "id": "212310c6-ed80-41c3-8a30-3640729a5c6a",
   "metadata": {},
   "source": [
    "* **Manejo de datos faltantes:**  \n",
    "Pandas proporciona herramientas para detectar, eliminar o imputar valores faltantes en los datos, lo cual es crucial para mantener la integridad de los análisis."
   ]
  },
  {
   "cell_type": "code",
   "execution_count": 57,
   "id": "4212550f-c7d2-4f26-b8e7-6678456f8366",
   "metadata": {},
   "outputs": [
    {
     "name": "stdout",
     "output_type": "stream",
     "text": [
      "Valores faltantes en el DataFrame:\n",
      "   Nombre   Edad\n",
      "0   False  False\n",
      "1   False  False\n",
      "2   False   True\n",
      "3   False  False\n",
      "4   False   True\n",
      "\n",
      "DataFrame después de eliminar filas con valores faltantes:\n",
      "  Nombre  Edad\n",
      "0    Ana  23.0\n",
      "1   Juan  25.0\n",
      "3  Laura  28.0\n",
      "\n",
      "DataFrame después de imputar valores faltantes:\n",
      "   Nombre       Edad\n",
      "0     Ana  23.000000\n",
      "1    Juan  25.000000\n",
      "2   Pedro  25.333333\n",
      "3   Laura  28.000000\n",
      "4  Carlos  25.333333\n"
     ]
    }
   ],
   "source": [
    "import numpy as np\n",
    "import pandas as pd\n",
    "\n",
    "# Ejemplo de DataFrame con valores faltantes\n",
    "df = pd.DataFrame({\n",
    "    'Nombre': ['Ana', 'Juan', 'Pedro', 'Laura', 'Carlos'],\n",
    "    'Edad': [23, 25, np.nan, 28, np.nan]\n",
    "})\n",
    "\n",
    "# Detectar valores faltantes\n",
    "print(\"Valores faltantes en el DataFrame:\")\n",
    "print(df.isnull())\n",
    "\n",
    "# Eliminar filas con valores faltantes\n",
    "df = df.dropna()\n",
    "\n",
    "# Mostrar el DataFrame después de eliminar filas con valores faltantes\n",
    "print(\"\\nDataFrame después de eliminar filas con valores faltantes:\")\n",
    "print(df)\n",
    "\n",
    "# Imputar valores faltantes\n",
    "# Para este ejemplo, se crea un nuevo DataFrame con valores faltantes\n",
    "df = pd.DataFrame({\n",
    "    'Nombre': ['Ana', 'Juan', 'Pedro', 'Laura', 'Carlos'],\n",
    "    'Edad': [23, 25, np.nan, 28, np.nan]\n",
    "})\n",
    "\n",
    "# Imputar los valores faltantes con la media de la columna 'Edad'\n",
    "df = df.fillna(value={'Edad': df['Edad'].mean()})\n",
    "\n",
    "# Mostrar el DataFrame después de la imputación\n",
    "print(\"\\nDataFrame después de imputar valores faltantes:\")\n",
    "print(df)\n"
   ]
  },
  {
   "cell_type": "markdown",
   "id": "26d65162-a4b9-4a08-bc68-e7d0c3289d07",
   "metadata": {},
   "source": [
    "* **Integración con otras bibliotecas**:  \n",
    "Pandas se integra fácilmente con bibliotecas como NumPy, Matplotlib y SciPy, lo que permite realizar análisis numéricos y visualizaciones de datos sin problemas."
   ]
  },
  {
   "cell_type": "code",
   "execution_count": 60,
   "id": "14f9c90d-97f1-494d-ac7b-91afca437754",
   "metadata": {},
   "outputs": [
    {
     "data": {
      "image/png": "[encoded data removed]",
      "text/plain": [
       "<Figure size 640x480 with 1 Axes>"
      ]
     },
     "metadata": {},
     "output_type": "display_data"
    }
   ],
   "source": [
    "import matplotlib.pyplot as plt\n",
    "import pandas as pd\n",
    "\n",
    "data = {'A': [1, 2, 3, 4], 'B': [5, 6, 7, 8]}\n",
    "df = pd.DataFrame(data)\n",
    "\n",
    "# Crear un gráfico de línea\n",
    "df.plot(kind='line')\n",
    "plt.show()"
   ]
  },
  {
   "cell_type": "markdown",
   "id": "e1c71707-111b-43de-88f5-52cd2707ad22",
   "metadata": {},
   "source": [
    "* **Lectura y escritura de datos**:  \n",
    "Pandas soporta múltiples formatos de entrada y salida, como CSV, Excel, SQL, y JSON, lo que facilita trabajar con diferentes fuentes de datos."
   ]
  },
  {
   "cell_type": "code",
   "execution_count": null,
   "id": "d4048eeb-1903-4364-9481-f56c1c61c23e",
   "metadata": {},
   "outputs": [],
   "source": [
    "# Leer un archivo CSV\n",
    "df = pd.read_csv('archivo.csv')\n",
    "\n",
    "# Escribir un DataFrame a un archivo CSV\n",
    "df.to_csv('archivo_salida.csv', index=False)"
   ]
  },
  {
   "cell_type": "markdown",
   "id": "b9bd5734-7147-4cdd-a93c-211b5114f1ed",
   "metadata": {},
   "source": [
    "* **Series temporales**:  \n",
    "Pandas incluye funcionalidades específicas para trabajar con series temporales, como la re-sampling, el desplazamiento y la interpolación de datos temporales."
   ]
  },
  {
   "cell_type": "code",
   "execution_count": 66,
   "id": "3c07ada9-7a83-487d-be56-105e92a71e38",
   "metadata": {},
   "outputs": [
    {
     "data": {
      "text/html": [
       "<div>\n",
       "<style scoped>\n",
       "    .dataframe tbody tr th:only-of-type {\n",
       "        vertical-align: middle;\n",
       "    }\n",
       "\n",
       "    .dataframe tbody tr th {\n",
       "        vertical-align: top;\n",
       "    }\n",
       "\n",
       "    .dataframe thead th {\n",
       "        text-align: right;\n",
       "    }\n",
       "</style>\n",
       "<table border=\"1\" class=\"dataframe\">\n",
       "  <thead>\n",
       "    <tr style=\"text-align: right;\">\n",
       "      <th></th>\n",
       "      <th>data</th>\n",
       "    </tr>\n",
       "    <tr>\n",
       "      <th>date</th>\n",
       "      <th></th>\n",
       "    </tr>\n",
       "  </thead>\n",
       "  <tbody>\n",
       "    <tr>\n",
       "      <th>2023-01-31</th>\n",
       "      <td>45</td>\n",
       "    </tr>\n",
       "  </tbody>\n",
       "</table>\n",
       "</div>"
      ],
      "text/plain": [
       "            data\n",
       "date            \n",
       "2023-01-31    45"
      ]
     },
     "execution_count": 66,
     "metadata": {},
     "output_type": "execute_result"
    }
   ],
   "source": [
    "date_rng = pd.date_range(start='2023-01-01', end='2023-01-10', freq='D')\n",
    "df = pd.DataFrame(date_rng, columns=['date'])\n",
    "df['data'] = pd.Series(range(10))\n",
    "\n",
    "# Re-sampling a frecuencia mensual\n",
    "df.set_index('date').resample('ME').sum()"
   ]
  }
 ],
 "metadata": {
  "kernelspec": {
   "display_name": "Python [conda env:base] *",
   "language": "python",
   "name": "conda-base-py"
  },
  "language_info": {
   "codemirror_mode": {
    "name": "ipython",
    "version": 3
   },
   "file_extension": ".py",
   "mimetype": "text/x-python",
   "name": "python",
   "nbconvert_exporter": "python",
   "pygments_lexer": "ipython3",
   "version": "3.12.7"
  }
 },
 "nbformat": 4,
 "nbformat_minor": 5
}
