{
 "cells": [
  {
   "cell_type": "markdown",
   "id": "53e70523-e4c1-427d-8ddf-93c137a00c07",
   "metadata": {},
   "source": [
    "### Manejo de datos faltantes:\n",
    "\n",
    "``isnull()``: Detecta valores faltantes.  \n",
    "**``dropna()``: Elimina filas o columnas con valores faltantes.**  \n",
    "``fillna()``: Rellena valores faltantes."
   ]
  },
  {
   "cell_type": "code",
   "execution_count": 35,
   "id": "317ec5f2-7ee2-4144-8f3d-6a57e0a6e1f5",
   "metadata": {},
   "outputs": [
    {
     "name": "stdout",
     "output_type": "stream",
     "text": [
      "      Ciudad  Nombre  Años\n",
      "0     Madrid     Ana  23.0\n",
      "1       None    Juan  25.0\n",
      "2     Madrid    Anaa   NaN\n",
      "3  Barcelona   Laura  30.0\n",
      "4     Madrid  Carlos  22.0\n",
      "\n",
      "    Ciudad  Nombre   Años\n",
      "0   False   False  False\n",
      "1    True   False  False\n",
      "2   False   False   True\n",
      "3   False   False  False\n",
      "4   False   False  False\n",
      "\n",
      "       Ciudad  Nombre  Años\n",
      "0     Madrid     Ana  23.0\n",
      "3  Barcelona   Laura  30.0\n",
      "4     Madrid  Carlos  22.0\n",
      "\n",
      "         Ciudad  Nombre  Años\n",
      "0       Madrid     Ana  23.0\n",
      "1  Desconocido    Juan  25.0\n",
      "2       Madrid    Anaa  25.0\n",
      "3    Barcelona   Laura  30.0\n",
      "4       Madrid  Carlos  22.0\n"
     ]
    }
   ],
   "source": [
    "import pandas as pd\n",
    "import numpy as np  #  np.nan\n",
    "\n",
    "df = pd.DataFrame({\n",
    "    'Ciudad': ['Madrid', None, 'Madrid', 'Barcelona', 'Madrid'], #pandas\n",
    "    'Nombre': ['Ana', 'Juan', 'Anaa', 'Laura', 'Carlos'], \n",
    "    'Años': [23, 25, np.nan, 30, 22] #numpy\n",
    "})\n",
    "print(df)\n",
    "\n",
    "# Detectar valores faltantes\n",
    "faltantes = df.isnull()\n",
    "print(\"\\n\", faltantes)\n",
    "\n",
    "# Eliminar filas con valores faltantes\n",
    "df_sin_na = df.dropna()\n",
    "print(\"\\n\", df_sin_na)\n",
    "\n",
    "# Rellenar valores faltantes, en este caso con la media de la columna años y lo demas que ponga desconocido\n",
    "df_relleno = df.fillna(value={'Años': df['Años'].mean()}).fillna(\"Desconocido\")\n",
    "print(\"\\n\", df_relleno)\n"
   ]
  },
  {
   "cell_type": "markdown",
   "id": "2a8f254e-19a7-4842-af51-082f48ca8777",
   "metadata": {},
   "source": [
    "Para GETECOM  \n",
    "``dropna()``: Elimina filas o columnas con valores faltantes.  \n"
   ]
  }
 ],
 "metadata": {
  "kernelspec": {
   "display_name": "Python [conda env:base] *",
   "language": "python",
   "name": "conda-base-py"
  },
  "language_info": {
   "codemirror_mode": {
    "name": "ipython",
    "version": 3
   },
   "file_extension": ".py",
   "mimetype": "text/x-python",
   "name": "python",
   "nbconvert_exporter": "python",
   "pygments_lexer": "ipython3",
   "version": "3.12.7"
  }
 },
 "nbformat": 4,
 "nbformat_minor": 5
}
