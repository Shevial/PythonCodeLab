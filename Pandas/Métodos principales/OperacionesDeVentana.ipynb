{
 "cells": [
  {
   "cell_type": "markdown",
   "id": "141e369a-e7c1-4dd3-8baa-257b5ce73af4",
   "metadata": {},
   "source": [
    "## Operaciones de ventana:  \n",
    "\n",
    "``rolling()``: Calcula operaciones sobre ventanas deslizantes.  \n",
    "``expanding()``: Calcula operaciones sobre ventanas acumulativas.  \n",
    "``ewm()``: Calcula operaciones sobre ventanas exponencialmente ponderadas."
   ]
  },
  {
   "cell_type": "code",
   "execution_count": 4,
   "id": "d08cfad8-459e-4fbe-b35d-8f5f51026348",
   "metadata": {},
   "outputs": [
    {
     "name": "stdout",
     "output_type": "stream",
     "text": [
      "      Ciudad  Nombre  Años\n",
      "0     Madrid     Ana    23\n",
      "1    Cáceres    Juan    25\n",
      "2     Madrid    Anaa    40\n",
      "3  Barcelona   Laura    30\n",
      "4     Madrid  Carlos    22\n",
      "\n",
      "       Ciudad  Nombre  Años  media_movil\n",
      "0     Madrid     Ana    23          NaN\n",
      "1    Cáceres    Juan    25          NaN\n",
      "2     Madrid    Anaa    40    29.333333\n",
      "3  Barcelona   Laura    30    31.666667\n",
      "4     Madrid  Carlos    22    30.666667\n",
      "\n",
      "       Ciudad  Nombre  Años  media_movil  suma_acumulativa\n",
      "0     Madrid     Ana    23          NaN              23.0\n",
      "1    Cáceres    Juan    25          NaN              48.0\n",
      "2     Madrid    Anaa    40    29.333333              88.0\n",
      "3  Barcelona   Laura    30    31.666667             118.0\n",
      "4     Madrid  Carlos    22    30.666667             140.0\n",
      "\n",
      "       Ciudad  Nombre  Años  media_movil  suma_acumulativa  media_ewm\n",
      "0     Madrid     Ana    23          NaN              23.0  23.000000\n",
      "1    Cáceres    Juan    25          NaN              48.0  24.333333\n",
      "2     Madrid    Anaa    40    29.333333              88.0  33.285714\n",
      "3  Barcelona   Laura    30    31.666667             118.0  31.533333\n",
      "4     Madrid  Carlos    22    30.666667             140.0  26.612903\n"
     ]
    }
   ],
   "source": [
    "import pandas as pd\n",
    "\n",
    "df = pd.DataFrame({\n",
    "    'Ciudad': ['Madrid', 'Cáceres', 'Madrid', 'Barcelona', 'Madrid'], \n",
    "    'Nombre': ['Ana', 'Juan', 'Anaa', 'Laura', 'Carlos'], \n",
    "    'Años': [23, 25, 40, 30, 22]\n",
    "})\n",
    "print(df)\n",
    "\n",
    "# Calcular media móvil con una ventana de 3 periodos\n",
    "df['media_movil'] = df['Años'].rolling(window=3).mean()\n",
    "print('\\n', df)\n",
    "\n",
    "\n",
    "# Calcular suma acumulativa\n",
    "df['suma_acumulativa'] = df['Años'].expanding().sum()\n",
    "print('\\n', df)\n",
    "\n",
    "# Calcular media exponencialmente ponderada\n",
    "df['media_ewm'] = df['Años'].ewm(span=3).mean()\n",
    "print('\\n', df)\n"
   ]
  }
 ],
 "metadata": {
  "kernelspec": {
   "display_name": "Python [conda env:base] *",
   "language": "python",
   "name": "conda-base-py"
  },
  "language_info": {
   "codemirror_mode": {
    "name": "ipython",
    "version": 3
   },
   "file_extension": ".py",
   "mimetype": "text/x-python",
   "name": "python",
   "nbconvert_exporter": "python",
   "pygments_lexer": "ipython3",
   "version": "3.12.7"
  }
 },
 "nbformat": 4,
 "nbformat_minor": 5
}
