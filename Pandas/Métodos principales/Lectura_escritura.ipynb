{
 "cells": [
  {
   "cell_type": "markdown",
   "id": "f7b782aa-412e-4bc2-9931-a9b7860e3a07",
   "metadata": {},
   "source": [
    "### Lectura y escritura de datos:\n",
    "\n",
    "**``read_sql()``: Lee un ? SQL y lo convierte en un DataFrame.  \n",
    "``read_sql_table()``: Lee una tabla SQL y lo convierte en un DataFrame.   \n",
    "``read_sql_query()``: Lee un query SQL y lo convierte en un DataFrame.   \n",
    "``to_sql()``: Escribe un DataFrame en un SQL.**  \n",
    "``read_csv()``: Lee un archivo CSV y lo convierte en un DataFrame.  \n",
    "``to_csv()``: Escribe un DataFrame en un archivo CSV.  \n",
    "``read_excel()``: Lee un archivo Excel y lo convierte en un DataFrame.  \n",
    "``to_excel()``: Escribe un DataFrame en un archivo Excel."
   ]
  },
  {
   "cell_type": "code",
   "execution_count": null,
   "id": "572e772c-0aee-4412-b727-4214380c410e",
   "metadata": {},
   "outputs": [],
   "source": [
    "import pandas as pd\n",
    "\n",
    "# Leer un archivo CSV\n",
    "df = pd.read_csv('archivo.csv')\n",
    "\n",
    "# Escribir un DataFrame a un archivo CSV\n",
    "df.to_csv('archivo_salida.csv', index=False)\n",
    "\n",
    "# Leer un archivo Excel\n",
    "df = pd.read_excel('archivo.xlsx')\n",
    "\n",
    "# Escribir un DataFrame a un archivo Excel\n",
    "df.to_excel('archivo_salida.xlsx', index=False)"
   ]
  }
 ],
 "metadata": {
  "kernelspec": {
   "display_name": "Python [conda env:base] *",
   "language": "python",
   "name": "conda-base-py"
  },
  "language_info": {
   "codemirror_mode": {
    "name": "ipython",
    "version": 3
   },
   "file_extension": ".py",
   "mimetype": "text/x-python",
   "name": "python",
   "nbconvert_exporter": "python",
   "pygments_lexer": "ipython3",
   "version": "3.12.7"
  }
 },
 "nbformat": 4,
 "nbformat_minor": 5
}
