{
 "cells": [
  {
   "cell_type": "markdown",
   "id": "c3013e3c-d198-4d48-868b-ae6f0657272c",
   "metadata": {},
   "source": [
    "### Selección y filtrado de datos:\n",
    "\n",
    "``loc[]``: Selecciona datos por etiquetas.  \n",
    "``iloc[]``: Selecciona datos por posición.  \n",
    "``query()``: Filtra datos utilizando una expresión de cadena."
   ]
  },
  {
   "cell_type": "code",
   "execution_count": 2,
   "id": "d701a245-3333-46ee-9a29-8cf2a7216b54",
   "metadata": {},
   "outputs": [
    {
     "name": "stdout",
     "output_type": "stream",
     "text": [
      "  Nombre  Edad\n",
      "2  Pedro    28\n",
      "3  Laura    30\n",
      "\n",
      " Nombre    Juan\n",
      "Edad        25\n",
      "Name: 1, dtype: object\n",
      "\n",
      " Nombre    Carlos\n",
      "Edad          22\n",
      "Name: 4, dtype: object\n",
      "\n",
      "   Nombre  Edad\n",
      "2  Pedro    28\n",
      "3  Laura    30\n"
     ]
    }
   ],
   "source": [
    "import pandas as pd\n",
    "# Definir el DataFrame\n",
    "df = pd.DataFrame({\n",
    "    'Nombre': ['Ana', 'Juan', 'Pedro', 'Laura', 'Carlos'],\n",
    "    'Edad': [23, 25, 28, 30, 22]\n",
    "})\n",
    "\n",
    "# Seleccionar una columna\n",
    "edades = df['Edad']\n",
    "\n",
    "# Filtrar filas basado en una condición\n",
    "mayores_de_25 = df[df['Edad'] > 25]\n",
    "print(mayores_de_25)\n",
    "\n",
    "# Seleccionar una fila por etiqueta\n",
    "fila_1 = df.loc[1]\n",
    "print(\"\\n\", fila_1)\n",
    "\n",
    "# Seleccionar una fila por posición\n",
    "fila_2 = df.iloc[4]\n",
    "print(\"\\n\", fila_2)\n",
    "\n",
    "# Filtrar usando query\n",
    "mayores_de_25 = df.query('Edad > 25')\n",
    "print(\"\\n\", mayores_de_25)"
   ]
  }
 ],
 "metadata": {
  "kernelspec": {
   "display_name": "Python [conda env:base] *",
   "language": "python",
   "name": "conda-base-py"
  },
  "language_info": {
   "codemirror_mode": {
    "name": "ipython",
    "version": 3
   },
   "file_extension": ".py",
   "mimetype": "text/x-python",
   "name": "python",
   "nbconvert_exporter": "python",
   "pygments_lexer": "ipython3",
   "version": "3.12.7"
  }
 },
 "nbformat": 4,
 "nbformat_minor": 5
}
