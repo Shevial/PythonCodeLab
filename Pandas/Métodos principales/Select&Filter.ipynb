{
 "cells": [
  {
   "cell_type": "markdown",
   "id": "c3013e3c-d198-4d48-868b-ae6f0657272c",
   "metadata": {},
   "source": [
    "### Selección y filtrado de datos:\n",
    "\n",
    "``loc[]``: Selecciona datos por etiquetas.  \n",
    "``iloc[]``: Selecciona datos por posición.  \n",
    "``query()``: Filtra datos utilizando una expresión de cadena."
   ]
  },
  {
   "cell_type": "code",
   "execution_count": null,
   "id": "d701a245-3333-46ee-9a29-8cf2a7216b54",
   "metadata": {},
   "outputs": [],
   "source": []
  }
 ],
 "metadata": {
  "kernelspec": {
   "display_name": "Python [conda env:base] *",
   "language": "python",
   "name": "conda-base-py"
  },
  "language_info": {
   "codemirror_mode": {
    "name": "ipython",
    "version": 3
   },
   "file_extension": ".py",
   "mimetype": "text/x-python",
   "name": "python",
   "nbconvert_exporter": "python",
   "pygments_lexer": "ipython3",
   "version": "3.12.7"
  }
 },
 "nbformat": 4,
 "nbformat_minor": 5
}
