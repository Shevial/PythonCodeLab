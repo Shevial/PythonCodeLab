{
 "cells": [
  {
   "cell_type": "markdown",
   "id": "af81429a-1bfa-4b65-a105-4382522bdec6",
   "metadata": {},
   "source": [
    "### Manipulación de datos:\n",
    "\n",
    "``assign()``: Añade nuevas columnas a un DataFrame.  \n",
    "``drop()``: Elimina filas o columnas.  \n",
    "``rename()``: Cambia el nombre de las filas o columnas.  \n",
    "``sort_values()``: Ordena los datos por valores.  "
   ]
  },
  {
   "cell_type": "code",
   "execution_count": 2,
   "id": "e603edac-7a26-4ca8-afc3-9e877c91987a",
   "metadata": {},
   "outputs": [
    {
     "name": "stdout",
     "output_type": "stream",
     "text": [
      "   Nombre  Edad\n",
      "0     Ana    23\n",
      "1    Juan    25\n",
      "2   Pedro    28\n",
      "3   Laura    30\n",
      "4  Carlos    22\n",
      "\n",
      "    Nombre  Edad  Edad_mas_5\n",
      "0     Ana    23          28\n",
      "1    Juan    25          30\n",
      "2   Pedro    28          33\n",
      "3   Laura    30          35\n",
      "4  Carlos    22          27\n",
      "\n",
      "    Nombre  Edad\n",
      "0     Ana    23\n",
      "1    Juan    25\n",
      "2   Pedro    28\n",
      "3   Laura    30\n",
      "4  Carlos    22\n",
      "\n",
      "    Nombre  Years\n",
      "4  Carlos     22\n",
      "0     Ana     23\n",
      "1    Juan     25\n",
      "2   Pedro     28\n",
      "3   Laura     30\n",
      "\n",
      "    Nombre  Years\n",
      "4  Carlos     22\n",
      "0     Ana     23\n",
      "1    Juan     25\n",
      "2   Pedro     28\n",
      "3   Laura     30\n"
     ]
    }
   ],
   "source": [
    "import pandas as pd\n",
    "# Definir el DataFrame\n",
    "df = pd.DataFrame({\n",
    "    'Nombre': ['Ana', 'Juan', 'Pedro', 'Laura', 'Carlos'],\n",
    "    'Edad': [23, 25, 28, 30, 22]\n",
    "})\n",
    "print(df)\n",
    "\n",
    "# Agregar una nueva columna\n",
    "df = df.assign(Edad_mas_5=df['Edad'] + 5)\n",
    "print(\"\\n\", df)\n",
    "\n",
    "# Eliminar una columna\n",
    "df = df.drop(columns=['Edad_mas_5'])\n",
    "print(\"\\n\", df)\n",
    "\n",
    "# Ordenar los datos por una columna\n",
    "df = df.sort_values(by='Edad').rename(columns={'Edad': 'Years'})\n",
    "print(\"\\n\", df)\n",
    "\n",
    "\n",
    "# Cambiar el nombre de una columna\n",
    "df = df.rename(columns={'Edad': 'Years'})\n",
    "print(\"\\n\", df)\n"
   ]
  }
 ],
 "metadata": {
  "kernelspec": {
   "display_name": "Python [conda env:base] *",
   "language": "python",
   "name": "conda-base-py"
  },
  "language_info": {
   "codemirror_mode": {
    "name": "ipython",
    "version": 3
   },
   "file_extension": ".py",
   "mimetype": "text/x-python",
   "name": "python",
   "nbconvert_exporter": "python",
   "pygments_lexer": "ipython3",
   "version": "3.12.7"
  }
 },
 "nbformat": 4,
 "nbformat_minor": 5
}
