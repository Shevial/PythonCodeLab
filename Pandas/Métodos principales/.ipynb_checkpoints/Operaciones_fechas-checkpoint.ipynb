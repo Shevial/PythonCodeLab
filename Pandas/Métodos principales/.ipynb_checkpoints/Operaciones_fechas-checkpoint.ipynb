{
 "cells": [
  {
   "cell_type": "markdown",
   "id": "235cb6c0-46b9-405e-ae46-7929255f20e8",
   "metadata": {},
   "source": [
    "## Operaciones con fechas:\n",
    "\n",
    "``to_datetime()``: Convierte una columna a tipo datetime.  \n",
    "``resample()``: Re-muestrea datos temporales."
   ]
  },
  {
   "cell_type": "code",
   "execution_count": 18,
   "id": "a1a687b5-4ee2-4cf2-91cb-f4ba409a5b4e",
   "metadata": {},
   "outputs": [
    {
     "name": "stdout",
     "output_type": "stream",
     "text": [
      "        Fecha  Valor\n",
      "0  2023-01-01     10\n",
      "1  2023-01-05     20\n",
      "2  2023-02-10     15\n",
      "3  2023-02-15     25\n",
      "4  2023-03-01     30\n",
      "\n",
      "        Fecha  Valor\n",
      "0 2023-01-01     10\n",
      "1 2023-01-05     20\n",
      "2 2023-02-10     15\n",
      "3 2023-02-15     25\n",
      "4 2023-03-01     30\n",
      "\n",
      "             Valor\n",
      "Fecha            \n",
      "2023-01-31   15.0\n",
      "2023-02-28   20.0\n",
      "2023-03-31   30.0\n"
     ]
    }
   ],
   "source": [
    "import pandas as pd\n",
    "# Crear un DataFrame de ejemplo\n",
    "data = {\n",
    "    'Fecha': ['2023-01-01', '2023-01-05', '2023-02-10', '2023-02-15', '2023-03-01'],\n",
    "    'Valor': [10, 20, 15, 25, 30]\n",
    "}\n",
    "\n",
    "df = pd.DataFrame(data)\n",
    "print(df)\n",
    "\n",
    "# Convertir la columna 'Fecha' a tipo datetime\n",
    "df['Fecha'] = pd.to_datetime(df['Fecha'])\n",
    "print('\\n', df)\n",
    "\n",
    "# Re-muestrear los datos a frecuencia mensual y calcular el promedio\n",
    "df_mensual = df.set_index('Fecha').resample('ME').mean()\n",
    "print('\\n', df_mensual)\n"
   ]
  },
  {
   "cell_type": "code",
   "execution_count": null,
   "id": "f8749456-f2c7-4c0e-8209-8c18531828a4",
   "metadata": {},
   "outputs": [],
   "source": []
  }
 ],
 "metadata": {
  "kernelspec": {
   "display_name": "Python [conda env:base] *",
   "language": "python",
   "name": "conda-base-py"
  },
  "language_info": {
   "codemirror_mode": {
    "name": "ipython",
    "version": 3
   },
   "file_extension": ".py",
   "mimetype": "text/x-python",
   "name": "python",
   "nbconvert_exporter": "python",
   "pygments_lexer": "ipython3",
   "version": "3.12.7"
  }
 },
 "nbformat": 4,
 "nbformat_minor": 5
}
