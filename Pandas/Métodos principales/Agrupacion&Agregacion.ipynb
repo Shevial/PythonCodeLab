{
 "cells": [
  {
   "cell_type": "markdown",
   "id": "29498091-a08f-4c9f-9f07-33b669a534ed",
   "metadata": {},
   "source": [
    "### Agrupación y agregación de datos:\n",
    "\n",
    "``groupby()``: Agrupa los datos por una o más columnas.  \n",
    "``agg()``: Aplica funciones de agregación a los grupos.  \n",
    "``pivot_table()``: Crea una tabla pivote."
   ]
  },
  {
   "cell_type": "code",
   "execution_count": null,
   "id": "d7a6ed1b-406a-41c3-ac58-509e0394e619",
   "metadata": {},
   "outputs": [],
   "source": [
    "import pandas as pd\n",
    "\n",
    "df = pd.DataFrame({\n",
    "    'Ciudad': ['Madrid', 'Barcelona', 'Madrid', 'Barcelona', 'Madrid'],\n",
    "    'Nombre': ['Ana', 'Juan', 'Pedro', 'Laura', 'Carlos'],\n",
    "    'Años': [23, 25, 28, 30, 22]\n",
    "})\n",
    "\n",
    "# Agrupar por una columna y calcular la media de 'Años'\n",
    "media_edad = df.groupby('Ciudad')['Años'].mean()\n",
    "print(\"Media de años por ciudad:\")\n",
    "print(media_edad)\n",
    "\n",
    "# Aplicar múltiples funciones de agregación\n",
    "agg_funcs = df.groupby('Ciudad')['Años'].agg(['mean', 'sum', 'count'])\n",
    "print(\"\\nFunciones de agregación (media, suma, cuenta):\")\n",
    "print(agg_funcs)\n",
    "\n",
    "# Crear una tabla pivote\n",
    "tabla_pivote = df.pivot_table(values='Años', index='Ciudad', columns='Nombre', aggfunc='mean')\n",
    "print(\"\\nTabla pivote de años por ciudad y nombre:\")\n",
    "print(tabla_pivote)\n"
   ]
  }
 ],
 "metadata": {
  "kernelspec": {
   "display_name": "Python [conda env:base] *",
   "language": "python",
   "name": "conda-base-py"
  },
  "language_info": {
   "codemirror_mode": {
    "name": "ipython",
    "version": 3
   },
   "file_extension": ".py",
   "mimetype": "text/x-python",
   "name": "python",
   "nbconvert_exporter": "python",
   "pygments_lexer": "ipython3",
   "version": "3.12.7"
  }
 },
 "nbformat": 4,
 "nbformat_minor": 5
}
