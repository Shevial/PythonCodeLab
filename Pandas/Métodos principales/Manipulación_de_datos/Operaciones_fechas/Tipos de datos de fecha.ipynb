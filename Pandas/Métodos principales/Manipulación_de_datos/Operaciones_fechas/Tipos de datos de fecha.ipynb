{
 "cells": [
  {
   "cell_type": "markdown",
   "id": "45c296fa-3e56-4398-88b4-187ddda29fe5",
   "metadata": {},
   "source": [
    "# Tipos de datos de fecha"
   ]
  },
  {
   "cell_type": "markdown",
   "id": "093fc1bd-8378-411e-a56b-13d0fc8d58a8",
   "metadata": {},
   "source": [
    "En Pandas, las fechas y horas se manejan principalmente utilizando los tipos de datos ``datetime64`` y ``Timedelta``. Estos tipos de datos permiten realizar operaciones avanzadas de manipulación y análisis de datos temporales. A continuación, se describen en detalle estos tipos de datos y cómo se utilizan en Pandas."
   ]
  },
  {
   "cell_type": "markdown",
   "id": "7a33addd-a5d4-497c-b854-87e934537c2a",
   "metadata": {},
   "source": [
    "Pandas utiliza el tipo de datos datetime64[ns] para representar **fechas** y **horas** con precisión de nanosegundos. Este tipo de datos es fundamental para realizar operaciones de análisis temporal de manera eficiente. \n",
    "\n"
   ]
  },
  {
   "cell_type": "markdown",
   "id": "f3036d3e-7627-4e16-9ab8-239245381378",
   "metadata": {},
   "source": [
    "Para convertir una columna de un DataFrame a tipo datetime, se utiliza la función ``pd.to_datetime()``. Por ejemplo:"
   ]
  },
  {
   "cell_type": "code",
   "execution_count": 5,
   "id": "aa38a4be-041b-4fa3-aae8-dbbf294390e6",
   "metadata": {},
   "outputs": [
    {
     "name": "stdout",
     "output_type": "stream",
     "text": [
      "fecha    datetime64[ns]\n",
      "dtype: object\n"
     ]
    }
   ],
   "source": [
    "import pandas as pd\n",
    "\n",
    "# Crear un DataFrame con datos de ejemplo\n",
    "data = {'fecha': ['2023-01-01', '2023-02-01', '2023-03-01']}\n",
    "df = pd.DataFrame(data)\n",
    "\n",
    "# Convertir la columna 'fecha' a tipo datetime\n",
    "df['fecha'] = pd.to_datetime(df['fecha'])\n",
    "print(df.dtypes)"
   ]
  },
  {
   "cell_type": "markdown",
   "id": "eed231f4-6994-401e-8dfc-b161195faef5",
   "metadata": {},
   "source": [
    "El tipo de datos **Timedelta** se utiliza para representar diferencias de tiempo entre dos fechas. Este tipo de datos es útil para calcular duraciones, intervalos y realizar operaciones aritméticas con fechas. Para crear una columna de tipo Timedelta, se puede utilizar la función ``pd.to_timedelta()``. Por ejemplo:"
   ]
  },
  {
   "cell_type": "code",
   "execution_count": 10,
   "id": "2f180cea-add4-4a12-a85c-cfb838987e4c",
   "metadata": {},
   "outputs": [
    {
     "name": "stdout",
     "output_type": "stream",
     "text": [
      "      inicio        fin duracion\n",
      "0 2023-01-01 2023-01-10   9 days\n",
      "1 2023-02-01 2023-02-10   9 days\n"
     ]
    }
   ],
   "source": [
    "import pandas as pd\n",
    "\n",
    "# Crear un DataFrame con datos de ejemplo\n",
    "data = {'inicio': ['2023-01-01', '2023-02-01'], 'fin': ['2023-01-10', '2023-02-10']}\n",
    "df = pd.DataFrame(data)\n",
    "\n",
    "# Convertir las columnas 'inicio' y 'fin' a tipo datetime\n",
    "df['inicio'] = pd.to_datetime(df['inicio'])\n",
    "df['fin'] = pd.to_datetime(df['fin'])\n",
    "\n",
    "# Calcular la diferencia entre las fechas\n",
    "df['duracion'] = df['fin'] - df['inicio']\n",
    "print(df)"
   ]
  },
  {
   "cell_type": "markdown",
   "id": "0eac5fdd-b647-426b-8405-ab2cfcf7767c",
   "metadata": {},
   "source": [
    "En el ejemplo anterior no se utiliza ``.to_timedelta()`` porque la diferencia entre dos columnas de tipo datetime (como df['fin'] - df['inicio']) automáticamente genera un objeto de tipo Timedelta.\n",
    "\n"
   ]
  },
  {
   "cell_type": "markdown",
   "id": "96c00840-0f6d-4d29-8ff0-fc4647459bca",
   "metadata": {},
   "source": [
    "Cuando se resta una fecha de otra en Pandas, el resultado es directamente una duración o intervalo de tiempo representado como Timedelta. Por tanto, en este caso no es necesario usar explícitamente ``pd.to_timedelta()``.\n",
    "``pd.to_timedelta()`` se utiliza principalmente cuando se quiere crear o convertir directamente a un tipo ``Timedelta`` a partir de otros tipos de datos como cadenas o números. Por ejemplo, cuando se desea convertir un número a una duración específica (días, horas, minutos) a partir de una columna que no está en formato de fecha."
   ]
  },
  {
   "cell_type": "markdown",
   "id": "c06850e6-b5b2-4190-abbe-6f9e4456d8a0",
   "metadata": {},
   "source": [
    "Además de ``datetime64`` y ``Timedelta``, Pandas también soporta el tipo de datos Period para trabajar con periodos de tiempo. Un Period representa una unidad de tiempo específica, como un mes o un año. Para crear una columna de tipo Period, se puede utilizar la función ``pd.period_range()``. Por ejemplo:"
   ]
  },
  {
   "cell_type": "code",
   "execution_count": 17,
   "id": "30ff2d1e-c836-46c2-9608-d84187aaac57",
   "metadata": {},
   "outputs": [
    {
     "name": "stdout",
     "output_type": "stream",
     "text": [
      "PeriodIndex(['2023-01', '2023-02', '2023-03', '2023-04', '2023-05', '2023-06'], dtype='period[M]')\n"
     ]
    }
   ],
   "source": [
    "import pandas as pd\n",
    "\n",
    "# Crear un rango de periodos mensuales\n",
    "periodos = pd.period_range(start='2023-01', end='2023-06', freq='M')\n",
    "print(periodos)"
   ]
  },
  {
   "cell_type": "markdown",
   "id": "b721b49e-72c4-49d8-98b7-7c9ca4822b77",
   "metadata": {},
   "source": [
    "Es importante tener en cuenta que las operaciones con tipos de datos de fecha pueden ser sensibles al formato y la zona horaria. Pandas maneja las zonas horarias mediante el uso de la librería pytz o la funcionalidad de zona horaria de datetime. Para ajustar la zona horaria de una serie de fechas, se puede utilizar el método ``.tz_localize()`` y ``.tz_convert()``. Por ejemplo:\n",
    "\n"
   ]
  },
  {
   "cell_type": "code",
   "execution_count": 20,
   "id": "0eb643d1-ff85-40f8-a18a-dd082eab30b1",
   "metadata": {},
   "outputs": [
    {
     "name": "stdout",
     "output_type": "stream",
     "text": [
      "DatetimeIndex(['2022-12-31 19:00:00-05:00', '2023-01-01 19:00:00-05:00',\n",
      "               '2023-01-02 19:00:00-05:00'],\n",
      "              dtype='datetime64[ns, US/Eastern]', freq='D')\n"
     ]
    }
   ],
   "source": [
    "import pandas as pd\n",
    "\n",
    "# Crear una serie de fechas\n",
    "fechas = pd.date_range(start='2023-01-01', periods=3, freq='D', tz='UTC')\n",
    "\n",
    "# Convertir la zona horaria de UTC a US/Eastern\n",
    "fechas = fechas.tz_convert('US/Eastern')\n",
    "print(fechas)"
   ]
  },
  {
   "cell_type": "markdown",
   "id": "3c5a4a04-1cdf-4a20-b9be-a520d740ee44",
   "metadata": {},
   "source": [
    "En resumen, el manejo de tipos de datos de fecha en Pandas es fundamental para realizar análisis temporales precisos y eficientes. La conversión y manipulación de fechas utilizando **datetime64, Timedelta y Period** permite realizar operaciones avanzadas y obtener insights valiosos de los datos temporales."
   ]
  }
 ],
 "metadata": {
  "kernelspec": {
   "display_name": "Python [conda env:base] *",
   "language": "python",
   "name": "conda-base-py"
  },
  "language_info": {
   "codemirror_mode": {
    "name": "ipython",
    "version": 3
   },
   "file_extension": ".py",
   "mimetype": "text/x-python",
   "name": "python",
   "nbconvert_exporter": "python",
   "pygments_lexer": "ipython3",
   "version": "3.12.7"
  }
 },
 "nbformat": 4,
 "nbformat_minor": 5
}
