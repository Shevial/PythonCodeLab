{
 "cells": [
  {
   "cell_type": "markdown",
   "id": "7eb858ce-5a59-47d8-a8d8-c681168fe975",
   "metadata": {},
   "source": [
    "# Operaciones con fechas"
   ]
  },
  {
   "cell_type": "markdown",
   "id": "84f2b54f-70d0-4dac-a218-bd94f61cc0b3",
   "metadata": {},
   "source": [
    "Pandas ofrece una variedad de funciones y métodos para realizar operaciones con fechas de manera eficiente. Estas operaciones son esenciales para tareas de análisis temporal, como la agregación de datos por intervalos de tiempo, el cálculo de diferencias entre fechas y la manipulación de series temporales. A continuación, se presentan algunas de las operaciones más comunes con fechas en Pandas."
   ]
  },
  {
   "cell_type": "markdown",
   "id": "e139cc4e-81ec-4f1b-9553-22a6f7b37555",
   "metadata": {},
   "source": [
    "Para extraer componentes específicos de una fecha, como el año, el mes o el día, se pueden utilizar los atributos del tipo datetime. Por ejemplo, para obtener el año de una columna de fechas, se puede utilizar el atributo ``.dt.year``:"
   ]
  },
  {
   "cell_type": "code",
   "execution_count": 3,
   "id": "adbccdf3-eaa0-4d4d-8b57-8332b3553807",
   "metadata": {},
   "outputs": [
    {
     "name": "stdout",
     "output_type": "stream",
     "text": [
      "       fecha   año\n",
      "0 2023-01-01  2023\n",
      "1 2023-02-15  2023\n",
      "2 2023-03-30  2023\n"
     ]
    }
   ],
   "source": [
    "import pandas as pd\n",
    "\n",
    "# Crear un DataFrame con datos de ejemplo\n",
    "data = {'fecha': ['2023-01-01', '2023-02-15', '2023-03-30']}\n",
    "df = pd.DataFrame(data)\n",
    "\n",
    "# Convertir la columna 'fecha' a tipo datetime\n",
    "df['fecha'] = pd.to_datetime(df['fecha'])\n",
    "\n",
    "# Extraer el año de la columna 'fecha'\n",
    "df['año'] = df['fecha'].dt.year\n",
    "print(df)"
   ]
  },
  {
   "cell_type": "markdown",
   "id": "e087596e-ee1d-4de5-82d7-e8417a7a585b",
   "metadata": {},
   "source": [
    "De manera similar, se pueden extraer otros componentes, como el mes (.dt.month), el día (.dt.day), la hora (.dt.hour), el minuto (.dt.minute) y el segundo (.dt.second).\n",
    "\n",
    "Otra operación común es la de calcular **diferencias entre fechas**. Esto se puede lograr restando una columna de fechas de otra, lo que resulta en una columna de tipo Timedelta. Por ejemplo:"
   ]
  },
  {
   "cell_type": "code",
   "execution_count": 6,
   "id": "b3995e6e-f33d-4840-bb16-0e48c08eaa4a",
   "metadata": {},
   "outputs": [
    {
     "name": "stdout",
     "output_type": "stream",
     "text": [
      "      inicio        fin duracion\n",
      "0 2023-01-01 2023-01-10   9 days\n",
      "1 2023-02-01 2023-02-10   9 days\n"
     ]
    }
   ],
   "source": [
    "import pandas as pd\n",
    "\n",
    "# Crear un DataFrame con datos de ejemplo\n",
    "data = {'inicio': ['2023-01-01', '2023-02-01'], 'fin': ['2023-01-10', '2023-02-10']}\n",
    "df = pd.DataFrame(data)\n",
    "\n",
    "# Convertir las columnas 'inicio' y 'fin' a tipo datetime\n",
    "df['inicio'] = pd.to_datetime(df['inicio'])\n",
    "df['fin'] = pd.to_datetime(df['fin'])\n",
    "\n",
    "# Calcular la diferencia entre las fechas\n",
    "df['duracion'] = df['fin'] - df['inicio']\n",
    "print(df)"
   ]
  },
  {
   "cell_type": "markdown",
   "id": "4d5cf21d-7492-4693-ad61-c9a27d33ec92",
   "metadata": {},
   "source": [
    "Además de calcular diferencias, Pandas permite realizar operaciones aritméticas con fechas, como sumar o restar un número específico de días, semanas, meses o años. Para esto, se puede utilizar el objeto ``pd.DateOffset``. Por ejemplo, para añadir 10 días a una columna de fechas:"
   ]
  },
  {
   "cell_type": "code",
   "execution_count": 13,
   "id": "7916003c-ee02-41d8-96f0-3260d8bca69e",
   "metadata": {},
   "outputs": [
    {
     "name": "stdout",
     "output_type": "stream",
     "text": [
      "       fecha fecha_mas_10_dias\n",
      "0 2023-01-01        2023-01-11\n",
      "1 2023-02-01        2023-02-11\n",
      "2 2023-03-01        2023-03-11\n"
     ]
    }
   ],
   "source": [
    "import pandas as pd\n",
    "\n",
    "# Crear un DataFrame con datos de ejemplo\n",
    "data = {'fecha': ['2023-01-01', '2023-02-01', '2023-03-01']}\n",
    "df = pd.DataFrame(data)\n",
    "\n",
    "# Convertir la columna 'fecha' a tipo datetime\n",
    "df['fecha'] = pd.to_datetime(df['fecha'])\n",
    "\n",
    "# Añadir 10 días a cada fecha\n",
    "df['fecha_mas_10_dias'] = df['fecha'] + pd.DateOffset(days=10)\n",
    "print(df)"
   ]
  }
 ],
 "metadata": {
  "kernelspec": {
   "display_name": "Python [conda env:base] *",
   "language": "python",
   "name": "conda-base-py"
  },
  "language_info": {
   "codemirror_mode": {
    "name": "ipython",
    "version": 3
   },
   "file_extension": ".py",
   "mimetype": "text/x-python",
   "name": "python",
   "nbconvert_exporter": "python",
   "pygments_lexer": "ipython3",
   "version": "3.12.7"
  }
 },
 "nbformat": 4,
 "nbformat_minor": 5
}
