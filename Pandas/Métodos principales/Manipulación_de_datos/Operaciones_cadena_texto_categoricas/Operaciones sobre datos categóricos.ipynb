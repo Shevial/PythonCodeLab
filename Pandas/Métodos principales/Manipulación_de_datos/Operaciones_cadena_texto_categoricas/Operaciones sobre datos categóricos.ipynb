{
 "cells": [
  {
   "cell_type": "markdown",
   "id": "9facae3e-9508-40b3-9196-cfb034f2821a",
   "metadata": {},
   "source": [
    "# Operaciones sobre datos categóricos"
   ]
  },
  {
   "cell_type": "markdown",
   "id": "ef6a94f3-e210-421c-a6e0-98761b8a4cc3",
   "metadata": {},
   "source": [
    "Las operaciones sobre datos categóricos en Pandas son esenciales para la manipulación y análisis eficiente de datos que representan categorías o etiquetas.  \n",
    "Los datos categóricos se almacenan internamente como enteros, lo que proporciona una ventaja significativa en términos de eficiencia de almacenamiento y rendimiento de las operaciones."
   ]
  },
  {
   "cell_type": "markdown",
   "id": "075ac05c-e2e6-4958-8900-2b6726956ccc",
   "metadata": {},
   "source": [
    "* **Creación de datos categóricos**: Los datos categóricos se pueden crear directamente al definir una Serie o al convertir una Serie existente de otro tipo de datos."
   ]
  },
  {
   "cell_type": "code",
   "execution_count": 4,
   "id": "51722d5d-9c31-4393-8062-a522953c1372",
   "metadata": {
    "scrolled": true
   },
   "outputs": [
    {
     "name": "stdout",
     "output_type": "stream",
     "text": [
      "0     rojo\n",
      "1    verde\n",
      "2     azul\n",
      "dtype: category\n",
      "Categories (3, object): ['azul', 'rojo', 'verde']\n",
      "0     bajo\n",
      "1    medio\n",
      "2     alto\n",
      "3    medio\n",
      "dtype: category\n",
      "Categories (3, object): ['alto', 'bajo', 'medio']\n"
     ]
    }
   ],
   "source": [
    "import pandas as pd\n",
    "\n",
    "# Crear una Serie categórica desde cero\n",
    "serie_categorica = pd.Series(['rojo', 'verde', 'azul'], dtype='category')\n",
    "print(serie_categorica)\n",
    "\n",
    "# Convertir una Serie de texto a categórica\n",
    "serie_texto = pd.Series(['bajo', 'medio', 'alto', 'medio'])\n",
    "serie_texto = serie_texto.astype('category')\n",
    "print(serie_texto)"
   ]
  },
  {
   "cell_type": "markdown",
   "id": "3e405041-d605-4b33-b7b7-102da39ad6c0",
   "metadata": {},
   "source": [
    "* **Reordenación de categorías**: Es posible reordenar las categorías utilizando el método ``.reorder_categories()``. Esto es útil cuando se necesita un orden específico para el análisis o la visualización de datos."
   ]
  },
  {
   "cell_type": "code",
   "execution_count": 7,
   "id": "40227e80-77c6-4104-99c9-f10c4be1ffea",
   "metadata": {},
   "outputs": [
    {
     "name": "stdout",
     "output_type": "stream",
     "text": [
      "0     rojo\n",
      "1    verde\n",
      "2     azul\n",
      "dtype: category\n",
      "Categories (3, object): ['verde' < 'rojo' < 'azul']\n"
     ]
    }
   ],
   "source": [
    "# Reordenar categorías\n",
    "serie_categorica = serie_categorica.cat.reorder_categories(['verde', 'rojo', 'azul'], ordered=True)\n",
    "print(serie_categorica)\n"
   ]
  },
  {
   "cell_type": "markdown",
   "id": "333ddf01-89e2-4e52-b4d7-972ae9a523cc",
   "metadata": {},
   "source": [
    "* **Añadir y eliminar categorías**: Se pueden añadir nuevas categorías a una Serie categórica existente utilizando ``.add_categories()``, y eliminar categorías con ``.remove_categories()``."
   ]
  },
  {
   "cell_type": "code",
   "execution_count": 10,
   "id": "5c8a9d40-3ec1-4f88-ab11-a37a493843f9",
   "metadata": {
    "scrolled": true
   },
   "outputs": [
    {
     "name": "stdout",
     "output_type": "stream",
     "text": [
      "0     rojo\n",
      "1    verde\n",
      "2     azul\n",
      "dtype: category\n",
      "Categories (4, object): ['verde' < 'rojo' < 'azul' < 'amarillo']\n",
      "0     rojo\n",
      "1    verde\n",
      "2     azul\n",
      "dtype: category\n",
      "Categories (3, object): ['verde' < 'rojo' < 'azul']\n"
     ]
    }
   ],
   "source": [
    "# Añadir una nueva categoría\n",
    "serie_categorica = serie_categorica.cat.add_categories(['amarillo'])\n",
    "print(serie_categorica)\n",
    "\n",
    "# Eliminar una categoría\n",
    "serie_categorica = serie_categorica.cat.remove_categories(['amarillo'])\n",
    "print(serie_categorica)"
   ]
  },
  {
   "cell_type": "markdown",
   "id": "bd750c2b-1d25-4607-afcc-5283a34938c4",
   "metadata": {},
   "source": [
    "* **Renombrar categorías**: Las categorías pueden ser renombradas utilizando el método ``.rename_categories()``. Este método es útil para ajustar los nombres de las categorías a convenciones específicas o para mejorar la legibilidad."
   ]
  },
  {
   "cell_type": "code",
   "execution_count": 13,
   "id": "6adcbb1b-9ebc-4923-9201-021dae402abd",
   "metadata": {
    "scrolled": true
   },
   "outputs": [
    {
     "name": "stdout",
     "output_type": "stream",
     "text": [
      "0      Red\n",
      "1    Green\n",
      "2     Blue\n",
      "dtype: category\n",
      "Categories (3, object): ['Green' < 'Red' < 'Blue']\n"
     ]
    }
   ],
   "source": [
    "# Renombrar categorías\n",
    "serie_categorica = serie_categorica.cat.rename_categories({'rojo': 'Red', 'verde': 'Green', 'azul': 'Blue'})\n",
    "print(serie_categorica)"
   ]
  },
  {
   "cell_type": "markdown",
   "id": "5f34d7e1-fd53-44a5-961c-2e391148db07",
   "metadata": {},
   "source": [
    "* **Ordenación y Comparación**: Las Series categóricas pueden ser ordenadas fácilmente. Las categorías ordenadas permiten realizar comparaciones lógicas entre los elementos. Por ejemplo, cuando las categorías tienen un orden implícito (como \"bajo\", \"medio\", \"alto\"), es posible comparar los elementos directamente para determinar su relación."
   ]
  },
  {
   "cell_type": "code",
   "execution_count": 16,
   "id": "7516b5e6-36be-4120-9106-91a1bffcd219",
   "metadata": {},
   "outputs": [
    {
     "name": "stdout",
     "output_type": "stream",
     "text": [
      "2     alto\n",
      "0     bajo\n",
      "1    medio\n",
      "3    medio\n",
      "dtype: category\n",
      "Categories (3, object): ['alto', 'bajo', 'medio']\n",
      "0    False\n",
      "1     True\n",
      "2     True\n",
      "3     True\n",
      "dtype: bool\n"
     ]
    }
   ],
   "source": [
    "# Ordenar una Serie categórica\n",
    "serie_ordenada = serie_texto.sort_values()\n",
    "print(serie_ordenada)\n",
    "\n",
    "# Crear una Serie categórica con un orden específico\n",
    "serie_texto_ordenado = serie_texto.astype(pd.CategoricalDtype(categories=['bajo', 'medio', 'alto'], ordered=True))\n",
    "print(serie_texto_ordenado > 'bajo')  # Esto devolverá True para categorías superiores a 'bajo'"
   ]
  },
  {
   "cell_type": "markdown",
   "id": "592e3992-1042-4fca-8601-942b3347c623",
   "metadata": {},
   "source": [
    "* **Agrupamiento y agregación**: Los datos categóricos son extremadamente útiles para operaciones de agrupamiento y agregación, ya que permiten segmentar los datos de manera eficiente según las categorías."
   ]
  },
  {
   "cell_type": "code",
   "execution_count": 19,
   "id": "bc3f1535-6736-43ce-a7cd-d7ac21b8ada0",
   "metadata": {},
   "outputs": [
    {
     "name": "stdout",
     "output_type": "stream",
     "text": [
      "       valor\n",
      "grupo       \n",
      "A       30.0\n",
      "B       30.0\n"
     ]
    }
   ],
   "source": [
    "# Crear un DataFrame con datos categóricos\n",
    "df = pd.DataFrame({\n",
    "    'grupo': pd.Series(['A', 'B', 'A', 'B', 'A'], dtype='category'),\n",
    "    'valor': [10, 20, 30, 40, 50]\n",
    "})\n",
    "\n",
    "# Agrupar por la columna categórica y calcular la media\n",
    "agrupado = df.groupby('grupo', observed=False).mean()\n",
    "print(agrupado)\n"
   ]
  },
  {
   "cell_type": "markdown",
   "id": "f9a39337-c502-47b2-acc6-a5607813415f",
   "metadata": {},
   "source": [
    "* **Conversión a otro tipo de datos**: En caso de ser necesario, se puede convertir una Serie categórica a otro tipo de datos, como texto o numérico, utilizando el método ``.astype()``."
   ]
  },
  {
   "cell_type": "code",
   "execution_count": null,
   "id": "659d9dfb-29a1-418a-bf63-09bff5871af2",
   "metadata": {},
   "outputs": [],
   "source": []
  }
 ],
 "metadata": {
  "kernelspec": {
   "display_name": "Python [conda env:base] *",
   "language": "python",
   "name": "conda-base-py"
  },
  "language_info": {
   "codemirror_mode": {
    "name": "ipython",
    "version": 3
   },
   "file_extension": ".py",
   "mimetype": "text/x-python",
   "name": "python",
   "nbconvert_exporter": "python",
   "pygments_lexer": "ipython3",
   "version": "3.12.7"
  }
 },
 "nbformat": 4,
 "nbformat_minor": 5
}
