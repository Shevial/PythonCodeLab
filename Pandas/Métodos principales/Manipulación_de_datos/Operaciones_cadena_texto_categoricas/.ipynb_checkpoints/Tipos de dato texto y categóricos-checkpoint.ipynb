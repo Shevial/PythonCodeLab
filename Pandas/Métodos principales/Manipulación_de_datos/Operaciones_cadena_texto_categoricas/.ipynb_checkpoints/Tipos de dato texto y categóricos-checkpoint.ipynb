{
 "cells": [
  {
   "cell_type": "markdown",
   "id": "89b775be-c764-4c64-a58c-354f91e71340",
   "metadata": {},
   "source": [
    "# Tipos de dato texto y categóricos"
   ]
  },
  {
   "cell_type": "markdown",
   "id": "847810ba-b73a-4657-9954-a55b08852d33",
   "metadata": {},
   "source": [
    " Los datos de tipo texto se representan utilizando el tipo object o string en Pandas, mientras que los datos categóricos se representan con el tipo category. Cada uno de estos tipos tiene sus particularidades y ventajas en el manejo de datos.\n",
    "\n",
    "El tipo texto (``object`` o ``string``) se utiliza generalmente para datos que representan cadenas de caracteres. Las operaciones comunes con datos de tipo texto incluyen la búsqueda de patrones, la manipulación de cadenas y la limpieza de datos. Pandas proporciona una serie de métodos específicos para trabajar con datos de tipo texto, accesibles a través del atributo ``.str``."
   ]
  },
  {
   "cell_type": "markdown",
   "id": "b886d07d-fa10-4a68-912d-81d78ac5bf6d",
   "metadata": {},
   "source": [
    "Ejemplo de creación de una Serie de tipo texto:"
   ]
  },
  {
   "cell_type": "code",
   "execution_count": 3,
   "id": "a169e2cd-046b-4dc9-98ce-8f4351eb7d8b",
   "metadata": {},
   "outputs": [
    {
     "name": "stdout",
     "output_type": "stream",
     "text": [
      "0    manzana\n",
      "1     banana\n",
      "2     cereza\n",
      "dtype: object\n"
     ]
    }
   ],
   "source": [
    "import pandas as pd\n",
    "\n",
    "# Crear una Serie de tipo texto\n",
    "serie_texto = pd.Series(['manzana', 'banana', 'cereza'])\n",
    "print(serie_texto)"
   ]
  },
  {
   "cell_type": "markdown",
   "id": "d6361580-05fc-4e31-a514-db8699110424",
   "metadata": {},
   "source": [
    "El tipo categórico (``category``) se utiliza para datos que toman un número limitado y fijo de posibles valores, como categorías o etiquetas. Los datos categóricos son útiles para representar variables cualitativas y pueden ofrecer mejoras significativas en la eficiencia de almacenamiento y el rendimiento de ciertas operaciones. Además, permiten realizar operaciones estadísticas y de agrupamiento de manera más efectiva."
   ]
  },
  {
   "cell_type": "markdown",
   "id": "a0d99c7d-339c-4b53-a4db-3185e9221408",
   "metadata": {},
   "source": [
    "Ejemplo de creación de una Serie categórica:"
   ]
  },
  {
   "cell_type": "code",
   "execution_count": 7,
   "id": "f51820de-3943-4ee5-b3e4-b280deb2d3c0",
   "metadata": {
    "scrolled": true
   },
   "outputs": [
    {
     "name": "stdout",
     "output_type": "stream",
     "text": [
      "0     bajo\n",
      "1    medio\n",
      "2     alto\n",
      "3    medio\n",
      "dtype: category\n",
      "Categories (3, object): ['alto', 'bajo', 'medio']\n"
     ]
    }
   ],
   "source": [
    "# Crear una Serie categórica\n",
    "serie_categorica = pd.Series(['bajo', 'medio', 'alto', 'medio'], dtype='category')\n",
    "print(serie_categorica)"
   ]
  },
  {
   "cell_type": "markdown",
   "id": "5d1afefa-22d0-4b63-9a42-e413b146357d",
   "metadata": {},
   "source": [
    "Las ventajas del uso de datos categóricos incluyen:\n",
    "\n",
    "- **Eficiencia de almacenamiento**: Los datos categóricos se almacenan internamente como enteros, lo que reduce el uso de memoria.  \n",
    "- **Optimización de operaciones**: Las operaciones sobre datos categóricos pueden ser más rápidas debido a la representación interna eficiente.  \n",
    "- **Facilitación de análisis**: Los datos categóricos permiten realizar operaciones de agrupamiento y análisis estadísticos con mayor facilidad.  \n",
    "Transformar datos de texto a categóricos puede ser beneficioso en muchos casos. Por ejemplo, si se tiene una columna de un DataFrame que contiene un número limitado de categorías distintas, se puede convertir a tipo categórico para mejorar la eficiencia."
   ]
  },
  {
   "cell_type": "markdown",
   "id": "86b76c47-8f02-468a-822c-43d20877707c",
   "metadata": {},
   "source": [
    "Ejemplo de conversión de una columna de texto a categórica:"
   ]
  },
  {
   "cell_type": "code",
   "execution_count": 12,
   "id": "0a115bdd-99fb-473a-a54c-c0e3eb25e521",
   "metadata": {},
   "outputs": [
    {
     "name": "stdout",
     "output_type": "stream",
     "text": [
      "nivel    category\n",
      "dtype: object\n"
     ]
    }
   ],
   "source": [
    "# Crear un DataFrame con una columna de tipo texto\n",
    "df = pd.DataFrame({'nivel': ['bajo', 'medio', 'alto', 'medio']})\n",
    "\n",
    "# Convertir la columna a tipo categórico\n",
    "df['nivel'] = df['nivel'].astype('category')\n",
    "print(df.dtypes)"
   ]
  },
  {
   "cell_type": "markdown",
   "id": "f3ad3d03-43b1-4673-96e0-388ecddb0b2b",
   "metadata": {},
   "source": [
    "Para trabajar con datos de tipo texto y categóricos, Pandas ofrece diversas funciones y métodos que facilitan la manipulación y el análisis. Es importante seleccionar el tipo de dato adecuado según las necesidades específicas del análisis para optimizar tanto el rendimiento como la claridad del código."
   ]
  }
 ],
 "metadata": {
  "kernelspec": {
   "display_name": "Python [conda env:base] *",
   "language": "python",
   "name": "conda-base-py"
  },
  "language_info": {
   "codemirror_mode": {
    "name": "ipython",
    "version": 3
   },
   "file_extension": ".py",
   "mimetype": "text/x-python",
   "name": "python",
   "nbconvert_exporter": "python",
   "pygments_lexer": "ipython3",
   "version": "3.12.7"
  }
 },
 "nbformat": 4,
 "nbformat_minor": 5
}
