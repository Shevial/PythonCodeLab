{
 "cells": [
  {
   "cell_type": "markdown",
   "id": "bf228c23-37cf-4fc9-a278-9cf6e0ede175",
   "metadata": {},
   "source": [
    "# Operaciones de texto"
   ]
  },
  {
   "cell_type": "markdown",
   "id": "2c0a0229-66db-422f-9a78-af1ba89a7705",
   "metadata": {},
   "source": [
    "En Pandas, las operaciones de texto son esenciales para la manipulación y transformación de datos textuales. Estas operaciones se realizan principalmente utilizando el atributo ``.str``, que proporciona una interfaz para aplicar métodos de cadena de texto sobre las Series de Pandas. "
   ]
  },
  {
   "cell_type": "markdown",
   "id": "4286ef64-048a-445e-9755-74237842850c",
   "metadata": {},
   "source": [
    "* **Cambio de mayúsculas y minúsculas**: Es posible convertir el texto a minúsculas o mayúsculas con los métodos ``.str.lower()`` y ``.str.upper()`` respectivamente."
   ]
  },
  {
   "cell_type": "code",
   "execution_count": 3,
   "id": "aff30060-552f-460a-a7a3-7dffbeaf91cb",
   "metadata": {},
   "outputs": [
    {
     "name": "stdout",
     "output_type": "stream",
     "text": [
      "0    manzana\n",
      "1     banana\n",
      "2     cereza\n",
      "dtype: object\n",
      "0    MANZANA\n",
      "1     BANANA\n",
      "2     CEREZA\n",
      "dtype: object\n"
     ]
    }
   ],
   "source": [
    "import pandas as pd\n",
    "\n",
    "serie_texto = pd.Series(['Manzana', 'BANANA', 'Cereza'])\n",
    "print(serie_texto.str.lower())\n",
    "print(serie_texto.str.upper())"
   ]
  },
  {
   "cell_type": "markdown",
   "id": "96c88b3b-95de-477e-bdec-a60ae1c2a29a",
   "metadata": {},
   "source": [
    "* **Eliminación de espacios en blanco**: Para eliminar espacios en blanco al inicio y al final de las cadenas de texto, se puede utilizar ``.str.strip()``. También existen ``.str.lstrip()`` y ``.str.rstrip()`` para eliminar espacios solo al inicio o al final."
   ]
  },
  {
   "cell_type": "code",
   "execution_count": 7,
   "id": "fac3929b-cf9f-4761-91b8-0a2763097c43",
   "metadata": {},
   "outputs": [
    {
     "name": "stdout",
     "output_type": "stream",
     "text": [
      "0    manzana\n",
      "1     banana\n",
      "2     cereza\n",
      "dtype: object\n"
     ]
    }
   ],
   "source": [
    "serie_texto = pd.Series(['  manzana  ', '  banana  ', '  cereza  '])\n",
    "print(serie_texto.str.strip())"
   ]
  },
  {
   "cell_type": "markdown",
   "id": "09be9ff3-7f95-4885-b082-b856d789e0db",
   "metadata": {},
   "source": [
    "* **Reemplazo de subcadenas**: El método ``.str.replace()`` permite reemplazar subcadenas dentro de las cadenas de texto. Este método soporta expresiones regulares."
   ]
  },
  {
   "cell_type": "code",
   "execution_count": 11,
   "id": "6f5e93a8-ec2a-4ac6-9147-cfebc7f5fb5e",
   "metadata": {},
   "outputs": [
    {
     "name": "stdout",
     "output_type": "stream",
     "text": [
      "0    monzono\n",
      "1     bonono\n",
      "2     cerezo\n",
      "dtype: object\n"
     ]
    }
   ],
   "source": [
    "serie_texto = pd.Series(['manzana', 'banana', 'cereza'])\n",
    "print(serie_texto.str.replace('a', 'o'))"
   ]
  },
  {
   "cell_type": "markdown",
   "id": "dee413fb-fe64-4b91-a4e1-be8bf714d745",
   "metadata": {},
   "source": [
    "* **División y particionado**: Las cadenas de texto pueden dividirse en listas de subcadenas utilizando ``.str.split()``. También es posible particionar las cadenas en partes utilizando ``.str.partition()``."
   ]
  },
  {
   "cell_type": "code",
   "execution_count": 14,
   "id": "79408eba-478d-4c1e-8f27-2069bf4956bc",
   "metadata": {},
   "outputs": [
    {
     "name": "stdout",
     "output_type": "stream",
     "text": [
      "0    [manzana, banana, cereza]\n",
      "dtype: object\n"
     ]
    }
   ],
   "source": [
    "serie_texto = pd.Series(['manzana,banana,cereza'])\n",
    "print(serie_texto.str.split(','))"
   ]
  },
  {
   "cell_type": "markdown",
   "id": "767399fa-f4d4-4335-8c32-7726ca87891c",
   "metadata": {},
   "source": [
    "* **Concatenación de cadenas**: Se pueden concatenar cadenas de texto utilizando el operador ``+`` o el método ``.str.cat()``. Este último ofrece más opciones, como especificar un separador."
   ]
  },
  {
   "cell_type": "code",
   "execution_count": 19,
   "id": "de41ae24-4275-49ea-911b-9722e95b1481",
   "metadata": {},
   "outputs": [
    {
     "name": "stdout",
     "output_type": "stream",
     "text": [
      "manzana^^ banana^^ cereza\n"
     ]
    }
   ],
   "source": [
    "serie_texto = pd.Series(['manzana', 'banana', 'cereza'])\n",
    "print(serie_texto.str.cat(sep='^^ '))"
   ]
  },
  {
   "cell_type": "markdown",
   "id": "e4f6ae24-61ae-4138-b233-14267d40d139",
   "metadata": {},
   "source": [
    "* **Extracción de subcadenas**: Para extraer subcadenas específicas, se puede utilizar ``.str.slice()`` o ``.str.extract()``. El primero permite extraer subcadenas basándose en índices, mientras que el segundo utiliza expresiones regulares."
   ]
  },
  {
   "cell_type": "code",
   "execution_count": 26,
   "id": "73ff753b-d9a2-4bee-ba77-b9d2b54c9b7d",
   "metadata": {
    "scrolled": true
   },
   "outputs": [
    {
     "name": "stdout",
     "output_type": "stream",
     "text": [
      "0    man\n",
      "1    ban\n",
      "2    cer\n",
      "dtype: object\n",
      "      0\n",
      "0  manz\n",
      "1  bana\n",
      "2  cere\n"
     ]
    }
   ],
   "source": [
    "serie_texto = pd.Series(['manzana', 'banana', 'cereza'])\n",
    "print(serie_texto.str.slice(0, 3))  # Extrae los primeros tres caracteres\n",
    "print(serie_texto.str.extract(r'(\\w{4})'))  # Extrae las primeras cuatro letras usando regex"
   ]
  },
  {
   "cell_type": "markdown",
   "id": "094e6f51-2134-432c-9b08-b1e71f431a20",
   "metadata": {},
   "source": [
    "* **Comprobaciones de patrones**: Se pueden realizar comprobaciones sobre las cadenas de texto para verificar si cumplen ciertos patrones utilizando métodos como ``.str.contains()``, ``.str.startswith()``, y ``.str.endswith()``."
   ]
  },
  {
   "cell_type": "code",
   "execution_count": 29,
   "id": "f8e531a0-b484-49a1-b59a-dc5b32c65d0b",
   "metadata": {},
   "outputs": [
    {
     "name": "stdout",
     "output_type": "stream",
     "text": [
      "0     True\n",
      "1     True\n",
      "2    False\n",
      "dtype: bool\n",
      "0     True\n",
      "1    False\n",
      "2    False\n",
      "dtype: bool\n",
      "0    False\n",
      "1    False\n",
      "2     True\n",
      "dtype: bool\n"
     ]
    }
   ],
   "source": [
    "serie_texto = pd.Series(['manzana', 'banana', 'cereza'])\n",
    "print(serie_texto.str.contains('an'))\n",
    "print(serie_texto.str.startswith('ma'))\n",
    "print(serie_texto.str.endswith('za'))"
   ]
  },
  {
   "cell_type": "markdown",
   "id": "b352ef63-87db-40f2-a219-effd41d8f923",
   "metadata": {},
   "source": [
    "* **Longitud de cadenas**: Es posible obtener la longitud de cada cadena de texto utilizando ``.str.len()``."
   ]
  },
  {
   "cell_type": "code",
   "execution_count": 32,
   "id": "44970578-e084-4742-868c-5157ed51dd1b",
   "metadata": {},
   "outputs": [
    {
     "name": "stdout",
     "output_type": "stream",
     "text": [
      "0    7\n",
      "1    6\n",
      "2    6\n",
      "dtype: int64\n"
     ]
    }
   ],
   "source": [
    "serie_texto = pd.Series(['manzana', 'banana', 'cereza'])\n",
    "print(serie_texto.str.len())"
   ]
  }
 ],
 "metadata": {
  "kernelspec": {
   "display_name": "Python [conda env:base] *",
   "language": "python",
   "name": "conda-base-py"
  },
  "language_info": {
   "codemirror_mode": {
    "name": "ipython",
    "version": 3
   },
   "file_extension": ".py",
   "mimetype": "text/x-python",
   "name": "python",
   "nbconvert_exporter": "python",
   "pygments_lexer": "ipython3",
   "version": "3.12.7"
  }
 },
 "nbformat": 4,
 "nbformat_minor": 5
}
