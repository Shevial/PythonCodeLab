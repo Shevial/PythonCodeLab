{
 "cells": [
  {
   "cell_type": "markdown",
   "id": "8239e7c2-ac38-47c1-b09b-53861d0cd137",
   "metadata": {},
   "source": [
    "# Operaciones lógicas"
   ]
  },
  {
   "cell_type": "markdown",
   "id": "2ef999e9-8d55-48d4-809f-efdd6fba2820",
   "metadata": {},
   "source": [
    "Las operaciones lógicas en Pandas permiten combinar múltiples condiciones de filtrado para seleccionar subconjuntos de datos de un DataFrame. Estas operaciones se basan en operadores lógicos como & (AND), | (OR) y ~ (NOT). "
   ]
  },
  {
   "cell_type": "markdown",
   "id": "dfe2fa9f-6f82-4f6d-b269-3e6c59375cf3",
   "metadata": {},
   "source": [
    "Para combinar condiciones usando el operador AND (&), se deben colocar las condiciones entre paréntesis. Por ejemplo, para filtrar un DataFrame df y obtener solo las filas donde la columna A es mayor que 2 y la columna B es menor que 50:"
   ]
  },
  {
   "cell_type": "code",
   "execution_count": 4,
   "id": "ed9df064-0eaa-42cf-82eb-59e0ab7377c8",
   "metadata": {},
   "outputs": [
    {
     "name": "stdout",
     "output_type": "stream",
     "text": [
      "   A   B\n",
      "2  6  30\n",
      "3  4  40\n"
     ]
    }
   ],
   "source": [
    "import pandas as pd\n",
    "\n",
    "# Crear un DataFrame de ejemplo\n",
    "df = pd.DataFrame({\n",
    "    'A': [1, 2, 6, 4, 5],\n",
    "    'B': [10, 20, 30, 40, 50]\n",
    "})\n",
    "\n",
    "# Filtrar filas donde la columna A es mayor que 2 y la columna B es menor que 50\n",
    "filtered_df = df[(df['A'] > 2) & (df['B'] < 50)]\n",
    "print(filtered_df)"
   ]
  },
  {
   "cell_type": "markdown",
   "id": "f34af21e-ab09-433f-842a-21347e979c39",
   "metadata": {},
   "source": [
    "Para combinar condiciones usando el operador OR (|), también se deben colocar las condiciones entre paréntesis. Por ejemplo, para filtrar filas donde la columna A es mayor que 2 o la columna B es menor que 50:"
   ]
  },
  {
   "cell_type": "code",
   "execution_count": 7,
   "id": "0a148a7d-b770-44fd-a5f8-44407b1dc848",
   "metadata": {
    "scrolled": true
   },
   "outputs": [
    {
     "name": "stdout",
     "output_type": "stream",
     "text": [
      "   A   B\n",
      "0  1  10\n",
      "1  2  20\n",
      "2  6  30\n",
      "3  4  40\n",
      "4  5  50\n"
     ]
    }
   ],
   "source": [
    "# Filtrar filas donde la columna A es mayor que 2 o la columna B es menor que 50\n",
    "filtered_df = df[(df['A'] > 2) | (df['B'] < 50)]\n",
    "print(filtered_df)"
   ]
  },
  {
   "cell_type": "markdown",
   "id": "4b2729c9-92c8-489a-bfe1-5ee7e5344205",
   "metadata": {},
   "source": [
    "El operador NOT (~) se utiliza para invertir una condición. Por ejemplo, para filtrar filas donde la columna A no es mayor que 2:"
   ]
  },
  {
   "cell_type": "code",
   "execution_count": 10,
   "id": "fb74c092-11f9-4f29-b6ed-1593e4b29cb2",
   "metadata": {},
   "outputs": [
    {
     "name": "stdout",
     "output_type": "stream",
     "text": [
      "   A   B\n",
      "0  1  10\n",
      "1  2  20\n"
     ]
    }
   ],
   "source": [
    "# Filtrar filas donde la columna A no es mayor que 2\n",
    "filtered_df = df[~(df['A'] > 2)]\n",
    "print(filtered_df)"
   ]
  },
  {
   "cell_type": "markdown",
   "id": "7654a45f-5208-4b17-8df4-b96679a91e4f",
   "metadata": {},
   "source": [
    "El método ``loc`` también puede ser utilizado para aplicar estas operaciones lógicas de manera más explícita. Por ejemplo, para filtrar filas donde la columna A es mayor que 2 y la columna B es menor que 50 utilizando loc:"
   ]
  },
  {
   "cell_type": "code",
   "execution_count": 13,
   "id": "2418f85a-edee-4c0a-b709-1090016a3315",
   "metadata": {},
   "outputs": [
    {
     "name": "stdout",
     "output_type": "stream",
     "text": [
      "   A   B\n",
      "2  6  30\n",
      "3  4  40\n"
     ]
    }
   ],
   "source": [
    "# Usar el método loc para filtrar filas\n",
    "filtered_df = df.loc[(df['A'] > 2) & (df['B'] < 50)]\n",
    "print(filtered_df)"
   ]
  },
  {
   "cell_type": "markdown",
   "id": "ee26044e-57df-43d9-a871-1eaeda7b7ad9",
   "metadata": {},
   "source": [
    "Además de los operadores lógicos básicos, Pandas también permite el uso de métodos específicos para realizar operaciones lógicas complejas. Por ejemplo, el método ``any()`` puede ser utilizado para verificar si alguna de las condiciones en una fila es verdadera. Para ilustrar esto, consideremos un DataFrame con columnas A, B y C:"
   ]
  },
  {
   "cell_type": "code",
   "execution_count": 16,
   "id": "640d39ba-b0bd-47f0-80b7-3f4a65fc66d9",
   "metadata": {},
   "outputs": [
    {
     "name": "stdout",
     "output_type": "stream",
     "text": [
      "   A   B    C\n",
      "3  4  40  400\n",
      "4  5  50  500\n"
     ]
    }
   ],
   "source": [
    "# Crear un DataFrame de ejemplo\n",
    "df = pd.DataFrame({\n",
    "    'A': [1, 2, 6, 4, 5],\n",
    "    'B': [10, 20, 30, 40, 50],\n",
    "    'C': [100, 200, 300, 400, 500]\n",
    "})\n",
    "\n",
    "# Filtrar filas donde alguna de las columnas A, B o C es mayor que 300\n",
    "filtered_df = df[(df[['A', 'B', 'C']] > 300).any(axis=1)]\n",
    "print(filtered_df)"
   ]
  },
  {
   "cell_type": "markdown",
   "id": "fdf4cab8-7a2f-4b37-b4e0-bc12a4f6a495",
   "metadata": {},
   "source": [
    "De manera similar, el método ``all()`` puede ser utilizado para verificar si todas las condiciones en una fila son verdaderas. Por ejemplo, para filtrar filas donde todas las columnas A, B y C son mayores que 10:"
   ]
  },
  {
   "cell_type": "code",
   "execution_count": 19,
   "id": "4c244c29-b9e4-4b9e-b945-c659ef8f04cf",
   "metadata": {},
   "outputs": [
    {
     "name": "stdout",
     "output_type": "stream",
     "text": [
      "Empty DataFrame\n",
      "Columns: [A, B, C]\n",
      "Index: []\n"
     ]
    }
   ],
   "source": [
    "# Filtrar filas donde todas las columnas A, B y C son mayores que 10\n",
    "filtered_df = df[(df[['A', 'B', 'C']] > 10).all(axis=1)]\n",
    "print(filtered_df)"
   ]
  }
 ],
 "metadata": {
  "kernelspec": {
   "display_name": "Python [conda env:base] *",
   "language": "python",
   "name": "conda-base-py"
  },
  "language_info": {
   "codemirror_mode": {
    "name": "ipython",
    "version": 3
   },
   "file_extension": ".py",
   "mimetype": "text/x-python",
   "name": "python",
   "nbconvert_exporter": "python",
   "pygments_lexer": "ipython3",
   "version": "3.12.7"
  }
 },
 "nbformat": 4,
 "nbformat_minor": 5
}
