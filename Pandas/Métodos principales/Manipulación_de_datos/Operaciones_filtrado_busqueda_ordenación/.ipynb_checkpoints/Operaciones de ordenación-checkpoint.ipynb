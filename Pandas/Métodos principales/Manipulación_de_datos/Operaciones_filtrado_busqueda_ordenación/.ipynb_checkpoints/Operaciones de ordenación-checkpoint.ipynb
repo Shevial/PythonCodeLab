{
 "cells": [
  {
   "cell_type": "markdown",
   "id": "fc866058-7f60-4c0a-acb3-a8d4f81ff2b6",
   "metadata": {},
   "source": [
    "# Operaciones de ordenación"
   ]
  },
  {
   "cell_type": "markdown",
   "id": "4bb848e8-fe12-4389-894e-ef8810e12833",
   "metadata": {},
   "source": [
    "En Pandas, las operaciones de ordenación son esenciales para organizar y analizar datos de manera efectiva.  \n",
    "La función principal para realizar estas operaciones es ``sort_values()``, que permite ordenar un DataFrame en función de una o más columnas. "
   ]
  },
  {
   "cell_type": "markdown",
   "id": "ad0553c1-21e6-4e3f-a8aa-9f0f49fecb86",
   "metadata": {},
   "source": [
    "Para ordenar un DataFrame por una sola columna, se utiliza el método ``sort_values()`` especificando el nombre de la columna en el parámetro by. Por ejemplo, para ordenar un DataFrame df por la columna A de manera ascendente:"
   ]
  },
  {
   "cell_type": "code",
   "execution_count": 5,
   "id": "f7379fb7-9bbf-4eed-b3c5-4b3558eadf22",
   "metadata": {},
   "outputs": [
    {
     "name": "stdout",
     "output_type": "stream",
     "text": [
      "   A   B\n",
      "3  1  40\n",
      "1  2  20\n",
      "4  4  50\n",
      "0  5  10\n",
      "2  6  30\n"
     ]
    }
   ],
   "source": [
    "import pandas as pd\n",
    "\n",
    "# Crear un DataFrame de ejemplo\n",
    "df = pd.DataFrame({\n",
    "    'A': [5, 2, 6, 1, 4],\n",
    "    'B': [10, 20, 30, 40, 50]\n",
    "})\n",
    "\n",
    "# Ordenar por la columna A de manera ascendente\n",
    "sorted_df = df.sort_values(by='A')\n",
    "print(sorted_df)"
   ]
  },
  {
   "cell_type": "markdown",
   "id": "4f53806f-caa0-4ddd-86a9-7f0f28032763",
   "metadata": {},
   "source": [
    "Para ordenar en orden descendente, se utiliza el parámetro ``ascending=False``:"
   ]
  },
  {
   "cell_type": "code",
   "execution_count": 8,
   "id": "8c17f0b0-799b-4d31-8796-e18478558bf7",
   "metadata": {
    "scrolled": true
   },
   "outputs": [
    {
     "name": "stdout",
     "output_type": "stream",
     "text": [
      "   A   B\n",
      "2  6  30\n",
      "0  5  10\n",
      "4  4  50\n",
      "1  2  20\n",
      "3  1  40\n"
     ]
    }
   ],
   "source": [
    "# Ordenar por la columna A de manera descendente\n",
    "sorted_df = df.sort_values(by='A', ascending=False)\n",
    "print(sorted_df)"
   ]
  },
  {
   "cell_type": "markdown",
   "id": "125d2aeb-2b6e-4578-84e9-73266b4978ae",
   "metadata": {},
   "source": [
    "Cuando se necesita ordenar por múltiples columnas, se puede pasar una lista de nombres de columnas al parámetro by.  \n",
    "Por ejemplo, para ordenar por la columna A y luego por la columna B:"
   ]
  },
  {
   "cell_type": "markdown",
   "id": "e5b66e71-0624-488d-9895-a2a983c9382c",
   "metadata": {},
   "source": [
    "En este caso, el DataFrame se ordenará primero por la columna A y, en caso de empate, por la columna B."
   ]
  },
  {
   "cell_type": "code",
   "execution_count": 11,
   "id": "993e742b-a785-46b7-8ca1-8eb2d9a5e83c",
   "metadata": {
    "scrolled": true
   },
   "outputs": [
    {
     "name": "stdout",
     "output_type": "stream",
     "text": [
      "   A   B\n",
      "3  1  20\n",
      "1  2  20\n",
      "4  4  50\n",
      "0  5  10\n",
      "2  6  30\n"
     ]
    }
   ],
   "source": [
    "# Crear un DataFrame de ejemplo\n",
    "df = pd.DataFrame({\n",
    "    'A': [5, 2, 6, 1, 4],\n",
    "    'B': [10, 20, 30, 20, 50]\n",
    "})\n",
    "\n",
    "# Ordenar por las columnas A y B\n",
    "sorted_df = df.sort_values(by=['A', 'B'])\n",
    "print(sorted_df)"
   ]
  },
  {
   "cell_type": "markdown",
   "id": "ce18b422-ccfe-4398-98cc-359dba846e1b",
   "metadata": {},
   "source": [
    "Para ordenar por índice, se utiliza el método ``sort_index()``. Este método ordena el DataFrame según sus etiquetas de índice:"
   ]
  },
  {
   "cell_type": "code",
   "execution_count": 15,
   "id": "7dcfaf11-e460-4112-bf39-ebf31c7796fb",
   "metadata": {
    "scrolled": true
   },
   "outputs": [
    {
     "name": "stdout",
     "output_type": "stream",
     "text": [
      "   A   B\n",
      "0  1  40\n",
      "1  2  20\n",
      "2  4  50\n",
      "3  5  10\n",
      "4  6  30\n"
     ]
    }
   ],
   "source": [
    "# Crear un DataFrame de ejemplo con un índice desordenado\n",
    "df = pd.DataFrame({\n",
    "    'A': [5, 2, 6, 1, 4],\n",
    "    'B': [10, 20, 30, 40, 50]\n",
    "}, index=[3, 1, 4, 0, 2])\n",
    "\n",
    "# Ordenar por el índice\n",
    "sorted_df = df.sort_index()\n",
    "print(sorted_df)"
   ]
  },
  {
   "cell_type": "markdown",
   "id": "f32f61e3-8455-44f3-a844-9adeb4c5abef",
   "metadata": {},
   "source": [
    "El ordenamiento por índice también puede ser en orden descendente utilizando ``ascending=False``:"
   ]
  },
  {
   "cell_type": "code",
   "execution_count": 18,
   "id": "9d3b7524-ab7e-489a-bce0-ea1a2a325458",
   "metadata": {},
   "outputs": [
    {
     "name": "stdout",
     "output_type": "stream",
     "text": [
      "   A   B\n",
      "4  6  30\n",
      "3  5  10\n",
      "2  4  50\n",
      "1  2  20\n",
      "0  1  40\n"
     ]
    }
   ],
   "source": [
    "# Ordenar por el índice de manera descendente\n",
    "sorted_df = df.sort_index(ascending=False)\n",
    "print(sorted_df)"
   ]
  },
  {
   "cell_type": "markdown",
   "id": "52bf55bd-f2bf-4564-a7a7-189fe91c215f",
   "metadata": {},
   "source": [
    "Además, es posible ordenar un DataFrame basado en una combinación de columnas y el índice.  \n",
    "Para ello, primero se ordenan las columnas y luego se ordena el índice del DataFrame resultante:"
   ]
  },
  {
   "cell_type": "code",
   "execution_count": 21,
   "id": "07e6a38c-0fba-4db3-ba39-8dbb7c09bf18",
   "metadata": {
    "scrolled": true
   },
   "outputs": [
    {
     "name": "stdout",
     "output_type": "stream",
     "text": [
      "   A   B\n",
      "0  1  40\n",
      "1  2  20\n",
      "2  4  50\n",
      "3  5  10\n",
      "4  6  30\n"
     ]
    }
   ],
   "source": [
    "# Ordenar por las columnas A y B, y luego por el índice\n",
    "sorted_df = df.sort_values(by=['A', 'B']).sort_index()\n",
    "print(sorted_df)"
   ]
  },
  {
   "cell_type": "markdown",
   "id": "ab6d4351-e8fc-4a4d-9ca7-5263cb6015c8",
   "metadata": {},
   "source": [
    "El método ``sort_values()`` también permite manejar valores nulos mediante el parámetro na_position, que puede tomar los valores 'first' o 'last' para indicar si los valores nulos deben aparecer al principio o al final:"
   ]
  },
  {
   "cell_type": "code",
   "execution_count": 24,
   "id": "3c6e21c0-c6cd-4c13-be6b-8bc6496506eb",
   "metadata": {},
   "outputs": [
    {
     "name": "stdout",
     "output_type": "stream",
     "text": [
      "     A     B\n",
      "1  NaN  20.0\n",
      "3  1.0  40.0\n",
      "4  4.0  50.0\n",
      "0  5.0  10.0\n",
      "2  6.0   NaN\n"
     ]
    }
   ],
   "source": [
    "# Crear un DataFrame de ejemplo con valores nulos\n",
    "df = pd.DataFrame({\n",
    "    'A': [5, None, 6, 1, 4],\n",
    "    'B': [10, 20, None, 40, 50]\n",
    "})\n",
    "\n",
    "# Ordenar por la columna A con valores nulos al principio\n",
    "sorted_df = df.sort_values(by='A', na_position='first')\n",
    "print(sorted_df)"
   ]
  }
 ],
 "metadata": {
  "kernelspec": {
   "display_name": "Python [conda env:base] *",
   "language": "python",
   "name": "conda-base-py"
  },
  "language_info": {
   "codemirror_mode": {
    "name": "ipython",
    "version": 3
   },
   "file_extension": ".py",
   "mimetype": "text/x-python",
   "name": "python",
   "nbconvert_exporter": "python",
   "pygments_lexer": "ipython3",
   "version": "3.12.7"
  }
 },
 "nbformat": 4,
 "nbformat_minor": 5
}
