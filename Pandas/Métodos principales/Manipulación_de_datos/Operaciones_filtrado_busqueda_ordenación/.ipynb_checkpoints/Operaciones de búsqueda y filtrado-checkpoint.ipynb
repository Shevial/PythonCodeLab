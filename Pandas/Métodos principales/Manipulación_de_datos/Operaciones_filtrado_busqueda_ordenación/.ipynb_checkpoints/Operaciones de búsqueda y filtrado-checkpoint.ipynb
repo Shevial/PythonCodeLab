{
 "cells": [
  {
   "cell_type": "markdown",
   "id": "68f0585f-16d5-47ab-9008-e92054b04bb3",
   "metadata": {},
   "source": [
    "# Operaciones de búsqueda y filtrado"
   ]
  },
  {
   "cell_type": "markdown",
   "id": "786e1040-c753-453a-a865-ac53dc89a8b6",
   "metadata": {},
   "source": [
    "## Filtrar"
   ]
  },
  {
   "cell_type": "markdown",
   "id": "09329b4b-c4f0-4215-b97d-a5bb9321dc4b",
   "metadata": {},
   "source": [
    "Para filtrar filas en un DataFrame en función de una condición, se utiliza la notación booleana. Por ejemplo, para filtrar un DataFrame ``df`` y obtener solo las filas donde la columna A es mayor que 5, se puede hacer lo siguiente:"
   ]
  },
  {
   "cell_type": "code",
   "execution_count": 3,
   "id": "7249b58f-a61e-486b-9f3d-264d3b7bb8e1",
   "metadata": {},
   "outputs": [
    {
     "name": "stdout",
     "output_type": "stream",
     "text": [
      "   A   B\n",
      "2  6  30\n"
     ]
    }
   ],
   "source": [
    "import pandas as pd\n",
    "\n",
    "# Crear un DataFrame de ejemplo\n",
    "df = pd.DataFrame({\n",
    "    'A': [1, 2, 6, 4, 5],\n",
    "    'B': [10, 20, 30, 40, 50]\n",
    "})\n",
    "\n",
    "# Filtrar filas donde la columna A es mayor que 5\n",
    "filtered_df = df[df['A'] > 5]\n",
    "print(filtered_df)"
   ]
  },
  {
   "cell_type": "markdown",
   "id": "be923048-9f8c-4ef5-99ff-4678925044d3",
   "metadata": {},
   "source": [
    "Para buscar valores específicos dentro de una columna, se puede utilizar el método ``isin()``. Este método devuelve un DataFrame con las filas que contienen los valores especificados:"
   ]
  },
  {
   "cell_type": "code",
   "execution_count": 9,
   "id": "3b5a1118-0056-4902-adb3-2e2b31100100",
   "metadata": {
    "scrolled": true
   },
   "outputs": [
    {
     "name": "stdout",
     "output_type": "stream",
     "text": [
      "   A   B\n",
      "1  2  20\n",
      "3  4  40\n"
     ]
    }
   ],
   "source": [
    "# Filtrar filas donde la columna B contiene valores específicos\n",
    "values_to_search = [20, 40]\n",
    "filtered_df = df[df['B'].isin(values_to_search)]\n",
    "print(filtered_df)"
   ]
  },
  {
   "cell_type": "markdown",
   "id": "a43d2be1-4ed3-46ad-a233-5cf0345ccf35",
   "metadata": {},
   "source": [
    "La **selección basada en múltiples condiciones** se puede realizar utilizando operadores lógicos (& para \"y\", | para \"o\"). Por ejemplo, para filtrar filas donde la columna A es mayor que 2 y la columna B es menor que 50:"
   ]
  },
  {
   "cell_type": "code",
   "execution_count": 12,
   "id": "86101a93-8302-4cd2-8dc6-c3e66780d0f0",
   "metadata": {},
   "outputs": [
    {
     "name": "stdout",
     "output_type": "stream",
     "text": [
      "   A   B\n",
      "2  6  30\n",
      "3  4  40\n"
     ]
    }
   ],
   "source": [
    "# Filtrar filas con múltiples condiciones\n",
    "filtered_df = df[(df['A'] > 2) & (df['B'] < 50)]\n",
    "print(filtered_df)"
   ]
  },
  {
   "cell_type": "markdown",
   "id": "f69970fb-94e3-4144-abb6-e0088e35f302",
   "metadata": {},
   "source": [
    "Para buscar y filtrar datos basados en patrones de texto, se puede utilizar el método ``str.contains()`` en combinación con la notación booleana. Por ejemplo, para filtrar filas donde la columna C contiene la subcadena 'foo':"
   ]
  },
  {
   "cell_type": "code",
   "execution_count": 15,
   "id": "2e5d8168-e1f0-45c4-bcaf-37e3177bf2dc",
   "metadata": {},
   "outputs": [
    {
     "name": "stdout",
     "output_type": "stream",
     "text": [
      "   A    C\n",
      "0  1  foo\n",
      "2  6  foo\n"
     ]
    }
   ],
   "source": [
    "import pandas as pd\n",
    "\n",
    "# Crear un DataFrame de ejemplo con datos de texto\n",
    "df = pd.DataFrame({\n",
    "    'A': [1, 2, 6, 4, 5],\n",
    "    'C': ['foo', 'bar', 'foo', 'baz', 'qux']\n",
    "})\n",
    "\n",
    "# Filtrar filas donde la columna C contiene 'foo'\n",
    "filtered_df = df[df['C'].str.contains('foo')]\n",
    "print(filtered_df)"
   ]
  },
  {
   "cell_type": "markdown",
   "id": "9581bffa-16ab-45a3-9324-83d68eaed99a",
   "metadata": {},
   "source": [
    "El método ``query()`` proporciona una sintaxis similar a SQL para realizar búsquedas y filtrados de manera más legible. Por ejemplo, para filtrar filas donde la columna A es mayor que 2 y la columna B es menor que 50:"
   ]
  },
  {
   "cell_type": "code",
   "execution_count": 18,
   "id": "61ced555-97c6-49d7-83b5-171ba7531f9c",
   "metadata": {},
   "outputs": [
    {
     "name": "stdout",
     "output_type": "stream",
     "text": [
      "   A   B\n",
      "2  6  30\n",
      "3  4  40\n"
     ]
    }
   ],
   "source": [
    "import pandas as pd\n",
    "\n",
    "# Crear un DataFrame de ejemplo\n",
    "df = pd.DataFrame({\n",
    "    'A': [1, 2, 6, 4, 5],\n",
    "    'B': [10, 20, 30, 40, 50]\n",
    "})\n",
    "\n",
    "# Usar el método query para filtrar filas\n",
    "filtered_df = df.query('A > 2 and B < 50')\n",
    "print(filtered_df)"
   ]
  },
  {
   "cell_type": "markdown",
   "id": "3b57c49f-f2ca-4cfe-8b6a-ab060062f062",
   "metadata": {},
   "source": [
    "Para buscar valores nulos o no nulos, se pueden utilizar los métodos ``isna()`` y ``notna()``. Por ejemplo, para filtrar filas donde la columna D tiene valores nulos:"
   ]
  },
  {
   "cell_type": "code",
   "execution_count": 21,
   "id": "ebc017ca-1520-46b5-b9e0-7a64c76c9820",
   "metadata": {},
   "outputs": [
    {
     "name": "stdout",
     "output_type": "stream",
     "text": [
      "   A   D\n",
      "0  1 NaN\n",
      "3  4 NaN\n"
     ]
    }
   ],
   "source": [
    "import pandas as pd\n",
    "\n",
    "# Crear un DataFrame de ejemplo con valores nulos\n",
    "df = pd.DataFrame({\n",
    "    'A': [1, 2, 6, 4, 5],\n",
    "    'D': [None, 20, 30, None, 50]\n",
    "})\n",
    "\n",
    "# Filtrar filas donde la columna D tiene valores nulos\n",
    "filtered_df = df[df['D'].isna()]\n",
    "print(filtered_df)"
   ]
  }
 ],
 "metadata": {
  "kernelspec": {
   "display_name": "Python [conda env:base] *",
   "language": "python",
   "name": "conda-base-py"
  },
  "language_info": {
   "codemirror_mode": {
    "name": "ipython",
    "version": 3
   },
   "file_extension": ".py",
   "mimetype": "text/x-python",
   "name": "python",
   "nbconvert_exporter": "python",
   "pygments_lexer": "ipython3",
   "version": "3.12.7"
  }
 },
 "nbformat": 4,
 "nbformat_minor": 5
}
