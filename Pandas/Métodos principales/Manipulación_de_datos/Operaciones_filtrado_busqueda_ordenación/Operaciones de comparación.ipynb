{
 "cells": [
  {
   "cell_type": "markdown",
   "id": "f699b724-1b28-4b28-a93a-a5c9eec19ab1",
   "metadata": {},
   "source": [
    "# Operaciones de comparación"
   ]
  },
  {
   "cell_type": "markdown",
   "id": "7b19cd55-3a57-42f1-9435-c283b8b2ce69",
   "metadata": {},
   "source": [
    "Estas operaciones permiten comparar valores dentro de columnas y generar máscaras booleanas que pueden ser utilizadas para seleccionar subconjuntos de datos. "
   ]
  },
  {
   "cell_type": "markdown",
   "id": "4441fc9f-a464-4564-9310-58bd2661a0a9",
   "metadata": {},
   "source": [
    "Para comparar valores de una columna con un valor escalar, se pueden utilizar los operadores de comparación estándar: ==, !=, >, <, >=, y <=. Por ejemplo, para comparar si los valores de la columna A de un DataFrame df son mayores que 3:"
   ]
  },
  {
   "cell_type": "markdown",
   "id": "9ba2b663-11a9-4244-a1a0-c9fb7725cf6d",
   "metadata": {},
   "source": [
    "El resultado de esta operación será una Serie booleana que indica si cada valor en la columna A cumple la condición especificada."
   ]
  },
  {
   "cell_type": "code",
   "execution_count": 4,
   "id": "1e0b858b-1917-4ec1-b821-7fd60873ee4d",
   "metadata": {},
   "outputs": [
    {
     "name": "stdout",
     "output_type": "stream",
     "text": [
      "0    False\n",
      "1    False\n",
      "2     True\n",
      "3     True\n",
      "4     True\n",
      "Name: A, dtype: bool\n"
     ]
    }
   ],
   "source": [
    "import pandas as pd\n",
    "\n",
    "# Crear un DataFrame de ejemplo\n",
    "df = pd.DataFrame({\n",
    "    'A': [1, 2, 6, 4, 5],\n",
    "    'B': [10, 20, 30, 40, 50]\n",
    "})\n",
    "\n",
    "# Comparar valores de la columna A con 3\n",
    "comparison_result = df['A'] > 3\n",
    "print(comparison_result)"
   ]
  },
  {
   "cell_type": "markdown",
   "id": "a6b1101d-9e4c-4ac1-940a-63b2abc45a97",
   "metadata": {},
   "source": [
    "Para **comparar valores entre dos columnas**, también se pueden utilizar los mismos operadores de comparación. Por ejemplo, para comparar si los valores de la columna A son mayores que los valores de la columna B:"
   ]
  },
  {
   "cell_type": "code",
   "execution_count": 8,
   "id": "13e327aa-4797-4e46-9df4-baaa2c2badaa",
   "metadata": {
    "scrolled": true
   },
   "outputs": [
    {
     "name": "stdout",
     "output_type": "stream",
     "text": [
      "0    False\n",
      "1    False\n",
      "2    False\n",
      "3    False\n",
      "4    False\n",
      "dtype: bool\n"
     ]
    }
   ],
   "source": [
    "# Comparar valores entre las columnas A y B\n",
    "comparison_result = df['A'] > df['B']\n",
    "print(comparison_result)"
   ]
  },
  {
   "cell_type": "markdown",
   "id": "2cd38562-291c-4962-8764-3eeddc222b44",
   "metadata": {},
   "source": [
    "Además de los operadores de comparación estándar, Pandas proporciona métodos específicos para realizar comparaciones de manera más explícita.  \n",
    "Algunos de estos métodos incluyen eq() (igual a), ne() (no igual a), gt() (mayor que), lt() (menor que), ge() (mayor o igual a), y le() (menor o igual a).  \n",
    "Estos métodos pueden ser útiles para mejorar la legibilidad del código. Por ejemplo, para comparar si los valores de la columna A son iguales a 4:"
   ]
  },
  {
   "cell_type": "code",
   "execution_count": 11,
   "id": "b9ef1cd3-3b3f-4111-bb49-7701572489ba",
   "metadata": {
    "scrolled": true
   },
   "outputs": [
    {
     "name": "stdout",
     "output_type": "stream",
     "text": [
      "0    False\n",
      "1    False\n",
      "2    False\n",
      "3     True\n",
      "4    False\n",
      "Name: A, dtype: bool\n"
     ]
    }
   ],
   "source": [
    "# Usar el método eq para comparar valores de la columna A con 4\n",
    "comparison_result = df['A'].eq(4)\n",
    "print(comparison_result)"
   ]
  },
  {
   "cell_type": "markdown",
   "id": "92c7b9c6-d9f6-4aa2-9071-d68d45ed6eef",
   "metadata": {},
   "source": [
    "Las operaciones de comparación también pueden aplicarse a DataFrames completos, permitiendo la comparación elemento a elemento entre dos DataFrames del mismo tamaño. Por ejemplo, para comparar dos DataFrames df1 y df2:"
   ]
  },
  {
   "cell_type": "markdown",
   "id": "ef33961a-a6b1-4487-9ee9-e11decbfc168",
   "metadata": {},
   "source": [
    "El resultado de esta operación será un DataFrame de booleanos, donde cada elemento indica si la comparación es verdadera o falsa."
   ]
  },
  {
   "cell_type": "code",
   "execution_count": 14,
   "id": "a09aaa5d-3773-438d-88f1-5b1c35ab7c78",
   "metadata": {},
   "outputs": [
    {
     "name": "stdout",
     "output_type": "stream",
     "text": [
      "       A      B\n",
      "0   True   True\n",
      "1  False   True\n",
      "2   True  False\n",
      "3   True   True\n",
      "4  False  False\n"
     ]
    }
   ],
   "source": [
    "# Crear dos DataFrames de ejemplo\n",
    "df1 = pd.DataFrame({\n",
    "    'A': [1, 2, 6, 4, 5],\n",
    "    'B': [10, 20, 30, 40, 50]\n",
    "})\n",
    "\n",
    "df2 = pd.DataFrame({\n",
    "    'A': [1, 3, 6, 4, 2],\n",
    "    'B': [10, 20, 25, 40, 55]\n",
    "})\n",
    "\n",
    "# Comparar elemento a elemento entre df1 y df2\n",
    "comparison_result = df1 == df2\n",
    "print(comparison_result)"
   ]
  },
  {
   "cell_type": "markdown",
   "id": "83f216e9-9471-4d72-bce9-8179c866d86a",
   "metadata": {},
   "source": [
    "Para comparar valores con condiciones más complejas, se pueden combinar múltiples comparaciones utilizando operadores lógicos (& para \"y\", | para \"o\"). Por ejemplo, para seleccionar filas donde los valores de la columna A son mayores que 2 y los valores de la columna B son menores que 50:"
   ]
  },
  {
   "cell_type": "code",
   "execution_count": 20,
   "id": "7abdf651-16d8-4e9b-8ded-296ff945b26c",
   "metadata": {},
   "outputs": [
    {
     "name": "stdout",
     "output_type": "stream",
     "text": [
      "   A   B\n",
      "2  6  30\n",
      "3  4  40\n"
     ]
    }
   ],
   "source": [
    "# Combinar comparaciones con operadores lógicos\n",
    "filtered_df = df[(df['A'] > 2) & (df['B'] < 50)]\n",
    "print(filtered_df)"
   ]
  },
  {
   "cell_type": "code",
   "execution_count": 22,
   "id": "f4eb5b80-5be4-48db-add4-2c732785c7bf",
   "metadata": {},
   "outputs": [
    {
     "name": "stdout",
     "output_type": "stream",
     "text": [
      "   A   B\n",
      "2  6  30\n",
      "3  4  40\n"
     ]
    }
   ],
   "source": [
    "# Combinar comparaciones con operadores lógicos\n",
    "filtered_df = df[(df['A'] > 2) & (df['B'] < 50)]\n",
    "print(filtered_df)"
   ]
  }
 ],
 "metadata": {
  "kernelspec": {
   "display_name": "Python [conda env:base] *",
   "language": "python",
   "name": "conda-base-py"
  },
  "language_info": {
   "codemirror_mode": {
    "name": "ipython",
    "version": 3
   },
   "file_extension": ".py",
   "mimetype": "text/x-python",
   "name": "python",
   "nbconvert_exporter": "python",
   "pygments_lexer": "ipython3",
   "version": "3.12.7"
  }
 },
 "nbformat": 4,
 "nbformat_minor": 5
}
