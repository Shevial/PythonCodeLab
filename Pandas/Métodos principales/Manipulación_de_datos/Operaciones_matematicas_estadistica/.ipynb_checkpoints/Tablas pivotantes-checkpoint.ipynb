{
 "cells": [
  {
   "cell_type": "markdown",
   "id": "3cf3ca48-ddf7-424e-86de-ce18f8eeadb4",
   "metadata": {},
   "source": [
    "# Tablas pivotantes"
   ]
  },
  {
   "cell_type": "markdown",
   "id": "14512fd7-6f88-4f7a-bc38-5c6d1a226124",
   "metadata": {},
   "source": [
    "Las tablas pivotantes en Pandas son una herramienta esencial para reorganizar y resumir grandes conjuntos de datos de manera eficiente.  \n",
    "Utilizando la función ``pivot_table()``, se pueden transformar datos en una tabla de resumen que permite observar patrones y relaciones más fácilmente.  \n",
    "La función ``pivot_table()`` es muy flexible y admite múltiples opciones de configuración para adaptarse a diferentes necesidades analíticas."
   ]
  },
  {
   "cell_type": "markdown",
   "id": "722373fc-7a57-4fc6-9b1b-bd0350bd92e1",
   "metadata": {},
   "source": [
    "La estructura básica de una tabla pivotante se define mediante los parámetros index, columns y values, que especifican las dimensiones y las métricas de la tabla. "
   ]
  },
  {
   "cell_type": "code",
   "execution_count": 5,
   "id": "343fcf35-949c-4fa5-85b1-1f3580de98f9",
   "metadata": {},
   "outputs": [
    {
     "name": "stdout",
     "output_type": "stream",
     "text": [
      "B    one  two\n",
      "A            \n",
      "bar  5.5  5.5\n",
      "foo  4.5  4.5\n"
     ]
    }
   ],
   "source": [
    "import pandas as pd\n",
    "\n",
    "df = pd.DataFrame({\n",
    "    'A': ['foo', 'bar', 'foo', 'bar', 'foo', 'bar'],\n",
    "    'B': ['one', 'one', 'two', 'two', 'one', 'one'],\n",
    "    'C': [1, 2, 3, 4, 5, 6],\n",
    "    'D': [2.5, 3.5, 4.5, 5.5, 6.5, 7.5]\n",
    "})\n",
    "\n",
    "tabla_pivotante = df.pivot_table(values='D', index='A', columns='B', aggfunc='mean')\n",
    "# Resultado: DataFrame con la media de 'D' para cada combinación de 'A' y 'B'\n",
    "print(tabla_pivotante)"
   ]
  },
  {
   "cell_type": "markdown",
   "id": "73f71c6b-c6bf-4431-9e80-03987aa91c75",
   "metadata": {},
   "source": [
    "El parámetro ``aggfunc`` en el ejemplo anterior especifica la función de agregación que se aplicará a los datos. Pandas soporta varias funciones de agregación, como mean, sum, min, max, entre otras. También es posible utilizar funciones de agregación personalizadas."
   ]
  },
  {
   "cell_type": "markdown",
   "id": "b003ed61-dfff-4338-8fd0-546dfdbdf9c8",
   "metadata": {},
   "source": [
    "Para agregar múltiples métricas en la tabla pivotante, se puede pasar una lista al parámetro values:"
   ]
  },
  {
   "cell_type": "code",
   "execution_count": 9,
   "id": "29658d67-94ec-42ee-a276-fe03f6f18ba7",
   "metadata": {},
   "outputs": [
    {
     "name": "stdout",
     "output_type": "stream",
     "text": [
      "      C         D     \n",
      "B   one two   one  two\n",
      "A                     \n",
      "bar   8   4  11.0  5.5\n",
      "foo   6   3   9.0  4.5\n"
     ]
    }
   ],
   "source": [
    "tabla_pivotante_multiple = df.pivot_table(values=['C', 'D'], index='A', columns='B', aggfunc='sum')\n",
    "# Resultado: DataFrame con la suma de 'C' y 'D' para cada combinación de 'A' y 'B'\n",
    "print(tabla_pivotante_multiple)"
   ]
  },
  {
   "cell_type": "markdown",
   "id": "ba712094-9507-453e-ad13-ec29b3a39fda",
   "metadata": {},
   "source": [
    "Además, es posible manejar datos faltantes en la tabla pivotante utilizando los parámetros ``fill_value`` y ``dropna``. El parámetro ``fill_value`` permite especificar un valor para reemplazar los datos faltantes, mientras que dropna elimina las entradas con todos los valores nulos:"
   ]
  },
  {
   "cell_type": "code",
   "execution_count": 12,
   "id": "3beab37c-3edb-42a3-83b3-a6115cc3a552",
   "metadata": {},
   "outputs": [
    {
     "name": "stdout",
     "output_type": "stream",
     "text": [
      "B    one  two\n",
      "A            \n",
      "bar  5.5  5.5\n",
      "foo  4.5  4.5\n"
     ]
    }
   ],
   "source": [
    "tabla_pivotante_con_relleno = df.pivot_table(values='D', index='A', columns='B', aggfunc='mean', fill_value=0)\n",
    "# Resultado: DataFrame con la media de 'D' y los valores nulos reemplazados por 0\n",
    "print(tabla_pivotante_con_relleno)"
   ]
  },
  {
   "cell_type": "markdown",
   "id": "21892dff-dafa-469a-b0c4-27261d3ff2c5",
   "metadata": {},
   "source": [
    "Para un mayor control sobre las agregaciones, se puede usar el parámetro margins, que añade totales de fila y columna a la tabla pivotante:"
   ]
  },
  {
   "cell_type": "code",
   "execution_count": 15,
   "id": "4da7afcb-53e9-4014-9467-41ed6ec6046a",
   "metadata": {},
   "outputs": [
    {
     "name": "stdout",
     "output_type": "stream",
     "text": [
      "B    one  two  All\n",
      "A                 \n",
      "bar  5.5  5.5  5.5\n",
      "foo  4.5  4.5  4.5\n",
      "All  5.0  5.0  5.0\n"
     ]
    }
   ],
   "source": [
    "tabla_pivotante_con_totales = df.pivot_table(values='D', index='A', columns='B', aggfunc='mean', margins=True)\n",
    "# Resultado: DataFrame con la media de 'D' y totales de fila y columna\n",
    "print(tabla_pivotante_con_totales)"
   ]
  },
  {
   "cell_type": "markdown",
   "id": "e292e2df-48d0-4cc6-accb-338333c7c767",
   "metadata": {},
   "source": [
    "Cuando se trabaja con múltiples índices y columnas, las tablas pivotantes pueden ser más complejas. A continuación, se muestra un ejemplo de cómo crear una tabla pivotante con múltiples índices:"
   ]
  },
  {
   "cell_type": "code",
   "execution_count": 18,
   "id": "d9eefbe7-f1ab-49b7-8814-02b0bf62285b",
   "metadata": {},
   "outputs": [
    {
     "name": "stdout",
     "output_type": "stream",
     "text": [
      "C        large  small\n",
      "A   B                \n",
      "bar one    6.5    5.5\n",
      "    two    NaN    7.5\n",
      "foo one    3.5    2.5\n",
      "    two    NaN    4.5\n"
     ]
    }
   ],
   "source": [
    "df_multi = pd.DataFrame({\n",
    "    'A': ['foo', 'foo', 'foo', 'bar', 'bar', 'bar'],\n",
    "    'B': ['one', 'one', 'two', 'one', 'one', 'two'],\n",
    "    'C': ['small', 'large', 'small', 'small', 'large', 'small'],\n",
    "    'D': [1, 2, 3, 4, 5, 6],\n",
    "    'E': [2.5, 3.5, 4.5, 5.5, 6.5, 7.5]\n",
    "})\n",
    "\n",
    "tabla_pivotante_multi = df_multi.pivot_table(values='E', index=['A', 'B'], columns='C', aggfunc='mean')\n",
    "# Resultado: DataFrame con la media de 'E' para cada combinación de 'A' y 'B' y 'C'\n",
    "print(tabla_pivotante_multi)"
   ]
  }
 ],
 "metadata": {
  "kernelspec": {
   "display_name": "Python [conda env:base] *",
   "language": "python",
   "name": "conda-base-py"
  },
  "language_info": {
   "codemirror_mode": {
    "name": "ipython",
    "version": 3
   },
   "file_extension": ".py",
   "mimetype": "text/x-python",
   "name": "python",
   "nbconvert_exporter": "python",
   "pygments_lexer": "ipython3",
   "version": "3.12.7"
  }
 },
 "nbformat": 4,
 "nbformat_minor": 5
}
