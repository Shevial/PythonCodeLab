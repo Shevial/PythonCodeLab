{
 "cells": [
  {
   "cell_type": "markdown",
   "id": "c4fce42f-b096-457b-90d1-25f2df496a89",
   "metadata": {},
   "source": [
    "# Métodos de agregación y resumen"
   ]
  },
  {
   "cell_type": "markdown",
   "id": "a21184a1-1acf-4a34-971a-adb151f6e637",
   "metadata": {},
   "source": [
    "* **sum()**: Calcula la suma de los valores a lo largo del eje especificado (por defecto, a lo largo de las filas si no se especifica un eje). Este método es útil para obtener la suma total de una columna numérica en un DataFrame o una Serie.\n"
   ]
  },
  {
   "cell_type": "code",
   "execution_count": 9,
   "id": "ba943da6-07af-41be-a30e-7628df233c35",
   "metadata": {},
   "outputs": [
    {
     "name": "stdout",
     "output_type": "stream",
     "text": [
      "6\n"
     ]
    }
   ],
   "source": [
    "import pandas as pd\n",
    "\n",
    "df = pd.DataFrame({\n",
    "    'A': [1, 2, 3],\n",
    "    'B': [4, 5, 6]\n",
    "})\n",
    "\n",
    "suma_columna_A = df['A'].sum()\n",
    "print(suma_columna_A)"
   ]
  },
  {
   "cell_type": "markdown",
   "id": "267bc6d1-6516-47a7-9d94-0d767c41e952",
   "metadata": {},
   "source": [
    "* **mean()**: Calcula la media aritmética de los valores a lo largo del eje especificado. La media es una medida de la tendencia central que muestra el valor promedio de los datos. Es útil para obtener una visión general del nivel promedio de los datos."
   ]
  },
  {
   "cell_type": "code",
   "execution_count": 12,
   "id": "6523f263-3dc2-4c5c-a226-afe1c6e68bf1",
   "metadata": {},
   "outputs": [
    {
     "name": "stdout",
     "output_type": "stream",
     "text": [
      "2.0\n"
     ]
    }
   ],
   "source": [
    "media_columna_A = df['A'].mean()\n",
    "print(media_columna_A)"
   ]
  },
  {
   "cell_type": "markdown",
   "id": "73167caa-6da9-4670-a950-1e3147bcab29",
   "metadata": {},
   "source": [
    "* **median()**: Calcula la mediana de los valores a lo largo del eje especificado. La mediana es el valor que divide los datos ordenados en dos partes iguales, siendo menos sensible a valores atípicos que la media."
   ]
  },
  {
   "cell_type": "code",
   "execution_count": 15,
   "id": "8b3adfae-590f-4d5d-a598-e41d97aee9d1",
   "metadata": {},
   "outputs": [
    {
     "name": "stdout",
     "output_type": "stream",
     "text": [
      "2.0\n"
     ]
    }
   ],
   "source": [
    "mediana_columna_A = df['A'].median()\n",
    "print(mediana_columna_A)"
   ]
  },
  {
   "cell_type": "markdown",
   "id": "10a42aab-286f-478e-9e8e-3f1579c78cb5",
   "metadata": {},
   "source": [
    "* **min()**: Encuentra el valor mínimo a lo largo del eje especificado. Es útil para identificar el valor más bajo dentro de un conjunto de datos, lo que puede ser importante para la detección de límites inferiores en análisis de datos."
   ]
  },
  {
   "cell_type": "code",
   "execution_count": 22,
   "id": "fe3d3cab-74ae-46c0-85d1-e0f14e2428ff",
   "metadata": {},
   "outputs": [
    {
     "name": "stdout",
     "output_type": "stream",
     "text": [
      "1\n"
     ]
    }
   ],
   "source": [
    "minimo_columna_A = df['A'].min()\n",
    "print(minimo_columna_A)"
   ]
  },
  {
   "cell_type": "markdown",
   "id": "40e088cf-8333-469c-8ee1-b2db0a689f0f",
   "metadata": {},
   "source": [
    "* **max()**: Encuentra el valor máximo a lo largo del eje especificado. Similar a min(), este método es útil para identificar el valor más alto en un conjunto de datos, destacando los picos en los valores."
   ]
  },
  {
   "cell_type": "code",
   "execution_count": 25,
   "id": "c8154f2e-c410-4d20-b49d-6dbc78e2becf",
   "metadata": {},
   "outputs": [
    {
     "name": "stdout",
     "output_type": "stream",
     "text": [
      "3\n"
     ]
    }
   ],
   "source": [
    "maximo_columna_A = df['A'].max()\n",
    "print(maximo_columna_A)"
   ]
  },
  {
   "cell_type": "markdown",
   "id": "5c7ca965-6f04-45de-a145-109e2be46220",
   "metadata": {},
   "source": [
    "* **count()**: Cuenta el número de valores no nulos a lo largo del eje especificado. Este método es particularmente útil para evaluar la cantidad de datos válidos presentes en una columna o en todo el DataFrame."
   ]
  },
  {
   "cell_type": "code",
   "execution_count": 28,
   "id": "c0b9f319-1690-48c8-8328-29bfd1b62d27",
   "metadata": {},
   "outputs": [
    {
     "name": "stdout",
     "output_type": "stream",
     "text": [
      "3\n"
     ]
    }
   ],
   "source": [
    "cuenta_columna_A = df['A'].count()\n",
    "print(cuenta_columna_A)"
   ]
  },
  {
   "cell_type": "markdown",
   "id": "9822a6fd-ff98-4cdf-b034-da19721a286f",
   "metadata": {},
   "source": [
    "* **std()**: Calcula la desviación estándar de los valores a lo largo del eje especificado. La desviación estándar es una medida de la dispersión o variabilidad de los datos respecto a la media. Es fundamental para entender cuán dispersos están los valores en un conjunto de datos."
   ]
  },
  {
   "cell_type": "code",
   "execution_count": 31,
   "id": "35a9f20c-e2fc-41a0-a579-375631b30f9b",
   "metadata": {},
   "outputs": [
    {
     "name": "stdout",
     "output_type": "stream",
     "text": [
      "1.0\n"
     ]
    }
   ],
   "source": [
    "desviacion_estandar_columna_A = df['A'].std()\n",
    "print(desviacion_estandar_columna_A)"
   ]
  },
  {
   "cell_type": "markdown",
   "id": "c00315f8-099b-48be-bc7f-2b4b5bf49eb2",
   "metadata": {},
   "source": [
    "* **var()**: Calcula la varianza de los valores a lo largo del eje especificado. La varianza mide la dispersión de los datos elevando al cuadrado la desviación de cada dato respecto a la media, proporcionando una visión más amplificada de la variabilidad."
   ]
  },
  {
   "cell_type": "code",
   "execution_count": 34,
   "id": "9b36d92f-0e36-4de7-b196-3c41a971865c",
   "metadata": {},
   "outputs": [
    {
     "name": "stdout",
     "output_type": "stream",
     "text": [
      "1.0\n"
     ]
    }
   ],
   "source": [
    "varianza_columna_A = df['A'].var()\n",
    "print(varianza_columna_A)"
   ]
  },
  {
   "cell_type": "markdown",
   "id": "92520bcc-4740-4eb4-bb43-c669f9e463d1",
   "metadata": {},
   "source": [
    "\n",
    "* **describe()**: Genera estadísticas descriptivas que resumen la tendencia central, la dispersión y la forma de la distribución de un conjunto de datos. Este método proporciona una visión rápida y completa del resumen estadístico de las columnas de un DataFrame."
   ]
  },
  {
   "cell_type": "code",
   "execution_count": 38,
   "id": "f53e4ec4-299a-46a2-ba5d-6d97d84ee501",
   "metadata": {},
   "outputs": [
    {
     "name": "stdout",
     "output_type": "stream",
     "text": [
      "         A    B\n",
      "count  3.0  3.0\n",
      "mean   2.0  5.0\n",
      "std    1.0  1.0\n",
      "min    1.0  4.0\n",
      "25%    1.5  4.5\n",
      "50%    2.0  5.0\n",
      "75%    2.5  5.5\n",
      "max    3.0  6.0\n"
     ]
    }
   ],
   "source": [
    "descripcion_df = df.describe()\n",
    "print(descripcion_df)"
   ]
  },
  {
   "cell_type": "markdown",
   "id": "06604725-2400-4b8c-be0c-a716e12d90e2",
   "metadata": {},
   "source": [
    "* **quantile()**: Calcula el valor en el cuantil especificado (por defecto, el 50%, que es la mediana). Es útil para dividir los datos en partes iguales y analizar la distribución relativa de los datos."
   ]
  },
  {
   "cell_type": "code",
   "execution_count": 44,
   "id": "d4b56264-3016-41a2-a6a4-5372dbfd1e05",
   "metadata": {},
   "outputs": [
    {
     "name": "stdout",
     "output_type": "stream",
     "text": [
      "2.5\n"
     ]
    }
   ],
   "source": [
    "cuantil_columna_A = df['A'].quantile(0.75)\n",
    "print(cuantil_columna_A)"
   ]
  },
  {
   "cell_type": "markdown",
   "id": "806817ea-a172-46c8-8213-9be6ca8ad270",
   "metadata": {},
   "source": [
    "* **cumsum()**: Calcula la suma acumulada de los valores a lo largo del eje especificado. La suma acumulada es útil en análisis de series temporales para ver la evolución de una suma a lo largo del tiempo."
   ]
  },
  {
   "cell_type": "code",
   "execution_count": 47,
   "id": "6c6fe4b4-2ed2-4a28-b6ce-c8b1ee1150ca",
   "metadata": {},
   "outputs": [
    {
     "name": "stdout",
     "output_type": "stream",
     "text": [
      "0    1\n",
      "1    3\n",
      "2    6\n",
      "Name: A, dtype: int64\n"
     ]
    }
   ],
   "source": [
    "suma_acumulada_columna_A = df['A'].cumsum()\n",
    "print(suma_acumulada_columna_A)"
   ]
  },
  {
   "cell_type": "markdown",
   "id": "99fdc05b-5ed8-440a-ac39-3ab7b11b09d0",
   "metadata": {},
   "source": [
    "* **cumprod()**: Calcula el producto acumulado de los valores a lo largo del eje especificado. Este método es particularmente útil para cálculos financieros o científicos donde se necesita evaluar el crecimiento multiplicativo en una serie de datos."
   ]
  },
  {
   "cell_type": "code",
   "execution_count": null,
   "id": "ec2374a9-f17f-417b-a392-76ec20608aed",
   "metadata": {},
   "outputs": [],
   "source": [
    "producto_acumulado_columna_A = df['A'].cumprod()\n",
    "print(producto_acumulado_columna_A)"
   ]
  },
  {
   "cell_type": "markdown",
   "id": "37367300-b0d8-4547-88cb-f33810e59129",
   "metadata": {},
   "source": [
    "Estos métodos se pueden aplicar tanto a series como a dataframes.  \n",
    "Es posible especificar el eje sobre el cual se aplican las operaciones, utilizando el parámetro ``axis`` (0 para filas y 1 para columnas). Además, algunos métodos aceptan parámetros adicionales que permiten ajustar su comportamiento, como skipna para ignorar valores nulos."
   ]
  },
  {
   "cell_type": "code",
   "execution_count": 55,
   "id": "e99dff7a-4ea2-4d0b-a003-4c506351b327",
   "metadata": {},
   "outputs": [
    {
     "name": "stdout",
     "output_type": "stream",
     "text": [
      "0    5\n",
      "1    7\n",
      "2    9\n",
      "dtype: int64\n"
     ]
    }
   ],
   "source": [
    "suma_filas = df.sum(axis=1)\n",
    "# Resultado: Serie con la suma de cada fila\n",
    "print(suma_filas)"
   ]
  },
  {
   "cell_type": "code",
   "execution_count": null,
   "id": "df806fa0-bac8-4f70-aa78-5f454c51d5d5",
   "metadata": {},
   "outputs": [],
   "source": []
  }
 ],
 "metadata": {
  "kernelspec": {
   "display_name": "Python [conda env:base] *",
   "language": "python",
   "name": "conda-base-py"
  },
  "language_info": {
   "codemirror_mode": {
    "name": "ipython",
    "version": 3
   },
   "file_extension": ".py",
   "mimetype": "text/x-python",
   "name": "python",
   "nbconvert_exporter": "python",
   "pygments_lexer": "ipython3",
   "version": "3.12.7"
  }
 },
 "nbformat": 4,
 "nbformat_minor": 5
}
