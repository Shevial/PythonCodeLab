{
 "cells": [
  {
   "cell_type": "markdown",
   "id": "2fd6d359-141e-4ef2-a692-c42354353895",
   "metadata": {},
   "source": [
    "# Agrupación de datos para agregaciones complejas"
   ]
  },
  {
   "cell_type": "markdown",
   "id": "0dd0de12-c2bf-44e8-b679-f61782bc7e99",
   "metadata": {},
   "source": [
    "El método principal para agrupar datos en Pandas es ``groupby()``. Este método segmenta el DataFrame en grupos basados en uno o más criterios y permite aplicar funciones de agregación a cada grupo.  \n",
    "Al combinar ``groupby()`` con otras funciones y métodos de Pandas, se pueden obtener insights detallados y precisos sobre los datos, lo cual es esencial para el análisis y la manipulación de datos a gran escala.  \n",
    "La estructura básica para usar ``groupby()`` es la siguiente:"
   ]
  },
  {
   "cell_type": "code",
   "execution_count": 6,
   "id": "09990a7e-5427-467e-a5b0-f41427053d3e",
   "metadata": {},
   "outputs": [
    {
     "name": "stdout",
     "output_type": "stream",
     "text": [
      "<pandas.core.groupby.generic.DataFrameGroupBy object at 0x000002B85C96DC70>\n"
     ]
    }
   ],
   "source": [
    "import pandas as pd\n",
    "\n",
    "df = pd.DataFrame({\n",
    "    'A': ['foo', 'bar', 'foo', 'bar', 'foo', 'bar'],\n",
    "    'B': ['one', 'one', 'two', 'two', 'one', 'one'],\n",
    "    'C': [1, 2, 3, 4, 5, 6],\n",
    "    'D': [2.5, 3.5, 4.5, 5.5, 6.5, 7.5]\n",
    "})\n",
    "\n",
    "grupo_A = df.groupby('A')"
   ]
  },
  {
   "cell_type": "markdown",
   "id": "79714d56-f074-4a60-8974-611f8e328459",
   "metadata": {},
   "source": [
    "Después de agrupar el DataFrame, se pueden aplicar varias funciones de agregación para obtener estadísticas o realizar operaciones sobre cada grupo. Algunas de las funciones de agregación más utilizadas son sum(), mean(), count(), min(), max(), entre otras. Por ejemplo:"
   ]
  },
  {
   "cell_type": "code",
   "execution_count": 9,
   "id": "246c6e20-a146-4c00-96f5-21a2009048bf",
   "metadata": {},
   "outputs": [
    {
     "name": "stdout",
     "output_type": "stream",
     "text": [
      "             B   C     D\n",
      "A                       \n",
      "bar  onetwoone  12  16.5\n",
      "foo  onetwoone   9  13.5\n"
     ]
    }
   ],
   "source": [
    "suma_por_grupo = grupo_A.sum()\n",
    "# Resultado: DataFrame con la suma de cada columna para cada grupo en 'A'\n",
    "print(suma_por_grupo)"
   ]
  },
  {
   "cell_type": "markdown",
   "id": "69fdbb04-75aa-452a-8b0b-c4dd7762c94a",
   "metadata": {},
   "source": [
    "Para realizar agregaciones más complejas, se puede usar el método ``agg()``, que permite aplicar múltiples funciones de agregación a diferentes columnas. Por ejemplo:"
   ]
  },
  {
   "cell_type": "code",
   "execution_count": 12,
   "id": "f1ca94eb-18aa-4b65-96df-3c65de8d343e",
   "metadata": {},
   "outputs": [
    {
     "name": "stdout",
     "output_type": "stream",
     "text": [
      "      C         D     \n",
      "    sum mean  min  max\n",
      "A                     \n",
      "bar  12  4.0  3.5  7.5\n",
      "foo   9  3.0  2.5  6.5\n"
     ]
    }
   ],
   "source": [
    "agregaciones_complejas = grupo_A.agg({\n",
    "    'C': ['sum', 'mean'],\n",
    "    'D': ['min', 'max']\n",
    "})\n",
    "# Resultado: DataFrame con sum y mean para la columna 'C' y min y max para la columna 'D'\n",
    "print(agregaciones_complejas)"
   ]
  },
  {
   "cell_type": "markdown",
   "id": "040596ca-c52c-4d21-995d-6e3dbbc5edef",
   "metadata": {},
   "source": [
    "Además de las funciones de agregación estándar, es posible definir funciones personalizadas y aplicarlas a los grupos. Esto se puede hacer usando ``apply()`` o ``transform()``.  \n",
    "Por ejemplo, para crear una función que calcule el rango de una columna:"
   ]
  },
  {
   "cell_type": "code",
   "execution_count": 18,
   "id": "0a49de36-e93a-4be5-89e4-fcac4d407a8c",
   "metadata": {},
   "outputs": [
    {
     "name": "stdout",
     "output_type": "stream",
     "text": [
      "A\n",
      "bar    4\n",
      "foo    4\n",
      "Name: C, dtype: int64\n"
     ]
    }
   ],
   "source": [
    "def rango(x):\n",
    "    return x.max() - x.min()\n",
    "\n",
    "rango_por_grupo = grupo_A['C'].apply(rango)\n",
    "# Resultado: Serie con el rango de la columna 'C' para cada grupo en 'A'\n",
    "print(rango_por_grupo)"
   ]
  },
  {
   "cell_type": "markdown",
   "id": "553528e1-58f8-4ed5-b958-b2d8a0af3e66",
   "metadata": {},
   "source": [
    "Pandas también permite agrupar por múltiples columnas, lo que facilita realizar análisis más detallados. Por ejemplo:"
   ]
  },
  {
   "cell_type": "code",
   "execution_count": 21,
   "id": "20f81df9-56f7-4517-9845-df44a3f5a96e",
   "metadata": {},
   "outputs": [
    {
     "name": "stdout",
     "output_type": "stream",
     "text": [
      "         C     D\n",
      "A   B           \n",
      "bar one  8  11.0\n",
      "    two  4   5.5\n",
      "foo one  6   9.0\n",
      "    two  3   4.5\n"
     ]
    }
   ],
   "source": [
    "grupo_A_B = df.groupby(['A', 'B']).sum()\n",
    "# Resultado: DataFrame con la suma de cada columna para cada combinación de grupos en 'A' y 'B'\n",
    "print(grupo_A_B)"
   ]
  },
  {
   "cell_type": "markdown",
   "id": "6ca94693-078e-4343-a9c3-4805ed9346be",
   "metadata": {},
   "source": [
    "Para mejorar la legibilidad de los resultados, se puede utilizar el método ``reset_index()`` para convertir los índices jerárquicos en columnas normales:"
   ]
  },
  {
   "cell_type": "code",
   "execution_count": 25,
   "id": "dac82645-28f9-4855-b0b5-7b4de2448442",
   "metadata": {},
   "outputs": [
    {
     "name": "stdout",
     "output_type": "stream",
     "text": [
      "     A    B  C     D\n",
      "0  bar  one  8  11.0\n",
      "1  bar  two  4   5.5\n",
      "2  foo  one  6   9.0\n",
      "3  foo  two  3   4.5\n"
     ]
    }
   ],
   "source": [
    "grupo_A_B_reset = grupo_A_B.reset_index()\n",
    "# Resultado: DataFrame con los índices jerárquicos convertidos en columnas\n",
    "print(grupo_A_B_reset)"
   ]
  }
 ],
 "metadata": {
  "kernelspec": {
   "display_name": "Python [conda env:base] *",
   "language": "python",
   "name": "conda-base-py"
  },
  "language_info": {
   "codemirror_mode": {
    "name": "ipython",
    "version": 3
   },
   "file_extension": ".py",
   "mimetype": "text/x-python",
   "name": "python",
   "nbconvert_exporter": "python",
   "pygments_lexer": "ipython3",
   "version": "3.12.7"
  }
 },
 "nbformat": 4,
 "nbformat_minor": 5
}
