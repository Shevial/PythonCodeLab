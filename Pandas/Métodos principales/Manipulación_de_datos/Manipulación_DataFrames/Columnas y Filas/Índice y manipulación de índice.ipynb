{
 "cells": [
  {
   "cell_type": "markdown",
   "id": "eeefa97b-da85-4605-bf39-d2ba9eccaaa1",
   "metadata": {},
   "source": [
    "# Índice y manipulación de índice"
   ]
  },
  {
   "cell_type": "markdown",
   "id": "47948040-c553-48a9-a729-46fc948cc0d3",
   "metadata": {},
   "source": [
    "El índice de un DataFrame puede ser configurado al momento de la creación del DataFrame o modificado posteriormente utilizando varios métodos. \n",
    "\n",
    "Para establecer una columna como índice, se utiliza el método ``set_index()``. Este método devuelve un nuevo DataFrame con la columna especificada como índice:"
   ]
  },
  {
   "cell_type": "code",
   "execution_count": null,
   "id": "a6c272d0-658d-46e6-a5d6-af2f6d3ae31d",
   "metadata": {},
   "outputs": [],
   "source": [
    "import pandas as pd\n",
    "\n",
    "# Crear un DataFrame de ejemplo\n",
    "df = pd.DataFrame({\n",
    "    'A': [1, 2, 3],\n",
    "    'B': [4, 5, 6],\n",
    "    'C': [7, 8, 9]\n",
    "})\n",
    "\n",
    "# Establecer la columna 'A' como índice\n",
    "df_indexed = df.set_index('A')\n",
    "print(df_indexed)"
   ]
  },
  {
   "cell_type": "markdown",
   "id": "86ce6a27-3b43-42da-a6d1-8b5e577e3990",
   "metadata": {},
   "source": [
    "Para restablecer el índice a su estado original, se utiliza el método ``reset_index()``, que devuelve el índice a una columna del DataFrame:"
   ]
  }
 ],
 "metadata": {
  "kernelspec": {
   "display_name": "Python [conda env:base] *",
   "language": "python",
   "name": "conda-base-py"
  },
  "language_info": {
   "codemirror_mode": {
    "name": "ipython",
    "version": 3
   },
   "file_extension": ".py",
   "mimetype": "text/x-python",
   "name": "python",
   "nbconvert_exporter": "python",
   "pygments_lexer": "ipython3",
   "version": "3.12.7"
  }
 },
 "nbformat": 4,
 "nbformat_minor": 5
}
