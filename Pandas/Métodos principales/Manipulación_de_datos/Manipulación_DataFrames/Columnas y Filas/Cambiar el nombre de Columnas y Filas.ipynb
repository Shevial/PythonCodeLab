{
 "cells": [
  {
   "cell_type": "markdown",
   "id": "c2347f1d-805a-41b6-9823-1ee86d677ef9",
   "metadata": {},
   "source": [
    "## Cambiar el nombre de columnas y filas"
   ]
  },
  {
   "cell_type": "markdown",
   "id": "4a21fa7c-8eb2-41ea-b78b-feb41eb52195",
   "metadata": {},
   "source": [
    "Para cambiar el nombre de las columnas de un DataFrame, se utiliza el método ``rename()``. Este método permite modificar los nombres de las columnas especificando un diccionario donde las claves son los nombres actuales y los valores son los nuevos nombres."
   ]
  },
  {
   "cell_type": "code",
   "execution_count": 4,
   "id": "f17d81a4-f616-4a80-b279-0c68556f00f3",
   "metadata": {
    "scrolled": true
   },
   "outputs": [
    {
     "name": "stdout",
     "output_type": "stream",
     "text": [
      "   Alpha  Beta  Gamma\n",
      "0      1     4      7\n",
      "1      2     5      8\n",
      "2      3     6      9\n"
     ]
    }
   ],
   "source": [
    "import pandas as pd\n",
    "\n",
    "# Crear un DataFrame de ejemplo\n",
    "df = pd.DataFrame({\n",
    "    'A': [1, 2, 3],\n",
    "    'B': [4, 5, 6],\n",
    "    'C': [7, 8, 9]\n",
    "})\n",
    "\n",
    "# Cambiar el nombre de las columnas\n",
    "df_renamed = df.rename(columns={'A': 'Alpha', 'B': 'Beta', 'C': 'Gamma'})\n",
    "print(df_renamed)\n"
   ]
  },
  {
   "cell_type": "markdown",
   "id": "4d3bc795-0fd0-4349-b4ff-0acbc39a4ce2",
   "metadata": {},
   "source": [
    "Otra forma de cambiar los nombres de todas las columnas es asignar una lista con los nuevos nombres directamente al atributo ``columns`` del DataFrame:"
   ]
  },
  {
   "cell_type": "code",
   "execution_count": 7,
   "id": "b103321a-0e5c-4fb8-95a9-b6a33278efef",
   "metadata": {},
   "outputs": [
    {
     "name": "stdout",
     "output_type": "stream",
     "text": [
      "   X  Y  Z\n",
      "0  1  4  7\n",
      "1  2  5  8\n",
      "2  3  6  9\n"
     ]
    }
   ],
   "source": [
    "# Asignar nuevos nombres a todas las columnas\n",
    "df.columns = ['X', 'Y', 'Z']\n",
    "print(df)\n"
   ]
  },
  {
   "cell_type": "markdown",
   "id": "61d62740-7f3a-4cfc-a0d9-ca288b405619",
   "metadata": {},
   "source": [
    "Para cambiar el nombre de las filas, también se puede utilizar el método ``rename()``, especificando el diccionario correspondiente en el parámetro ``index``:"
   ]
  },
  {
   "cell_type": "code",
   "execution_count": 10,
   "id": "1fc3275e-6c94-4ec0-bc92-e0dcbc97cf06",
   "metadata": {},
   "outputs": [
    {
     "name": "stdout",
     "output_type": "stream",
     "text": [
      "      X  Y  Z\n",
      "Row1  1  4  7\n",
      "Row2  2  5  8\n",
      "Row3  3  6  9\n"
     ]
    }
   ],
   "source": [
    "# Cambiar el nombre de las filas\n",
    "df_renamed_rows = df.rename(index={0: 'Row1', 1: 'Row2', 2: 'Row3'})\n",
    "print(df_renamed_rows)"
   ]
  },
  {
   "cell_type": "markdown",
   "id": "d387d18c-5e08-4f2c-bb3e-a14caf252570",
   "metadata": {},
   "source": [
    "Si se desea cambiar el nombre de todas las filas, se puede asignar una lista con los nuevos nombres directamente al atributo ``index`` del DataFrame:"
   ]
  },
  {
   "cell_type": "code",
   "execution_count": 13,
   "id": "ae154f55-e1f1-47d3-8918-53aab539e816",
   "metadata": {
    "scrolled": true
   },
   "outputs": [
    {
     "name": "stdout",
     "output_type": "stream",
     "text": [
      "        X  Y  Z\n",
      "First   1  4  7\n",
      "Second  2  5  8\n",
      "Third   3  6  9\n"
     ]
    }
   ],
   "source": [
    "# Asignar nuevos nombres a todas las filas\n",
    "df.index = ['First', 'Second', 'Third']\n",
    "print(df)"
   ]
  },
  {
   "cell_type": "markdown",
   "id": "9a925efb-4da4-41d8-97db-52fd405f3ea7",
   "metadata": {},
   "source": [
    "Además, es posible cambiar el nombre tanto de las columnas como de las filas simultáneamente utilizando el método ``rename()``:"
   ]
  },
  {
   "cell_type": "code",
   "execution_count": 16,
   "id": "790ce7c9-4104-430b-8127-7d1d0c427c2f",
   "metadata": {
    "scrolled": true
   },
   "outputs": [
    {
     "name": "stdout",
     "output_type": "stream",
     "text": [
      "      Alpha  Beta  Gamma\n",
      "Row1      1     4      7\n",
      "Row2      2     5      8\n",
      "Row3      3     6      9\n"
     ]
    }
   ],
   "source": [
    "# Cambiar el nombre de columnas y filas simultáneamente\n",
    "df_renamed_all = df.rename(columns={'X': 'Alpha', 'Y': 'Beta', 'Z': 'Gamma'}, index={'First': 'Row1', 'Second': 'Row2', 'Third': 'Row3'})\n",
    "print(df_renamed_all)"
   ]
  }
 ],
 "metadata": {
  "kernelspec": {
   "display_name": "Python [conda env:base] *",
   "language": "python",
   "name": "conda-base-py"
  },
  "language_info": {
   "codemirror_mode": {
    "name": "ipython",
    "version": 3
   },
   "file_extension": ".py",
   "mimetype": "text/x-python",
   "name": "python",
   "nbconvert_exporter": "python",
   "pygments_lexer": "ipython3",
   "version": "3.12.7"
  }
 },
 "nbformat": 4,
 "nbformat_minor": 5
}
