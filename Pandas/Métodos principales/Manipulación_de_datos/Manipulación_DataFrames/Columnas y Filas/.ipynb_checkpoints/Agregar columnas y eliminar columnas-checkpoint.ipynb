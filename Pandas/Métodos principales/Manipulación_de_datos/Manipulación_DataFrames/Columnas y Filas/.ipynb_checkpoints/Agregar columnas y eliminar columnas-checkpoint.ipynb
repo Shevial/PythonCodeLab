{
 "cells": [
  {
   "cell_type": "markdown",
   "id": "ec49ae2c-73e7-4bbc-9eee-1a9610265801",
   "metadata": {},
   "source": [
    "## Agregar columnas y eliminar columnas\n",
    "Para agregar una columna a un DataFrame, se puede asignar una nueva serie de datos a través de una nueva clave en el DataFrame. "
   ]
  },
  {
   "cell_type": "markdown",
   "id": "13f18398-3647-403b-9a53-945aa72ac3ad",
   "metadata": {},
   "source": [
    "Por ejemplo, si se desea agregar una columna denominada D con valores específicos, se puede realizar de la siguiente manera:"
   ]
  },
  {
   "cell_type": "code",
   "execution_count": 4,
   "id": "10ba160c-dae7-4f1d-9b76-0486ebb56941",
   "metadata": {},
   "outputs": [
    {
     "name": "stdout",
     "output_type": "stream",
     "text": [
      "   A  B  C   D\n",
      "0  1  4  7  10\n",
      "1  2  5  8  11\n",
      "2  3  6  9  12\n"
     ]
    }
   ],
   "source": [
    "import pandas as pd\n",
    "\n",
    "# Crear un DataFrame de ejemplo\n",
    "df = pd.DataFrame({\n",
    "    'A': [1, 2, 3],\n",
    "    'B': [4, 5, 6],\n",
    "    'C': [7, 8, 9]\n",
    "})\n",
    "\n",
    "# Agregar una nueva columna 'D'\n",
    "df['D'] = [10, 11, 12]\n",
    "print(df)\n"
   ]
  },
  {
   "cell_type": "markdown",
   "id": "09355ceb-1bf7-436d-8074-00638ac7ed7c",
   "metadata": {},
   "source": [
    "También es posible agregar una columna basada en una operación realizada sobre otras columnas existentes. Por ejemplo, si se desea crear una columna E que sea la suma de las columnas A y B:"
   ]
  },
  {
   "cell_type": "code",
   "execution_count": 7,
   "id": "1af5673a-8e2e-40bb-9150-bfe2286097fb",
   "metadata": {},
   "outputs": [
    {
     "name": "stdout",
     "output_type": "stream",
     "text": [
      "   A  B  C   D  E\n",
      "0  1  4  7  10  5\n",
      "1  2  5  8  11  7\n",
      "2  3  6  9  12  9\n"
     ]
    }
   ],
   "source": [
    "# Agregar una columna 'E' que es la suma de 'A' y 'B'\n",
    "df['E'] = df['A'] + df['B']\n",
    "print(df)\n"
   ]
  },
  {
   "cell_type": "markdown",
   "id": "ad688066-a066-47aa-a3c6-3a81484b3765",
   "metadata": {},
   "source": [
    "Para eliminar una o más columnas, se utiliza el método drop(). Este método permite especificar las columnas a eliminar mediante el parámetro columns. A continuación se muestra cómo eliminar una única columna:"
   ]
  },
  {
   "cell_type": "code",
   "execution_count": 10,
   "id": "d6bf51e6-c3b5-48a5-b8b9-95c35bfe5d13",
   "metadata": {},
   "outputs": [
    {
     "name": "stdout",
     "output_type": "stream",
     "text": [
      "   A  B  C  E\n",
      "0  1  4  7  5\n",
      "1  2  5  8  7\n",
      "2  3  6  9  9\n"
     ]
    }
   ],
   "source": [
    "# Eliminar la columna 'D'\n",
    "df = df.drop(columns=['D'])\n",
    "print(df)"
   ]
  },
  {
   "cell_type": "markdown",
   "id": "697840b8-2ee6-4be8-8a16-31ebd9bcc9a3",
   "metadata": {},
   "source": [
    "Si se desea eliminar múltiples columnas, se pueden pasar los nombres de las columnas en una lista:"
   ]
  },
  {
   "cell_type": "code",
   "execution_count": 13,
   "id": "7266a12b-fcbb-4071-96cb-e89cf752d1fa",
   "metadata": {},
   "outputs": [
    {
     "name": "stdout",
     "output_type": "stream",
     "text": [
      "   A  E\n",
      "0  1  5\n",
      "1  2  7\n",
      "2  3  9\n"
     ]
    }
   ],
   "source": [
    "# Eliminar las columnas 'B' y 'C'\n",
    "df = df.drop(columns=['B', 'C'])\n",
    "print(df)"
   ]
  },
  {
   "cell_type": "markdown",
   "id": "f47d9ac6-e722-4279-96ae-655c054bd2cb",
   "metadata": {},
   "source": [
    "Es importante notar que al agregar o eliminar columnas, el tamaño del DataFrame se ajusta automáticamente, y estas operaciones no afectan a otras columnas o filas del DataFrame.  \n",
    "Por último, pandas también permite agregar columnas utilizando métodos como ``assign()`` que proporcionan una sintaxis más funcional y pueden ser encadenados:"
   ]
  },
  {
   "cell_type": "code",
   "execution_count": 18,
   "id": "1c962c1d-a536-4667-a1f0-ebba46cf5152",
   "metadata": {},
   "outputs": [
    {
     "name": "stdout",
     "output_type": "stream",
     "text": [
      "   A  E   F\n",
      "0  1  5  13\n",
      "1  2  7  14\n",
      "2  3  9  15\n"
     ]
    }
   ],
   "source": [
    "# Utilizar assign() para agregar una nueva columna 'F'\n",
    "df = df.assign(F=[13, 14, 15])\n",
    "print(df)\n"
   ]
  },
  {
   "cell_type": "markdown",
   "id": "16a9cc14-2780-4e91-9ce6-50ece93c4e0e",
   "metadata": {},
   "source": [
    "El método ``assign()`` devuelve una nueva copia del DataFrame con las columnas añadidas, lo que puede ser útil cuando se desea mantener el DataFrame original sin modificar."
   ]
  }
 ],
 "metadata": {
  "kernelspec": {
   "display_name": "Python [conda env:base] *",
   "language": "python",
   "name": "conda-base-py"
  },
  "language_info": {
   "codemirror_mode": {
    "name": "ipython",
    "version": 3
   },
   "file_extension": ".py",
   "mimetype": "text/x-python",
   "name": "python",
   "nbconvert_exporter": "python",
   "pygments_lexer": "ipython3",
   "version": "3.12.7"
  }
 },
 "nbformat": 4,
 "nbformat_minor": 5
}
