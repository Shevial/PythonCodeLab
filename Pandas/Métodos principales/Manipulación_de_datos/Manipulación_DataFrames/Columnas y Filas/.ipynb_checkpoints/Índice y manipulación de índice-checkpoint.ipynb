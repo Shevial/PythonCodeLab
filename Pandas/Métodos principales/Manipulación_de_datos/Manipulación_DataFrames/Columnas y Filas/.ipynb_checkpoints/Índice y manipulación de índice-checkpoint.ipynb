{
 "cells": [
  {
   "cell_type": "markdown",
   "id": "eeefa97b-da85-4605-bf39-d2ba9eccaaa1",
   "metadata": {},
   "source": [
    "# Índice y manipulación de índice"
   ]
  },
  {
   "cell_type": "markdown",
   "id": "47948040-c553-48a9-a729-46fc948cc0d3",
   "metadata": {},
   "source": [
    "El índice de un DataFrame puede ser configurado al momento de la creación del DataFrame o modificado posteriormente utilizando varios métodos. \n",
    "\n",
    "Para establecer una columna como índice, se utiliza el método ``set_index()``. Este método devuelve un nuevo DataFrame con la columna especificada como índice:"
   ]
  },
  {
   "cell_type": "code",
   "execution_count": 3,
   "id": "a6c272d0-658d-46e6-a5d6-af2f6d3ae31d",
   "metadata": {},
   "outputs": [
    {
     "name": "stdout",
     "output_type": "stream",
     "text": [
      "   B  C\n",
      "A      \n",
      "1  4  7\n",
      "2  5  8\n",
      "3  6  9\n"
     ]
    }
   ],
   "source": [
    "import pandas as pd\n",
    "\n",
    "# Crear un DataFrame de ejemplo\n",
    "df = pd.DataFrame({\n",
    "    'A': [1, 2, 3],\n",
    "    'B': [4, 5, 6],\n",
    "    'C': [7, 8, 9]\n",
    "})\n",
    "\n",
    "# Establecer la columna 'A' como índice\n",
    "df_indexed = df.set_index('A')\n",
    "print(df_indexed)"
   ]
  },
  {
   "cell_type": "markdown",
   "id": "86ce6a27-3b43-42da-a6d1-8b5e577e3990",
   "metadata": {},
   "source": [
    "Para restablecer el índice a su estado original, se utiliza el método ``reset_index()``, que **devuelve el índice a una columna del DataFrame:**"
   ]
  },
  {
   "cell_type": "code",
   "execution_count": 5,
   "id": "61743a3d-2f8b-4882-9a02-d3e1d7b0331c",
   "metadata": {},
   "outputs": [
    {
     "name": "stdout",
     "output_type": "stream",
     "text": [
      "   A  B  C\n",
      "0  1  4  7\n",
      "1  2  5  8\n",
      "2  3  6  9\n"
     ]
    }
   ],
   "source": [
    "# Restablecer el índice a una columna\n",
    "df_reset = df_indexed.reset_index()\n",
    "print(df_reset)"
   ]
  },
  {
   "cell_type": "markdown",
   "id": "b6b1aff9-6909-4690-8d53-3b4ef5802b38",
   "metadata": {},
   "source": [
    "Es posible establecer **múltiples columnas como índice**, creando un índice jerárquico (MultiIndex). Esto se puede lograr pasando una lista de columnas al método ``set_index()``:"
   ]
  },
  {
   "cell_type": "code",
   "execution_count": 9,
   "id": "f9097391-e9cb-42d1-b07a-4df45ebd22e7",
   "metadata": {
    "scrolled": true
   },
   "outputs": [
    {
     "name": "stdout",
     "output_type": "stream",
     "text": [
      "     C\n",
      "A B   \n",
      "1 4  7\n",
      "2 5  8\n",
      "3 6  9\n"
     ]
    }
   ],
   "source": [
    "# Establecer múltiples columnas como índice\n",
    "df_multi_indexed = df.set_index(['A', 'B'])\n",
    "print(df_multi_indexed)"
   ]
  },
  {
   "cell_type": "markdown",
   "id": "107008c1-e235-4230-a9f2-74a44ea0c9f1",
   "metadata": {},
   "source": [
    "El acceso a los datos en un DataFrame con un índice jerárquico se realiza utilizando el método ``xs()`` (cross-section), que permite seleccionar datos en niveles específicos del índice:"
   ]
  },
  {
   "cell_type": "code",
   "execution_count": 12,
   "id": "2baf9779-04d1-46bf-90d8-f5280716be70",
   "metadata": {},
   "outputs": [
    {
     "name": "stdout",
     "output_type": "stream",
     "text": [
      "   C\n",
      "B   \n",
      "5  8\n"
     ]
    }
   ],
   "source": [
    "# Acceder a los datos en un índice jerárquico\n",
    "cross_section = df_multi_indexed.xs(key=2, level='A')\n",
    "print(cross_section)"
   ]
  },
  {
   "cell_type": "markdown",
   "id": "ea1bc6e3-cb55-4f60-a91b-649ae694790e",
   "metadata": {},
   "source": [
    "Para renombrar el índice, se puede utilizar el método ``rename_axis()``, que permite cambiar el nombre del índice sin modificar los datos:"
   ]
  },
  {
   "cell_type": "code",
   "execution_count": 15,
   "id": "1b9bc621-192b-40d1-ad15-a065ac954c38",
   "metadata": {},
   "outputs": [
    {
     "name": "stdout",
     "output_type": "stream",
     "text": [
      "          B  C\n",
      "NewIndex      \n",
      "1         4  7\n",
      "2         5  8\n",
      "3         6  9\n"
     ]
    }
   ],
   "source": [
    "# Renombrar el índice\n",
    "df_renamed_index = df_indexed.rename_axis('NewIndex')\n",
    "print(df_renamed_index)"
   ]
  },
  {
   "cell_type": "markdown",
   "id": "8d60fd89-ac4b-4c26-a2f8-1810d64b4d51",
   "metadata": {},
   "source": [
    "En ocasiones, es útil cambiar el tipo de datos del índice. Esto se puede lograr utilizando el método ``astype()``:"
   ]
  },
  {
   "cell_type": "code",
   "execution_count": 18,
   "id": "789b3ef9-9289-4361-a70e-74cb083f96a3",
   "metadata": {},
   "outputs": [
    {
     "name": "stdout",
     "output_type": "stream",
     "text": [
      "   B  C\n",
      "A      \n",
      "1  4  7\n",
      "2  5  8\n",
      "3  6  9\n"
     ]
    }
   ],
   "source": [
    "# Cambiar el tipo de datos del índice a cadena de texto\n",
    "df_indexed.index = df_indexed.index.astype(str)\n",
    "print(df_indexed)"
   ]
  },
  {
   "cell_type": "markdown",
   "id": "9f7c789c-2a8a-43a7-bde5-46543e691d90",
   "metadata": {},
   "source": [
    "Para ordenar un DataFrame basado en su índice, se utiliza el método ``sort_index()``, que ordena el DataFrame según los valores del índice:"
   ]
  },
  {
   "cell_type": "code",
   "execution_count": 21,
   "id": "fe632455-f3d4-42d2-9635-6bee7be56b90",
   "metadata": {},
   "outputs": [
    {
     "name": "stdout",
     "output_type": "stream",
     "text": [
      "   B  C\n",
      "A      \n",
      "1  4  7\n",
      "2  5  8\n",
      "3  6  9\n"
     ]
    }
   ],
   "source": [
    "# Ordenar el DataFrame basado en el índice\n",
    "df_sorted = df_indexed.sort_index()\n",
    "print(df_sorted)"
   ]
  },
  {
   "cell_type": "markdown",
   "id": "0d9ad0ce-02dd-4460-9c34-6c625a9c37f5",
   "metadata": {},
   "source": [
    "Además, pandas permite la reindexación de un DataFrame utilizando el método ``reindex()``, que ajusta el DataFrame a un nuevo índice, agregando filas con valores faltantes (NaN) si el nuevo índice contiene valores que no estaban en el índice original:"
   ]
  },
  {
   "cell_type": "code",
   "execution_count": 24,
   "id": "49c2061d-cb19-4b99-9d60-e9b9a97d54a0",
   "metadata": {},
   "outputs": [
    {
     "name": "stdout",
     "output_type": "stream",
     "text": [
      "    B   C\n",
      "A        \n",
      "1 NaN NaN\n",
      "2 NaN NaN\n",
      "3 NaN NaN\n",
      "4 NaN NaN\n"
     ]
    }
   ],
   "source": [
    "# Reindexar el DataFrame\n",
    "new_index = [1, 2, 3, 4]\n",
    "df_reindexed = df_indexed.reindex(new_index)\n",
    "print(df_reindexed)"
   ]
  },
  {
   "cell_type": "markdown",
   "id": "4f737249-2986-4dd7-b92a-4b8060db8100",
   "metadata": {},
   "source": [
    "Finalmente, para trabajar con índices de fechas, pandas proporciona el método ``pd.date_range()`` para crear un índice de fechas y el método set_index() para establecerlo en el DataFrame:"
   ]
  },
  {
   "cell_type": "code",
   "execution_count": 27,
   "id": "378625b6-9486-4c80-b7fa-c01091fccbb2",
   "metadata": {},
   "outputs": [
    {
     "name": "stdout",
     "output_type": "stream",
     "text": [
      "            A  B  C\n",
      "2023-01-01  1  4  7\n",
      "2023-01-02  2  5  8\n",
      "2023-01-03  3  6  9\n"
     ]
    }
   ],
   "source": [
    "# Crear un índice de fechas y establecerlo en el DataFrame\n",
    "date_index = pd.date_range(start='2023-01-01', periods=3, freq='D')\n",
    "df_date_indexed = df.set_index(date_index)\n",
    "print(df_date_indexed)"
   ]
  }
 ],
 "metadata": {
  "kernelspec": {
   "display_name": "Python [conda env:base] *",
   "language": "python",
   "name": "conda-base-py"
  },
  "language_info": {
   "codemirror_mode": {
    "name": "ipython",
    "version": 3
   },
   "file_extension": ".py",
   "mimetype": "text/x-python",
   "name": "python",
   "nbconvert_exporter": "python",
   "pygments_lexer": "ipython3",
   "version": "3.12.7"
  }
 },
 "nbformat": 4,
 "nbformat_minor": 5
}
