{
 "cells": [
  {
   "cell_type": "markdown",
   "id": "dadf6663-3b6b-4dda-bd99-9087a642c105",
   "metadata": {},
   "source": [
    "# Agregar y eliminar filas"
   ]
  },
  {
   "cell_type": "markdown",
   "id": "1774233f-bfda-48e3-83b9-008b1cfab6f0",
   "metadata": {},
   "source": [
    "El método ``pd.concat()`` es la forma recomendada para agregar nuevas filas a un DataFrame, reemplazando al método ``append()`` (deprecado en versiones recientes de Pandas). Este método permite concatenar uno o más DataFrames de manera eficiente.  \n",
    "``pd.concat()`` puede combinar DataFrames tanto horizontal como verticalmente (a lo largo de los ejes), lo que lo hace muy flexible."
   ]
  },
  {
   "cell_type": "markdown",
   "id": "b66f620d-65bc-4540-a169-32280aea9a0f",
   "metadata": {},
   "source": [
    "Uso básico de ``pd.concat()`` para agregar filas:"
   ]
  },
  {
   "cell_type": "markdown",
   "id": "ad5af676-69a9-41c4-a010-fd519960a817",
   "metadata": {},
   "source": [
    "En este ejemplo, ``pd.concat()`` combina el DataFrame original ``df`` con ``new_row`` a lo largo del eje 0 (filas), lo que resulta en un nuevo DataFrame que incluye la nueva fila. La opción ``ignore_index=True`` asegura que los índices se reasignen correctamente."
   ]
  },
  {
   "cell_type": "code",
   "execution_count": 4,
   "id": "37c3e990-d00c-41ff-a725-1a25a7b0535f",
   "metadata": {},
   "outputs": [
    {
     "name": "stdout",
     "output_type": "stream",
     "text": [
      "   A  B   C\n",
      "0  1  4   7\n",
      "1  2  5   8\n",
      "2  3  6   9\n",
      "3  4  7  10\n"
     ]
    }
   ],
   "source": [
    "import pandas as pd\n",
    "\n",
    "# Crear un DataFrame de ejemplo\n",
    "df = pd.DataFrame({\n",
    "    'A': [1, 2, 3],\n",
    "    'B': [4, 5, 6],\n",
    "    'C': [7, 8, 9]\n",
    "})\n",
    "\n",
    "# Crear una nueva fila como un DataFrame\n",
    "new_row = pd.DataFrame({'A': [4], 'B': [7], 'C': [10]})\n",
    "\n",
    "# Agregar la nueva fila al DataFrame original\n",
    "df = pd.concat([df, new_row], ignore_index=True)\n",
    "print(df)"
   ]
  },
  {
   "cell_type": "markdown",
   "id": "5308bfb3-54e1-461c-9764-093a65965993",
   "metadata": {},
   "source": [
    "Otra forma de agregar filas es utilizando el método ``loc[]``, que permite asignar una nueva fila directamente mediante el índice.  \n",
    "Este método es útil cuando se desea agregar una fila con un índice específico:"
   ]
  },
  {
   "cell_type": "code",
   "execution_count": 12,
   "id": "67d7a0cf-27b6-4177-9e9d-ffc62937c4bc",
   "metadata": {},
   "outputs": [
    {
     "name": "stdout",
     "output_type": "stream",
     "text": [
      "   A  B   C\n",
      "0  1  4   7\n",
      "1  2  5   8\n",
      "2  3  6   9\n",
      "3  4  7  10\n",
      "4  5  8  11\n"
     ]
    }
   ],
   "source": [
    "# Agregar una nueva fila utilizando loc[]\n",
    "df.loc[4] = [5, 8, 11]\n",
    "print(df)"
   ]
  },
  {
   "cell_type": "markdown",
   "id": "8b929310-d437-43b4-bb85-7662360d8f0d",
   "metadata": {},
   "source": [
    "Para **eliminar filas** de un DataFrame, se utiliza el método ``drop()``, especificando los índices de las filas a eliminar mediante el parámetro index. Este método devuelve un nuevo DataFrame sin las filas eliminadas:"
   ]
  },
  {
   "cell_type": "code",
   "execution_count": 15,
   "id": "6198c167-2419-45e2-911a-ff2908dc794c",
   "metadata": {},
   "outputs": [
    {
     "name": "stdout",
     "output_type": "stream",
     "text": [
      "   A  B   C\n",
      "0  1  4   7\n",
      "1  2  5   8\n",
      "3  4  7  10\n",
      "4  5  8  11\n"
     ]
    }
   ],
   "source": [
    "# Eliminar la fila con índice 2\n",
    "df = df.drop(index=2)\n",
    "print(df)"
   ]
  },
  {
   "cell_type": "markdown",
   "id": "3fa15c89-544d-4e43-93b0-98f913838a27",
   "metadata": {},
   "source": [
    "Si se desea eliminar múltiples filas, se pueden pasar los índices en una lista:"
   ]
  },
  {
   "cell_type": "code",
   "execution_count": 18,
   "id": "a931d0dd-4271-40c0-9734-7aa824d6decd",
   "metadata": {},
   "outputs": [
    {
     "name": "stdout",
     "output_type": "stream",
     "text": [
      "   A  B   C\n",
      "3  4  7  10\n",
      "4  5  8  11\n"
     ]
    }
   ],
   "source": [
    "# Eliminar las filas con índices 0 y 1\n",
    "df = df.drop(index=[0, 1])\n",
    "print(df)"
   ]
  },
  {
   "cell_type": "markdown",
   "id": "04e96e4a-6ba2-4dc5-85af-3741216df201",
   "metadata": {},
   "source": [
    "El método ``drop()`` también acepta el parámetro ``inplace=True`` para realizar los cambios directamente en el DataFrame original sin necesidad de asignar el resultado a una nueva variable:"
   ]
  },
  {
   "cell_type": "code",
   "execution_count": 21,
   "id": "9358b700-c648-4698-b7c4-6e30953b1fd4",
   "metadata": {},
   "outputs": [
    {
     "name": "stdout",
     "output_type": "stream",
     "text": [
      "   A  B   C\n",
      "4  5  8  11\n"
     ]
    }
   ],
   "source": [
    "# Eliminar la fila con índice 3 en el DataFrame original\n",
    "df.drop(index=3, inplace=True)\n",
    "print(df)"
   ]
  },
  {
   "cell_type": "markdown",
   "id": "620b72ac-3d71-4183-a160-a4326102dbbc",
   "metadata": {},
   "source": [
    "Además, pandas permite eliminar filas basadas en condiciones específicas utilizando técnicas de filtrado. Por ejemplo, si se desea eliminar todas las filas donde el valor de la columna 'A' sea mayor que 3:"
   ]
  },
  {
   "cell_type": "code",
   "execution_count": 24,
   "id": "ebe9925d-c9b4-4412-a1d6-6c4f0ea58507",
   "metadata": {
    "scrolled": true
   },
   "outputs": [
    {
     "name": "stdout",
     "output_type": "stream",
     "text": [
      "Empty DataFrame\n",
      "Columns: [A, B, C]\n",
      "Index: []\n"
     ]
    }
   ],
   "source": [
    "# Eliminar filas donde el valor de 'A' es mayor que 3\n",
    "df = df[df['A'] <= 3]\n",
    "print(df)"
   ]
  },
  {
   "cell_type": "markdown",
   "id": "ad4e2fa8-40a4-4305-9539-f2a1de715730",
   "metadata": {},
   "source": [
    "Para agregar múltiples filas, se puede concatenar un DataFrame que contenga las nuevas filas utilizando ``pd.concat()``:"
   ]
  },
  {
   "cell_type": "code",
   "execution_count": 26,
   "id": "0878f8c4-0bf6-43db-b29c-a74f129054da",
   "metadata": {},
   "outputs": [
    {
     "name": "stdout",
     "output_type": "stream",
     "text": [
      "   A   B   C\n",
      "0  6  12  18\n",
      "1  7  14  21\n"
     ]
    }
   ],
   "source": [
    "# Crear un DataFrame con nuevas filas\n",
    "new_rows = pd.DataFrame({\n",
    "    'A': [6, 7],\n",
    "    'B': [12, 14],\n",
    "    'C': [18, 21]\n",
    "})\n",
    "\n",
    "# Agregar las nuevas filas al DataFrame original\n",
    "df = pd.concat([df, new_rows], ignore_index=True)\n",
    "print(df)"
   ]
  }
 ],
 "metadata": {
  "kernelspec": {
   "display_name": "Python [conda env:base] *",
   "language": "python",
   "name": "conda-base-py"
  },
  "language_info": {
   "codemirror_mode": {
    "name": "ipython",
    "version": 3
   },
   "file_extension": ".py",
   "mimetype": "text/x-python",
   "name": "python",
   "nbconvert_exporter": "python",
   "pygments_lexer": "ipython3",
   "version": "3.12.7"
  }
 },
 "nbformat": 4,
 "nbformat_minor": 5
}
