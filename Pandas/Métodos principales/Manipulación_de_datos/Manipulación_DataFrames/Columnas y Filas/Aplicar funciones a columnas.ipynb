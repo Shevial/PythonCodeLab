{
 "cells": [
  {
   "cell_type": "markdown",
   "id": "e52ab47a-c3f3-4eea-b0a1-3ba45fb30290",
   "metadata": {},
   "source": [
    "# Aplicar funciones a columnas\n"
   ]
  },
  {
   "cell_type": "markdown",
   "id": "2f4daac3-a963-4ae5-9f0f-de927625e24a",
   "metadata": {},
   "source": [
    "Existen varias formas de aplicar funciones a columnas en un DataFrame, desde funciones básicas definidas por el usuario hasta funciones más complejas utilizando ``apply()``, ``map()``, y ``applymap()``.\n",
    "\n",
    "Para aplicar una función a una columna específica, se puede utilizar el método ``apply()``. Este método permite aplicar una función a lo largo de un eje del DataFrame (filas o columnas). \n",
    "\n",
    "A continuación se muestra cómo aplicar una función lambda que multiplica por 2 los valores de la columna A:"
   ]
  },
  {
   "cell_type": "code",
   "execution_count": 3,
   "id": "880990e9-ed58-418f-a1be-ad5e55283525",
   "metadata": {},
   "outputs": [
    {
     "name": "stdout",
     "output_type": "stream",
     "text": [
      "   A  B  C\n",
      "0  2  4  7\n",
      "1  4  5  8\n",
      "2  6  6  9\n"
     ]
    }
   ],
   "source": [
    "import pandas as pd\n",
    "\n",
    "# Crear un DataFrame de ejemplo\n",
    "df = pd.DataFrame({\n",
    "    'A': [1, 2, 3],\n",
    "    'B': [4, 5, 6],\n",
    "    'C': [7, 8, 9]\n",
    "})\n",
    "\n",
    "# Aplicar una función a la columna 'A'\n",
    "df['A'] = df['A'].apply(lambda x: x * 2)\n",
    "print(df)"
   ]
  },
  {
   "cell_type": "markdown",
   "id": "4f20bc95-b4b9-4953-830f-f802a7d3d0c6",
   "metadata": {},
   "source": [
    "El método ``apply()`` es muy flexible y permite aplicar tanto funciones de numpy como funciones definidas por el usuario.  \n",
    "Por ejemplo, se puede aplicar la función ``np.sqrt`` de numpy para calcular la raíz cuadrada de los valores de la columna B:"
   ]
  },
  {
   "cell_type": "code",
   "execution_count": 20,
   "id": "c58e07a0-f702-487c-80ed-7f941a39a411",
   "metadata": {},
   "outputs": [
    {
     "name": "stdout",
     "output_type": "stream",
     "text": [
      "   A         B  C\n",
      "0  1  2.000000  7\n",
      "1  2  2.236068  8\n",
      "2  3  2.449490  9\n"
     ]
    }
   ],
   "source": [
    "import numpy as np\n",
    "import pandas as pd\n",
    "\n",
    "df = pd.DataFrame({\n",
    "    'A': [1, 2, 3],\n",
    "    'B': [4, 5, 6],\n",
    "    'C': [7, 8, 9]\n",
    "})\n",
    "\n",
    "# Aplicar la función numpy sqrt a la columna 'B'\n",
    "df['B'] = df['B'].apply(np.sqrt)\n",
    "print(df)"
   ]
  },
  {
   "cell_type": "markdown",
   "id": "401d047a-9b87-4b8c-9530-de2b4ebcc393",
   "metadata": {},
   "source": [
    "Otra forma de aplicar funciones a columnas es utilizando el método ``map()``.  \n",
    "Este método es útil cuando se desea aplicar una función a cada elemento de una Serie. Por ejemplo, si se desea convertir los valores de la columna C en cadenas de texto:"
   ]
  },
  {
   "cell_type": "code",
   "execution_count": 11,
   "id": "296d775d-531a-4f61-97ce-5d07cfa5ec42",
   "metadata": {},
   "outputs": [
    {
     "name": "stdout",
     "output_type": "stream",
     "text": [
      "   A         B  C\n",
      "0  1  2.000000  7\n",
      "1  2  2.236068  8\n",
      "2  3  2.449490  9\n"
     ]
    }
   ],
   "source": [
    "# Aplicar la función str a la columna 'C'\n",
    "df['C'] = df['C'].map(str)\n",
    "print(df)"
   ]
  },
  {
   "cell_type": "markdown",
   "id": "30176ab5-e822-469e-8e38-f6c476696e6b",
   "metadata": {},
   "source": [
    "El método ``astype()`` en Pandas es una forma eficiente de transformar todos los elementos de un DataFrame a un tipo específico de datos. astype() permite convertir rápidamente todos los valores del DataFrame, por ejemplo, a cadenas de texto de manera uniforme. Esto es útil cuando se desea asegurar que todos los datos en el DataFrame sean de un tipo específico."
   ]
  },
  {
   "cell_type": "code",
   "execution_count": 15,
   "id": "fa9a8545-71a4-448a-814f-68540b8bbc76",
   "metadata": {},
   "outputs": [
    {
     "name": "stdout",
     "output_type": "stream",
     "text": [
      "   A                  B  C\n",
      "0  1                2.0  7\n",
      "1  2   2.23606797749979  8\n",
      "2  3  2.449489742783178  9\n"
     ]
    }
   ],
   "source": [
    "# Convertir todos los elementos del DataFrame a cadenas\n",
    "df = df.astype(str)\n",
    "print(df)"
   ]
  },
  {
   "cell_type": "markdown",
   "id": "a1fdbd92-2c5a-4530-9d2c-534218aa7b94",
   "metadata": {},
   "source": [
    "Además, pandas permite aplicar funciones de manera condicional utilizando ``np.where()``. Este método es útil para aplicar transformaciones basadas en condiciones específicas. Por ejemplo, si se desea multiplicar por 2 los valores de la columna A solo si son mayores que 2:"
   ]
  },
  {
   "cell_type": "code",
   "execution_count": 22,
   "id": "52d5391b-20a7-4586-af21-96786255a6b1",
   "metadata": {},
   "outputs": [
    {
     "name": "stdout",
     "output_type": "stream",
     "text": [
      "   A         B  C\n",
      "0  1  2.000000  7\n",
      "1  2  2.236068  8\n",
      "2  6  2.449490  9\n"
     ]
    }
   ],
   "source": [
    "# Aplicar una función condicional a la columna 'A'\n",
    "df['A'] = np.where(df['A'] > 2, df['A'] * 2, df['A'])\n",
    "print(df)"
   ]
  },
  {
   "cell_type": "markdown",
   "id": "268e6bb7-49a8-40c8-ace7-18fc8c5a2b78",
   "metadata": {},
   "source": [
    "Finalmente, es importante mencionar que también se pueden aplicar funciones de agregación a columnas utilizando métodos como ``agg()`` o ``transform()``. Estos métodos son útiles para realizar operaciones de resumen o transformaciones específicas en columnas de un DataFrame. Por ejemplo, para calcular la suma y la media de la columna B:"
   ]
  },
  {
   "cell_type": "code",
   "execution_count": 25,
   "id": "20eac824-e411-46b5-8e36-5f1427c8b4f9",
   "metadata": {},
   "outputs": [
    {
     "name": "stdout",
     "output_type": "stream",
     "text": [
      "sum     6.685558\n",
      "mean    2.228519\n",
      "Name: B, dtype: float64\n"
     ]
    }
   ],
   "source": [
    "# Aplicar funciones de agregación a la columna 'B'\n",
    "result = df['B'].agg(['sum', 'mean'])\n",
    "print(result)"
   ]
  },
  {
   "cell_type": "markdown",
   "id": "d29bc32d-ee5f-4916-af82-e4f59d9cd5cf",
   "metadata": {},
   "source": [
    "El método ``transform()`` permite aplicar una función a una columna y devolver un objeto que tiene el mismo tamaño que la columna original, lo cual es útil en operaciones de transformación que mantienen la estructura del DataFrame. Por ejemplo, para normalizar los valores de la columna A restando la media y dividiendo por la desviación estándar:"
   ]
  },
  {
   "cell_type": "code",
   "execution_count": 28,
   "id": "6042baf8-73be-4d15-8016-4217bd5e8616",
   "metadata": {},
   "outputs": [
    {
     "name": "stdout",
     "output_type": "stream",
     "text": [
      "          A         B  C\n",
      "0 -0.755929  2.000000  7\n",
      "1 -0.377964  2.236068  8\n",
      "2  1.133893  2.449490  9\n"
     ]
    }
   ],
   "source": [
    "# Normalizar la columna 'A'\n",
    "df['A'] = df['A'].transform(lambda x: (x - x.mean()) / x.std())\n",
    "print(df)"
   ]
  }
 ],
 "metadata": {
  "kernelspec": {
   "display_name": "Python [conda env:base] *",
   "language": "python",
   "name": "conda-base-py"
  },
  "language_info": {
   "codemirror_mode": {
    "name": "ipython",
    "version": 3
   },
   "file_extension": ".py",
   "mimetype": "text/x-python",
   "name": "python",
   "nbconvert_exporter": "python",
   "pygments_lexer": "ipython3",
   "version": "3.12.7"
  }
 },
 "nbformat": 4,
 "nbformat_minor": 5
}
