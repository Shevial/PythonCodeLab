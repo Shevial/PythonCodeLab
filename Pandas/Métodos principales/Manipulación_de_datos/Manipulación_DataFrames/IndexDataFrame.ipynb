{
 "cells": [
  {
   "cell_type": "markdown",
   "id": "d7b6a6ce-1011-46bf-9897-28a1b7afa79c",
   "metadata": {},
   "source": [
    "# Entender el índice en DataFrames\n",
    "El índice en un DataFrame de Pandas es una estructura fundamental que permite identificar de manera única cada fila dentro del DataFrame.  \n",
    "Cada DataFrame tiene un índice que puede ser explícito o implícito. Por defecto, Pandas asigna un índice implícito que es una secuencia de enteros comenzando desde 0. Sin embargo, es posible personalizar este índice para que utilice valores significativos extraídos de los datos, lo que puede facilitar la manipulación y el análisis de los mismos."
   ]
  },
  {
   "cell_type": "markdown",
   "id": "7f041dea-fd8f-4e40-857f-d96e790c7f92",
   "metadata": {},
   "source": [
    "El índice en los DataFrames de Pandas es una herramienta poderosa que facilita la identificación y manipulación de datos de manera eficiente. Entender cómo configurar y utilizar el índice adecuadamente es esencial para aprovechar al máximo las capacidades de los DataFrames en Pandas. "
   ]
  },
  {
   "cell_type": "markdown",
   "id": "dac8e706-d2cd-4254-a52e-0137d5552cc4",
   "metadata": {
    "jp-MarkdownHeadingCollapsed": true
   },
   "source": [
    "## Tipos de índices\n",
    "### Índice numérico secuencial (por defecto):"
   ]
  },
  {
   "cell_type": "code",
   "execution_count": 2,
   "id": "99e5fb58-81ec-424f-98ed-adea8b83b543",
   "metadata": {},
   "outputs": [
    {
     "name": "stdout",
     "output_type": "stream",
     "text": [
      "  Nombre  Edad\n",
      "0    Ana    23\n",
      "1   Luis    35\n",
      "2  Marta    29\n"
     ]
    }
   ],
   "source": [
    "import pandas as pd\n",
    "\n",
    "data = {'Nombre': ['Ana', 'Luis', 'Marta'], 'Edad': [23, 35, 29]}\n",
    "df = pd.DataFrame(data)\n",
    "print(df)\n"
   ]
  },
  {
   "cell_type": "markdown",
   "id": "e185f411-bd39-488e-8c0c-33589a506bb2",
   "metadata": {},
   "source": [
    "### Índice basado en una columna existente:"
   ]
  },
  {
   "cell_type": "markdown",
   "id": "d64a8207-ab06-4249-90cd-f3ef1418c875",
   "metadata": {},
   "source": [
    "Aquí, el índice se establece en la columna Nombre, permitiendo identificar las filas por el valor del nombre."
   ]
  },
  {
   "cell_type": "code",
   "execution_count": 5,
   "id": "374d2575-0918-45b4-828f-384179271a5c",
   "metadata": {},
   "outputs": [
    {
     "name": "stdout",
     "output_type": "stream",
     "text": [
      "        Edad\n",
      "Nombre      \n",
      "Ana       23\n",
      "Luis      35\n",
      "Marta     29\n"
     ]
    }
   ],
   "source": [
    "import pandas as pd\n",
    "\n",
    "data = {'Nombre': ['Ana', 'Luis', 'Marta'], 'Edad': [23, 35, 29]}\n",
    "df.set_index('Nombre', inplace=True)\n",
    "print(df)\n"
   ]
  },
  {
   "cell_type": "markdown",
   "id": "f4f6b127-d0af-4750-a4a5-61bb87fb2c2b",
   "metadata": {},
   "source": [
    "### Índice multi-nivel (MultiIndex):\n",
    "\n",
    "Un MultiIndex permite tener múltiples niveles de índices, lo que es útil para datos jerárquicos."
   ]
  },
  {
   "cell_type": "code",
   "execution_count": 9,
   "id": "806689b1-2545-4e46-9a21-5c2b90ae5321",
   "metadata": {},
   "outputs": [
    {
     "name": "stdout",
     "output_type": "stream",
     "text": [
      "                   Notas\n",
      "Nombre Asignatura       \n",
      "Ana    Math           90\n",
      "       Science        85\n",
      "Luis   Math           88\n",
      "       Science        92\n"
     ]
    }
   ],
   "source": [
    "import pandas as pd\n",
    "\n",
    "arrays = [['Ana', 'Ana', 'Luis', 'Luis'], ['Math', 'Science', 'Math', 'Science']]\n",
    "index = pd.MultiIndex.from_arrays(arrays, names=('Nombre', 'Asignatura'))\n",
    "data = {'Notas': [90, 85, 88, 92]}\n",
    "df = pd.DataFrame(data, index=index)\n",
    "print(df)\n"
   ]
  },
  {
   "cell_type": "markdown",
   "id": "a65cc574-9790-4d63-b2f7-6b3a42e73079",
   "metadata": {
    "jp-MarkdownHeadingCollapsed": true
   },
   "source": [
    "## Manipulación del índice\n",
    "### Restablecer el índice a su valor por defecto:\n",
    "Este comando restablece el índice al valor por defecto, convirtiendo el índice actual en una columna del DataFrame."
   ]
  },
  {
   "cell_type": "code",
   "execution_count": 12,
   "id": "0c0bc52d-3383-4fc6-9ab6-44d78be63d95",
   "metadata": {},
   "outputs": [
    {
     "name": "stdout",
     "output_type": "stream",
     "text": [
      "DataFrame con índice personalizado:\n",
      "        Edad     Ciudad\n",
      "Nombre                 \n",
      "Ana       23     Madrid\n",
      "Juan      25  Barcelona\n",
      "Pedro     30    Sevilla\n",
      "Laura     28   Valencia\n",
      "\n",
      "DataFrame después de restablecer el índice:\n",
      "  Nombre  Edad     Ciudad\n",
      "0    Ana    23     Madrid\n",
      "1   Juan    25  Barcelona\n",
      "2  Pedro    30    Sevilla\n",
      "3  Laura    28   Valencia\n"
     ]
    }
   ],
   "source": [
    "import pandas as pd\n",
    "\n",
    "# Crear un DataFrame de ejemplo con un índice personalizado\n",
    "data = {\n",
    "    'Nombre': ['Ana', 'Juan', 'Pedro', 'Laura'],\n",
    "    'Edad': [23, 25, 30, 28],\n",
    "    'Ciudad': ['Madrid', 'Barcelona', 'Sevilla', 'Valencia']\n",
    "}\n",
    "df = pd.DataFrame(data)\n",
    "df.set_index('Nombre', inplace=True)\n",
    "\n",
    "print(\"DataFrame con índice personalizado:\")\n",
    "print(df)\n",
    "\n",
    "# Restablecer el índice al valor por defecto\n",
    "df.reset_index(inplace=True)\n",
    "\n",
    "print(\"\\nDataFrame después de restablecer el índice:\")\n",
    "print(df)\n"
   ]
  },
  {
   "cell_type": "markdown",
   "id": "6fd98526-41bc-43d0-b949-5eda5cd5cd11",
   "metadata": {
    "jp-MarkdownHeadingCollapsed": true
   },
   "source": [
    "### Renombrar el índice:\n",
    "Se puede asignar un nombre al índice para mayor claridad."
   ]
  },
  {
   "cell_type": "code",
   "execution_count": 15,
   "id": "a6833da9-7b87-43a2-ad6f-e895e02e45d4",
   "metadata": {},
   "outputs": [
    {
     "name": "stdout",
     "output_type": "stream",
     "text": [
      "              Nombre  Edad     Ciudad\n",
      "Identificador                        \n",
      "0                Ana    23     Madrid\n",
      "1               Juan    25  Barcelona\n",
      "2              Pedro    30    Sevilla\n",
      "3              Laura    28   Valencia\n"
     ]
    }
   ],
   "source": [
    "# Renombrar el índice\n",
    "df.index.name = 'Identificador'\n",
    "print(df)\n"
   ]
  },
  {
   "cell_type": "markdown",
   "id": "6a3d5e6f-527b-4154-8f84-8d893fbb70d4",
   "metadata": {},
   "source": [
    "### Seleccionar datos mediante el índice:"
   ]
  },
  {
   "cell_type": "code",
   "execution_count": 17,
   "id": "45c61628-cafe-4636-a398-6f24ad8e7cb0",
   "metadata": {
    "scrolled": true
   },
   "outputs": [
    {
     "name": "stdout",
     "output_type": "stream",
     "text": [
      "Edad          23\n",
      "Ciudad    Madrid\n",
      "Name: Ana, dtype: object\n"
     ]
    }
   ],
   "source": [
    "# Establecer la columna 'Nombre' como índice\n",
    "df.set_index('Nombre', inplace=True)\n",
    "\n",
    "# Seleccionar datos mediante el índice\n",
    "fila_ana = df.loc['Ana']\n",
    "print(fila_ana)\n"
   ]
  },
  {
   "cell_type": "markdown",
   "id": "1674aaa3-1fb5-411b-aef9-3a0f7774a192",
   "metadata": {
    "jp-MarkdownHeadingCollapsed": true
   },
   "source": [
    "## Índice temporal\n",
    "### Crear un índice de fechas:"
   ]
  },
  {
   "cell_type": "code",
   "execution_count": 20,
   "id": "e599d586-2e69-4627-8b92-c343edf86c96",
   "metadata": {},
   "outputs": [
    {
     "name": "stdout",
     "output_type": "stream",
     "text": [
      "            Datos\n",
      "Fecha            \n",
      "2023-01-01      0\n",
      "2023-01-02      1\n",
      "2023-01-03      2\n",
      "2023-01-04      3\n",
      "2023-01-05      4\n",
      "2023-01-06      5\n",
      "2023-01-07      6\n",
      "2023-01-08      7\n",
      "2023-01-09      8\n",
      "2023-01-10      9\n"
     ]
    }
   ],
   "source": [
    "import pandas as pd\n",
    "\n",
    "date_rng = pd.date_range(start='2023-01-01', end='2023-01-10', freq='D')\n",
    "df = pd.DataFrame(date_rng, columns=['Fecha'])\n",
    "df['Datos'] = range(10)\n",
    "df.set_index('Fecha', inplace=True)\n",
    "print(df)\n"
   ]
  },
  {
   "cell_type": "markdown",
   "id": "d61eaee0-bdd4-4840-b528-5cc027197753",
   "metadata": {},
   "source": [
    "### Operaciones con índices temporales:"
   ]
  },
  {
   "cell_type": "code",
   "execution_count": 24,
   "id": "c000214e-5e4b-4428-be87-5178a364bb22",
   "metadata": {},
   "outputs": [
    {
     "name": "stdout",
     "output_type": "stream",
     "text": [
      "Datos    2\n",
      "Name: 2023-01-03 00:00:00, dtype: int64\n",
      "            Datos\n",
      "Fecha            \n",
      "2023-01-03      2\n",
      "2023-01-04      3\n",
      "2023-01-05      4\n"
     ]
    }
   ],
   "source": [
    "# Seleccionar datos de una fecha específica\n",
    "print(df.loc['2023-01-03'])\n",
    "\n",
    "# Seleccionar datos de un rango de fechas\n",
    "print(df.loc['2023-01-03':'2023-01-05'])\n"
   ]
  },
  {
   "cell_type": "markdown",
   "id": "c6a1abed-e616-40c9-9b24-6dade1ef5ba9",
   "metadata": {
    "jp-MarkdownHeadingCollapsed": true
   },
   "source": [
    "## Índice duplicado\n",
    "\n",
    "Es posible que un DataFrame tenga índices duplicados, aunque en general no es recomendable porque puede complicar las operaciones de manipulación y análisis.\n",
    "\n",
    " ### <span style=\"background-color: yellow\">Detectar índices duplicados: </span>"
   ]
  },
  {
   "cell_type": "code",
   "execution_count": 30,
   "id": "549929ac-504a-4967-b9c4-57930f33f648",
   "metadata": {},
   "outputs": [
    {
     "name": "stdout",
     "output_type": "stream",
     "text": [
      "[False False  True]\n"
     ]
    }
   ],
   "source": [
    "import pandas as pd\n",
    "\n",
    "df = pd.DataFrame({'Nombre': ['Ana', 'Luis', 'Ana'], 'Edad': [23, 35, 29]})\n",
    "df.set_index('Nombre', inplace=True)\n",
    "print(df.index.duplicated())"
   ]
  },
  {
   "cell_type": "markdown",
   "id": "f7548613-aeef-4817-9e2a-52d1a910434c",
   "metadata": {},
   "source": [
    "### Eliminar índices duplicados:"
   ]
  },
  {
   "cell_type": "code",
   "execution_count": 33,
   "id": "7da9bdaf-43cb-48ce-a116-442cc25a913c",
   "metadata": {
    "scrolled": true
   },
   "outputs": [
    {
     "name": "stdout",
     "output_type": "stream",
     "text": [
      "        Edad\n",
      "Nombre      \n",
      "Ana       23\n",
      "Luis      35\n"
     ]
    }
   ],
   "source": [
    "df = df[~df.index.duplicated(keep='first')]\n",
    "print(df)\n"
   ]
  },
  {
   "cell_type": "markdown",
   "id": "7dfc2c21-56de-47a2-8bf7-dd0f6715b58f",
   "metadata": {
    "jp-MarkdownHeadingCollapsed": true
   },
   "source": [
    "## Índice jerárquico (MultiIndex)\n",
    "En situaciones donde los datos tienen múltiples niveles de categorización, se puede utilizar un índice jerárquico o MultiIndex.\n",
    "\n",
    "### Crear un MultiIndex:\n"
   ]
  },
  {
   "cell_type": "code",
   "execution_count": 37,
   "id": "7d05a576-dc08-458c-bf98-361c97204c2b",
   "metadata": {},
   "outputs": [
    {
     "name": "stdout",
     "output_type": "stream",
     "text": [
      "                   Notas\n",
      "Nombre Asignatura       \n",
      "Ana    Math           90\n",
      "       Science        85\n",
      "Luis   Math           88\n",
      "       Science        92\n"
     ]
    }
   ],
   "source": [
    "import pandas as pd\n",
    "\n",
    "arrays = [['Ana', 'Ana', 'Luis', 'Luis'], ['Math', 'Science', 'Math', 'Science']]\n",
    "index = pd.MultiIndex.from_arrays(arrays, names=('Nombre', 'Asignatura'))\n",
    "data = {'Notas': [90, 85, 88, 92]}\n",
    "df = pd.DataFrame(data, index=index)\n",
    "print(df)\n"
   ]
  },
  {
   "cell_type": "markdown",
   "id": "dec04a90-b7d8-4ba7-b369-211ea7e61297",
   "metadata": {},
   "source": [
    "### Acceso a datos con MultiIndex:"
   ]
  },
  {
   "cell_type": "code",
   "execution_count": 40,
   "id": "5c2c6252-f3cf-455b-9c67-b09e471c9298",
   "metadata": {},
   "outputs": [
    {
     "name": "stdout",
     "output_type": "stream",
     "text": [
      "            Notas\n",
      "Asignatura       \n",
      "Math           90\n",
      "Science        85\n",
      "Notas    88\n",
      "Name: (Luis, Math), dtype: int64\n"
     ]
    }
   ],
   "source": [
    "# Seleccionar todas las asignaturas de 'Ana'\n",
    "print(df.loc['Ana'])\n",
    "\n",
    "# Seleccionar la nota de 'Luis' en 'Math'\n",
    "print(df.loc[('Luis', 'Math')])\n"
   ]
  }
 ],
 "metadata": {
  "kernelspec": {
   "display_name": "Python [conda env:base] *",
   "language": "python",
   "name": "conda-base-py"
  },
  "language_info": {
   "codemirror_mode": {
    "name": "ipython",
    "version": 3
   },
   "file_extension": ".py",
   "mimetype": "text/x-python",
   "name": "python",
   "nbconvert_exporter": "python",
   "pygments_lexer": "ipython3",
   "version": "3.12.7"
  }
 },
 "nbformat": 4,
 "nbformat_minor": 5
}
