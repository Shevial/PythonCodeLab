{
 "cells": [
  {
   "cell_type": "markdown",
   "id": "486e1355-fe03-45f3-a395-a02dbe409eb7",
   "metadata": {},
   "source": [
    "## ¿Qué son las Series y cómo se crean?"
   ]
  },
  {
   "cell_type": "markdown",
   "id": "214a1980-9fcd-48cf-a826-ddc8408c59ff",
   "metadata": {},
   "source": [
    "Una Serie es esencialmente una **columna de datos que tiene un índice asociado**.  \n",
    "Cada Serie en Pandas es un **objeto unidimensional** que puede contener cualquier tipo de datos, como enteros, cadenas, flotantes o incluso otros objetos.  \n",
    "Para crear una Serie: constructor ``pd.Series()``"
   ]
  },
  {
   "cell_type": "markdown",
   "id": "6e2903fe-aba2-4154-831f-a0858af8a8a5",
   "metadata": {},
   "source": [
    "Creación de Series a partir de una lista"
   ]
  },
  {
   "cell_type": "code",
   "execution_count": 1,
   "id": "94b9b43d-151e-492e-a694-fc640c0eb79e",
   "metadata": {},
   "outputs": [
    {
     "name": "stdout",
     "output_type": "stream",
     "text": [
      "0    10\n",
      "1    20\n",
      "2    30\n",
      "3    40\n",
      "4    50\n",
      "dtype: int64\n"
     ]
    }
   ],
   "source": [
    "import pandas as pd\n",
    "\n",
    "data = [10, 20, 30, 40, 50]\n",
    "serie = pd.Series(data)\n",
    "print(serie)"
   ]
  },
  {
   "cell_type": "markdown",
   "id": "559eddc6-7049-46ca-8b90-d7c24c6600db",
   "metadata": {},
   "source": [
    "Creación de Series a partir de un diccionario"
   ]
  },
  {
   "cell_type": "code",
   "execution_count": 3,
   "id": "c7ab3edf-51be-4427-9b59-7271a29aff57",
   "metadata": {},
   "outputs": [
    {
     "name": "stdout",
     "output_type": "stream",
     "text": [
      "a    1\n",
      "b    2\n",
      "c    3\n",
      "dtype: int64\n"
     ]
    }
   ],
   "source": [
    "import pandas as pd\n",
    "\n",
    "data = {'a': 1, 'b': 2, 'c': 3}\n",
    "serie = pd.Series(data)\n",
    "print(serie)"
   ]
  },
  {
   "cell_type": "markdown",
   "id": "3a8ffdc3-c8f3-475e-8b09-594c62ba2779",
   "metadata": {},
   "source": [
    "Creación de Series a partir de un array de NumPy"
   ]
  },
  {
   "cell_type": "code",
   "execution_count": 6,
   "id": "06a2b676-d221-435b-a32e-c4170610408b",
   "metadata": {},
   "outputs": [
    {
     "name": "stdout",
     "output_type": "stream",
     "text": [
      "0    1\n",
      "1    2\n",
      "2    3\n",
      "3    4\n",
      "4    5\n",
      "dtype: int32\n"
     ]
    }
   ],
   "source": [
    "import pandas as pd\n",
    "import numpy as np\n",
    "\n",
    "data = np.array([1, 2, 3, 4, 5])\n",
    "serie = pd.Series(data)\n",
    "print(serie)"
   ]
  },
  {
   "cell_type": "markdown",
   "id": "173bd95b-fbd5-4db8-a644-e9e76edce6bd",
   "metadata": {},
   "source": [
    "Creación de Series a partir de un diccionario"
   ]
  },
  {
   "cell_type": "code",
   "execution_count": 1,
   "id": "f2edb2b0-7c27-4b2a-8f7a-ceddd1d4af67",
   "metadata": {},
   "outputs": [
    {
     "name": "stdout",
     "output_type": "stream",
     "text": [
      "a    1\n",
      "b    2\n",
      "c    3\n",
      "dtype: int64\n"
     ]
    }
   ],
   "source": [
    "import pandas as pd\n",
    "\n",
    "data = {'a': 1, 'b': 2, 'c': 3}\n",
    "serie = pd.Series(data)\n",
    "print(serie)"
   ]
  },
  {
   "cell_type": "markdown",
   "id": "3302ee69-1568-4354-b68b-01a11e659071",
   "metadata": {},
   "source": [
    "Creación de Series a partir de una constante"
   ]
  },
  {
   "cell_type": "code",
   "execution_count": 8,
   "id": "19d3bbe3-3316-496e-9aac-2b0d608b2323",
   "metadata": {},
   "outputs": [
    {
     "name": "stdout",
     "output_type": "stream",
     "text": [
      "a    5\n",
      "b    5\n",
      "c    5\n",
      "d    5\n",
      "dtype: int64\n"
     ]
    }
   ],
   "source": [
    "import pandas as pd\n",
    "\n",
    "serie = pd.Series(5, index=['a', 'b', 'c', 'd'])\n",
    "print(serie)"
   ]
  },
  {
   "cell_type": "markdown",
   "id": "0c83bfb2-2b19-45ab-bd58-523f22db53c6",
   "metadata": {},
   "source": [
    "Especificación de un índice personalizado"
   ]
  },
  {
   "cell_type": "code",
   "execution_count": 10,
   "id": "6c56793f-0246-4dea-af3f-5240ffe1a4b7",
   "metadata": {},
   "outputs": [
    {
     "name": "stdout",
     "output_type": "stream",
     "text": [
      "x    10\n",
      "y    20\n",
      "z    30\n",
      "dtype: int64\n"
     ]
    }
   ],
   "source": [
    "import pandas as pd\n",
    "\n",
    "data = [10, 20, 30]\n",
    "index = ['x', 'y', 'z']\n",
    "serie = pd.Series(data, index=index)\n",
    "print(serie)\n"
   ]
  },
  {
   "cell_type": "markdown",
   "id": "4509147e-6b23-4f7d-af31-15444657d9ad",
   "metadata": {},
   "source": [
    "Series con datos de diferentes tipos"
   ]
  },
  {
   "cell_type": "code",
   "execution_count": 12,
   "id": "a5d97a7a-805d-4e86-bdf6-a01323c37176",
   "metadata": {},
   "outputs": [
    {
     "name": "stdout",
     "output_type": "stream",
     "text": [
      "0      1\n",
      "1      a\n",
      "2    3.5\n",
      "dtype: object\n"
     ]
    }
   ],
   "source": [
    "import pandas as pd\n",
    "\n",
    "data = [1, 'a', 3.5]\n",
    "serie = pd.Series(data)\n",
    "print(serie)"
   ]
  }
 ],
 "metadata": {
  "kernelspec": {
   "display_name": "Python [conda env:base] *",
   "language": "python",
   "name": "conda-base-py"
  },
  "language_info": {
   "codemirror_mode": {
    "name": "ipython",
    "version": 3
   },
   "file_extension": ".py",
   "mimetype": "text/x-python",
   "name": "python",
   "nbconvert_exporter": "python",
   "pygments_lexer": "ipython3",
   "version": "3.12.7"
  }
 },
 "nbformat": 4,
 "nbformat_minor": 5
}
