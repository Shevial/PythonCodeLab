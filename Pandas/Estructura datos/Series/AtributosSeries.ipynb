{
 "cells": [
  {
   "cell_type": "markdown",
   "id": "465db836-a040-45be-ab01-f1b13f1912e2",
   "metadata": {},
   "source": [
    "## Atributos de las Series  \n",
    "- **index**: Devuelve el índice (etiquetas) de la Serie. Este atributo es de tipo ``pd.Index``"
   ]
  },
  {
   "cell_type": "code",
   "execution_count": 2,
   "id": "425431a7-a389-463f-aea7-259f34653ad3",
   "metadata": {},
   "outputs": [
    {
     "name": "stdout",
     "output_type": "stream",
     "text": [
      "Index(['a', 'b', 'c'], dtype='object')\n"
     ]
    }
   ],
   "source": [
    "import pandas as pd\n",
    "\n",
    "serie = pd.Series([10, 20, 30], index=['a', 'b', 'c'])\n",
    "print(serie.index)\n"
   ]
  },
  {
   "cell_type": "markdown",
   "id": "26113844-0ccb-4ae9-8d24-6492c166ca90",
   "metadata": {},
   "source": [
    "- **values**: Devuelve los valores de la Serie como un array de NumPy.  \n",
    "Esto es útil para operaciones de bajo nivel o cuando se requiere un acceso más directo a los datos.  \n",
    "Nota: Aunque el atributo values sigue disponible, se recomienda utilizar el método **``to_numpy()``** para obtener los datos como un array de NumPy, ya que es más flexible y seguro en diversas situaciones.\n"
   ]
  },
  {
   "cell_type": "code",
   "execution_count": 6,
   "id": "2e114ae9-ce5d-4ca4-b117-cd1d6cc0f921",
   "metadata": {},
   "outputs": [
    {
     "name": "stdout",
     "output_type": "stream",
     "text": [
      "[10 20 30]\n"
     ]
    }
   ],
   "source": [
    "import pandas as pd\n",
    "\n",
    "serie = pd.Series([10, 20, 30], index=['a', 'b', 'c'])\n",
    "print(serie.values)"
   ]
  },
  {
   "cell_type": "markdown",
   "id": "f278e728-3e49-4c63-a895-9aede10747e3",
   "metadata": {},
   "source": [
    "- **name**: Permite **asignar o devolver el nombre de la Serie.**  \n",
    "  Este atributo es útil cuando se trabaja con DataFrames y se desean identificar las Series por su nombre."
   ]
  },
  {
   "cell_type": "code",
   "execution_count": 13,
   "id": "6ee0bac7-5b12-458f-b1ec-42a186e94514",
   "metadata": {},
   "outputs": [
    {
     "name": "stdout",
     "output_type": "stream",
     "text": [
      "mi_serie\n"
     ]
    }
   ],
   "source": [
    "import pandas as pd\n",
    "\n",
    "serie = pd.Series([10, 20, 30], index=['a', 'b', 'c'])\n",
    "serie.name = 'mi_serie'\n",
    "print(serie.name)"
   ]
  },
  {
   "cell_type": "markdown",
   "id": "87c4ce6f-a76b-4fd5-b555-e72e7827714c",
   "metadata": {},
   "source": [
    "- **dtype**: Devuelve el tipo de dato de los elementos en la Serie.  \n",
    "  Este atributo es crucial para entender el tipo de datos con los que se está trabajando y es útil para realizar conversiones de tipo si es necesario."
   ]
  },
  {
   "cell_type": "code",
   "execution_count": 15,
   "id": "5e429c55-26ea-4e5e-b0c4-808156ca1db2",
   "metadata": {},
   "outputs": [
    {
     "name": "stdout",
     "output_type": "stream",
     "text": [
      "int64\n"
     ]
    }
   ],
   "source": [
    "import pandas as pd\n",
    "\n",
    "serie = pd.Series([10, 20, 30], index=['a', 'b', 'c'])\n",
    "print(serie.dtype)\n"
   ]
  },
  {
   "cell_type": "markdown",
   "id": "b4ea8ec7-f353-4ea6-84d2-c30e14ff6a83",
   "metadata": {},
   "source": [
    "- **size**: Devuelve el número de elementos en la Serie.  \n",
    "   Este atributo es útil para obtener rápidamente la **longitud** de la Serie."
   ]
  },
  {
   "cell_type": "code",
   "execution_count": 20,
   "id": "49b5435d-3135-48b4-958b-a8c67ea74e1c",
   "metadata": {},
   "outputs": [
    {
     "name": "stdout",
     "output_type": "stream",
     "text": [
      "3\n"
     ]
    }
   ],
   "source": [
    "import pandas as pd\n",
    "\n",
    "serie = pd.Series([10, 20, 30], index=['a', 'b', 'c'])\n",
    "print(serie.size)"
   ]
  },
  {
   "cell_type": "markdown",
   "id": "6adbe728-de0c-46d6-bbe8-60ff639f03df",
   "metadata": {},
   "source": [
    "- **shape**: Devuelve una tupla que indica la forma de la Serie.  \n",
    "  Aunque para Series siempre será (n,) donde n es el número de elementos, este atributo es coherente con otras estructuras de datos como DataFrames."
   ]
  },
  {
   "cell_type": "code",
   "execution_count": 22,
   "id": "81bbe1ed-4702-413b-aa36-3f3309ddb766",
   "metadata": {},
   "outputs": [
    {
     "name": "stdout",
     "output_type": "stream",
     "text": [
      "(3,)\n"
     ]
    }
   ],
   "source": [
    "import pandas as pd\n",
    "\n",
    "serie = pd.Series([10, 20, 30], index=['a', 'b', 'c'])\n",
    "print(serie.shape)"
   ]
  },
  {
   "cell_type": "markdown",
   "id": "18418763-00bb-4368-8fc4-9eabb264ac0c",
   "metadata": {},
   "source": [
    "- **empty**: Devuelve un booleano que indica si la Serie está vacía o no.  \n",
    "   Este atributo es útil para validaciones rápidas."
   ]
  },
  {
   "cell_type": "code",
   "execution_count": 25,
   "id": "a001736e-9566-4c12-b3c6-de13df2ec0eb",
   "metadata": {},
   "outputs": [
    {
     "name": "stdout",
     "output_type": "stream",
     "text": [
      "False\n"
     ]
    }
   ],
   "source": [
    "import pandas as pd\n",
    "\n",
    "serie = pd.Series([10, 20, 30], index=['a', 'b', 'c'])\n",
    "print(serie.empty)\n"
   ]
  },
  {
   "cell_type": "markdown",
   "id": "29f66f51-8e34-4dc2-bccf-b0e9e1fb6b75",
   "metadata": {},
   "source": [
    "- **nbytes**: Devuelve el número de bytes que ocupan los datos de la Serie en memoria.  \n",
    "Este atributo es útil para análisis de rendimiento y optimización de memoria."
   ]
  },
  {
   "cell_type": "code",
   "execution_count": 28,
   "id": "d3f2281b-437b-46f0-8713-ba86f31555d9",
   "metadata": {},
   "outputs": [
    {
     "name": "stdout",
     "output_type": "stream",
     "text": [
      "24\n"
     ]
    }
   ],
   "source": [
    "import pandas as pd\n",
    "\n",
    "serie = pd.Series([10, 20, 30], index=['a', 'b', 'c'])\n",
    "print(serie.nbytes)"
   ]
  },
  {
   "cell_type": "markdown",
   "id": "1213125c-477d-4874-9661-b2c15f1ceb6a",
   "metadata": {},
   "source": [
    "-<mark> **hasnans**: Devuelve un booleano que indica si la Serie contiene valores NaN.  \n",
    "  Este atributo es útil para la limpieza de datos y validaciones.</mark>"
   ]
  },
  {
   "cell_type": "code",
   "execution_count": 32,
   "id": "58611be8-5f4f-47a8-bee8-10d16c7a30ef",
   "metadata": {},
   "outputs": [
    {
     "name": "stdout",
     "output_type": "stream",
     "text": [
      "True\n"
     ]
    }
   ],
   "source": [
    "import pandas as pd\n",
    "serie_with_nan = pd.Series([1, 2, None])\n",
    "print(serie_with_nan.hasnans)"
   ]
  },
  {
   "cell_type": "markdown",
   "id": "d76a4152-9e70-40f0-ac15-94fc58d3a873",
   "metadata": {},
   "source": [
    "- is_unique: Devuelve un booleano que indica si todos los valores en la Serie son únicos.  \n",
    "  Este atributo es útil para validar la unicidad de datos en ciertas operaciones."
   ]
  },
  {
   "cell_type": "code",
   "execution_count": 36,
   "id": "1d945759-42cd-4765-85cc-d30b089bc744",
   "metadata": {},
   "outputs": [
    {
     "name": "stdout",
     "output_type": "stream",
     "text": [
      "True\n"
     ]
    }
   ],
   "source": [
    "import pandas as pd\n",
    "\n",
    "serie = pd.Series([10, 20, 30], index=['a', 'b', 'c'])\n",
    "print(serie.is_unique)\n"
   ]
  }
 ],
 "metadata": {
  "kernelspec": {
   "display_name": "Python [conda env:base] *",
   "language": "python",
   "name": "conda-base-py"
  },
  "language_info": {
   "codemirror_mode": {
    "name": "ipython",
    "version": 3
   },
   "file_extension": ".py",
   "mimetype": "text/x-python",
   "name": "python",
   "nbconvert_exporter": "python",
   "pygments_lexer": "ipython3",
   "version": "3.12.7"
  }
 },
 "nbformat": 4,
 "nbformat_minor": 5
}
