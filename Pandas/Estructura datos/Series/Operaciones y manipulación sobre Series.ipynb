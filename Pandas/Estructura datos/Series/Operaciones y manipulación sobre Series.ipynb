{
 "cells": [
  {
   "cell_type": "markdown",
   "id": "e28143ae-64d8-449e-9b8a-55a66c7e0f77",
   "metadata": {},
   "source": [
    "## Operaciones aritméticas"
   ]
  },
  {
   "cell_type": "markdown",
   "id": "37cbcd4e-fc59-467e-b3c2-2c558e892b72",
   "metadata": {},
   "source": [
    "Estas operaciones se aplican elemento por elemento y pueden realizarse con otras Series, arrays de NumPy o constantes."
   ]
  },
  {
   "cell_type": "code",
   "execution_count": 1,
   "id": "0393a170-a20a-4aed-bf8e-7c932baffae3",
   "metadata": {},
   "outputs": [
    {
     "name": "stdout",
     "output_type": "stream",
     "text": [
      "0    11\n",
      "1    22\n",
      "2    33\n",
      "3    44\n",
      "dtype: int64\n",
      "0    -9\n",
      "1   -18\n",
      "2   -27\n",
      "3   -36\n",
      "dtype: int64\n",
      "0     10\n",
      "1     40\n",
      "2     90\n",
      "3    160\n",
      "dtype: int64\n",
      "0    0.1\n",
      "1    0.1\n",
      "2    0.1\n",
      "3    0.1\n",
      "dtype: float64\n"
     ]
    }
   ],
   "source": [
    "import pandas as pd\n",
    "\n",
    "serie1 = pd.Series([1, 2, 3, 4])\n",
    "serie2 = pd.Series([10, 20, 30, 40])\n",
    "\n",
    "# Suma\n",
    "print(serie1 + serie2)\n",
    "\n",
    "# Resta\n",
    "print(serie1 - serie2)\n",
    "\n",
    "# Multiplicación\n",
    "print(serie1 * serie2)\n",
    "\n",
    "# División\n",
    "print(serie1 / serie2)\n"
   ]
  },
  {
   "cell_type": "markdown",
   "id": "3334f6be-6f10-4cff-99df-fa401c1875a2",
   "metadata": {},
   "source": [
    "## Aplicación de funciones: apply y map\n",
    "Pandas permite aplicar funciones a los elementos de una Serie utilizando apply y map. Estas funciones son útiles para realizar transformaciones complejas y personalizadas."
   ]
  },
  {
   "cell_type": "code",
   "execution_count": 6,
   "id": "06cad044-05da-4ffc-9619-f10a7585e273",
   "metadata": {},
   "outputs": [
    {
     "name": "stdout",
     "output_type": "stream",
     "text": [
      "0     1\n",
      "1     4\n",
      "2     9\n",
      "3    16\n",
      "dtype: int64\n",
      "0    1\n",
      "1    2\n",
      "2    3\n",
      "3    4\n",
      "dtype: object\n"
     ]
    }
   ],
   "source": [
    "import pandas as pd\n",
    "\n",
    "serie1 = pd.Series([1, 2, 3, 4])\n",
    "serie2 = pd.Series([10, 20, 30, 40])\n",
    "# Usando apply para aplicar una función lambda\n",
    "print(serie1.apply(lambda x: x**2))\n",
    "\n",
    "# Usando map para aplicar una función predefinida\n",
    "print(serie1.map(str))"
   ]
  },
  {
   "cell_type": "markdown",
   "id": "c5119007-84c9-49a2-82db-d43a419036da",
   "metadata": {},
   "source": [
    "## Ordenación y clasificación\n",
    "\n"
   ]
  },
  {
   "cell_type": "markdown",
   "id": "028a4ecd-67bd-4b44-82a2-14f5d1408f9c",
   "metadata": {},
   "source": [
    "Las Series pueden ordenarse utilizando el método sort_values y clasificarse con rank."
   ]
  },
  {
   "cell_type": "code",
   "execution_count": 10,
   "id": "637a9705-887b-42e5-88fa-8907cf1f0510",
   "metadata": {},
   "outputs": [
    {
     "name": "stdout",
     "output_type": "stream",
     "text": [
      "1    1\n",
      "3    1\n",
      "6    2\n",
      "0    3\n",
      "2    4\n",
      "4    5\n",
      "5    9\n",
      "dtype: int64\n",
      "0    4.0\n",
      "1    1.5\n",
      "2    5.0\n",
      "3    1.5\n",
      "4    6.0\n",
      "5    7.0\n",
      "6    3.0\n",
      "dtype: float64\n"
     ]
    }
   ],
   "source": [
    "import pandas as pd\n",
    "serie = pd.Series([3, 1, 4, 1, 5, 9, 2])\n",
    "\n",
    "# Ordenar por valores\n",
    "print(serie.sort_values())\n",
    "\n",
    "# Clasificar valores\n",
    "print(serie.rank())"
   ]
  },
  {
   "cell_type": "markdown",
   "id": "acce0340-8d3d-4835-ac8b-abd80b9da200",
   "metadata": {},
   "source": [
    "## Filtrado y selección condicional\n",
    "\n",
    "Las Series permiten filtrar elementos basados en condiciones, lo que es útil para la limpieza y análisis de datos."
   ]
  },
  {
   "cell_type": "code",
   "execution_count": 13,
   "id": "e83e7c44-77bc-46d3-bdf1-115a1483a887",
   "metadata": {
    "scrolled": true
   },
   "outputs": [
    {
     "name": "stdout",
     "output_type": "stream",
     "text": [
      "0    3\n",
      "2    4\n",
      "4    5\n",
      "5    9\n",
      "dtype: int64\n",
      "2    4\n",
      "6    2\n",
      "dtype: int64\n"
     ]
    }
   ],
   "source": [
    "import pandas as pd\n",
    "serie = pd.Series([3, 1, 4, 1, 5, 9, 2])\n",
    "# Filtrar elementos mayores a 2\n",
    "print(serie[serie > 2])\n",
    "\n",
    "# Filtrar elementos que son pares\n",
    "print(serie[serie % 2 == 0])"
   ]
  },
  {
   "cell_type": "markdown",
   "id": "1e29ca75-63e7-43a6-8463-35a126e73cf1",
   "metadata": {},
   "source": [
    "## Manejo de valores nulos\n",
    "\n",
    "Pandas proporciona métodos para manejar valores nulos en las Series, como ``isna``, ``fillna`` y ``dropna``."
   ]
  },
  {
   "cell_type": "code",
   "execution_count": 16,
   "id": "c53474e4-dd4c-4f36-b4d2-b2cfbfc733dd",
   "metadata": {},
   "outputs": [
    {
     "name": "stdout",
     "output_type": "stream",
     "text": [
      "0    False\n",
      "1    False\n",
      "2     True\n",
      "3    False\n",
      "4     True\n",
      "dtype: bool\n",
      "0    1.0\n",
      "1    2.0\n",
      "2    0.0\n",
      "3    4.0\n",
      "4    0.0\n",
      "dtype: float64\n",
      "0    1.0\n",
      "1    2.0\n",
      "3    4.0\n",
      "dtype: float64\n"
     ]
    }
   ],
   "source": [
    "import pandas as pd\n",
    "serie = pd.Series([3, 1, 4, 1, 5, 9, 2])\n",
    "serie_with_nan = pd.Series([1, 2, None, 4, None])\n",
    "\n",
    "# Detectar valores nulos\n",
    "print(serie_with_nan.isna())\n",
    "\n",
    "# Rellenar valores nulos con un valor específico\n",
    "print(serie_with_nan.fillna(0))\n",
    "\n",
    "# Eliminar valores nulos\n",
    "print(serie_with_nan.dropna())"
   ]
  },
  {
   "cell_type": "markdown",
   "id": "a1c04897-a0ff-43f3-961f-0f5ce6b6f3ac",
   "metadata": {},
   "source": [
    "## Operaciones de alineación y combinación\n",
    "\n",
    "Las Series en Pandas se alinean automáticamente según sus índices cuando se realizan operaciones entre ellas. Esto permite combinar datos de diferentes fuentes de manera coherente."
   ]
  },
  {
   "cell_type": "code",
   "execution_count": 19,
   "id": "36240049-6915-4ebe-86b6-2acc62874452",
   "metadata": {},
   "outputs": [
    {
     "name": "stdout",
     "output_type": "stream",
     "text": [
      "a    NaN\n",
      "b    6.0\n",
      "c    8.0\n",
      "d    NaN\n",
      "dtype: float64\n"
     ]
    }
   ],
   "source": [
    "import pandas as pd\n",
    "serie1 = pd.Series([1, 2, 3], index=['a', 'b', 'c'])\n",
    "serie2 = pd.Series([4, 5, 6], index=['b', 'c', 'd'])\n",
    "\n",
    "# Suma de Series con alineación automática\n",
    "print(serie1 + serie2)"
   ]
  },
  {
   "cell_type": "markdown",
   "id": "b47e17a9-aedb-42de-8c9f-b9f55ce191be",
   "metadata": {},
   "source": [
    "## Reindexación\n",
    "\n",
    "El método reindex permite cambiar el índice de una Serie, añadiendo o eliminando etiquetas según sea necesario."
   ]
  },
  {
   "cell_type": "code",
   "execution_count": 23,
   "id": "0b5d9f0c-e94d-43fc-b62f-91934caed18f",
   "metadata": {},
   "outputs": [
    {
     "name": "stdout",
     "output_type": "stream",
     "text": [
      "a    1.0\n",
      "b    2.0\n",
      "d    NaN\n",
      "dtype: float64\n"
     ]
    }
   ],
   "source": [
    "import pandas as pd\n",
    "serie = pd.Series([1, 2, 3], index=['a', 'b', 'c'])\n",
    "\n",
    "# Reindexar la Serie\n",
    "reindexed_serie = serie.reindex(['a', 'b', 'd'])\n",
    "print(reindexed_serie)"
   ]
  }
 ],
 "metadata": {
  "kernelspec": {
   "display_name": "Python [conda env:base] *",
   "language": "python",
   "name": "conda-base-py"
  },
  "language_info": {
   "codemirror_mode": {
    "name": "ipython",
    "version": 3
   },
   "file_extension": ".py",
   "mimetype": "text/x-python",
   "name": "python",
   "nbconvert_exporter": "python",
   "pygments_lexer": "ipython3",
   "version": "3.12.7"
  }
 },
 "nbformat": 4,
 "nbformat_minor": 5
}
