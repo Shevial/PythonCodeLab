{
 "cells": [
  {
   "cell_type": "markdown",
   "id": "ae27b640-f9eb-4226-a788-b12d05e329c1",
   "metadata": {},
   "source": [
    "# Optimización y rendimiento de Series"
   ]
  },
  {
   "cell_type": "markdown",
   "id": "4353e09e-c224-4e1b-b27f-dfa4bb39d6e5",
   "metadata": {},
   "source": [
    "Primero, es importante entender que Pandas está construido sobre NumPy, lo que significa que muchas de las optimizaciones de rendimiento se derivan del uso eficiente de arrays de NumPy. \n",
    "\n",
    "Las Series en Pandas están diseñadas para ser rápidas y eficientes, pero hay varias estrategias adicionales que se pueden emplear para mejorar aún más el rendimiento."
   ]
  },
  {
   "cell_type": "markdown",
   "id": "f480e35a-d1e2-42c4-8c06-61c8c0da09d0",
   "metadata": {},
   "source": [
    "###  Tipos de datos y memoria\n",
    "\n",
    "El tipo de datos de una Serie puede tener un impacto significativo en el rendimiento y el uso de memoria. Es recomendable utilizar tipos de datos más eficientes siempre que sea posible."
   ]
  },
  {
   "cell_type": "code",
   "execution_count": 4,
   "id": "a57933fc-2c20-4c8f-87f2-e7a50c6dc972",
   "metadata": {
    "scrolled": true
   },
   "outputs": [
    {
     "name": "stdout",
     "output_type": "stream",
     "text": [
      "172\n",
      "152\n"
     ]
    }
   ],
   "source": [
    "import pandas as pd\n",
    "\n",
    "# Crear una Serie con tipo de dato int64\n",
    "serie = pd.Series([1, 2, 3, 4, 5], dtype='int64')\n",
    "print(serie.memory_usage(deep=True))\n",
    "\n",
    "# Convertir la Serie a tipo int32\n",
    "serie = serie.astype('int32')\n",
    "print(serie.memory_usage(deep=True))"
   ]
  },
  {
   "cell_type": "markdown",
   "id": "53d0fad1-e597-42fc-9717-5c35cdd1389e",
   "metadata": {},
   "source": [
    "El uso de tipos de datos más pequeños puede reducir considerablemente el uso de memoria, lo que es crucial cuando se trabaja con grandes datasets."
   ]
  },
  {
   "cell_type": "markdown",
   "id": "5d8d92f7-a591-4e01-96f7-0843dd46ab69",
   "metadata": {},
   "source": [
    "### Uso de operaciones vectorizadas\n",
    "\n",
    "Las operaciones vectorizadas en Pandas y NumPy son más rápidas que los bucles explícitos de Python. Siempre que sea posible, utilice operaciones vectorizadas para manipular Series."
   ]
  },
  {
   "cell_type": "code",
   "execution_count": 13,
   "id": "af8e4896-0413-4b62-9980-5a85314dd0c5",
   "metadata": {},
   "outputs": [],
   "source": [
    "import pandas as pd\n",
    "import numpy as np\n",
    "\n",
    "# Crear un generador aleatorio\n",
    "rng = np.random.default_rng(seed=42)\n",
    "\n",
    "# Generar la serie utilizando el nuevo generador aleatorio\n",
    "serie = pd.Series(rng.random(1000000))\n",
    "\n",
    "# Operación vectorizada\n",
    "result = serie * 2\n"
   ]
  },
  {
   "cell_type": "markdown",
   "id": "2c930265-633c-4737-b242-ea773650bfd8",
   "metadata": {},
   "source": [
    "Evite el uso de bucles for para realizar operaciones en Series, ya que son significativamente más lentos."
   ]
  },
  {
   "cell_type": "markdown",
   "id": "f635b204-8143-4aaf-b40c-16a2b442fabf",
   "metadata": {},
   "source": [
    "### Evitar la copia innecesaria de datos\n",
    "\n",
    "Algunas operaciones en Pandas pueden resultar en la copia de datos, lo que puede ser costoso en términos de memoria y tiempo.  \n",
    "Utilice las opciones ``inplace=True`` cuando estén disponibles para modificar objetos en el lugar y evitar la creación de copias."
   ]
  },
  {
   "cell_type": "code",
   "execution_count": 17,
   "id": "ba0df6be-119b-4ea3-bf16-14a4c4181b87",
   "metadata": {},
   "outputs": [],
   "source": [
    "# Modificar una Serie en el lugar para evitar la copia\n",
    "import pandas as pd\n",
    "serie = pd.Series([1, 2, 3, 4, 5])\n",
    "serie.drop(0, inplace=True)"
   ]
  },
  {
   "cell_type": "markdown",
   "id": "c2a35764-f139-4f3a-8682-337c71fdac36",
   "metadata": {},
   "source": [
    "###  Uso eficiente de apply y map\n",
    "\n",
    "Aunque apply y map son útiles para aplicar funciones a una Serie, pueden ser lentos para grandes volúmenes de datos. Siempre que sea posible, utilice funciones vectorizadas en lugar de apply o map."
   ]
  },
  {
   "cell_type": "code",
   "execution_count": 21,
   "id": "8c3916c4-1274-49a7-9c91-c691dfa4997f",
   "metadata": {},
   "outputs": [],
   "source": [
    "import pandas as pd\n",
    "import numpy as np\n",
    "\n",
    "# Crear un generador aleatorio\n",
    "rng = np.random.default_rng(seed=42)\n",
    "\n",
    "# Generar la serie utilizando el nuevo generador aleatorio\n",
    "serie = pd.Series(rng.random(1000000))\n",
    "\n",
    "# Uso de una función vectorizada en lugar de apply\n",
    "result = np.sqrt(serie)"
   ]
  },
  {
   "cell_type": "markdown",
   "id": "1ff7d327-ae08-49a5-b4ba-4899b7dd3f5d",
   "metadata": {},
   "source": [
    "### Filtrado y selección condicional\n",
    "\n",
    "El filtrado y la selección condicional pueden ser optimizados utilizando operaciones vectorizadas y evitando la creación de copias innecesarias de datos."
   ]
  },
  {
   "cell_type": "code",
   "execution_count": 24,
   "id": "d7ed5ada-2bc7-4b51-b460-e194e2967740",
   "metadata": {},
   "outputs": [],
   "source": [
    "import pandas as pd\n",
    "import numpy as np\n",
    "\n",
    "# Crear un generador aleatorio\n",
    "rng = np.random.default_rng(seed=42)\n",
    "\n",
    "# Generar la serie utilizando el nuevo generador aleatorio\n",
    "serie = pd.Series(rng.random(1000000))\n",
    "\n",
    "# Filtrado eficiente de una Serie\n",
    "filtered_serie = serie[serie > 0.5]"
   ]
  },
  {
   "cell_type": "markdown",
   "id": "769345e6-afc3-4c29-a722-c4265a5e3b98",
   "metadata": {},
   "source": [
    "### Uso de ``pd.eval`` y ``query``\n",
    "\n",
    "Para operaciones complejas, pd.eval y query pueden mejorar significativamente el rendimiento al compilar expresiones a código nativo"
   ]
  },
  {
   "cell_type": "code",
   "execution_count": 28,
   "id": "ad6166cd-2ef4-4efd-9b09-12086251bb31",
   "metadata": {},
   "outputs": [],
   "source": [
    "import pandas as pd\n",
    "import numpy as np\n",
    "\n",
    "# Crear un generador aleatorio\n",
    "rng = np.random.default_rng(seed=42)\n",
    "\n",
    "# Generar la serie utilizando el nuevo generador aleatorio\n",
    "serie = pd.Series(rng.random(1000000))\n",
    "\n",
    "# Uso de pd.eval para operaciones complejas\n",
    "result = pd.eval('serie * 2 + 1')\n"
   ]
  },
  {
   "cell_type": "markdown",
   "id": "2cf64a4d-b7ac-4b13-90b6-6599be73519f",
   "metadata": {},
   "source": [
    "### Manejo de valores nulos\n",
    "\n",
    "El manejo de valores nulos puede ser costoso en términos de rendimiento. Utilice métodos eficientes como fillna y dropna para tratar con valores nulos."
   ]
  },
  {
   "cell_type": "code",
   "execution_count": 31,
   "id": "d0dae046-c0f6-4a32-a364-40bfc99bda65",
   "metadata": {},
   "outputs": [],
   "source": [
    "# Rellenar valores nulos de manera eficiente\n",
    "serie = pd.Series([1, 2, None, 4, 5])\n",
    "serie.fillna(0, inplace=True)"
   ]
  },
  {
   "cell_type": "markdown",
   "id": "dcfcf74f-9a5a-4548-8b8b-8d4e8cec5cb1",
   "metadata": {},
   "source": [
    "### Uso de índices eficientes\n",
    "\n",
    "El uso de índices eficientes puede mejorar el rendimiento de las operaciones de búsqueda y selección. Asegúrese de que los índices estén correctamente configurados y optimizados."
   ]
  },
  {
   "cell_type": "code",
   "execution_count": 37,
   "id": "b6c208ff-f9da-4fad-bc40-6317d2925b0c",
   "metadata": {},
   "outputs": [
    {
     "name": "stdout",
     "output_type": "stream",
     "text": [
      "3\n"
     ]
    }
   ],
   "source": [
    "# Configurar un índice eficiente\n",
    "import pandas as pd\n",
    "serie = pd.Series([1, 2, 3, 4, 5], index=['a', 'b', 'c', 'd', 'e'])\n",
    "print(serie.loc['c'])\n"
   ]
  }
 ],
 "metadata": {
  "kernelspec": {
   "display_name": "Python [conda env:base] *",
   "language": "python",
   "name": "conda-base-py"
  },
  "language_info": {
   "codemirror_mode": {
    "name": "ipython",
    "version": 3
   },
   "file_extension": ".py",
   "mimetype": "text/x-python",
   "name": "python",
   "nbconvert_exporter": "python",
   "pygments_lexer": "ipython3",
   "version": "3.12.7"
  }
 },
 "nbformat": 4,
 "nbformat_minor": 5
}
