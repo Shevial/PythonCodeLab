{
 "cells": [
  {
   "cell_type": "markdown",
   "id": "f86196c6-5104-476b-a52a-479ef16fbb46",
   "metadata": {},
   "source": [
    "## Acceso a datos de Series con iloc y loc"
   ]
  },
  {
   "cell_type": "markdown",
   "id": "464bfbe4-1992-477c-aa3e-e9c20dba4bc6",
   "metadata": {},
   "source": [
    "En Pandas, ``iloc`` y ``loc`` son dos métodos primarios para acceder a los datos en una Serie.  \n",
    "Ambos permiten la selección de datos, pero con diferentes enfoques: \n",
    "- **``iloc``** se basa en la **posición (índices numéricos)**  \n",
    "- **``loc``** se basa en las **etiquetas del índice.**"
   ]
  },
  {
   "cell_type": "markdown",
   "id": "616bd16e-7005-4d7a-8ee0-1179cc057cea",
   "metadata": {},
   "source": [
    "### Acceso con iloc\n",
    "\n",
    "``iloc`` permite la selección de datos basada en la posición numérica del índice.  \n",
    "Este método es útil cuando se conoce la posición exacta de los elementos que se desean acceder."
   ]
  },
  {
   "cell_type": "code",
   "execution_count": 6,
   "id": "a7319dd9-5ad5-4731-ba98-afe45ca7218b",
   "metadata": {},
   "outputs": [
    {
     "name": "stdout",
     "output_type": "stream",
     "text": [
      "10\n"
     ]
    }
   ],
   "source": [
    "import pandas as pd\n",
    "\n",
    "serie = pd.Series([10, 20, 30, 40, 50], index=['a', 'b', 'c', 'd', 'e'])\n",
    "\n",
    "# Acceso al primer elemento\n",
    "print(serie.iloc[0])"
   ]
  },
  {
   "cell_type": "markdown",
   "id": "6bdf49d0-bb02-46b0-821e-9211a9da2cbb",
   "metadata": {},
   "source": [
    "#### Seleccionar múltiples elementos utilizando listas de índices o slices."
   ]
  },
  {
   "cell_type": "code",
   "execution_count": 9,
   "id": "c6bab505-1d39-4ea0-8fd8-31cafa75951a",
   "metadata": {},
   "outputs": [
    {
     "name": "stdout",
     "output_type": "stream",
     "text": [
      "a    10\n",
      "c    30\n",
      "d    40\n",
      "dtype: int64\n",
      "b    20\n",
      "c    30\n",
      "d    40\n",
      "dtype: int64\n"
     ]
    }
   ],
   "source": [
    "import pandas as pd\n",
    "\n",
    "serie = pd.Series([10, 20, 30, 40, 50], index=['a', 'b', 'c', 'd', 'e'])\n",
    "\n",
    "# Selección de múltiples elementos\n",
    "print(serie.iloc[[0, 2, 3]])\n",
    "\n",
    "# Selección de un rango de elementos\n",
    "print(serie.iloc[1:4])"
   ]
  }
 ],
 "metadata": {
  "kernelspec": {
   "display_name": "Python [conda env:base] *",
   "language": "python",
   "name": "conda-base-py"
  },
  "language_info": {
   "codemirror_mode": {
    "name": "ipython",
    "version": 3
   },
   "file_extension": ".py",
   "mimetype": "text/x-python",
   "name": "python",
   "nbconvert_exporter": "python",
   "pygments_lexer": "ipython3",
   "version": "3.12.7"
  }
 },
 "nbformat": 4,
 "nbformat_minor": 5
}
