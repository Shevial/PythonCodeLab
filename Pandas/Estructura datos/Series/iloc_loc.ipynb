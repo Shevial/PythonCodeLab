{
 "cells": [
  {
   "cell_type": "markdown",
   "id": "f86196c6-5104-476b-a52a-479ef16fbb46",
   "metadata": {},
   "source": [
    "## Acceso a datos de Series con iloc y loc"
   ]
  },
  {
   "cell_type": "markdown",
   "id": "464bfbe4-1992-477c-aa3e-e9c20dba4bc6",
   "metadata": {},
   "source": [
    "En Pandas, ``iloc`` y ``loc`` son dos métodos primarios para acceder a los datos en una Serie.  \n",
    "Ambos permiten la selección de datos, pero con diferentes enfoques: \n",
    "- **``iloc``** se basa en la **posición (índices numéricos)**  \n",
    "- **``loc``** se basa en las **etiquetas del índice.**"
   ]
  },
  {
   "cell_type": "markdown",
   "id": "4d19bf3b-86cd-4caa-b4c0-f2f17590af82",
   "metadata": {},
   "source": [
    "Diferencias clave entre iloc y loc\n",
    "\n",
    "* ``iloc`` siempre se basa en la posición numérica del índice, independientemente de las etiquetas.\n",
    "* ``loc`` siempre se basa en las etiquetas del índice, lo que permite una selección más semántica y contextual.\n",
    "* ``iloc`` puede generar errores si se intenta acceder a una posición fuera del rango del índice.\n",
    "* ``loc`` puede generar errores si se intenta acceder a una etiqueta que no existe en el índice."
   ]
  },
  {
   "cell_type": "markdown",
   "id": "616bd16e-7005-4d7a-8ee0-1179cc057cea",
   "metadata": {},
   "source": [
    "### Acceso con iloc\n",
    "\n",
    "``iloc`` permite la selección de datos basada en la posición numérica del índice.  \n",
    "Este método es útil cuando se conoce la posición exacta de los elementos que se desean acceder."
   ]
  },
  {
   "cell_type": "code",
   "execution_count": 6,
   "id": "a7319dd9-5ad5-4731-ba98-afe45ca7218b",
   "metadata": {},
   "outputs": [
    {
     "name": "stdout",
     "output_type": "stream",
     "text": [
      "10\n"
     ]
    }
   ],
   "source": [
    "import pandas as pd\n",
    "\n",
    "serie = pd.Series([10, 20, 30, 40, 50], index=['a', 'b', 'c', 'd', 'e'])\n",
    "\n",
    "# Acceso al primer elemento\n",
    "print(serie.iloc[0])"
   ]
  },
  {
   "cell_type": "markdown",
   "id": "6bdf49d0-bb02-46b0-821e-9211a9da2cbb",
   "metadata": {},
   "source": [
    "#### Seleccionar múltiples elementos utilizando listas de índices o slices."
   ]
  },
  {
   "cell_type": "code",
   "execution_count": 9,
   "id": "c6bab505-1d39-4ea0-8fd8-31cafa75951a",
   "metadata": {},
   "outputs": [
    {
     "name": "stdout",
     "output_type": "stream",
     "text": [
      "a    10\n",
      "c    30\n",
      "d    40\n",
      "dtype: int64\n",
      "b    20\n",
      "c    30\n",
      "d    40\n",
      "dtype: int64\n"
     ]
    }
   ],
   "source": [
    "import pandas as pd\n",
    "\n",
    "serie = pd.Series([10, 20, 30, 40, 50], index=['a', 'b', 'c', 'd', 'e'])\n",
    "\n",
    "# Selección de múltiples elementos\n",
    "print(serie.iloc[[0, 2, 3]])\n",
    "\n",
    "# Selección de un rango de elementos\n",
    "print(serie.iloc[1:4])"
   ]
  },
  {
   "cell_type": "markdown",
   "id": "5114c28f-7450-4dae-84c6-1d1a23474336",
   "metadata": {},
   "source": [
    "#### Acceso con loc  \n",
    "``loc`` permite la selección de datos basada en las etiquetas del índice. Este método es más intuitivo cuando se trabaja con índices significativos."
   ]
  },
  {
   "cell_type": "code",
   "execution_count": 1,
   "id": "50d05726-7725-4b08-928c-5ac7417d89db",
   "metadata": {},
   "outputs": [
    {
     "name": "stdout",
     "output_type": "stream",
     "text": [
      "10\n"
     ]
    }
   ],
   "source": [
    "import pandas as pd\n",
    "\n",
    "serie = pd.Series([10, 20, 30, 40, 50], index=['a', 'b', 'c', 'd', 'e'])\n",
    "# Acceso al elemento con etiqueta 'a'\n",
    "print(serie.loc['a'])"
   ]
  },
  {
   "cell_type": "markdown",
   "id": "89688439-c7c3-47a5-85d6-5522cb740cc8",
   "metadata": {},
   "source": [
    "Se pueden seleccionar múltiples elementos utilizando listas de etiquetas o slices basados en etiquetas."
   ]
  },
  {
   "cell_type": "code",
   "execution_count": 3,
   "id": "74947592-da0a-4df1-aa89-77d86a7ec81e",
   "metadata": {},
   "outputs": [
    {
     "name": "stdout",
     "output_type": "stream",
     "text": [
      "a    10\n",
      "c    30\n",
      "d    40\n",
      "dtype: int64\n",
      "b    20\n",
      "c    30\n",
      "d    40\n",
      "dtype: int64\n"
     ]
    }
   ],
   "source": [
    "import pandas as pd\n",
    "\n",
    "serie = pd.Series([10, 20, 30, 40, 50], index=['a', 'b', 'c', 'd', 'e'])\n",
    "# Selección de múltiples elementos\n",
    "print(serie.loc[['a', 'c', 'd']])\n",
    "\n",
    "# Selección de un rango de elementos\n",
    "print(serie.loc['b':'d'])"
   ]
  },
  {
   "cell_type": "markdown",
   "id": "af159629-7c41-459a-aee6-b249c7973aad",
   "metadata": {},
   "source": [
    "#### Uso avanzado de iloc y loc\n",
    "\n",
    "Ambos métodos permiten el uso de condiciones booleanas para la selección de datos."
   ]
  },
  {
   "cell_type": "code",
   "execution_count": 10,
   "id": "1668c888-00ed-4f2d-bd2d-1350abce8ff9",
   "metadata": {},
   "outputs": [
    {
     "name": "stdout",
     "output_type": "stream",
     "text": [
      "c    30\n",
      "d    40\n",
      "e    50\n",
      "dtype: int64\n"
     ]
    }
   ],
   "source": [
    "import pandas as pd\n",
    "\n",
    "serie = pd.Series([10, 20, 30, 40, 50], index=['a', 'b', 'c', 'd', 'e'])\n",
    "# Selección de elementos mayores a 20 usando iloc\n",
    "#print(serie.iloc[serie > 20])\n",
    "\n",
    "# Selección de elementos mayores a 20 usando loc\n",
    "print(serie.loc[serie > 20])"
   ]
  },
  {
   "cell_type": "markdown",
   "id": "73819382-bc04-4b54-a772-3bf4908eaf3d",
   "metadata": {},
   "source": [
    "Además, es posible modificar los valores de una Serie utilizando iloc y loc."
   ]
  },
  {
   "cell_type": "code",
   "execution_count": 12,
   "id": "4d8eb704-2081-452f-bd9b-6d078ef7f01e",
   "metadata": {},
   "outputs": [
    {
     "name": "stdout",
     "output_type": "stream",
     "text": [
      "a    100\n",
      "b     20\n",
      "c     30\n",
      "d     40\n",
      "e     50\n",
      "dtype: int64\n",
      "a    100\n",
      "b    200\n",
      "c     30\n",
      "d     40\n",
      "e     50\n",
      "dtype: int64\n"
     ]
    }
   ],
   "source": [
    "import pandas as pd\n",
    "\n",
    "serie = pd.Series([10, 20, 30, 40, 50], index=['a', 'b', 'c', 'd', 'e'])\n",
    "serie.iloc[0] = 100\n",
    "print(serie)\n",
    "\n",
    "# Modificación de un elemento usando loc\n",
    "serie.loc['b'] = 200\n",
    "print(serie)"
   ]
  }
 ],
 "metadata": {
  "kernelspec": {
   "display_name": "Python [conda env:base] *",
   "language": "python",
   "name": "conda-base-py"
  },
  "language_info": {
   "codemirror_mode": {
    "name": "ipython",
    "version": 3
   },
   "file_extension": ".py",
   "mimetype": "text/x-python",
   "name": "python",
   "nbconvert_exporter": "python",
   "pygments_lexer": "ipython3",
   "version": "3.12.7"
  }
 },
 "nbformat": 4,
 "nbformat_minor": 5
}
