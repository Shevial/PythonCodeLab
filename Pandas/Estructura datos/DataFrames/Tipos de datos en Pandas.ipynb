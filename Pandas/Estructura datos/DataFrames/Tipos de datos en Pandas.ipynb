{
 "cells": [
  {
   "cell_type": "markdown",
   "id": "5e14bea7-df36-433a-8cca-fb39edf843b0",
   "metadata": {},
   "source": [
    "# ¿Qué son los tipos de datos en Pandas y por qué son importantes?"
   ]
  },
  {
   "cell_type": "markdown",
   "id": "0c7b6f04-e60e-4b66-8339-30f9af459e29",
   "metadata": {},
   "source": [
    "En Pandas, los tipos de datos (o dtypes) son fundamentales para el manejo eficaz y eficiente de los datos en DataFrames. Cada columna en un DataFrame tiene un tipo de dato asociado, lo que determina cómo se almacenan y procesan los datos en esa columna. \n",
    "\n",
    "Los tipos de datos en Pandas están basados en los tipos de datos de NumPy, lo que permite que Pandas herede su eficiencia y velocidad en las operaciones numéricas y de manipulación de datos."
   ]
  },
  {
   "cell_type": "markdown",
   "id": "22dea4d4-41e8-4b9a-90c3-e97bf83a2c5d",
   "metadata": {},
   "source": [
    "Para ver los tipos de datos de un DataFrame, se puede utilizar el atributo .dtypes:"
   ]
  },
  {
   "cell_type": "code",
   "execution_count": 4,
   "id": "01487da7-2346-4d0b-b197-1539897e0ebd",
   "metadata": {},
   "outputs": [
    {
     "name": "stdout",
     "output_type": "stream",
     "text": [
      "columna_entero               int64\n",
      "columna_flotante           float64\n",
      "columna_texto               object\n",
      "columna_fecha       datetime64[ns]\n",
      "dtype: object\n"
     ]
    }
   ],
   "source": [
    "import pandas as pd\n",
    "\n",
    "# Crear un DataFrame de ejemplo\n",
    "data = {\n",
    "    'columna_entero': [1, 2, 3],\n",
    "    'columna_flotante': [1.1, 2.2, 3.3],\n",
    "    'columna_texto': ['a', 'b', 'c'],\n",
    "    'columna_fecha': pd.to_datetime(['2023-01-01', '2023-01-02', '2023-01-03'])\n",
    "}\n",
    "\n",
    "df = pd.DataFrame(data)\n",
    "\n",
    "# Ver los tipos de datos\n",
    "print(df.dtypes)\n"
   ]
  },
  {
   "cell_type": "markdown",
   "id": "2794d05e-196b-4afd-9164-b209921a4462",
   "metadata": {},
   "source": [
    "Es crucial entender que Pandas utiliza el tipo object para almacenar datos de texto, pero esto puede ser ineficiente en términos de memoria y velocidad. A partir de versiones recientes, se recomienda usar el tipo string para cadenas de texto, lo que proporciona una mejor optimización y coherencia."
   ]
  },
  {
   "cell_type": "code",
   "execution_count": 7,
   "id": "2abd97d6-b921-4844-81e1-234f98145e11",
   "metadata": {},
   "outputs": [
    {
     "name": "stdout",
     "output_type": "stream",
     "text": [
      "columna_entero               int64\n",
      "columna_flotante           float64\n",
      "columna_texto       string[python]\n",
      "columna_fecha       datetime64[ns]\n",
      "dtype: object\n"
     ]
    }
   ],
   "source": [
    "# Convertir una columna de texto a tipo string\n",
    "df['columna_texto'] = df['columna_texto'].astype('string')\n",
    "\n",
    "# Ver los tipos de datos actualizados\n",
    "print(df.dtypes)"
   ]
  },
  {
   "cell_type": "markdown",
   "id": "09eb908b-cb6b-4f8b-acde-1c8d572e4256",
   "metadata": {},
   "source": [
    "## ¿Qué tipos de datos existen en Pandas?"
   ]
  },
  {
   "cell_type": "markdown",
   "id": "0f4ae7f9-157a-4ce3-bb09-7d4bd7449345",
   "metadata": {},
   "source": [
    "* ``int64``: Representa números enteros de 64 bits. Es el tipo de datos por defecto para columnas que contienen valores enteros."
   ]
  },
  {
   "cell_type": "code",
   "execution_count": 11,
   "id": "ec236136-6a99-490d-9d7a-4e78e9132fc4",
   "metadata": {},
   "outputs": [
    {
     "name": "stdout",
     "output_type": "stream",
     "text": [
      "enteros    int64\n",
      "dtype: object\n"
     ]
    }
   ],
   "source": [
    "import pandas as pd\n",
    "\n",
    "df = pd.DataFrame({'enteros': [1, 2, 3]})\n",
    "print(df.dtypes)  "
   ]
  },
  {
   "cell_type": "markdown",
   "id": "fad32fd5-3747-4723-996a-da5ff2977a64",
   "metadata": {},
   "source": [
    "* ``float64``: Representa números de punto flotante de 64 bits. Este tipo es utilizado para columnas que contienen valores decimales.\n"
   ]
  },
  {
   "cell_type": "code",
   "execution_count": 14,
   "id": "c5d84bc9-356a-4a3d-84eb-64eed5dc693a",
   "metadata": {},
   "outputs": [
    {
     "name": "stdout",
     "output_type": "stream",
     "text": [
      "flotantes    float64\n",
      "dtype: object\n"
     ]
    }
   ],
   "source": [
    "df = pd.DataFrame({'flotantes': [1.1, 2.2, 3.3]})\n",
    "print(df.dtypes)  "
   ]
  },
  {
   "cell_type": "markdown",
   "id": "c29c6ce9-8d27-4e32-b44c-38b63b11c9a5",
   "metadata": {},
   "source": [
    "* ``bool``: Utilizado para valores booleanos (True o False).\n"
   ]
  },
  {
   "cell_type": "code",
   "execution_count": 17,
   "id": "9d060eeb-2215-43e0-80bd-1e2740c10977",
   "metadata": {},
   "outputs": [
    {
     "name": "stdout",
     "output_type": "stream",
     "text": [
      "booleanos    bool\n",
      "dtype: object\n"
     ]
    }
   ],
   "source": [
    "df = pd.DataFrame({'booleanos': [True, False, True]})\n",
    "print(df.dtypes)  "
   ]
  },
  {
   "cell_type": "markdown",
   "id": "ba17c4e9-7f24-4269-a004-d86f775b4e06",
   "metadata": {},
   "source": [
    "* ``datetime64[ns]``: Representa marcas de tiempo con precisión de nanosegundos. Es el tipo adecuado para datos de fecha y hora."
   ]
  },
  {
   "cell_type": "code",
   "execution_count": 20,
   "id": "9bf41e62-24cd-4077-92b7-581ec8264cda",
   "metadata": {},
   "outputs": [
    {
     "name": "stdout",
     "output_type": "stream",
     "text": [
      "fechas    datetime64[ns]\n",
      "dtype: object\n"
     ]
    }
   ],
   "source": [
    "df = pd.DataFrame({'fechas': pd.to_datetime(['2023-01-01', '2023-01-02', '2023-01-03'])})\n",
    "print(df.dtypes) "
   ]
  },
  {
   "cell_type": "markdown",
   "id": "eb0e8aa0-a586-45d5-ad68-0a0258be78e1",
   "metadata": {},
   "source": [
    "* ``timedelta64[ns]``: Utilizado para representar diferencias de tiempo con precisión de nanosegundos."
   ]
  },
  {
   "cell_type": "code",
   "execution_count": 23,
   "id": "3a53b2bf-a657-496c-9708-347532395b5d",
   "metadata": {},
   "outputs": [
    {
     "name": "stdout",
     "output_type": "stream",
     "text": [
      "deltas    timedelta64[ns]\n",
      "dtype: object\n"
     ]
    }
   ],
   "source": [
    "df = pd.DataFrame({'deltas': pd.to_timedelta(['1 days', '2 days', '3 days'])})\n",
    "print(df.dtypes) "
   ]
  },
  {
   "cell_type": "markdown",
   "id": "a1e104bb-2215-4d13-a892-af0a71d8fdf1",
   "metadata": {},
   "source": [
    "* ``category``: Este tipo de dato es útil para columnas que contienen un número limitado de categorías únicas. Permite una compresión eficiente y mejora el rendimiento en ciertas operaciones."
   ]
  },
  {
   "cell_type": "code",
   "execution_count": 26,
   "id": "b27ee99e-0e2f-4b8a-a938-d84bc60bb5f3",
   "metadata": {},
   "outputs": [
    {
     "name": "stdout",
     "output_type": "stream",
     "text": [
      "categorias    category\n",
      "dtype: object\n"
     ]
    }
   ],
   "source": [
    "df = pd.DataFrame({'categorias': pd.Categorical(['a', 'b', 'a'])})\n",
    "print(df.dtypes) "
   ]
  },
  {
   "cell_type": "markdown",
   "id": "ffbc6ebb-95d7-4d67-9528-0ae682411031",
   "metadata": {},
   "source": [
    "* ``string``: A partir de versiones recientes de Pandas, se recomienda utilizar el tipo string en lugar de object para almacenar datos de texto. Este tipo es más eficiente y coherente."
   ]
  },
  {
   "cell_type": "code",
   "execution_count": 29,
   "id": "256107bf-3403-4e3a-8e75-8e4ce677b383",
   "metadata": {},
   "outputs": [
    {
     "name": "stdout",
     "output_type": "stream",
     "text": [
      "texto    string[python]\n",
      "dtype: object\n"
     ]
    }
   ],
   "source": [
    "df = pd.DataFrame({'texto': ['a', 'b', 'c']}, dtype='string')\n",
    "print(df.dtypes) "
   ]
  },
  {
   "cell_type": "markdown",
   "id": "47aef0ed-b70a-47f3-a622-bbdcc2937302",
   "metadata": {},
   "source": [
    "* ``object``: Tradicionalmente utilizado para datos de texto, aunque también puede almacenar cualquier tipo de objeto de Python. Sin embargo, su uso puede ser menos eficiente comparado con string para cadenas de texto."
   ]
  },
  {
   "cell_type": "code",
   "execution_count": 32,
   "id": "37184190-6c03-4c8d-a05d-5ac131630207",
   "metadata": {},
   "outputs": [
    {
     "name": "stdout",
     "output_type": "stream",
     "text": [
      "objetos    object\n",
      "dtype: object\n"
     ]
    }
   ],
   "source": [
    "df = pd.DataFrame({'objetos': ['a', 'b', 'c']})\n",
    "print(df.dtypes)  "
   ]
  },
  {
   "cell_type": "markdown",
   "id": "8e1f5c29-6c90-4385-a20c-c6b87ed1c2e9",
   "metadata": {},
   "source": [
    "## Cambiar el tipo de dato"
   ]
  },
  {
   "cell_type": "markdown",
   "id": "4325f431-618a-416f-a02e-c17e0c33ff5a",
   "metadata": {},
   "source": [
    "La función principal para realizar esta tarea es ``astype()``, que permite convertir una columna a un tipo de dato específico."
   ]
  },
  {
   "cell_type": "markdown",
   "id": "a64d8477-e510-423b-ab71-9d1a09c56a35",
   "metadata": {},
   "source": [
    "Para cambiar el tipo de dato de una columna, se puede utilizar el método astype() de la siguiente manera:"
   ]
  },
  {
   "cell_type": "code",
   "execution_count": 37,
   "id": "1e37ff7a-8da4-4800-b27e-30e2505e1c47",
   "metadata": {},
   "outputs": [
    {
     "name": "stdout",
     "output_type": "stream",
     "text": [
      "columna_entero      float64\n",
      "columna_flotante    float64\n",
      "columna_texto        object\n",
      "dtype: object\n"
     ]
    }
   ],
   "source": [
    "import pandas as pd\n",
    "\n",
    "# Crear un DataFrame de ejemplo\n",
    "data = {\n",
    "    'columna_entero': [1, 2, 3],\n",
    "    'columna_flotante': [1.1, 2.2, 3.3],\n",
    "    'columna_texto': ['a', 'b', 'c']\n",
    "}\n",
    "\n",
    "df = pd.DataFrame(data)\n",
    "\n",
    "# Convertir la columna 'columna_entero' a tipo float\n",
    "df['columna_entero'] = df['columna_entero'].astype('float64')\n",
    "\n",
    "print(df.dtypes)"
   ]
  },
  {
   "cell_type": "markdown",
   "id": "c2733368-f9b6-41bd-beb3-7a1a1cd45fd4",
   "metadata": {},
   "source": [
    "Pandas también permite convertir múltiples columnas a diferentes tipos de datos utilizando un diccionario con el método astype():"
   ]
  },
  {
   "cell_type": "code",
   "execution_count": 40,
   "id": "79acc86b-0573-485f-8c89-455128fdc3ce",
   "metadata": {},
   "outputs": [
    {
     "name": "stdout",
     "output_type": "stream",
     "text": [
      "columna_entero             float64\n",
      "columna_flotante           float64\n",
      "columna_texto       string[python]\n",
      "dtype: object\n"
     ]
    }
   ],
   "source": [
    "# Convertir múltiples columnas a diferentes tipos\n",
    "df = df.astype({'columna_entero': 'float64', 'columna_texto': 'string'})\n",
    "\n",
    "print(df.dtypes)"
   ]
  },
  {
   "cell_type": "markdown",
   "id": "aa28dc6e-4f8f-47d1-80f2-353f2a780547",
   "metadata": {},
   "source": [
    "En algunos casos, puede ser necesario convertir una columna a un tipo de dato que no sea compatible con todos los valores actuales en la columna. Para manejar estos casos, el parámetro errors puede ser utilizado con el método astype() para controlar el comportamiento en caso de errores. \n",
    "\n",
    "Por ejemplo, errors='ignore' simplemente ignorará los errores de conversión, mientras que errors='raise' (por defecto) generará una excepción."
   ]
  },
  {
   "cell_type": "code",
   "execution_count": 43,
   "id": "7ab5fe02-2083-4be7-8131-dc751bfe82e8",
   "metadata": {},
   "outputs": [
    {
     "name": "stdout",
     "output_type": "stream",
     "text": [
      "columna_entero             float64\n",
      "columna_flotante           float64\n",
      "columna_texto       string[python]\n",
      "dtype: object\n"
     ]
    }
   ],
   "source": [
    "# Convertir la columna 'columna_texto' a tipo int, ignorando errores\n",
    "df['columna_texto'] = df['columna_texto'].astype('int64', errors='ignore')\n",
    "\n",
    "print(df.dtypes)"
   ]
  },
  {
   "cell_type": "markdown",
   "id": "1c0f5031-03e3-42e4-96e5-e26139452b91",
   "metadata": {},
   "source": [
    "Para convertir una columna de tipo datetime, Pandas proporciona la función ``pd.to_datetime()``, que es más robusta que ``astype()`` para este tipo de conversión."
   ]
  },
  {
   "cell_type": "code",
   "execution_count": 47,
   "id": "505e9f36-721e-4b29-8dbc-53d07d94e705",
   "metadata": {},
   "outputs": [
    {
     "name": "stdout",
     "output_type": "stream",
     "text": [
      "columna_fecha    datetime64[ns]\n",
      "dtype: object\n"
     ]
    }
   ],
   "source": [
    "# Crear un DataFrame de ejemplo\n",
    "data = {\n",
    "    'columna_fecha': ['2023-01-01', '2023-01-02', '2023-01-03']\n",
    "}\n",
    "\n",
    "df = pd.DataFrame(data)\n",
    "\n",
    "# Convertir la columna 'columna_fecha' a tipo datetime\n",
    "df['columna_fecha'] = pd.to_datetime(df['columna_fecha'])\n",
    "\n",
    "print(df.dtypes)"
   ]
  },
  {
   "cell_type": "markdown",
   "id": "6140aebc-37de-4699-ab11-1f9a44b66cf3",
   "metadata": {},
   "source": [
    "Para convertir una columna a tipo category, se puede usar el método astype() o la función pd.Categorical():"
   ]
  },
  {
   "cell_type": "code",
   "execution_count": 50,
   "id": "509a8e4b-f0ed-4d41-98c5-db720fc752ed",
   "metadata": {},
   "outputs": [
    {
     "name": "stdout",
     "output_type": "stream",
     "text": [
      "columna_texto    category\n",
      "dtype: object\n"
     ]
    }
   ],
   "source": [
    "# Crear un DataFrame de ejemplo\n",
    "data = {\n",
    "    'columna_texto': ['a', 'b', 'a']\n",
    "}\n",
    "\n",
    "df = pd.DataFrame(data)\n",
    "\n",
    "# Convertir la columna 'columna_texto' a tipo category\n",
    "df['columna_texto'] = df['columna_texto'].astype('category')\n",
    "\n",
    "print(df.dtypes)"
   ]
  },
  {
   "cell_type": "markdown",
   "id": "66b31076-9dac-498a-ac2c-7e96c0d3d00b",
   "metadata": {},
   "source": [
    "Cambiar el tipo de dato de las columnas de un DataFrame puede mejorar significativamente la eficiencia del almacenamiento y la velocidad de las operaciones. Es una práctica recomendada revisar y ajustar los tipos de datos después de cargar y limpiar un conjunto de datos para asegurar un rendimiento óptimo."
   ]
  },
  {
   "cell_type": "markdown",
   "id": "0864095a-252d-46d1-9d3e-95a70bfb188b",
   "metadata": {},
   "source": [
    "# Optimización y rendimiento"
   ]
  },
  {
   "cell_type": "markdown",
   "id": "e4193b4a-2d0e-401a-908b-b246c425ffd2",
   "metadata": {},
   "source": [
    "- int8, int16, int32 y int64: Para columnas de enteros, el uso de tipos de enteros más pequeños (int8, int16, int32) puede reducir significativamente el uso de memoria.\n",
    "- float32 en lugar de float64: Para columnas de números decimales, si la precisión no es crítica, float32 puede ser una opción más eficiente que float64.\n",
    "- Categorías: Convertir columnas con un número limitado de valores únicos a tipo category puede ahorrar memoria y mejorar el rendimiento en operaciones de filtrado y agrupamiento."
   ]
  },
  {
   "cell_type": "code",
   "execution_count": 56,
   "id": "30353855-d035-4644-b764-5dd7b4f57e81",
   "metadata": {},
   "outputs": [
    {
     "name": "stdout",
     "output_type": "stream",
     "text": [
      "id                int8\n",
      "age               int8\n",
      "salary         float32\n",
      "department    category\n",
      "dtype: object\n"
     ]
    }
   ],
   "source": [
    "import pandas as pd\n",
    "\n",
    "# Crear un DataFrame de ejemplo\n",
    "data = {\n",
    "    'id': [1, 2, 3, 4],\n",
    "    'age': [25, 30, 35, 40],\n",
    "    'salary': [50000.0, 60000.0, 70000.0, 80000.0],\n",
    "    'department': ['HR', 'Engineering', 'Marketing', 'HR']\n",
    "}\n",
    "\n",
    "df = pd.DataFrame(data)\n",
    "\n",
    "# Optimizar tipos de datos\n",
    "df['id'] = df['id'].astype('int8')\n",
    "df['age'] = df['age'].astype('int8')\n",
    "df['salary'] = df['salary'].astype('float32')\n",
    "df['department'] = df['department'].astype('category')\n",
    "\n",
    "print(df.dtypes)"
   ]
  },
  {
   "cell_type": "markdown",
   "id": "ff5eb893-8169-4cd9-b941-cf7009b6a3be",
   "metadata": {},
   "source": [
    "### Reducción de uso de memoria"
   ]
  },
  {
   "cell_type": "markdown",
   "id": "c9e07fa3-8127-470d-8f8d-c2f4ee2e26cc",
   "metadata": {},
   "source": [
    "El método ``memory_usage()`` permite analizar el uso de memoria de un DataFrame. Para reducir el uso de memoria, se pueden convertir las columnas a tipos de datos más eficientes."
   ]
  },
  {
   "cell_type": "code",
   "execution_count": 60,
   "id": "16f3ecc2-2be8-4cc6-93d0-3b7e29c6454d",
   "metadata": {},
   "outputs": [
    {
     "name": "stdout",
     "output_type": "stream",
     "text": [
      "Index         132\n",
      "id              4\n",
      "age             4\n",
      "salary         16\n",
      "department    281\n",
      "dtype: int64\n",
      "Index         132\n",
      "id              4\n",
      "age             4\n",
      "salary         16\n",
      "department    281\n",
      "dtype: int64\n"
     ]
    }
   ],
   "source": [
    "# Ver el uso de memoria antes de la optimización\n",
    "print(df.memory_usage(deep=True))\n",
    "\n",
    "# Optimizar tipos de datos\n",
    "df['id'] = df['id'].astype('int8')\n",
    "df['age'] = df['age'].astype('int8')\n",
    "df['salary'] = df['salary'].astype('float32')\n",
    "df['department'] = df['department'].astype('category')\n",
    "\n",
    "# Ver el uso de memoria después de la optimización\n",
    "print(df.memory_usage(deep=True))"
   ]
  },
  {
   "cell_type": "markdown",
   "id": "4ac99315-4ffd-4fa1-a49e-c1d7dd0ad249",
   "metadata": {},
   "source": [
    "### Vectorización de operaciones"
   ]
  },
  {
   "cell_type": "markdown",
   "id": "838cb0aa-102d-41a6-bef2-4b320d4e7bf9",
   "metadata": {},
   "source": [
    "La vectorización consiste en aplicar operaciones a arrays enteros en lugar de iterar fila por fila. Esto aprovecha las optimizaciones internas de NumPy y Pandas, resultando en un rendimiento significativamente mejorado. Evita el uso de bucles for y utiliza funciones vectorizadas siempre que sea posible."
   ]
  },
  {
   "cell_type": "code",
   "execution_count": 65,
   "id": "84fc3260-e671-454a-9068-a02f4cbe051c",
   "metadata": {},
   "outputs": [],
   "source": [
    "import numpy as np\n",
    "import pandas as pd\n",
    "\n",
    "# Crear un generador aleatorio con una semilla para reproducibilidad\n",
    "rng = np.random.default_rng(seed=42)\n",
    "\n",
    "# Crear un DataFrame grande de ejemplo\n",
    "n = 1000000\n",
    "df = pd.DataFrame({\n",
    "    'a': rng.random(n),\n",
    "    'b': rng.random(n)\n",
    "})\n",
    "\n",
    "# Operación vectorizada: suma de las columnas 'a' y 'b'\n",
    "df['c'] = df['a'] + df['b']\n",
    "\n",
    "# Evitar bucles for:\n",
    "# for i in range(n):\n",
    "#     df.loc[i, 'c'] = df.loc[i, 'a'] + df.loc[i, 'b']"
   ]
  },
  {
   "cell_type": "markdown",
   "id": "8126c9b4-e7c5-476f-8fa8-c1235490d9ea",
   "metadata": {},
   "source": [
    "### Uso de métodos eficientes para operaciones comunes"
   ]
  },
  {
   "cell_type": "markdown",
   "id": "3fcdb404-4e6e-48b4-acb5-48ab0e87f347",
   "metadata": {},
   "source": [
    "Algunas operaciones comunes tienen métodos específicos en Pandas que están optimizados para el rendimiento. Por ejemplo, el método ``pd.concat()`` es más eficiente que utilizar bucles para concatenar DataFrames."
   ]
  },
  {
   "cell_type": "code",
   "execution_count": 69,
   "id": "50be37f4-570b-4aa9-bb6e-a9bd6dbe972c",
   "metadata": {},
   "outputs": [],
   "source": [
    "import numpy as np\n",
    "import pandas as pd\n",
    "\n",
    "# Crear un generador aleatorio con una semilla para reproducibilidad\n",
    "rng = np.random.default_rng(seed=42)\n",
    "\n",
    "# Crear múltiples DataFrames pequeños usando el nuevo generador aleatorio\n",
    "dfs = [pd.DataFrame(rng.standard_normal((100, 4))) for _ in range(10)]\n",
    "\n",
    "# Concatenar DataFrames de manera eficiente\n",
    "df_concatenated = pd.concat(dfs, ignore_index=True)\n"
   ]
  },
  {
   "cell_type": "markdown",
   "id": "e66c1649-3cef-4e27-8631-daf0a31cac07",
   "metadata": {},
   "source": [
    "### Evitar copias innecesarias de DataFrames"
   ]
  },
  {
   "cell_type": "markdown",
   "id": "d6c9563a-55dc-4d28-aad2-8f92dbc732c8",
   "metadata": {},
   "source": [
    "Las operaciones que modifican DataFrames pueden crear copias innecesarias, lo que consume más memoria y tiempo. Para evitar esto, es recomendable reasignar el DataFrame después de realizar la operación en lugar de modificarlo directamente. Esta práctica mantiene el código más claro y eficiente."
   ]
  },
  {
   "cell_type": "code",
   "execution_count": 73,
   "id": "c8fbff4b-a691-4227-a76c-af43b3877dfe",
   "metadata": {},
   "outputs": [],
   "source": [
    "import numpy as np\n",
    "import pandas as pd\n",
    "\n",
    "# Crear un generador aleatorio con una semilla para reproducibilidad\n",
    "rng = np.random.default_rng(seed=42)\n",
    "\n",
    "# Crear un DataFrame de ejemplo utilizando el nuevo generador aleatorio\n",
    "df = pd.DataFrame(rng.standard_normal((1000, 4)), columns=list('ABCD'))\n",
    "\n",
    "# Eliminar columnas reasignando el DataFrame\n",
    "df = df.drop(columns=['B', 'C'])"
   ]
  },
  {
   "cell_type": "markdown",
   "id": "1311b655-6481-46cf-8c9a-b1edeb994d2c",
   "metadata": {},
   "source": [
    "### Uso de ``eval()`` y ``query()``"
   ]
  },
  {
   "cell_type": "markdown",
   "id": "0ca02a83-5cf8-4f20-b140-ff05c6104201",
   "metadata": {},
   "source": [
    "Pandas proporciona las funciones eval() y query() para realizar operaciones y consultas que son más rápidas y eficientes que las operaciones estándar, especialmente para grandes DataFrames."
   ]
  },
  {
   "cell_type": "code",
   "execution_count": 77,
   "id": "eb006dbd-c7e6-48b2-b8a1-25a23ca17d20",
   "metadata": {},
   "outputs": [],
   "source": [
    "import numpy as np\n",
    "import pandas as pd\n",
    "\n",
    "# Crear un generador aleatorio con una semilla para reproducibilidad\n",
    "rng = np.random.default_rng(seed=42)\n",
    "\n",
    "# Crear un DataFrame de ejemplo utilizando el nuevo generador aleatorio\n",
    "df = pd.DataFrame({\n",
    "    'A': rng.standard_normal(1000000),\n",
    "    'B': rng.standard_normal(1000000),\n",
    "    'C': rng.standard_normal(1000000)\n",
    "})\n",
    "\n",
    "# Utilizar eval para una operación aritmética\n",
    "df['D'] = pd.eval('df.A + df.B - df.C')\n",
    "\n",
    "# Utilizar query para filtrar datos\n",
    "filtered_df = df.query('A > 0 and B < 0')"
   ]
  },
  {
   "cell_type": "markdown",
   "id": "36f5b552-4bb0-4e2c-ad49-c568fd73c1dc",
   "metadata": {},
   "source": [
    "### Consideraciones con grandes cantidades de datos"
   ]
  },
  {
   "cell_type": "markdown",
   "id": "3bb075b7-a802-4fc1-9e3a-902ac74c0c8f",
   "metadata": {},
   "source": [
    "Trabajar con grandes cantidades de datos en Pandas puede presentar varios desafíos de rendimiento y memoria. Para manejar estos casos de manera eficiente, es crucial considerar varias estrategias y técnicas avanzadas que pueden ayudar a optimizar el proceso.\n",
    "\n",
    "Los tipos de datos adecuados son fundamentales para la eficiencia. Utilizar tipos más pequeños y específicos, como int8 en lugar de int64, o float32 en lugar de float64, puede reducir significativamente el uso de memoria. Además, convertir columnas con un número limitado de valores únicos a tipo category puede ahorrar memoria y mejorar el rendimiento en operaciones de filtrado y agrupamiento."
   ]
  },
  {
   "cell_type": "markdown",
   "id": "7eeb1927-4d88-4033-bb0e-853eb4b5981b",
   "metadata": {},
   "source": [
    "El método ``memory_usage()`` permite analizar el uso de memoria de un DataFrame. Conviene utilizar esta herramienta para identificar columnas que pueden ser optimizadas."
   ]
  },
  {
   "cell_type": "code",
   "execution_count": 86,
   "id": "e0cdce36-9f75-4c3c-9b9d-9a624592ebe4",
   "metadata": {},
   "outputs": [
    {
     "name": "stdout",
     "output_type": "stream",
     "text": [
      "id              int64\n",
      "age             int64\n",
      "salary        float64\n",
      "department     object\n",
      "dtype: object\n",
      "Index         132\n",
      "id             32\n",
      "age            32\n",
      "salary         32\n",
      "department    220\n",
      "dtype: int64\n",
      "id                int8\n",
      "age               int8\n",
      "salary         float32\n",
      "department    category\n",
      "dtype: object\n",
      "Index         132\n",
      "id              4\n",
      "age             4\n",
      "salary         16\n",
      "department    281\n",
      "dtype: int64\n"
     ]
    }
   ],
   "source": [
    "import pandas as pd\n",
    "\n",
    "# Crear un DataFrame de ejemplo\n",
    "data = {\n",
    "    'id': [1, 2, 3, 4],\n",
    "    'age': [25, 30, 35, 40],\n",
    "    'salary': [50000.0, 60000.0, 70000.0, 80000.0],\n",
    "    'department': ['HR', 'Engineering', 'Marketing', 'HR']\n",
    "}\n",
    "\n",
    "df = pd.DataFrame(data)\n",
    "print(df.dtypes)\n",
    "# Ver el uso de memoria antes de la optimización\n",
    "print(df.memory_usage(deep=True))\n",
    "\n",
    "# Optimizar tipos de datos\n",
    "df['id'] = df['id'].astype('int8')\n",
    "df['age'] = df['age'].astype('int8')\n",
    "df['salary'] = df['salary'].astype('float32')\n",
    "df['department'] = df['department'].astype('category')\n",
    "print(df.dtypes)\n",
    "# Ver el uso de memoria después de la optimización\n",
    "print(df.memory_usage(deep=True))\n",
    "\n"
   ]
  },
  {
   "cell_type": "markdown",
   "id": "963cae8e-531a-4876-a7d4-6744936d8d10",
   "metadata": {},
   "source": [
    "La vectorización de operaciones consiste en aplicar operaciones a arrays enteros en lugar de iterar fila por fila. Esto aprovecha las optimizaciones internas de NumPy y Pandas, resultando en un rendimiento significativamente mejorado."
   ]
  },
  {
   "cell_type": "markdown",
   "id": "2431074b-91dc-40d1-8e43-1da01958b073",
   "metadata": {},
   "source": [
    "Para operaciones comunes, Pandas ofrece métodos específicos que están optimizados para el rendimiento. Por ejemplo, pd.concat() es más eficiente que concatenar DataFrames en un bucle."
   ]
  },
  {
   "cell_type": "code",
   "execution_count": 89,
   "id": "12d615d6-1071-4673-8a9a-6f35751de4f2",
   "metadata": {},
   "outputs": [],
   "source": [
    "import pandas as pd\n",
    "import numpy as np\n",
    "\n",
    "# Crear un generador aleatorio con una semilla para reproducibilidad\n",
    "rng = np.random.default_rng(seed=42)\n",
    "\n",
    "# Crear un DataFrame grande de ejemplo utilizando el nuevo generador aleatorio\n",
    "n = 1000000\n",
    "df = pd.DataFrame({\n",
    "    'a': rng.random(n),\n",
    "    'b': rng.random(n)\n",
    "})\n",
    "\n",
    "# Operación vectorizada: suma de las columnas 'a' y 'b'\n",
    "df['c'] = df['a'] + df['b']"
   ]
  },
  {
   "cell_type": "code",
   "execution_count": 92,
   "id": "1bf8d879-1019-4de0-85b9-4d7934228015",
   "metadata": {},
   "outputs": [],
   "source": [
    "# Crear un generador aleatorio con una semilla para reproducibilidad\n",
    "rng = np.random.default_rng(seed=42)\n",
    "\n",
    "# Crear múltiples DataFrames pequeños usando el nuevo generador aleatorio\n",
    "dfs = [pd.DataFrame(rng.standard_normal((100, 4))) for _ in range(10)]\n",
    "\n",
    "# Concatenar DataFrames de manera eficiente\n",
    "df_concatenated = pd.concat(dfs, ignore_index=True)"
   ]
  },
  {
   "cell_type": "markdown",
   "id": "f4587953-f0f0-4253-8e77-8015d7403f77",
   "metadata": {},
   "source": [
    " <span style=\"background-color: yellow\">Es recomendable reasignar el DataFrame después de realizar la operación en lugar de modificarlo directamente. Esto evita la creación de copias innecesarias mientras mantiene el código más claro y seguro, optimizando tanto la memoria como el tiempo de ejecución. </span>"
   ]
  },
  {
   "cell_type": "code",
   "execution_count": 96,
   "id": "2cd3c2c7-8825-4557-b45d-2b525024c40c",
   "metadata": {},
   "outputs": [],
   "source": [
    "# Crear un generador aleatorio con una semilla para reproducibilidad\n",
    "rng = np.random.default_rng(seed=42)\n",
    "\n",
    "# Crear un DataFrame de ejemplo utilizando el nuevo generador aleatorio\n",
    "df = pd.DataFrame(rng.standard_normal((1000, 4)), columns=list('ABCD'))\n",
    "\n",
    "# Eliminar columnas reasignando el DataFrame\n",
    "df = df.drop(columns=['B', 'C'])"
   ]
  },
  {
   "cell_type": "markdown",
   "id": "e22173c3-c1cc-4846-ae72-26413df8e1da",
   "metadata": {},
   "source": [
    "Las funciones eval() y query() de Pandas permiten realizar operaciones y consultas de manera más rápida y eficiente, especialmente útiles para grandes DataFrames."
   ]
  },
  {
   "cell_type": "code",
   "execution_count": 99,
   "id": "36d47a2e-ec25-4372-a061-142a8167f317",
   "metadata": {},
   "outputs": [],
   "source": [
    "# Crear un generador aleatorio con una semilla para reproducibilidad\n",
    "rng = np.random.default_rng(seed=42)\n",
    "\n",
    "# Crear un DataFrame de ejemplo utilizando el nuevo generador aleatorio\n",
    "df = pd.DataFrame({\n",
    "    'A': rng.standard_normal(1000000),\n",
    "    'B': rng.standard_normal(1000000),\n",
    "    'C': rng.standard_normal(1000000)\n",
    "})\n",
    "\n",
    "# Utilizar eval para una operación aritmética\n",
    "df['D'] = pd.eval('df.A + df.B - df.C')\n",
    "\n",
    "# Utilizar query para filtrar datos\n",
    "filtered_df = df.query('A > 0 and B < 0')"
   ]
  }
 ],
 "metadata": {
  "kernelspec": {
   "display_name": "Python [conda env:base] *",
   "language": "python",
   "name": "conda-base-py"
  },
  "language_info": {
   "codemirror_mode": {
    "name": "ipython",
    "version": 3
   },
   "file_extension": ".py",
   "mimetype": "text/x-python",
   "name": "python",
   "nbconvert_exporter": "python",
   "pygments_lexer": "ipython3",
   "version": "3.12.7"
  }
 },
 "nbformat": 4,
 "nbformat_minor": 5
}
