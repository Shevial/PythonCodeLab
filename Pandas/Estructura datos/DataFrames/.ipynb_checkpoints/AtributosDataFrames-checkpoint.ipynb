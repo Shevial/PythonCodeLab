{
 "cells": [
  {
   "cell_type": "markdown",
   "id": "df4ad82e-af6e-4e54-9a2e-7e093c9b6309",
   "metadata": {},
   "source": [
    "# Atributos de DataFrames\n",
    "Los DataFrames en Pandas cuentan con varios atributos que permiten acceder a información importante sobre su estructura y contenido. Estos atributos proporcionan detalles sobre las dimensiones, tipos de datos, etiquetas de filas y columnas, entre otros aspectos. A continuación, se describen los principales atributos de los DataFrames:"
   ]
  },
  {
   "cell_type": "markdown",
   "id": "78e26b8e-3a04-4bd5-8eb8-39207f2bf143",
   "metadata": {},
   "source": [
    "* ``shape``: Este atributo devuelve una tupla que representa las dimensiones del DataFrame, donde el primer elemento es el número de filas y el segundo es el número de columnas."
   ]
  },
  {
   "cell_type": "code",
   "execution_count": 4,
   "id": "5a8a7aaf-f4c8-49d9-a6f6-6d512c115605",
   "metadata": {},
   "outputs": [
    {
     "name": "stdout",
     "output_type": "stream",
     "text": [
      "(3, 2)\n"
     ]
    }
   ],
   "source": [
    "import pandas as pd\n",
    "\n",
    "data = {'Nombre': ['Ana', 'Luis', 'Marta'], 'Edad': [23, 35, 29]}\n",
    "df = pd.DataFrame(data)\n",
    "print(df.shape)  # Salida: (3, 2)\n"
   ]
  },
  {
   "cell_type": "markdown",
   "id": "5f918eec-df15-47ab-9d78-bb04127d1da6",
   "metadata": {},
   "source": [
    "* ``size``: Este atributo devuelve el número total de elementos en el DataFrame (filas multiplicadas por columnas)."
   ]
  },
  {
   "cell_type": "code",
   "execution_count": 7,
   "id": "b9dec104-5f67-4451-93fe-a714a4d89347",
   "metadata": {},
   "outputs": [
    {
     "name": "stdout",
     "output_type": "stream",
     "text": [
      "6\n"
     ]
    }
   ],
   "source": [
    "print(df.size)  # Salida: 6"
   ]
  },
  {
   "cell_type": "markdown",
   "id": "88b2b69c-b396-4548-8ddf-ec7739d8346b",
   "metadata": {},
   "source": [
    "* ``ndim:`` Este atributo devuelve el número de dimensiones del DataFrame, que siempre será 2 para los DataFrames."
   ]
  },
  {
   "cell_type": "code",
   "execution_count": 10,
   "id": "b70f236f-ca56-4ab3-842c-b29108a5323c",
   "metadata": {},
   "outputs": [
    {
     "name": "stdout",
     "output_type": "stream",
     "text": [
      "2\n"
     ]
    }
   ],
   "source": [
    "print(df.ndim)  "
   ]
  },
  {
   "cell_type": "markdown",
   "id": "4c2d9dae-32c2-4ac6-a3d3-865bcae7217e",
   "metadata": {},
   "source": [
    "* <span style=\"background-color: yellow\">``columns``: Este atributo devuelve un Index con las etiquetas de las columnas del DataFrame.</span>"
   ]
  },
  {
   "cell_type": "code",
   "execution_count": 13,
   "id": "d1d189b3-3573-48ac-9c94-be503b764814",
   "metadata": {},
   "outputs": [
    {
     "name": "stdout",
     "output_type": "stream",
     "text": [
      "Index(['Nombre', 'Edad'], dtype='object')\n"
     ]
    }
   ],
   "source": [
    "print(df.columns)  "
   ]
  },
  {
   "cell_type": "markdown",
   "id": "9e77570f-89c8-4c46-8179-94498004e85c",
   "metadata": {},
   "source": [
    "* ``index``: Este atributo devuelve un Index con las etiquetas de las filas del DataFrame."
   ]
  },
  {
   "cell_type": "code",
   "execution_count": 16,
   "id": "c1513417-a4af-4f73-8ee8-65358c85f0bc",
   "metadata": {},
   "outputs": [
    {
     "name": "stdout",
     "output_type": "stream",
     "text": [
      "RangeIndex(start=0, stop=3, step=1)\n"
     ]
    }
   ],
   "source": [
    "print(df.index)  "
   ]
  },
  {
   "cell_type": "markdown",
   "id": "39d1b5e7-cae2-4662-a551-607376a54795",
   "metadata": {},
   "source": [
    "* ``dtypes``: Este atributo devuelve una serie con los tipos de datos de cada columna del DataFrame."
   ]
  },
  {
   "cell_type": "code",
   "execution_count": 19,
   "id": "5166811e-5453-4872-bdcb-9e225cb79d9a",
   "metadata": {},
   "outputs": [
    {
     "name": "stdout",
     "output_type": "stream",
     "text": [
      "Nombre    object\n",
      "Edad       int64\n",
      "dtype: object\n"
     ]
    }
   ],
   "source": [
    "print(df.dtypes)"
   ]
  },
  {
   "cell_type": "markdown",
   "id": "009ab2a2-2823-48a1-9a53-6e5d7a1ff82a",
   "metadata": {},
   "source": [
    "* ``values``: Este atributo devuelve una representación en forma de array de NumPy de los datos del DataFrame. Nota: Aunque el atributo values sigue funcionando, se recomienda utilizar el método to_numpy() por ser más flexible y seguro en ciertas operaciones."
   ]
  },
  {
   "cell_type": "code",
   "execution_count": 22,
   "id": "8a85e69e-bec1-474e-9755-5f44698294a8",
   "metadata": {},
   "outputs": [
    {
     "name": "stdout",
     "output_type": "stream",
     "text": [
      "[['Ana' 23]\n",
      " ['Luis' 35]\n",
      " ['Marta' 29]]\n"
     ]
    }
   ],
   "source": [
    "print(df.values)"
   ]
  },
  {
   "cell_type": "markdown",
   "id": "aaf592b5-928d-485c-815e-e52669846a49",
   "metadata": {},
   "source": [
    "* ``T``: Este atributo devuelve la transposición del DataFrame, intercambiando filas por columnas."
   ]
  },
  {
   "cell_type": "code",
   "execution_count": 27,
   "id": "48e4f412-ecae-435a-b008-4e0b67cc2f9e",
   "metadata": {},
   "outputs": [
    {
     "name": "stdout",
     "output_type": "stream",
     "text": [
      "          0     1      2\n",
      "Nombre  Ana  Luis  Marta\n",
      "Edad     23    35     29\n"
     ]
    }
   ],
   "source": [
    "print(df.T)"
   ]
  },
  {
   "cell_type": "markdown",
   "id": "3902f85d-c39f-4286-babc-2f414245591d",
   "metadata": {},
   "source": [
    "* ``head(n)``: Este método (aunque no es un atributo, es útil mencionarlo) devuelve las primeras n filas del DataFrame. Por defecto, n es 5."
   ]
  },
  {
   "cell_type": "code",
   "execution_count": 30,
   "id": "3e78ba19-5a09-4def-a63c-66640d4a9df5",
   "metadata": {},
   "outputs": [
    {
     "name": "stdout",
     "output_type": "stream",
     "text": [
      "  Nombre  Edad\n",
      "0    Ana    23\n",
      "1   Luis    35\n"
     ]
    }
   ],
   "source": [
    "print(df.head(2))"
   ]
  },
  {
   "cell_type": "markdown",
   "id": "36af01d4-42b6-4861-86a2-d8aaac8895ee",
   "metadata": {},
   "source": [
    "* ``tail(n)``: Similar a head, este método devuelve las últimas n filas del DataFrame."
   ]
  },
  {
   "cell_type": "code",
   "execution_count": 33,
   "id": "8c93fa14-4820-4245-b1e5-bf9cd8d3856a",
   "metadata": {},
   "outputs": [
    {
     "name": "stdout",
     "output_type": "stream",
     "text": [
      "  Nombre  Edad\n",
      "1   Luis    35\n",
      "2  Marta    29\n"
     ]
    }
   ],
   "source": [
    "print(df.tail(2))"
   ]
  },
  {
   "cell_type": "markdown",
   "id": "299a6b44-f8de-4a07-9c4e-c105deee9a30",
   "metadata": {},
   "source": [
    "* ``memory_usage(deep=True)``: Este atributo devuelve una serie con el uso de memoria de cada columna en bytes. Si deep=True, incluye el uso de memoria de objetos."
   ]
  },
  {
   "cell_type": "code",
   "execution_count": 36,
   "id": "dc270aa4-fb72-4e0f-ba3e-8ead1aeb2fe6",
   "metadata": {},
   "outputs": [
    {
     "name": "stdout",
     "output_type": "stream",
     "text": [
      "Index     132\n",
      "Nombre    159\n",
      "Edad       24\n",
      "dtype: int64\n"
     ]
    }
   ],
   "source": [
    "print(df.memory_usage(deep=True))"
   ]
  },
  {
   "cell_type": "markdown",
   "id": "42e8e6cd-7714-42a0-98b5-e1f756a37004",
   "metadata": {},
   "source": [
    "* ``empty``: Este atributo devuelve True si el DataFrame está vacío (no contiene elementos) y False en caso contrario."
   ]
  },
  {
   "cell_type": "code",
   "execution_count": 39,
   "id": "ee4ab40d-a70a-44ae-aee9-0ad019d6287b",
   "metadata": {},
   "outputs": [
    {
     "name": "stdout",
     "output_type": "stream",
     "text": [
      "False\n"
     ]
    }
   ],
   "source": [
    "print(df.empty)"
   ]
  }
 ],
 "metadata": {
  "kernelspec": {
   "display_name": "Python [conda env:base] *",
   "language": "python",
   "name": "conda-base-py"
  },
  "language_info": {
   "codemirror_mode": {
    "name": "ipython",
    "version": 3
   },
   "file_extension": ".py",
   "mimetype": "text/x-python",
   "name": "python",
   "nbconvert_exporter": "python",
   "pygments_lexer": "ipython3",
   "version": "3.12.7"
  }
 },
 "nbformat": 4,
 "nbformat_minor": 5
}
