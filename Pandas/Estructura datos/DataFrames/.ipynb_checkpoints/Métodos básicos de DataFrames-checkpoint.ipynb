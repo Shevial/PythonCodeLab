{
 "cells": [
  {
   "cell_type": "markdown",
   "id": "ca3c3919-bd29-4072-b770-636aed602b5f",
   "metadata": {},
   "source": [
    "# Métodos básicos de DataFrames\n"
   ]
  },
  {
   "cell_type": "markdown",
   "id": "794ba3db-e0ee-4619-a956-d2ddab1c9a33",
   "metadata": {},
   "source": [
    "* ``head(n=5)``: Devuelve las primeras n filas del DataFrame. Por defecto, n es 5."
   ]
  },
  {
   "cell_type": "code",
   "execution_count": 4,
   "id": "c5573897-5ae6-4d4b-89b7-ecdd59bc236c",
   "metadata": {},
   "outputs": [
    {
     "name": "stdout",
     "output_type": "stream",
     "text": [
      "  Nombre  Edad\n",
      "0    Ana    23\n",
      "1   Luis    35\n",
      "2  Marta    29\n"
     ]
    }
   ],
   "source": [
    "import pandas as pd\n",
    "\n",
    "data = {'Nombre': ['Ana', 'Luis', 'Marta', 'Juan', 'Carlos'], 'Edad': [23, 35, 29, 40, 22]}\n",
    "df = pd.DataFrame(data)\n",
    "print(df.head(3))"
   ]
  },
  {
   "cell_type": "markdown",
   "id": "f7d396d9-a5ec-4842-a54b-61fb38664f77",
   "metadata": {},
   "source": [
    "* ``tail(n=5)``: Devuelve las últimas n filas del DataFrame. Por defecto, n es 5."
   ]
  },
  {
   "cell_type": "code",
   "execution_count": 8,
   "id": "4f3353f6-4e40-4639-871e-25664723f6e0",
   "metadata": {},
   "outputs": [
    {
     "name": "stdout",
     "output_type": "stream",
     "text": [
      "   Nombre  Edad\n",
      "3    Juan    40\n",
      "4  Carlos    22\n"
     ]
    }
   ],
   "source": [
    "print(df.tail(2))"
   ]
  },
  {
   "cell_type": "markdown",
   "id": "d190dc87-a229-421e-8395-2f2b652bdeef",
   "metadata": {},
   "source": [
    "* ``to_numpy()``: Este método devuelve los datos del DataFrame como un array de NumPy. Se recomienda utilizar to_numpy() en lugar de values, ya que es más flexible y menos propenso a errores cuando se trabaja con diferentes tipos de datos y estructuras."
   ]
  },
  {
   "cell_type": "code",
   "execution_count": 10,
   "id": "548aecda-36ee-4ec7-b87b-ae4c89bb33ce",
   "metadata": {},
   "outputs": [
    {
     "name": "stdout",
     "output_type": "stream",
     "text": [
      "[['Ana' 23]\n",
      " ['Luis' 35]\n",
      " ['Marta' 29]\n",
      " ['Juan' 40]\n",
      " ['Carlos' 22]]\n"
     ]
    }
   ],
   "source": [
    "print(df.to_numpy())"
   ]
  },
  {
   "cell_type": "markdown",
   "id": "6189a70a-645d-4ae0-92fa-826c3155cf76",
   "metadata": {},
   "source": [
    "* ``info()``: Proporciona un resumen conciso del DataFrame, incluyendo el índice, el tipo de datos de cada columna y el uso de memoria."
   ]
  },
  {
   "cell_type": "code",
   "execution_count": 13,
   "id": "c3bcbebc-2bfd-4c14-8e59-0d8a0630b780",
   "metadata": {},
   "outputs": [
    {
     "name": "stdout",
     "output_type": "stream",
     "text": [
      "<class 'pandas.core.frame.DataFrame'>\n",
      "RangeIndex: 5 entries, 0 to 4\n",
      "Data columns (total 2 columns):\n",
      " #   Column  Non-Null Count  Dtype \n",
      "---  ------  --------------  ----- \n",
      " 0   Nombre  5 non-null      object\n",
      " 1   Edad    5 non-null      int64 \n",
      "dtypes: int64(1), object(1)\n",
      "memory usage: 212.0+ bytes\n"
     ]
    }
   ],
   "source": [
    "df.info()"
   ]
  },
  {
   "cell_type": "markdown",
   "id": "77e9088b-5b40-4c9c-bc67-9af45f260d71",
   "metadata": {},
   "source": [
    "* ``describe()``: Genera estadísticas descriptivas que resumen la tendencia central, la dispersión y la forma de la distribución de un conjunto de datos, excluyendo valores NaN."
   ]
  },
  {
   "cell_type": "code",
   "execution_count": 16,
   "id": "384077b6-b824-4ed8-8bd1-3cf161df4af4",
   "metadata": {},
   "outputs": [
    {
     "name": "stdout",
     "output_type": "stream",
     "text": [
      "            Edad\n",
      "count   5.000000\n",
      "mean   29.800000\n",
      "std     7.726578\n",
      "min    22.000000\n",
      "25%    23.000000\n",
      "50%    29.000000\n",
      "75%    35.000000\n",
      "max    40.000000\n"
     ]
    }
   ],
   "source": [
    "print(df.describe())"
   ]
  },
  {
   "cell_type": "markdown",
   "id": "3be3e494-541e-498a-8950-c1ef26b6b7f1",
   "metadata": {},
   "source": [
    "* ``mean()``: Devuelve el promedio de los valores de cada columna numérica."
   ]
  },
  {
   "cell_type": "code",
   "execution_count": 19,
   "id": "bd7a1277-890f-403a-b285-94595912e02d",
   "metadata": {},
   "outputs": [
    {
     "name": "stdout",
     "output_type": "stream",
     "text": [
      "29.8\n"
     ]
    }
   ],
   "source": [
    "print(df['Edad'].mean())"
   ]
  },
  {
   "cell_type": "markdown",
   "id": "95addaff-5000-48e7-bb3f-ea1f7453c25d",
   "metadata": {},
   "source": [
    "* ``sum()``: Devuelve la suma de los valores de cada columna numérica.\n"
   ]
  },
  {
   "cell_type": "code",
   "execution_count": 22,
   "id": "c96ac43c-04d7-40bb-abd9-56bf6baf84a4",
   "metadata": {},
   "outputs": [
    {
     "name": "stdout",
     "output_type": "stream",
     "text": [
      "149\n"
     ]
    }
   ],
   "source": [
    "print(df['Edad'].sum())"
   ]
  },
  {
   "cell_type": "markdown",
   "id": "d219a43b-bb15-4d29-875f-1c0de738c41a",
   "metadata": {},
   "source": [
    "* ``max()``: Devuelve el valor máximo de cada columna."
   ]
  },
  {
   "cell_type": "code",
   "execution_count": 25,
   "id": "c770e456-1af7-4429-abca-0cff7c5c3c27",
   "metadata": {},
   "outputs": [
    {
     "name": "stdout",
     "output_type": "stream",
     "text": [
      "40\n"
     ]
    }
   ],
   "source": [
    "print(df['Edad'].max())"
   ]
  },
  {
   "cell_type": "markdown",
   "id": "70dc6537-e4eb-46e3-a606-0d187d903539",
   "metadata": {},
   "source": [
    "* ``min()``: Devuelve el valor mínimo de cada columna.\n"
   ]
  },
  {
   "cell_type": "code",
   "execution_count": 28,
   "id": "85463e40-944c-4a9e-9de8-69434bad38b1",
   "metadata": {},
   "outputs": [
    {
     "name": "stdout",
     "output_type": "stream",
     "text": [
      "22\n"
     ]
    }
   ],
   "source": [
    "print(df['Edad'].min())"
   ]
  },
  {
   "cell_type": "markdown",
   "id": "357d614c-cd0e-4104-9967-23337dcb95c4",
   "metadata": {},
   "source": [
    "* ``count()``: Devuelve el número de valores no nulos en cada columna.\n"
   ]
  },
  {
   "cell_type": "code",
   "execution_count": 31,
   "id": "3bf18593-720b-4f5a-91e5-bb67e6bf043e",
   "metadata": {},
   "outputs": [
    {
     "name": "stdout",
     "output_type": "stream",
     "text": [
      "Nombre    5\n",
      "Edad      5\n",
      "dtype: int64\n"
     ]
    }
   ],
   "source": [
    "print(df.count())"
   ]
  },
  {
   "cell_type": "markdown",
   "id": "c107c05b-2a06-4bc8-9bed-5544a9e43c45",
   "metadata": {},
   "source": [
    "* ``value_counts()``: Devuelve una serie con la frecuencia de cada valor único en una columna."
   ]
  },
  {
   "cell_type": "code",
   "execution_count": 34,
   "id": "1d19ffe1-c008-4fd7-ac6b-acbaa1609ff7",
   "metadata": {},
   "outputs": [
    {
     "name": "stdout",
     "output_type": "stream",
     "text": [
      "Nombre\n",
      "Ana       1\n",
      "Luis      1\n",
      "Marta     1\n",
      "Juan      1\n",
      "Carlos    1\n",
      "Name: count, dtype: int64\n"
     ]
    }
   ],
   "source": [
    "print(df['Nombre'].value_counts())"
   ]
  },
  {
   "cell_type": "markdown",
   "id": "e3cac52c-bba9-47e6-b251-f52794eceadd",
   "metadata": {},
   "source": [
    "* ``drop(columns)``: Elimina una o más columnas del DataFrame.\n"
   ]
  },
  {
   "cell_type": "code",
   "execution_count": 37,
   "id": "9b384618-58c0-40e7-a096-6e251a97d5a7",
   "metadata": {},
   "outputs": [
    {
     "name": "stdout",
     "output_type": "stream",
     "text": [
      "   Nombre\n",
      "0     Ana\n",
      "1    Luis\n",
      "2   Marta\n",
      "3    Juan\n",
      "4  Carlos\n"
     ]
    }
   ],
   "source": [
    "df_sin_edad = df.drop(columns=['Edad'])\n",
    "print(df_sin_edad)"
   ]
  },
  {
   "cell_type": "markdown",
   "id": "ff64456e-1240-4f0f-8b7a-ec9271ec08fc",
   "metadata": {},
   "source": [
    "*  <span style=\"background-color: yellow\">``dropna()``: Elimina las filas con valores nulos (NaN).</span>\n"
   ]
  },
  {
   "cell_type": "code",
   "execution_count": 40,
   "id": "2b769b2d-d0bf-4fba-966e-b83dca591174",
   "metadata": {},
   "outputs": [
    {
     "name": "stdout",
     "output_type": "stream",
     "text": [
      "  Nombre  Edad\n",
      "0    Ana  23.0\n"
     ]
    }
   ],
   "source": [
    "df_con_na = pd.DataFrame({'Nombre': ['Ana', 'Luis', None], 'Edad': [23, None, 29]})\n",
    "df_sin_na = df_con_na.dropna()\n",
    "print(df_sin_na)"
   ]
  },
  {
   "cell_type": "markdown",
   "id": "14255330-87b0-4c75-b4d7-3d227d87fa3d",
   "metadata": {},
   "source": [
    "* ``fillna(valor)``: Rellena los valores nulos (NaN) con un valor especificado."
   ]
  },
  {
   "cell_type": "code",
   "execution_count": 43,
   "id": "1ac0eacb-dc25-407a-bfd5-f9a5f71e273b",
   "metadata": {},
   "outputs": [
    {
     "name": "stdout",
     "output_type": "stream",
     "text": [
      "  Nombre  Edad\n",
      "0    Ana  23.0\n",
      "1   Luis   0.0\n",
      "2      0  29.0\n"
     ]
    }
   ],
   "source": [
    "df_rellenado = df_con_na.fillna(0)\n",
    "print(df_rellenado)"
   ]
  },
  {
   "cell_type": "markdown",
   "id": "9756bd86-e457-4371-93aa-eb9897bc7e08",
   "metadata": {},
   "source": [
    "* ``sort_values(by)``: Ordena el DataFrame por los valores de una o más columnas."
   ]
  },
  {
   "cell_type": "code",
   "execution_count": 46,
   "id": "7afc58a3-9d39-4753-9e1b-b227f695c324",
   "metadata": {},
   "outputs": [
    {
     "name": "stdout",
     "output_type": "stream",
     "text": [
      "   Nombre  Edad\n",
      "4  Carlos    22\n",
      "0     Ana    23\n",
      "2   Marta    29\n",
      "1    Luis    35\n",
      "3    Juan    40\n"
     ]
    }
   ],
   "source": [
    "df_ordenado = df.sort_values(by='Edad')\n",
    "print(df_ordenado)"
   ]
  },
  {
   "cell_type": "markdown",
   "id": "7a00a85a-549e-4933-a648-8199277d4716",
   "metadata": {},
   "source": [
    "* ``groupby(by)``: Agrupa el DataFrame utilizando una o más columnas y aplica una función agregada a cada grupo."
   ]
  },
  {
   "cell_type": "code",
   "execution_count": 49,
   "id": "141ab43e-23f9-41bc-8ef1-a8c095455812",
   "metadata": {},
   "outputs": [
    {
     "name": "stdout",
     "output_type": "stream",
     "text": [
      "           Edad\n",
      "Ciudad         \n",
      "Barcelona  35.5\n",
      "Madrid     22.5\n",
      "Valencia   29.0\n"
     ]
    }
   ],
   "source": [
    "import pandas as pd\n",
    "\n",
    "data = {'Nombre': ['Ana', 'Luis', 'Marta', 'Ana', 'Luis'],\n",
    "        'Edad': [23, 35, 29, 22, 36],\n",
    "        'Ciudad': ['Madrid', 'Barcelona', 'Valencia', 'Madrid', 'Barcelona']}\n",
    "df = pd.DataFrame(data)\n",
    "df_agrupado = df.groupby('Ciudad').mean(numeric_only=True)\n",
    "print(df_agrupado)"
   ]
  }
 ],
 "metadata": {
  "kernelspec": {
   "display_name": "Python [conda env:base] *",
   "language": "python",
   "name": "conda-base-py"
  },
  "language_info": {
   "codemirror_mode": {
    "name": "ipython",
    "version": 3
   },
   "file_extension": ".py",
   "mimetype": "text/x-python",
   "name": "python",
   "nbconvert_exporter": "python",
   "pygments_lexer": "ipython3",
   "version": "3.12.7"
  }
 },
 "nbformat": 4,
 "nbformat_minor": 5
}
