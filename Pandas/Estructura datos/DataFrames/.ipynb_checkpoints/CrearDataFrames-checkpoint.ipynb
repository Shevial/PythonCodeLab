{
 "cells": [
  {
   "cell_type": "markdown",
   "id": "df3054ef-7a0a-46ae-8c0d-ff5ceb9e7ac5",
   "metadata": {},
   "source": [
    "# ¿Qué son los DataFrames en Pandas y para qué sirven?\n",
    "Los DataFrames en Pandas son estructuras bidimensionales que permiten almacenar y manipular datos tabulares de manera eficiente. Estas estructuras son similares a las tablas en bases de datos o a las hojas de cálculo en Excel, y están diseñadas para manejar grandes volúmenes de datos de forma flexible y optimizada.\n",
    "\n",
    "Un DataFrame se compone de filas y columnas, donde cada columna puede contener diferentes tipos de datos (números, cadenas, booleanos, etc.). Los DataFrames son fundamentales en el análisis de datos porque permiten realizar operaciones complejas de selección, filtrado, agregación y transformación de datos de manera sencilla y rápida."
   ]
  },
  {
   "cell_type": "code",
   "execution_count": 2,
   "id": "eae63bf6-7a08-48dc-8677-8fbae9f9dbf2",
   "metadata": {},
   "outputs": [
    {
     "name": "stdout",
     "output_type": "stream",
     "text": [
      "  Nombre  Edad     Ciudad\n",
      "0    Ana    23     Madrid\n",
      "1   Luis    35  Barcelona\n",
      "2  Marta    29   Valencia\n",
      "0      Ana\n",
      "1     Luis\n",
      "2    Marta\n",
      "Name: Nombre, dtype: object\n",
      "  Nombre  Edad     Ciudad\n",
      "1   Luis    35  Barcelona\n",
      "2  Marta    29   Valencia\n",
      "  Nombre  Edad     Ciudad  Salario\n",
      "0    Ana    23     Madrid    50000\n",
      "1   Luis    35  Barcelona    60000\n",
      "2  Marta    29   Valencia    55000\n",
      "  Nombre  Edad  Salario\n",
      "0    Ana    23    50000\n",
      "1   Luis    35    60000\n",
      "2  Marta    29    55000\n"
     ]
    }
   ],
   "source": [
    "import pandas as pd\n",
    "\n",
    "# Crear un DataFrame a partir de un diccionario\n",
    "data = {\n",
    "    'Nombre': ['Ana', 'Luis', 'Marta'],\n",
    "    'Edad': [23, 35, 29],\n",
    "    'Ciudad': ['Madrid', 'Barcelona', 'Valencia']\n",
    "}\n",
    "df = pd.DataFrame(data)\n",
    "\n",
    "# Mostrar el DataFrame\n",
    "print(df)\n",
    "\n",
    "# Seleccionar una columna\n",
    "print(df['Nombre'])\n",
    "\n",
    "# Filtrar filas donde la edad es mayor de 25\n",
    "filtered_df = df[df['Edad'] > 25]\n",
    "print(filtered_df)\n",
    "\n",
    "# Añadir una nueva columna\n",
    "df['Salario'] = [50000, 60000, 55000]\n",
    "print(df)\n",
    "\n",
    "# Eliminar una columna sin usar inplace=True\n",
    "df = df.drop(columns=['Ciudad'])\n",
    "print(df)\n"
   ]
  },
  {
   "cell_type": "markdown",
   "id": "4fb62c12-f888-409e-a4f9-7d6cf9afc03e",
   "metadata": {},
   "source": [
    "### Formas de crear DataFrames\n"
   ]
  },
  {
   "cell_type": "markdown",
   "id": "3f505620-611f-4f8f-9029-5d7bb40c261e",
   "metadata": {},
   "source": [
    "#### 1. Crear DataFrames a partir de diccionarios:"
   ]
  },
  {
   "cell_type": "code",
   "execution_count": 6,
   "id": "1554391d-7a3d-49ac-b247-6b2758025c01",
   "metadata": {},
   "outputs": [
    {
     "name": "stdout",
     "output_type": "stream",
     "text": [
      "  Nombre  Edad     Ciudad\n",
      "0    Ana    23     Madrid\n",
      "1   Luis    35  Barcelona\n",
      "2  Marta    29   Valencia\n"
     ]
    }
   ],
   "source": [
    "import pandas as pd\n",
    "\n",
    "data = {\n",
    "    'Nombre': ['Ana', 'Luis', 'Marta'],\n",
    "    'Edad': [23, 35, 29],\n",
    "    'Ciudad': ['Madrid', 'Barcelona', 'Valencia']\n",
    "}\n",
    "df = pd.DataFrame(data)\n",
    "print(df)\n"
   ]
  },
  {
   "cell_type": "markdown",
   "id": "d6aa2563-96df-49bc-aeaa-8046464af826",
   "metadata": {},
   "source": [
    "#### 2. Crear DataFrames a partir de listas de listas:"
   ]
  },
  {
   "cell_type": "code",
   "execution_count": 9,
   "id": "45eb24b7-fe33-443a-86b8-0b691d3f17c7",
   "metadata": {
    "scrolled": true
   },
   "outputs": [
    {
     "name": "stdout",
     "output_type": "stream",
     "text": [
      "  Nombre  Edad     Ciudad\n",
      "0    Ana    23     Madrid\n",
      "1   Luis    35  Barcelona\n",
      "2  Marta    29   Valencia\n"
     ]
    }
   ],
   "source": [
    "data = [\n",
    "    ['Ana', 23, 'Madrid'],\n",
    "    ['Luis', 35, 'Barcelona'],\n",
    "    ['Marta', 29, 'Valencia']\n",
    "]\n",
    "df = pd.DataFrame(data, columns=['Nombre', 'Edad', 'Ciudad'])\n",
    "print(df)\n"
   ]
  },
  {
   "cell_type": "markdown",
   "id": "7c942ef5-d82e-4e42-8753-3d9c375e3d0b",
   "metadata": {},
   "source": [
    "#### 3. Crear DataFrames a partir de listas de diccionarios:"
   ]
  },
  {
   "cell_type": "code",
   "execution_count": 12,
   "id": "77f7a383-f7fb-4c6a-b40c-d9c4490c7c5a",
   "metadata": {
    "scrolled": true
   },
   "outputs": [
    {
     "name": "stdout",
     "output_type": "stream",
     "text": [
      "  Nombre  Edad     Ciudad\n",
      "0    Ana    23     Madrid\n",
      "1   Luis    35  Barcelona\n",
      "2  Marta    29   Valencia\n"
     ]
    }
   ],
   "source": [
    "data = [\n",
    "    {'Nombre': 'Ana', 'Edad': 23, 'Ciudad': 'Madrid'},\n",
    "    {'Nombre': 'Luis', 'Edad': 35, 'Ciudad': 'Barcelona'},\n",
    "    {'Nombre': 'Marta', 'Edad': 29, 'Ciudad': 'Valencia'}\n",
    "]\n",
    "df = pd.DataFrame(data)\n",
    "print(df)\n"
   ]
  },
  {
   "cell_type": "markdown",
   "id": "3f566b2a-e8ca-43a6-b583-f8a065a9a622",
   "metadata": {},
   "source": [
    "#### 4. Crear DataFrames a partir de arrays de NumPy:"
   ]
  },
  {
   "cell_type": "code",
   "execution_count": 15,
   "id": "c2162a0f-1ba4-4b2c-8b7f-a9a119e657c8",
   "metadata": {},
   "outputs": [
    {
     "name": "stdout",
     "output_type": "stream",
     "text": [
      "  Nombre Edad     Ciudad\n",
      "0    Ana   23     Madrid\n",
      "1   Luis   35  Barcelona\n",
      "2  Marta   29   Valencia\n"
     ]
    }
   ],
   "source": [
    "import pandas as pd\n",
    "import numpy as np\n",
    "\n",
    "data = np.array([\n",
    "    ['Ana', 23, 'Madrid'],\n",
    "    ['Luis', 35, 'Barcelona'],\n",
    "    ['Marta', 29, 'Valencia']\n",
    "])\n",
    "df = pd.DataFrame(data, columns=['Nombre', 'Edad', 'Ciudad'])\n",
    "print(df)\n"
   ]
  },
  {
   "cell_type": "markdown",
   "id": "7fe2aeea-1d61-4906-a576-300e57e3c4fc",
   "metadata": {},
   "source": [
    "#### 5. Crear DataFrames a partir de series de Pandas:\n",
    "Se pueden combinar múltiples series de Pandas en un solo DataFrame. Cada serie se convierte en una columna del DataFrame."
   ]
  },
  {
   "cell_type": "code",
   "execution_count": 19,
   "id": "a3a95880-ce8e-4da4-bac4-d305f5bbd7b2",
   "metadata": {},
   "outputs": [
    {
     "name": "stdout",
     "output_type": "stream",
     "text": [
      "  Nombre  Edad     Ciudad\n",
      "0    Ana    23     Madrid\n",
      "1   Luis    35  Barcelona\n",
      "2  Marta    29   Valencia\n"
     ]
    }
   ],
   "source": [
    "nombres = pd.Series(['Ana', 'Luis', 'Marta'])\n",
    "edades = pd.Series([23, 35, 29])\n",
    "ciudades = pd.Series(['Madrid', 'Barcelona', 'Valencia'])\n",
    "\n",
    "df = pd.DataFrame({\n",
    "    'Nombre': nombres,\n",
    "    'Edad': edades,\n",
    "    'Ciudad': ciudades\n",
    "})\n",
    "print(df)\n"
   ]
  },
  {
   "cell_type": "markdown",
   "id": "1f4a03a0-7360-431e-9be9-3dade1cb2d64",
   "metadata": {},
   "source": [
    "#### 6. Crear DataFrames a partir de archivos CSV:"
   ]
  },
  {
   "cell_type": "code",
   "execution_count": null,
   "id": "97d5b443-6d2f-485c-914f-41c16bb5530d",
   "metadata": {},
   "outputs": [],
   "source": [
    "df = pd.read_csv('ruta_al_archivo.csv')\n",
    "print(df)\n"
   ]
  },
  {
   "cell_type": "markdown",
   "id": "9d19db96-241c-427b-b23a-db419e2e6ff1",
   "metadata": {},
   "source": [
    "#### 7. Crear DataFrames a partir de otros formatos de archivo:"
   ]
  },
  {
   "cell_type": "code",
   "execution_count": null,
   "id": "e0f5027b-ab0a-479f-a9be-5d59b65af929",
   "metadata": {},
   "outputs": [],
   "source": [
    "# Desde un archivo Excel\n",
    "df_excel = pd.read_excel('ruta_al_archivo.xlsx')\n",
    "\n",
    "# Desde un archivo JSON\n",
    "df_json = pd.read_json('ruta_al_archivo.json')\n",
    "\n",
    "# Desde una consulta SQL\n",
    "import sqlite3\n",
    "\n",
    "conn = sqlite3.connect('base_de_datos.db')\n",
    "df_sql = pd.read_sql_query('SELECT * FROM tabla', conn)\n"
   ]
  },
  {
   "cell_type": "markdown",
   "id": "2f1f02bf-409b-468e-8432-f563b02ea7e4",
   "metadata": {},
   "source": [
    "#### "
   ]
  },
  {
   "cell_type": "code",
   "execution_count": null,
   "id": "7e157c35-0fd3-41c4-b3e7-b6ce2b8a8ee4",
   "metadata": {},
   "outputs": [],
   "source": []
  }
 ],
 "metadata": {
  "kernelspec": {
   "display_name": "Python [conda env:base] *",
   "language": "python",
   "name": "conda-base-py"
  },
  "language_info": {
   "codemirror_mode": {
    "name": "ipython",
    "version": 3
   },
   "file_extension": ".py",
   "mimetype": "text/x-python",
   "name": "python",
   "nbconvert_exporter": "python",
   "pygments_lexer": "ipython3",
   "version": "3.12.7"
  }
 },
 "nbformat": 4,
 "nbformat_minor": 5
}
