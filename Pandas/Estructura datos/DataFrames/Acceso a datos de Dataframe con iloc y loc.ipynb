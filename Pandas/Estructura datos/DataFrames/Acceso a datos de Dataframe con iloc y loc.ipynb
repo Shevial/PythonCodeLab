{
 "cells": [
  {
   "cell_type": "markdown",
   "id": "3ec5e0e8-1f04-4843-89ae-f1165a6a3c74",
   "metadata": {},
   "source": [
    "# Acceso a datos de Dataframe con iloc y loc\n",
    "Estos métodos permiten seleccionar subconjuntos de datos de diferentes maneras, ya sea por posición o por etiqueta, respectivamente.\n",
    "**Diferencias clave entre iloc y loc**  \n",
    "* Tipo de acceso:  \n",
    "\n",
    "iloc utiliza índices de posición (enteros).  \n",
    "loc utiliza etiquetas (nombres de las filas y columnas).  \n",
    "* Inclusividad de los rangos:  \n",
    "\n",
    "iloc excluye el límite superior del rango.  \n",
    "loc incluye el límite superior del rango.  \n",
    "* Compatibilidad con índices:  \n",
    "\n",
    "iloc es útil cuando se trabaja con índices numéricos o cuando no se desea depender de las etiquetas.  \n",
    "loc es ideal cuando se trabaja con índices etiquetados que tienen significado semántico."
   ]
  },
  {
   "cell_type": "markdown",
   "id": "fc8ff3f4-622b-4f45-bb63-32620b5e5a9b",
   "metadata": {},
   "source": [
    "## ``iloc``: acceso por posición\n",
    "iloc permite acceder a las filas y columnas de un DataFrame utilizando índices de posición, similar a cómo se accede a los elementos de una lista o array en Python. Los índices de posición son enteros que comienzan desde 0."
   ]
  },
  {
   "cell_type": "markdown",
   "id": "3f5f2445-4c5a-4d70-bb08-0247a0aa01d8",
   "metadata": {},
   "source": [
    "### Seleccionar una fila específica por su posición:"
   ]
  },
  {
   "cell_type": "code",
   "execution_count": 5,
   "id": "b487ae6e-993d-4063-985c-44de5045f36c",
   "metadata": {},
   "outputs": [
    {
     "name": "stdout",
     "output_type": "stream",
     "text": [
      "Nombre    Ana\n",
      "Edad       23\n",
      "Name: 0, dtype: object\n"
     ]
    }
   ],
   "source": [
    "import pandas as pd\n",
    "\n",
    "data = {'Nombre': ['Ana', 'Luis', 'Marta'], 'Edad': [23, 35, 29]}\n",
    "df = pd.DataFrame(data)\n",
    "\n",
    "# Seleccionar la primera fila\n",
    "print(df.iloc[0])"
   ]
  },
  {
   "cell_type": "markdown",
   "id": "76f7fd0b-6311-40ec-913c-8e0ef2141680",
   "metadata": {},
   "source": [
    "### Seleccionar un rango de filas:"
   ]
  },
  {
   "cell_type": "code",
   "execution_count": 13,
   "id": "1cc8028f-8326-4b0f-aa58-8ed4af8fd45c",
   "metadata": {},
   "outputs": [
    {
     "name": "stdout",
     "output_type": "stream",
     "text": [
      "  Nombre  Edad\n",
      "0    Ana    23\n",
      "1   Luis    35\n"
     ]
    }
   ],
   "source": [
    "# Seleccionar las primeras dos filas\n",
    "print(df.iloc[0:2])"
   ]
  },
  {
   "cell_type": "markdown",
   "id": "33df04f6-df70-4e27-a0ef-95f34896fc20",
   "metadata": {},
   "source": [
    "### Seleccionar filas y columnas específicas:"
   ]
  },
  {
   "cell_type": "code",
   "execution_count": 11,
   "id": "d344894e-b699-47b9-afe0-06a6f605d04c",
   "metadata": {},
   "outputs": [
    {
     "name": "stdout",
     "output_type": "stream",
     "text": [
      "23\n"
     ]
    }
   ],
   "source": [
    "# Seleccionar la primera fila y la segunda columna\n",
    "print(df.iloc[0, 1])"
   ]
  },
  {
   "cell_type": "markdown",
   "id": "b4408185-a5d2-424f-9221-fdbf643fc9c8",
   "metadata": {},
   "source": [
    "### Seleccionar un rango de filas y columnas:"
   ]
  },
  {
   "cell_type": "code",
   "execution_count": 16,
   "id": "2fae7e8f-9987-49a3-b624-f7a8c2d3c4ef",
   "metadata": {},
   "outputs": [
    {
     "name": "stdout",
     "output_type": "stream",
     "text": [
      "  Nombre  Edad\n",
      "0    Ana    23\n",
      "1   Luis    35\n"
     ]
    }
   ],
   "source": [
    "# Seleccionar las dos primeras filas y las dos primeras columnas\n",
    "print(df.iloc[0:2, 0:2])"
   ]
  },
  {
   "cell_type": "markdown",
   "id": "c3b96a39-ab65-413d-b000-a0daefe0d5b3",
   "metadata": {},
   "source": [
    "### Seleccionar múltiples filas y columnas con iloc:"
   ]
  },
  {
   "cell_type": "code",
   "execution_count": 34,
   "id": "ae6234fc-fb37-48a6-9ab9-e57cbf26ef52",
   "metadata": {},
   "outputs": [
    {
     "name": "stdout",
     "output_type": "stream",
     "text": [
      "        Edad\n",
      "Nombre      \n",
      "Ana       23\n",
      "Luis      35\n"
     ]
    }
   ],
   "source": [
    "# Seleccionar las dos primeras filas y las dos primeras columnas\n",
    "print(df.iloc[0:2, 0:2])"
   ]
  },
  {
   "cell_type": "markdown",
   "id": "00b39dad-8c9c-49be-9a69-71efbc04985b",
   "metadata": {},
   "source": [
    "#### Seleccionar múltiples filas y columnas con **loc**"
   ]
  },
  {
   "cell_type": "code",
   "execution_count": 37,
   "id": "91459220-5690-4a7e-b1a2-71e46bf14769",
   "metadata": {},
   "outputs": [
    {
     "name": "stdout",
     "output_type": "stream",
     "text": [
      "  Nombre  Edad\n",
      "0    Ana    23\n",
      "1   Luis    35\n"
     ]
    }
   ],
   "source": [
    "# Restablecer índice para usar etiquetas\n",
    "df.reset_index(inplace=True)\n",
    "\n",
    "# Seleccionar filas por etiquetas y columnas por nombres\n",
    "print(df.loc[0:1, ['Nombre', 'Edad']])\n"
   ]
  },
  {
   "cell_type": "markdown",
   "id": "dde4fb79-cfcd-4462-9f15-6b7b2ca2dbe4",
   "metadata": {},
   "source": [
    "## ``loc``: acceso por etiqueta\n",
    "loc permite acceder a las filas y columnas de un DataFrame utilizando las etiquetas de los índices y nombres de las columnas. Es útil cuando se trabaja con etiquetas significativas en lugar de posiciones numéricas.\n"
   ]
  },
  {
   "cell_type": "markdown",
   "id": "680401b2-4d61-4241-abc4-2cf53fa75660",
   "metadata": {},
   "source": [
    "###  Filtrado de datos con condiciones utilizando loc:"
   ]
  },
  {
   "cell_type": "code",
   "execution_count": 41,
   "id": "dc8b0610-ec30-422d-92b1-d249d3886ba8",
   "metadata": {},
   "outputs": [
    {
     "name": "stdout",
     "output_type": "stream",
     "text": [
      "  Nombre  Edad\n",
      "1   Luis    35\n",
      "2  Marta    29\n"
     ]
    }
   ],
   "source": [
    "# Filtrar filas donde la edad es mayor de 25\n",
    "print(df.loc[df['Edad'] > 25])"
   ]
  },
  {
   "cell_type": "markdown",
   "id": "1ecbe57f-9b5c-4665-93f4-4b49cef67c13",
   "metadata": {},
   "source": [
    "### Selección con condiciones complejas:"
   ]
  },
  {
   "cell_type": "code",
   "execution_count": 44,
   "id": "748c6135-1623-485e-a55e-12a2dda7542c",
   "metadata": {},
   "outputs": [
    {
     "name": "stdout",
     "output_type": "stream",
     "text": [
      "  Nombre  Edad\n",
      "1   Luis    35\n"
     ]
    }
   ],
   "source": [
    "# Seleccionar filas donde la edad es mayor de 25 y el nombre es 'Luis'\n",
    "print(df.loc[(df['Edad'] > 25) & (df['Nombre'] == 'Luis')])"
   ]
  },
  {
   "cell_type": "markdown",
   "id": "a27eea56-ccd0-4633-ac47-fd80f419baa6",
   "metadata": {},
   "source": [
    "### Seleccionar una fila específica por su etiqueta:"
   ]
  },
  {
   "cell_type": "code",
   "execution_count": 20,
   "id": "8b5f6061-50e4-44fd-99bf-14658d50e81f",
   "metadata": {},
   "outputs": [
    {
     "name": "stdout",
     "output_type": "stream",
     "text": [
      "Edad    23\n",
      "Name: Ana, dtype: int64\n"
     ]
    }
   ],
   "source": [
    "# Establecer 'Nombre' como índice\n",
    "df.set_index('Nombre', inplace=True)\n",
    "\n",
    "# Seleccionar la fila correspondiente a 'Ana'\n",
    "print(df.loc['Ana'])\n"
   ]
  },
  {
   "cell_type": "markdown",
   "id": "457f6efa-8cd3-4635-8439-5189589bebc2",
   "metadata": {},
   "source": [
    "### Seleccionar un rango de filas por etiquetas:"
   ]
  },
  {
   "cell_type": "code",
   "execution_count": 23,
   "id": "3139e6d0-1af8-4089-9661-9792f95ee23a",
   "metadata": {},
   "outputs": [
    {
     "name": "stdout",
     "output_type": "stream",
     "text": [
      "        Edad\n",
      "Nombre      \n",
      "Ana       23\n",
      "Luis      35\n"
     ]
    }
   ],
   "source": [
    "# Seleccionar las filas correspondientes a 'Ana' y 'Luis'\n",
    "print(df.loc['Ana':'Luis'])"
   ]
  },
  {
   "cell_type": "markdown",
   "id": "2a83ff3d-6f57-47e1-a3ba-5bbed1282c2b",
   "metadata": {},
   "source": [
    "### Seleccionar filas y columnas específicas por etiquetas:"
   ]
  },
  {
   "cell_type": "code",
   "execution_count": 26,
   "id": "cafad837-b7b9-4d50-b55f-96897c9b482d",
   "metadata": {},
   "outputs": [
    {
     "name": "stdout",
     "output_type": "stream",
     "text": [
      "23\n"
     ]
    }
   ],
   "source": [
    "# Seleccionar la fila correspondiente a 'Ana' y la columna 'Edad'\n",
    "print(df.loc['Ana', 'Edad'])"
   ]
  },
  {
   "cell_type": "markdown",
   "id": "9d035290-2460-4d95-86cb-6f896322d561",
   "metadata": {},
   "source": [
    "### Seleccionar un rango de filas y columnas por etiquetas:"
   ]
  },
  {
   "cell_type": "code",
   "execution_count": 29,
   "id": "d1de212e-f482-4806-9e52-4554472078f1",
   "metadata": {},
   "outputs": [
    {
     "name": "stdout",
     "output_type": "stream",
     "text": [
      "Nombre\n",
      "Ana     23\n",
      "Luis    35\n",
      "Name: Edad, dtype: int64\n"
     ]
    }
   ],
   "source": [
    "# Seleccionar las filas de 'Ana' a 'Luis' y las columnas 'Edad'\n",
    "print(df.loc['Ana':'Luis', 'Edad'])"
   ]
  }
 ],
 "metadata": {
  "kernelspec": {
   "display_name": "Python [conda env:base] *",
   "language": "python",
   "name": "conda-base-py"
  },
  "language_info": {
   "codemirror_mode": {
    "name": "ipython",
    "version": 3
   },
   "file_extension": ".py",
   "mimetype": "text/x-python",
   "name": "python",
   "nbconvert_exporter": "python",
   "pygments_lexer": "ipython3",
   "version": "3.12.7"
  }
 },
 "nbformat": 4,
 "nbformat_minor": 5
}
