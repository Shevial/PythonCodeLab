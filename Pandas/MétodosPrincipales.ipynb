{
 "cells": [
  {
   "cell_type": "markdown",
   "id": "646558c2-e929-4af6-953f-8d265960f4a4",
   "metadata": {},
   "source": [
    "## Resumen de los principales métodos de Pandas\n"
   ]
  },
  {
   "cell_type": "markdown",
   "id": "2d73c87c-eb33-41ad-acbf-d5c86dc6b90c",
   "metadata": {},
   "source": [
    "### Selección y filtrado de datos:\n",
    "\n",
    "``loc[]``: Selecciona datos por etiquetas.  \n",
    "``iloc[]``: Selecciona datos por posición.  \n",
    "``query()``: Filtra datos utilizando una expresión de cadena."
   ]
  },
  {
   "cell_type": "code",
   "execution_count": 37,
   "id": "b11311c3-da6b-4aef-8183-bd2adf978850",
   "metadata": {},
   "outputs": [
    {
     "name": "stdout",
     "output_type": "stream",
     "text": [
      "  Nombre  Edad\n",
      "2  Pedro    28\n",
      "3  Laura    30\n",
      "\n",
      " Nombre    Juan\n",
      "Edad        25\n",
      "Name: 1, dtype: object\n",
      "\n",
      " Nombre    Carlos\n",
      "Edad          22\n",
      "Name: 4, dtype: object\n",
      "\n",
      "   Nombre  Edad\n",
      "2  Pedro    28\n",
      "3  Laura    30\n"
     ]
    }
   ],
   "source": [
    "import pandas as pd\n",
    "# Definir el DataFrame\n",
    "df = pd.DataFrame({\n",
    "    'Nombre': ['Ana', 'Juan', 'Pedro', 'Laura', 'Carlos'],\n",
    "    'Edad': [23, 25, 28, 30, 22]\n",
    "})\n",
    "\n",
    "# Seleccionar una columna\n",
    "edades = df['Edad']\n",
    "\n",
    "# Filtrar filas basado en una condición\n",
    "mayores_de_25 = df[df['Edad'] > 25]\n",
    "print(mayores_de_25)\n",
    "\n",
    "# Seleccionar una fila por etiqueta\n",
    "fila_1 = df.loc[1]\n",
    "print(\"\\n\", fila_1)\n",
    "\n",
    "# Seleccionar una fila por posición\n",
    "fila_2 = df.iloc[4]\n",
    "print(\"\\n\", fila_2)\n",
    "\n",
    "# Filtrar usando query\n",
    "mayores_de_25 = df.query('Edad > 25')\n",
    "print(\"\\n\", mayores_de_25)\n"
   ]
  },
  {
   "cell_type": "markdown",
   "id": "765b3212-5f7a-4a90-86e6-452cc836dca2",
   "metadata": {},
   "source": [
    "### Manipulación de datos:\n",
    "\n",
    "``assign()``: Añade nuevas columnas a un DataFrame.  \n",
    "``drop()``: Elimina filas o columnas.  \n",
    "``rename()``: Cambia el nombre de las filas o columnas.  \n",
    "``sort_values()``: Ordena los datos por valores.  "
   ]
  },
  {
   "cell_type": "code",
   "execution_count": 60,
   "id": "98f6c348-cb8b-411c-bf27-d462ec0c7018",
   "metadata": {},
   "outputs": [
    {
     "name": "stdout",
     "output_type": "stream",
     "text": [
      "   Nombre  Edad\n",
      "0     Ana    23\n",
      "1    Juan    25\n",
      "2   Pedro    28\n",
      "3   Laura    30\n",
      "4  Carlos    22\n",
      "\n",
      "    Nombre  Edad  Edad_mas_5\n",
      "0     Ana    23          28\n",
      "1    Juan    25          30\n",
      "2   Pedro    28          33\n",
      "3   Laura    30          35\n",
      "4  Carlos    22          27\n",
      "\n",
      "    Nombre  Edad\n",
      "0     Ana    23\n",
      "1    Juan    25\n",
      "2   Pedro    28\n",
      "3   Laura    30\n",
      "4  Carlos    22\n",
      "\n",
      "    Nombre  Years\n",
      "4  Carlos     22\n",
      "0     Ana     23\n",
      "1    Juan     25\n",
      "2   Pedro     28\n",
      "3   Laura     30\n",
      "\n",
      "    Nombre  Years\n",
      "4  Carlos     22\n",
      "0     Ana     23\n",
      "1    Juan     25\n",
      "2   Pedro     28\n",
      "3   Laura     30\n"
     ]
    }
   ],
   "source": [
    "import pandas as pd\n",
    "# Definir el DataFrame\n",
    "df = pd.DataFrame({\n",
    "    'Nombre': ['Ana', 'Juan', 'Pedro', 'Laura', 'Carlos'],\n",
    "    'Edad': [23, 25, 28, 30, 22]\n",
    "})\n",
    "print(df)\n",
    "\n",
    "# Agregar una nueva columna\n",
    "df = df.assign(Edad_mas_5=df['Edad'] + 5)\n",
    "print(\"\\n\", df)\n",
    "\n",
    "# Eliminar una columna\n",
    "df = df.drop(columns=['Edad_mas_5'])\n",
    "print(\"\\n\", df)\n",
    "\n",
    "# Ordenar los datos por una columna\n",
    "df = df.sort_values(by='Edad').rename(columns={'Edad': 'Years'})\n",
    "print(\"\\n\", df)\n",
    "\n",
    "\n",
    "# Cambiar el nombre de una columna\n",
    "df = df.rename(columns={'Edad': 'Years'})\n",
    "print(\"\\n\", df)\n"
   ]
  },
  {
   "cell_type": "markdown",
   "id": "0c1c88bf-ade3-4c33-9697-fa5d02f8a03e",
   "metadata": {},
   "source": [
    "### Agrupación y agregación de datos:\n",
    "\n",
    "``groupby()``: Agrupa los datos por una o más columnas.  \n",
    "``agg()``: Aplica funciones de agregación a los grupos.  \n",
    "``pivot_table()``: Crea una tabla pivote."
   ]
  },
  {
   "cell_type": "code",
   "execution_count": 74,
   "id": "7e3440ed-7439-459d-b83b-0d88f2a36a49",
   "metadata": {},
   "outputs": [
    {
     "name": "stdout",
     "output_type": "stream",
     "text": [
      "Media de años por ciudad:\n",
      "Ciudad\n",
      "Barcelona    27.500000\n",
      "Madrid       24.333333\n",
      "Name: Años, dtype: float64\n",
      "\n",
      "Funciones de agregación (media, suma, cuenta):\n",
      "                mean  sum  count\n",
      "Ciudad                          \n",
      "Barcelona  27.500000   55      2\n",
      "Madrid     24.333333   73      3\n",
      "\n",
      "Tabla pivote de años por ciudad y nombre:\n",
      "Nombre      Ana  Carlos  Juan  Laura  Pedro\n",
      "Ciudad                                     \n",
      "Barcelona   NaN     NaN  25.0   30.0    NaN\n",
      "Madrid     23.0    22.0   NaN    NaN   28.0\n"
     ]
    }
   ],
   "source": [
    "import pandas as pd\n",
    "\n",
    "df = pd.DataFrame({\n",
    "    'Ciudad': ['Madrid', 'Barcelona', 'Madrid', 'Barcelona', 'Madrid'],\n",
    "    'Nombre': ['Ana', 'Juan', 'Pedro', 'Laura', 'Carlos'],\n",
    "    'Años': [23, 25, 28, 30, 22]\n",
    "})\n",
    "\n",
    "# Agrupar por una columna y calcular la media de 'Años'\n",
    "media_edad = df.groupby('Ciudad')['Años'].mean()\n",
    "print(\"Media de años por ciudad:\")\n",
    "print(media_edad)\n",
    "\n",
    "# Aplicar múltiples funciones de agregación\n",
    "agg_funcs = df.groupby('Ciudad')['Años'].agg(['mean', 'sum', 'count'])\n",
    "print(\"\\nFunciones de agregación (media, suma, cuenta):\")\n",
    "print(agg_funcs)\n",
    "\n",
    "# Crear una tabla pivote\n",
    "tabla_pivote = df.pivot_table(values='Años', index='Ciudad', columns='Nombre', aggfunc='mean')\n",
    "print(\"\\nTabla pivote de años por ciudad y nombre:\")\n",
    "print(tabla_pivote)\n"
   ]
  },
  {
   "cell_type": "markdown",
   "id": "b77db567-e1a7-45e9-ae2e-3a90c0929b3b",
   "metadata": {},
   "source": [
    "### Lectura y escritura de datos:\n",
    "**``read_sql()``: Lee un ? SQL y lo convierte en un DataFrame.  \n",
    "``read_sql_table()``: Lee una tabla SQL y lo convierte en un DataFrame.   \n",
    "``read_sql_query()``: Lee un query SQL y lo convierte en un DataFrame.   \n",
    "``to_sql()``: Escribe un DataFrame en un SQL.**  \n",
    "``read_csv()``: Lee un archivo CSV y lo convierte en un DataFrame.  \n",
    "``to_csv()``: Escribe un DataFrame en un archivo CSV.  \n",
    "``read_excel()``: Lee un archivo Excel y lo convierte en un DataFrame.  \n",
    "``to_excel()``: Escribe un DataFrame en un archivo Excel."
   ]
  },
  {
   "cell_type": "code",
   "execution_count": null,
   "id": "19c3d732-37ff-4a54-904c-f107d0776f32",
   "metadata": {},
   "outputs": [],
   "source": [
    "import pandas as pd\n",
    "\n",
    "# Leer un archivo CSV\n",
    "df = pd.read_csv('archivo.csv')\n",
    "\n",
    "# Escribir un DataFrame a un archivo CSV\n",
    "df.to_csv('archivo_salida.csv', index=False)\n",
    "\n",
    "# Leer un archivo Excel\n",
    "df = pd.read_excel('archivo.xlsx')\n",
    "\n",
    "# Escribir un DataFrame a un archivo Excel\n",
    "df.to_excel('archivo_salida.xlsx', index=False)"
   ]
  }
 ],
 "metadata": {
  "kernelspec": {
   "display_name": "Python [conda env:base] *",
   "language": "python",
   "name": "conda-base-py"
  },
  "language_info": {
   "codemirror_mode": {
    "name": "ipython",
    "version": 3
   },
   "file_extension": ".py",
   "mimetype": "text/x-python",
   "name": "python",
   "nbconvert_exporter": "python",
   "pygments_lexer": "ipython3",
   "version": "3.12.7"
  }
 },
 "nbformat": 4,
 "nbformat_minor": 5
}
