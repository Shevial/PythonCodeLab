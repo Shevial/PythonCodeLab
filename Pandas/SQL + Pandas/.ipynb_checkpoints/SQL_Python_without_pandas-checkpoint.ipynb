{
 "cells": [
  {
   "cell_type": "markdown",
   "id": "db2b29be-3aa9-42d3-ab25-990ea5d6267a",
   "metadata": {},
   "source": [
    "## Docker como maquina virtual ligera para ejecutar contenedor MySql"
   ]
  },
  {
   "cell_type": "markdown",
   "id": "ba547663-af22-468b-96f4-488bc75cd13a",
   "metadata": {},
   "source": [
    "Docker actúa como una máquina virtual ligera que ejecuta el contenedor de MySQL de forma aislada. El contenedor tiene todo lo necesario para ejecutar MySQL, incluyendo el servidor de bases de datos, y no depende de que tengas MySQL instalado en tu sistema operativo local.  \n",
    "\n",
    "¿Qué hace Docker en este caso?  \n",
    "Aísla el contenedor: Cuando ejecutas el contenedor mysql-employees, Docker ejecuta una versión de MySQL dentro del contenedor sin necesidad de que tú tengas MySQL instalado en tu equipo.  \n",
    "\n",
    "Usa el volumen montado: Al especificar un volumen con -v C:/Users/User/OneDrive/Escritorio/data:/var/lib/mysql, estás diciéndole a Docker que almacene los datos de la base de datos en tu máquina local, pero el servidor MySQL sigue funcionando dentro del contenedor.  \n",
    "\n",
    "Acceso al contenedor: Puedes acceder a la base de datos MySQL mediante comandos de Docker, como el comando docker exec para interactuar con MySQL, sin tener que tener MySQL en tu máquina."
   ]
  },
  {
   "cell_type": "markdown",
   "id": "70cb116c-13d8-425e-a691-359f344a5a68",
   "metadata": {},
   "source": [
    "Voy a probar con una base de datos de ejemplo en docker.    \n",
    "1. Entro a  DockerHub  \n",
    "https://hub.docker.com/r/genschsa/mysql-employees  \n",
    "2. (Windows) Ejecuto:  "
   ]
  },
  {
   "cell_type": "code",
   "execution_count": null,
   "id": "b813814c-2393-495a-9b54-4a447c962708",
   "metadata": {},
   "outputs": [],
   "source": [
    "docker pull genschsa/mysql-employees"
   ]
  },
  {
   "cell_type": "markdown",
   "id": "3ad16bd7-ac8b-4a1e-8915-a7d05a68818b",
   "metadata": {},
   "source": [
    "3. Después:"
   ]
  },
  {
   "cell_type": "code",
   "execution_count": null,
   "id": "92822f23-7b84-45d1-a7da-5c0548f104bc",
   "metadata": {},
   "outputs": [],
   "source": [
    "docker run -d --name mysql-employees -p 3306:3306 -e MYSQL_ROOT_PASSWORD=college -v $(pwd)/data:/var/lib/mysql genschsa/mysql-employees"
   ]
  },
  {
   "cell_type": "markdown",
   "id": "2e295859-8fd6-489a-a8d0-dd2d1c5edc65",
   "metadata": {},
   "source": [
    "4. Para verificar que el contenedor está corriendo:"
   ]
  },
  {
   "cell_type": "code",
   "execution_count": null,
   "id": "442fbb57-d40c-4792-b01b-7593d93ca85b",
   "metadata": {},
   "outputs": [],
   "source": [
    "docker ps"
   ]
  },
  {
   "cell_type": "markdown",
   "id": "eb8c5c88-5325-4434-bfdb-80b693f3260d",
   "metadata": {},
   "source": [
    "5. Conectar a MySQL: (te pide contraseña, la que se puso en el comando anterior)"
   ]
  },
  {
   "cell_type": "code",
   "execution_count": null,
   "id": "0a4e499b-b3d0-42fc-a165-7bb87cb1a2dc",
   "metadata": {},
   "outputs": [],
   "source": [
    "docker exec -it mysql-employees mysql -u root -p"
   ]
  },
  {
   "cell_type": "markdown",
   "id": "47b4bfdb-6e15-4d11-8a4a-d1637b927602",
   "metadata": {},
   "source": [
    "Ya está, todos los datos de MySQL estarán guardados en esa carpeta en tu máquina local. Puedes acceder a ellos directamente desde tu sistema de archivos para ver y modificar la base de datos si es necesario."
   ]
  },
  {
   "cell_type": "markdown",
   "id": "491e82b7-73af-4fd4-86bc-db31d9a848ab",
   "metadata": {},
   "source": [
    "Para ver logs del contenedor:"
   ]
  },
  {
   "cell_type": "code",
   "execution_count": null,
   "id": "3089308d-77fd-4ca3-920b-1eac4f0cd0f2",
   "metadata": {},
   "outputs": [],
   "source": [
    "docker logs mysql-employees"
   ]
  },
  {
   "cell_type": "markdown",
   "id": "681ff1d8-326b-42a2-9b03-e246fd2be21c",
   "metadata": {},
   "source": [
    "Detener el contenedor:"
   ]
  },
  {
   "cell_type": "code",
   "execution_count": null,
   "id": "f5d1bfe1-c98f-4b01-ad1b-5fcc5ff2769f",
   "metadata": {},
   "outputs": [],
   "source": [
    "docker stop mysql-employees"
   ]
  },
  {
   "cell_type": "markdown",
   "id": "c0f33128-cb31-46d9-bec1-636d7e6de868",
   "metadata": {},
   "source": [
    "Eliminar el contenedor:"
   ]
  },
  {
   "cell_type": "code",
   "execution_count": null,
   "id": "efa3582c-ba0a-4e5d-a29c-458db7980072",
   "metadata": {},
   "outputs": [],
   "source": [
    "docker rm mysql-employees\n"
   ]
  },
  {
   "cell_type": "markdown",
   "id": "69dce36f-5ce1-4804-94da-b1ba9a6b1c72",
   "metadata": {},
   "source": [
    "## Raw connection to Database "
   ]
  },
  {
   "cell_type": "code",
   "execution_count": 35,
   "id": "e07c336c-4787-4de9-8e86-c786eb41bb3f",
   "metadata": {},
   "outputs": [
    {
     "name": "stdout",
     "output_type": "stream",
     "text": [
      "Collecting mysql-connector-python\n",
      "  Downloading mysql_connector_python-9.2.0-cp312-cp312-win_amd64.whl.metadata (6.2 kB)\n",
      "Downloading mysql_connector_python-9.2.0-cp312-cp312-win_amd64.whl (16.1 MB)\n",
      "   ---------------------------------------- 0.0/16.1 MB ? eta -:--:--\n",
      "   ----- ---------------------------------- 2.1/16.1 MB 11.8 MB/s eta 0:00:02\n",
      "   ----------- ---------------------------- 4.5/16.1 MB 11.2 MB/s eta 0:00:02\n",
      "   ---------------- ----------------------- 6.6/16.1 MB 10.9 MB/s eta 0:00:01\n",
      "   ---------------------- ----------------- 8.9/16.1 MB 11.1 MB/s eta 0:00:01\n",
      "   ---------------------------- ----------- 11.3/16.1 MB 11.2 MB/s eta 0:00:01\n",
      "   ----------------------------------- ---- 14.2/16.1 MB 11.3 MB/s eta 0:00:01\n",
      "   ---------------------------------------- 16.1/16.1 MB 11.1 MB/s eta 0:00:00\n",
      "Installing collected packages: mysql-connector-python\n",
      "Successfully installed mysql-connector-python-9.2.0\n"
     ]
    }
   ],
   "source": [
    "!pip install mysql-connector-python"
   ]
  },
  {
   "cell_type": "markdown",
   "id": "d8f0a7f5-d245-4627-b9a2-dec854e8dca8",
   "metadata": {},
   "source": [
    "Creamos un conector y un cursor para ejecutar las consultas:  \n",
    "Un cursor es un objeto que permite interactuar con los datos de una base de datos. Se usa para ejecutar consultas SQL y recorrer los resultados de esas consultas. Con el cursor, puedes obtener, modificar o manipular datos de manera controlada."
   ]
  },
  {
   "cell_type": "code",
   "execution_count": 39,
   "id": "c9315ac9-9b1a-47a6-a166-6a3bebb763ed",
   "metadata": {},
   "outputs": [],
   "source": [
    "import mysql.connector\n",
    "\n",
    "connection = mysql.connector.connect(\n",
    "    user='root',\n",
    "    password='college',\n",
    "    host='localhost',\n",
    "    database='employees',\n",
    "    ssl_disabled=True\n",
    ")\n",
    "cursor = connection.cursor()"
   ]
  },
  {
   "cell_type": "markdown",
   "id": "4a08b74e-7bb2-4f4d-b726-378c9df3b929",
   "metadata": {},
   "source": [
    "Creamos un objeto query que es un String que contendrá el query SQL:"
   ]
  },
  {
   "cell_type": "code",
   "execution_count": 41,
   "id": "f0e63093-a94a-4229-a2d2-0e5cc58a2f01",
   "metadata": {},
   "outputs": [],
   "source": [
    "query = \"\"\"\n",
    "    SELECT *\n",
    "    FROM employees e\n",
    "    JOIN salaries s\n",
    "    ON e.emp_no = s.emp_no\n",
    "    WHERE e.hire_date > '1999-01-01';\n",
    "\"\"\""
   ]
  },
  {
   "cell_type": "markdown",
   "id": "b505068f-ca66-44ed-9d23-cb0269f6cf4f",
   "metadata": {},
   "source": [
    "Ejecutamos el query con el cursor:"
   ]
  },
  {
   "cell_type": "code",
   "execution_count": 43,
   "id": "d0b5cb51-a0fa-43f8-9c03-be895b5325b9",
   "metadata": {},
   "outputs": [],
   "source": [
    "cursor.execute(query)"
   ]
  },
  {
   "cell_type": "markdown",
   "id": "811e6c3a-6be0-401d-84eb-c7eace6eb25a",
   "metadata": {},
   "source": [
    "Este cursor nos dará linea por linea, entonces para extraer los datos hay que iterar sobre el query.  \n",
    "Enumeramos sobre el cursor y rompemos en la primera vuelta para no mostrar todo."
   ]
  },
  {
   "cell_type": "code",
   "execution_count": 49,
   "id": "373832d1-e90e-4804-92d8-49e38c1d887d",
   "metadata": {},
   "outputs": [],
   "source": [
    "for i, data in enumerate(cursor):\n",
    "    break"
   ]
  },
  {
   "cell_type": "code",
   "execution_count": null,
   "id": "cc4ed5d4-c6ba-489e-8116-c4aee36cc86d",
   "metadata": {},
   "outputs": [],
   "source": [
    "data"
   ]
  },
  {
   "cell_type": "markdown",
   "id": "8bcdf516-b662-4248-8b9b-a84f2ccad7a9",
   "metadata": {},
   "source": [
    "Todo junto, esta vez almacenando todos los resultados en un array de objetos y cerramos el cursor y la conexión."
   ]
  },
  {
   "cell_type": "code",
   "execution_count": 61,
   "id": "63817e44-5d98-4b7e-b8cf-4a709d8c2984",
   "metadata": {},
   "outputs": [],
   "source": [
    "import mysql.connector\n",
    "\n",
    "connection = mysql.connector.connect(\n",
    "    user='root',\n",
    "    password='college',\n",
    "    host='localhost',\n",
    "    database='employees',\n",
    "    ssl_disabled=True\n",
    ")\n",
    "cursor = connection.cursor()\n",
    "query = \"\"\"\n",
    "    SELECT *\n",
    "    FROM employees e\n",
    "    JOIN salaries s\n",
    "    ON e.emp_no = s.emp_no\n",
    "    WHERE e.hire_date > '1999-01-01';\n",
    "\"\"\"\n",
    "cursor.execute(query)\n",
    "results = []\n",
    "for i, data in enumerate(cursor):\n",
    "    results.append(data)\n",
    "cursor.close()\n",
    "connection.close()"
   ]
  },
  {
   "cell_type": "code",
   "execution_count": 65,
   "id": "6acd7420-03c5-4374-a07d-050c203bc619",
   "metadata": {},
   "outputs": [
    {
     "data": {
      "text/plain": [
       "4853"
      ]
     },
     "execution_count": 65,
     "metadata": {},
     "output_type": "execute_result"
    }
   ],
   "source": [
    "len(results)"
   ]
  },
  {
   "cell_type": "markdown",
   "id": "f95b58e3-545a-44ac-b563-d428a50fc6a9",
   "metadata": {},
   "source": [
    "Estos 4 mil resultados los podemos guardar en un Dataframe de Pandas:  \n",
    "Hay que darles nombre a las columnas."
   ]
  },
  {
   "cell_type": "code",
   "execution_count": 68,
   "id": "43ccd2ad-6a80-4e6a-ae69-1c0053262574",
   "metadata": {},
   "outputs": [
    {
     "data": {
      "text/html": [
       "<div>\n",
       "<style scoped>\n",
       "    .dataframe tbody tr th:only-of-type {\n",
       "        vertical-align: middle;\n",
       "    }\n",
       "\n",
       "    .dataframe tbody tr th {\n",
       "        vertical-align: top;\n",
       "    }\n",
       "\n",
       "    .dataframe thead th {\n",
       "        text-align: right;\n",
       "    }\n",
       "</style>\n",
       "<table border=\"1\" class=\"dataframe\">\n",
       "  <thead>\n",
       "    <tr style=\"text-align: right;\">\n",
       "      <th></th>\n",
       "      <th>emp_no</th>\n",
       "      <th>birth_date</th>\n",
       "      <th>first_name</th>\n",
       "      <th>last_name</th>\n",
       "      <th>gender</th>\n",
       "      <th>hire_date</th>\n",
       "      <th>empl_no.1</th>\n",
       "      <th>salary</th>\n",
       "      <th>from_date</th>\n",
       "      <th>to_date</th>\n",
       "    </tr>\n",
       "  </thead>\n",
       "  <tbody>\n",
       "    <tr>\n",
       "      <th>0</th>\n",
       "      <td>10019</td>\n",
       "      <td>1953-01-23</td>\n",
       "      <td>Lillian</td>\n",
       "      <td>Haddadi</td>\n",
       "      <td>M</td>\n",
       "      <td>1999-04-30</td>\n",
       "      <td>10019</td>\n",
       "      <td>44276</td>\n",
       "      <td>1999-04-30</td>\n",
       "      <td>2000-04-29</td>\n",
       "    </tr>\n",
       "    <tr>\n",
       "      <th>1</th>\n",
       "      <td>10019</td>\n",
       "      <td>1953-01-23</td>\n",
       "      <td>Lillian</td>\n",
       "      <td>Haddadi</td>\n",
       "      <td>M</td>\n",
       "      <td>1999-04-30</td>\n",
       "      <td>10019</td>\n",
       "      <td>46946</td>\n",
       "      <td>2000-04-29</td>\n",
       "      <td>2001-04-29</td>\n",
       "    </tr>\n",
       "    <tr>\n",
       "      <th>2</th>\n",
       "      <td>10019</td>\n",
       "      <td>1953-01-23</td>\n",
       "      <td>Lillian</td>\n",
       "      <td>Haddadi</td>\n",
       "      <td>M</td>\n",
       "      <td>1999-04-30</td>\n",
       "      <td>10019</td>\n",
       "      <td>46775</td>\n",
       "      <td>2001-04-29</td>\n",
       "      <td>2002-04-29</td>\n",
       "    </tr>\n",
       "    <tr>\n",
       "      <th>3</th>\n",
       "      <td>10019</td>\n",
       "      <td>1953-01-23</td>\n",
       "      <td>Lillian</td>\n",
       "      <td>Haddadi</td>\n",
       "      <td>M</td>\n",
       "      <td>1999-04-30</td>\n",
       "      <td>10019</td>\n",
       "      <td>50032</td>\n",
       "      <td>2002-04-29</td>\n",
       "      <td>9999-01-01</td>\n",
       "    </tr>\n",
       "    <tr>\n",
       "      <th>4</th>\n",
       "      <td>10105</td>\n",
       "      <td>1962-02-05</td>\n",
       "      <td>Hironoby</td>\n",
       "      <td>Piveteau</td>\n",
       "      <td>M</td>\n",
       "      <td>1999-03-23</td>\n",
       "      <td>10105</td>\n",
       "      <td>59258</td>\n",
       "      <td>1999-05-17</td>\n",
       "      <td>2000-05-16</td>\n",
       "    </tr>\n",
       "  </tbody>\n",
       "</table>\n",
       "</div>"
      ],
      "text/plain": [
       "   emp_no  birth_date first_name last_name gender   hire_date  empl_no.1  \\\n",
       "0   10019  1953-01-23    Lillian   Haddadi      M  1999-04-30      10019   \n",
       "1   10019  1953-01-23    Lillian   Haddadi      M  1999-04-30      10019   \n",
       "2   10019  1953-01-23    Lillian   Haddadi      M  1999-04-30      10019   \n",
       "3   10019  1953-01-23    Lillian   Haddadi      M  1999-04-30      10019   \n",
       "4   10105  1962-02-05   Hironoby  Piveteau      M  1999-03-23      10105   \n",
       "\n",
       "   salary   from_date     to_date  \n",
       "0   44276  1999-04-30  2000-04-29  \n",
       "1   46946  2000-04-29  2001-04-29  \n",
       "2   46775  2001-04-29  2002-04-29  \n",
       "3   50032  2002-04-29  9999-01-01  \n",
       "4   59258  1999-05-17  2000-05-16  "
      ]
     },
     "execution_count": 68,
     "metadata": {},
     "output_type": "execute_result"
    }
   ],
   "source": [
    "import pandas as pd\n",
    "\n",
    "df_pulled = pd.DataFrame(results)\n",
    "df_pulled.columns = ['emp_no', 'birth_date', 'first_name', 'last_name', 'gender', 'hire_date', 'empl_no.1', 'salary', 'from_date', 'to_date']\n",
    "df_pulled.head()"
   ]
  }
 ],
 "metadata": {
  "kernelspec": {
   "display_name": "Python [conda env:base] *",
   "language": "python",
   "name": "conda-base-py"
  },
  "language_info": {
   "codemirror_mode": {
    "name": "ipython",
    "version": 3
   },
   "file_extension": ".py",
   "mimetype": "text/x-python",
   "name": "python",
   "nbconvert_exporter": "python",
   "pygments_lexer": "ipython3",
   "version": "3.12.7"
  }
 },
 "nbformat": 4,
 "nbformat_minor": 5
}
