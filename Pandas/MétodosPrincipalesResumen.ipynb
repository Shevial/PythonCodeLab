{
 "cells": [
  {
   "cell_type": "markdown",
   "id": "646558c2-e929-4af6-953f-8d265960f4a4",
   "metadata": {},
   "source": [
    "## Resumen de los principales métodos de Pandas\n"
   ]
  },
  {
   "cell_type": "markdown",
   "id": "2d73c87c-eb33-41ad-acbf-d5c86dc6b90c",
   "metadata": {},
   "source": [
    "### Selección y filtrado de datos:\n",
    "\n",
    "``loc[]``: Selecciona datos por etiquetas.  \n",
    "``iloc[]``: Selecciona datos por posición.  \n",
    "``query()``: Filtra datos utilizando una expresión de cadena."
   ]
  },
  {
   "cell_type": "markdown",
   "id": "765b3212-5f7a-4a90-86e6-452cc836dca2",
   "metadata": {},
   "source": [
    "### Manipulación de datos:\n",
    "\n",
    "``assign()``: Añade nuevas columnas a un DataFrame.  \n",
    "``drop()``: Elimina filas o columnas.  \n",
    "``rename()``: Cambia el nombre de las filas o columnas.  \n",
    "``sort_values()``: Ordena los datos por valores.  "
   ]
  },
  {
   "cell_type": "markdown",
   "id": "0c1c88bf-ade3-4c33-9697-fa5d02f8a03e",
   "metadata": {},
   "source": [
    "### Agrupación y agregación de datos:\n",
    "\n",
    "``groupby()``: Agrupa los datos por una o más columnas.  \n",
    "``agg()``: Aplica funciones de agregación a los grupos.  \n",
    "``pivot_table()``: Crea una tabla pivote."
   ]
  },
  {
   "cell_type": "markdown",
   "id": "b77db567-e1a7-45e9-ae2e-3a90c0929b3b",
   "metadata": {},
   "source": [
    "### Lectura y escritura de datos:\n",
    "**``read_sql()``: Lee un ? SQL y lo convierte en un DataFrame.  \n",
    "``read_sql_table()``: Lee una tabla SQL y lo convierte en un DataFrame.   \n",
    "``read_sql_query()``: Lee un query SQL y lo convierte en un DataFrame.   \n",
    "``to_sql()``: Escribe un DataFrame en un SQL.**  \n",
    "``read_csv()``: Lee un archivo CSV y lo convierte en un DataFrame.  \n",
    "``to_csv()``: Escribe un DataFrame en un archivo CSV.  \n",
    "``read_excel()``: Lee un archivo Excel y lo convierte en un DataFrame.  \n",
    "``to_excel()``: Escribe un DataFrame en un archivo Excel."
   ]
  },
  {
   "cell_type": "code",
   "execution_count": null,
   "id": "19c3d732-37ff-4a54-904c-f107d0776f32",
   "metadata": {},
   "outputs": [],
   "source": []
  }
 ],
 "metadata": {
  "kernelspec": {
   "display_name": "Python [conda env:base] *",
   "language": "python",
   "name": "conda-base-py"
  },
  "language_info": {
   "codemirror_mode": {
    "name": "ipython",
    "version": 3
   },
   "file_extension": ".py",
   "mimetype": "text/x-python",
   "name": "python",
   "nbconvert_exporter": "python",
   "pygments_lexer": "ipython3",
   "version": "3.12.7"
  }
 },
 "nbformat": 4,
 "nbformat_minor": 5
}
