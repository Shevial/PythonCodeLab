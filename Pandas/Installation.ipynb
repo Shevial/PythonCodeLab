{
 "cells": [
  {
   "cell_type": "markdown",
   "id": "5d97d057-8bc7-498e-af83-1340474372d4",
   "metadata": {},
   "source": [
    "## Installation"
   ]
  },
  {
   "cell_type": "markdown",
   "id": "8e57aa50-412d-4888-b3bc-355a6bb1ba96",
   "metadata": {},
   "source": [
    "Install using **pip**"
   ]
  },
  {
   "cell_type": "code",
   "execution_count": null,
   "id": "e00e76fe-635b-489f-a3aa-196fcc0e79e3",
   "metadata": {},
   "outputs": [],
   "source": [
    "pip install pandas"
   ]
  },
  {
   "cell_type": "markdown",
   "id": "880bb294-c3e3-4a0a-99bf-21e1ae2940cc",
   "metadata": {},
   "source": [
    "Install **specific version**"
   ]
  },
  {
   "cell_type": "code",
   "execution_count": null,
   "id": "4e8dd492-1ae4-4f55-b89d-1af16f17d6d1",
   "metadata": {},
   "outputs": [],
   "source": [
    "pip install pandas==2.2.2"
   ]
  },
  {
   "cell_type": "markdown",
   "id": "dae495da-5700-4d56-a65e-0b061a63046a",
   "metadata": {},
   "source": [
    "Instalación using **conda**"
   ]
  },
  {
   "cell_type": "code",
   "execution_count": null,
   "id": "ba043f94-7758-453e-bf65-3cd236051725",
   "metadata": {},
   "outputs": [],
   "source": [
    "conda install pandas"
   ]
  },
  {
   "cell_type": "markdown",
   "id": "ec628deb-6a8a-41c9-a9f2-2557a4e73115",
   "metadata": {},
   "source": [
    "Instalación desde el **código fuente**"
   ]
  },
  {
   "cell_type": "code",
   "execution_count": null,
   "id": "e3616786-40a3-4b9e-8ddb-90f3ef159c53",
   "metadata": {},
   "outputs": [],
   "source": [
    "git clone https://github.com/pandas-dev/pandas.git\n",
    "cd pandas\n",
    "pip install ."
   ]
  },
  {
   "cell_type": "markdown",
   "id": "0ec6a7e6-33a1-451c-8b7d-6f69d6ea20d8",
   "metadata": {},
   "source": [
    "Comprobar la **versión** de Pandas"
   ]
  },
  {
   "cell_type": "code",
   "execution_count": null,
   "id": "9c4a7bc5-3585-43c5-8131-e46990bc521d",
   "metadata": {},
   "outputs": [],
   "source": [
    "import pandas as pd\n",
    "print(pd.__version__)"
   ]
  }
 ],
 "metadata": {
  "kernelspec": {
   "display_name": "Python [conda env:base] *",
   "language": "python",
   "name": "conda-base-py"
  },
  "language_info": {
   "codemirror_mode": {
    "name": "ipython",
    "version": 3
   },
   "file_extension": ".py",
   "mimetype": "text/x-python",
   "name": "python",
   "nbconvert_exporter": "python",
   "pygments_lexer": "ipython3",
   "version": "3.12.7"
  }
 },
 "nbformat": 4,
 "nbformat_minor": 5
}
