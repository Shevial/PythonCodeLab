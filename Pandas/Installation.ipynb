{
 "cells": [
  {
   "cell_type": "markdown",
   "id": "bbec24ed-cffe-4e4b-b12c-7a92d2575582",
   "metadata": {},
   "source": [
    "### Importar creando alias:  \n",
    "Esta convención crea un alias 'pd' para Pandas, permitiéndonos acceder a sus funcionalidades de manera concisa, como ``pd.DataFrame()`` en lugar de ``pandas.DataFrame()``."
   ]
  },
  {
   "cell_type": "code",
   "execution_count": null,
   "id": "78cfe6fe-947e-43e1-b7c2-0370717fc06b",
   "metadata": {},
   "outputs": [],
   "source": [
    "import pandas as pd "
   ]
  },
  {
   "cell_type": "markdown",
   "id": "6fb285b6-bfe6-4e2f-b4fd-a2f242ff6d05",
   "metadata": {},
   "source": [
    "El **núcleo** de Pandas se basa en dos estructuras de datos principales:  \n",
    "- **series**:\n",
    "  Es una **matriz unidimensional** que puede contener **cualquier tipo de datos** (enteros, cadenas, números de punto flotante, objetos de Python, etc.).\n",
    "  Las Series tienen **etiquetas en los ejes (índices)**, que permiten acceder a los datos de manera eficiente."
   ]
  },
  {
   "cell_type": "code",
   "execution_count": 7,
   "id": "ef102e8f-7644-4491-94ad-87186a64e6cd",
   "metadata": {},
   "outputs": [
    {
     "name": "stdout",
     "output_type": "stream",
     "text": [
      "0    1\n",
      "1    3\n",
      "2    5\n",
      "3    7\n",
      "4    9\n",
      "dtype: int64\n"
     ]
    }
   ],
   "source": [
    "import pandas as pd\n",
    "\n",
    "# Crear una Serie\n",
    "serie = pd.Series([1, 3, 5, 7, 9])\n",
    "print(serie)"
   ]
  }
 ],
 "metadata": {
  "kernelspec": {
   "display_name": "Python [conda env:base] *",
   "language": "python",
   "name": "conda-base-py"
  },
  "language_info": {
   "codemirror_mode": {
    "name": "ipython",
    "version": 3
   },
   "file_extension": ".py",
   "mimetype": "text/x-python",
   "name": "python",
   "nbconvert_exporter": "python",
   "pygments_lexer": "ipython3",
   "version": "3.12.7"
  }
 },
 "nbformat": 4,
 "nbformat_minor": 5
}
