{
 "cells": [
  {
   "cell_type": "markdown",
   "id": "9ba5f1f0-c0a6-4b45-90c3-71d26bafba81",
   "metadata": {},
   "source": [
    "## Workflow Asíncrono con Hilos\n",
    "\n",
    "La asincronía en Python permite ejecutar varias tareas al mismo tiempo sin bloquear el programa. Usando async y await, se pueden realizar acciones como leer archivos o hacer peticiones a internet mientras el código sigue funcionando, haciendo que todo sea más rápido y eficiente."
   ]
  },
  {
   "cell_type": "markdown",
   "id": "5d0c95d5-8b0e-440e-b244-3d3d982a56b3",
   "metadata": {},
   "source": [
    "## Ejemplo Práctico: Workflow Asincrónico con Hilos"
   ]
  },
  {
   "cell_type": "markdown",
   "id": "3fab340a-364c-4211-a9da-01af0f4cd0f9",
   "metadata": {},
   "source": [
    "Ejemplo práctico en el que simulemos un flujo de trabajo común de un sistema CRM-ERP.  \n",
    "1. Obtener datos de clientes.  \n",
    "2. Procesar estos datos (cómo calcular estadísticas o realizar validaciones).  \n",
    "3. Almacenar los resultados.  "
   ]
  },
  {
   "cell_type": "markdown",
   "id": "7ea989a9-4c48-4453-8fb2-53912ebb168e",
   "metadata": {},
   "source": [
    "Este workflow se ejecutará de forma asincrónica, permitiendo que las tareas no bloqueen el proceso principal, y utilizaremos hilos para manejar múltiples tareas simultáneamente."
   ]
  },
  {
   "cell_type": "code",
   "execution_count": 14,
   "id": "e71048dc-1337-4eab-aafa-72f139c1e2aa",
   "metadata": {},
   "outputs": [
    {
     "name": "stdout",
     "output_type": "stream",
     "text": [
      "Iniciando obtención de datos para cliente 2...\n",
      "Iniciando obtención de datos para cliente 1...\n",
      "Iniciando obtención de datos para cliente 5...\n",
      "Iniciando obtención de datos para cliente 3...\n",
      "Iniciando obtención de datos para cliente 4...\n",
      "Datos obtenidos para cliente 2.\n",
      "Datos obtenidos para cliente 5.\n",
      "Datos obtenidos para cliente 4.\n",
      "Datos obtenidos para cliente 3.\n",
      "Iniciando procesamiento de datos para Cliente-5...\n",
      "Iniciando procesamiento de datos para Cliente-2...\n",
      "Iniciando procesamiento de datos para Cliente-3...\n",
      "Iniciando procesamiento de datos para Cliente-4...\n",
      "Datos obtenidos para cliente 1.\n",
      "Iniciando procesamiento de datos para Cliente-1...\n",
      "Datos procesados para Cliente-1.Datos procesados para Cliente-2.\n",
      "Iniciando almacenamiento de datos para 2...\n",
      "Datos procesados para Cliente-4.\n",
      "Iniciando almacenamiento de datos para 4...\n",
      "Datos procesados para Cliente-3.\n",
      "\n",
      "Iniciando almacenamiento de datos para 1...\n",
      "Datos procesados para Cliente-5.\n",
      "Iniciando almacenamiento de datos para 5...\n",
      "Iniciando almacenamiento de datos para 3...\n",
      "Datos almacenados para 2.\n",
      "Datos almacenados para 1.\n",
      "Datos almacenados para 5.\n",
      "Datos almacenados para 3.\n",
      "Datos almacenados para 4.\n",
      "Tiempo total de ejecución: 6.04 segundos.\n"
     ]
    }
   ],
   "source": [
    "import asyncio\n",
    "import threading\n",
    "import time\n",
    "\n",
    "# Simulamos tareas de un CRM-ERP\n",
    "async def obtener_datos_cliente(cliente_id):\n",
    "    print(f\"Iniciando obtención de datos para cliente {cliente_id}...\")\n",
    "    await asyncio.sleep(2)  # Simula un retraso en la obtención de datos\n",
    "    print(f\"Datos obtenidos para cliente {cliente_id}.\")\n",
    "    return {\"cliente_id\": cliente_id, \"nombre\": f\"Cliente-{cliente_id}\"}\n",
    "\n",
    "async def procesar_datos_cliente(datos_cliente):\n",
    "    print(f\"Iniciando procesamiento de datos para {datos_cliente['nombre']}...\")\n",
    "    await asyncio.sleep(3)  # Simula un procesamiento de datos\n",
    "    print(f\"Datos procesados para {datos_cliente['nombre']}.\")\n",
    "    return {\"id_cliente\": datos_cliente[\"cliente_id\"], \"estado\": \"procesado\"}\n",
    "\n",
    "async def almacenar_datos_cliente(procesados):\n",
    "    print(f\"Iniciando almacenamiento de datos para {procesados['id_cliente']}...\")\n",
    "    await asyncio.sleep(1)  # Simula almacenamiento\n",
    "    print(f\"Datos almacenados para {procesados['id_cliente']}.\")\n",
    "\n",
    "# Función que ejecuta el workflow de forma secuencial dentro de un hilo\n",
    "def ejecutar_workflow(cliente_id):\n",
    "    loop = asyncio.new_event_loop()\n",
    "    asyncio.set_event_loop(loop)\n",
    "    try:\n",
    "        # Paso 1: Obtener datos\n",
    "        datos_cliente = loop.run_until_complete(obtener_datos_cliente(cliente_id))\n",
    "        # Paso 2: Procesar datos\n",
    "        datos_procesados = loop.run_until_complete(procesar_datos_cliente(datos_cliente))\n",
    "        # Paso 3: Almacenar datos\n",
    "        loop.run_until_complete(almacenar_datos_cliente(datos_procesados))\n",
    "    finally:\n",
    "        loop.close()\n",
    "\n",
    "# Función para ejecutar los workflows en hilos\n",
    "def workflow_con_hilos(cliente_ids):\n",
    "    threads = []\n",
    "    for cliente_id in cliente_ids:\n",
    "        hilo = threading.Thread(target=ejecutar_workflow, args=(cliente_id,))\n",
    "        threads.append(hilo)\n",
    "        hilo.start()\n",
    "    \n",
    "    for hilo in threads:\n",
    "        hilo.join()\n",
    "\n",
    "# Ejecutando el flujo de trabajo para varios clientes\n",
    "if __name__ == \"__main__\":\n",
    "    cliente_ids = [1, 2, 3, 4, 5]  # IDs de clientes\n",
    "    inicio = time.time()\n",
    "    \n",
    "    workflow_con_hilos(cliente_ids)\n",
    "    \n",
    "    print(f\"Tiempo total de ejecución: {time.time() - inicio:.2f} segundos.\")\n"
   ]
  },
  {
   "cell_type": "markdown",
   "id": "6225c403-9403-4945-a982-4ac92a1be3b0",
   "metadata": {},
   "source": [
    "### Explicación:\n",
    "1. Funciones Asincrónicas (async/await):  \n",
    "○ obtener_datos_cliente(cliente_id): Simula la obtención de datos del cliente con un retraso de 2 segundos.  \n",
    "○ procesar_datos_cliente(datos_cliente): Simula el procesamiento de datos del cliente con un retraso de 3 segundos.  \n",
    "○ almacenar_datos_cliente(procesados): Simula el almacenamiento de los datos procesados con un retraso de 1 segundo.  \n",
    "2. Uso de Hilos (threading):  \n",
    "○ En la función workflow_con_hilos(), creamos varios hilos (uno por cliente) que ejecutan el flujo de trabajo de manera independiente.  \n",
    "○ Cada hilo ejecuta la función ejecutar_workflow(), que corre el ciclo de obtener, procesar y almacenar los datos de manera asincrónica, pero dentro del hilo.  \n",
    "3. Ejecución Concurrente:  \n",
    "○ La ejecución del workflow para cada cliente es independiente y simultánea, gracias al uso de hilos, lo que mejora la eficiencia cuando hay múltiples clientes que procesar."
   ]
  }
 ],
 "metadata": {
  "kernelspec": {
   "display_name": "Python [conda env:base] *",
   "language": "python",
   "name": "conda-base-py"
  },
  "language_info": {
   "codemirror_mode": {
    "name": "ipython",
    "version": 3
   },
   "file_extension": ".py",
   "mimetype": "text/x-python",
   "name": "python",
   "nbconvert_exporter": "python",
   "pygments_lexer": "ipython3",
   "version": "3.12.7"
  }
 },
 "nbformat": 4,
 "nbformat_minor": 5
}
