{
 "cells": [
  {
   "cell_type": "markdown",
   "id": "9ba5f1f0-c0a6-4b45-90c3-71d26bafba81",
   "metadata": {},
   "source": [
    "## Workflow Asíncrono con Hilos\n",
    "\n",
    "La asincronía en Python permite ejecutar varias tareas al mismo tiempo sin bloquear el programa. Usando async y await, se pueden realizar acciones como leer archivos o hacer peticiones a internet mientras el código sigue funcionando, haciendo que todo sea más rápido y eficiente."
   ]
  },
  {
   "cell_type": "code",
   "execution_count": null,
   "id": "337180da-769f-4a09-a58a-202b14bd9f55",
   "metadata": {},
   "outputs": [],
   "source": []
  },
  {
   "cell_type": "code",
   "execution_count": null,
   "id": "cc205e4d-8040-4811-b88f-902ca7f9cca4",
   "metadata": {},
   "outputs": [],
   "source": []
  }
 ],
 "metadata": {
  "kernelspec": {
   "display_name": "Python [conda env:base] *",
   "language": "python",
   "name": "conda-base-py"
  },
  "language_info": {
   "codemirror_mode": {
    "name": "ipython",
    "version": 3
   },
   "file_extension": ".py",
   "mimetype": "text/x-python",
   "name": "python",
   "nbconvert_exporter": "python",
   "pygments_lexer": "ipython3",
   "version": "3.12.7"
  }
 },
 "nbformat": 4,
 "nbformat_minor": 5
}
