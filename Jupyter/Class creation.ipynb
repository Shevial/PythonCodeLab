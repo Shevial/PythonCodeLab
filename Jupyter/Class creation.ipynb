{
 "cells": [
  {
   "cell_type": "markdown",
   "id": "429009fe-f941-4c0c-936c-8e8fb6fc661b",
   "metadata": {},
   "source": [
    "## Class creation  \n",
    "Class definition syntax"
   ]
  },
  {
   "cell_type": "code",
   "execution_count": null,
   "id": "a6064d8a-2c37-46ad-bb46-61b06a4650b0",
   "metadata": {},
   "outputs": [],
   "source": [
    "class ClassName:\n",
    "    i = 12345\n",
    "\n",
    "    def f(self): ## metodo de la clase siempre tiene SELF\n",
    "        return 'hello world'\n",
    "\n"
   ]
  },
  {
   "cell_type": "markdown",
   "id": "f9d043c5-cd99-4706-8964-8e62438bf563",
   "metadata": {},
   "source": [
    "### 0. Constructores (__init__)\n",
    "En Python, el constructor de una clase es el método ``__init__``.  \n",
    "Se usa para inicializar los atributos de una instancia cuando se crea un objeto.  \n",
    "El método __init__ se llama automáticamente cuando se crea un nuevo objeto de la clase."
   ]
  },
  {
   "cell_type": "code",
   "execution_count": 2,
   "id": "02ec2097-695b-447c-9c16-09c87572181e",
   "metadata": {},
   "outputs": [
    {
     "name": "stdout",
     "output_type": "stream",
     "text": [
      "Ford\n",
      "Escort\n"
     ]
    }
   ],
   "source": [
    "class Car:\n",
    "    def __init__(self, marca, model):\n",
    "        self.marca = marca\n",
    "        self.model = model\n",
    "\n",
    "# Instanciar\n",
    "car = Car ('Ford', 'Escort')\n",
    "print(car.marca)\n",
    "print(car.model)\n"
   ]
  },
  {
   "cell_type": "code",
   "execution_count": 20,
   "id": "b6d25421-882b-4906-bdb8-d0fb75ae52eb",
   "metadata": {},
   "outputs": [
    {
     "name": "stdout",
     "output_type": "stream",
     "text": [
      "Accelerating\n"
     ]
    }
   ],
   "source": [
    "class Car:\n",
    "    def __init__(self, marca, model):\n",
    "        self.marca = marca\n",
    "        self.model = model\n",
    "    def accelerate(self):\n",
    "        print(\"Accelerating\")\n",
    "\n",
    "car = Car(\"Toyota\", \"Corolla\")\n",
    "car.accelerate()"
   ]
  },
  {
   "cell_type": "markdown",
   "id": "69eda27a-fb40-48b6-a608-f57b492c6e37",
   "metadata": {},
   "source": [
    "## 1. Concepto Básico de Herencia\n",
    "Cuando una clase hereda de otra, obtiene los atributos y métodos de la clase base. La clase hija puede extender, modificar o agregar nuevos métodos y atributos."
   ]
  },
  {
   "cell_type": "markdown",
   "id": "55cd3b6b-4838-4ca4-8f34-8581eb27b55d",
   "metadata": {},
   "source": [
    "Python soporta herencia multiple  \n",
    "Java no soporta para evitar problemas de jerarquía"
   ]
  },
  {
   "cell_type": "markdown",
   "id": "c2570dba-6415-4fbb-9f49-ccb84c56074f",
   "metadata": {},
   "source": [
    "¿Cómo importar clases de otros archivos?  \n",
    "Si estuviera en otro archivo, se haria asi:"
   ]
  },
  {
   "cell_type": "code",
   "execution_count": 47,
   "id": "b459a0fe-2304-4597-956c-45d64c9b634c",
   "metadata": {
    "scrolled": true
   },
   "outputs": [
    {
     "ename": "ModuleNotFoundError",
     "evalue": "No module named 'teoria'",
     "output_type": "error",
     "traceback": [
      "\u001b[1;31m---------------------------------------------------------------------------\u001b[0m",
      "\u001b[1;31mModuleNotFoundError\u001b[0m                       Traceback (most recent call last)",
      "Cell \u001b[1;32mIn[47], line 1\u001b[0m\n\u001b[1;32m----> 1\u001b[0m \u001b[38;5;28;01mimport\u001b[39;00m \u001b[38;5;21;01mteoria\u001b[39;00m\n\u001b[0;32m      2\u001b[0m \u001b[38;5;28;01mclass\u001b[39;00m \u001b[38;5;21;01mElecticCar\u001b[39;00m(teoria\u001b[38;5;241m.\u001b[39mCar):\n\u001b[0;32m      3\u001b[0m     \u001b[38;5;28;01mdef\u001b[39;00m \u001b[38;5;21m__init__\u001b[39m(\u001b[38;5;28mself\u001b[39m):\n",
      "\u001b[1;31mModuleNotFoundError\u001b[0m: No module named 'teoria'"
     ]
    }
   ],
   "source": [
    "import teoria\n",
    "class ElecticCar(teoria.Car):\n",
    "    def __init__(self):\n",
    "        super__init__()"
   ]
  },
  {
   "cell_type": "markdown",
   "id": "430dd8ab-6e15-4852-952d-b0b27d3e435b",
   "metadata": {},
   "source": [
    "### Herencia de constructor de clase base"
   ]
  },
  {
   "cell_type": "markdown",
   "id": "81f7a401-942c-487a-8e2c-eb970543ea87",
   "metadata": {},
   "source": [
    "* ElectricCar hereda de Car, por lo que recibe todos los métodos de la clase base (Car), como el constructor ``__init__()`` y el método ``accelerate()``.\n",
    "* Como ElectricCar no tiene un constructor definido, hereda el constructor de la clase base Car. En este caso, no es necesario que definamos un constructor en la clase hija si no vamos a agregar ningún comportamiento extra."
   ]
  },
  {
   "cell_type": "code",
   "execution_count": 52,
   "id": "d2151e02-6a05-4b76-a499-1cf3db64765d",
   "metadata": {},
   "outputs": [
    {
     "name": "stdout",
     "output_type": "stream",
     "text": [
      "hola desde hija\n",
      "Accelerating\n"
     ]
    }
   ],
   "source": [
    "class Car:\n",
    "    def __init__(self, marca, model):\n",
    "        self.marca = marca\n",
    "        self.model = model\n",
    "    def accelerate(self):\n",
    "        print(\"Accelerating\")\n",
    "\n",
    "class ElectricCar(Car):\n",
    "    def saludarHija(self): # La clase hija añade su propio método saludarHija().\n",
    "            print(\"hola desde hija\")\n",
    "\n",
    "electric = ElectricCar(\"audi\", \"a3\") ## Constructor heredado\n",
    "electric.saludarHija()\n",
    "electric.accelerate()"
   ]
  },
  {
   "cell_type": "markdown",
   "id": "0c5bdfd9-2293-4565-81e4-5ca6440a505e",
   "metadata": {},
   "source": [
    "### Herencia con constructor personalizado"
   ]
  },
  {
   "cell_type": "markdown",
   "id": "54088a0f-0a19-4daa-8ba1-c13b777129cc",
   "metadata": {},
   "source": [
    "Cuando la clase hija tiene un constructor propio que no coincide con el constructor de la clase base, necesitamos llamar al constructor de la clase base utilizando ``super()``.\n",
    "``super()`` te permite llamar a los métodos de la clase base.\n"
   ]
  },
  {
   "cell_type": "code",
   "execution_count": 61,
   "id": "360c1f57-d3f3-46ce-9951-23e2c42395f1",
   "metadata": {},
   "outputs": [
    {
     "name": "stdout",
     "output_type": "stream",
     "text": [
      "Hola desde hija\n",
      "Accelerating\n"
     ]
    }
   ],
   "source": [
    "class Car:\n",
    "    def __init__(self, marca, model):\n",
    "        self.marca = marca\n",
    "        self.model = model\n",
    "    def accelerate(self):\n",
    "        print(\"Accelerating\")\n",
    "\n",
    "class ElectricCar(Car):\n",
    "    def __init__(self, precio, marca, model):\n",
    "        self.precio = precio\n",
    "        super().__init__(marca, model)  # Llamamos al constructor de la clase base\n",
    "    \n",
    "    def saludarHija(self):\n",
    "        print(\"Hola desde hija\")\n",
    "\n",
    "electric = ElectricCar(1500, \"audi\", \"a3\")  # Constructor heredado\n",
    "electric.saludarHija()\n",
    "electric.accelerate()\n"
   ]
  },
  {
   "cell_type": "markdown",
   "id": "44c4bad5-545e-4b99-b028-b57d4da0fa1b",
   "metadata": {},
   "source": [
    "**¿Cómo se pasan argumentos desde la hija al padre?**  \n",
    "Para pasar argumentos desde la clase hija al constructor de la clase base (padre), se utiliza la función ``super()`` dentro de la clase hija para llamar al constructor de la clase base y pasarle los parámetros correspondientes.\n",
    "1. Clase Base (Padre): Tiene un constructor que espera ciertos parámetros.\n",
    "2. Clase Hija: Tiene su propio constructor, pero también necesita pasar ciertos argumentos al constructor de la clase base.\n",
    "3. Uso de ``super()``: Usamos ``super().__init__()`` en la clase hija para llamar al constructor de la clase base y pasarle los argumentos necesarios."
   ]
  },
  {
   "cell_type": "markdown",
   "id": "35e13b3a-ce1e-486a-ab2a-52313dded3c7",
   "metadata": {},
   "source": [
    "## 2. Métodos Especiales\n",
    "### ``__str__``\n",
    "Este método se usa para devolver una representación legible de la instancia. Es útil para mostrar el objeto en un formato amigable al usuario."
   ]
  },
  {
   "cell_type": "code",
   "execution_count": 18,
   "id": "1bea6723-37e6-4f8a-8f3a-e9c70ca66042",
   "metadata": {},
   "outputs": [
    {
     "name": "stdout",
     "output_type": "stream",
     "text": [
      "Toyota Corolla\n"
     ]
    }
   ],
   "source": [
    "class Coche:\n",
    "    def __init__(self, marca, modelo):\n",
    "        self.marca = marca\n",
    "        self.modelo = modelo\n",
    "\n",
    "    def __str__(self):\n",
    "        return f\"{self.marca} {self.modelo}\"\n",
    "\n",
    "mi_coche = Coche(\"Toyota\", \"Corolla\")\n",
    "print(mi_coche)  \n"
   ]
  },
  {
   "cell_type": "markdown",
   "id": "e86acb10-b224-412c-bafe-b865b6be4e4a",
   "metadata": {},
   "source": [
    "### ``__repr__``\n",
    "Es similar a ``__str__``, pero se usa principalmente para la representación oficial del objeto y debería devolver una cadena que pueda ser evaluada para crear una nueva instancia."
   ]
  },
  {
   "cell_type": "code",
   "execution_count": 20,
   "id": "ff4d3b0b-2d34-4900-b81b-de3d1e405cd7",
   "metadata": {},
   "outputs": [
    {
     "name": "stdout",
     "output_type": "stream",
     "text": [
      "Coche('Toyota', 'Corolla')\n"
     ]
    }
   ],
   "source": [
    "class Coche:\n",
    "    def __init__(self, marca, modelo):\n",
    "        self.marca = marca\n",
    "        self.modelo = modelo\n",
    "\n",
    "    def __repr__(self):\n",
    "        return f\"Coche('{self.marca}', '{self.modelo}')\"\n",
    "\n",
    "mi_coche = Coche(\"Toyota\", \"Corolla\")\n",
    "print(repr(mi_coche)) "
   ]
  },
  {
   "cell_type": "markdown",
   "id": "ece30c3e-ea59-4a53-8c5e-b12df2a2beb6",
   "metadata": {},
   "source": [
    "## 3. Clases Estáticas y de Clase\n",
    "### Métodos estáticos:\n",
    "No tienen acceso a la instancia ni a la clase, son independientes de ellos. Se definen con el decorador ``@staticmethod.``"
   ]
  },
  {
   "cell_type": "code",
   "execution_count": 23,
   "id": "82f7fdc3-a221-47fe-b732-73dbab961bc7",
   "metadata": {},
   "outputs": [
    {
     "name": "stdout",
     "output_type": "stream",
     "text": [
      "8\n"
     ]
    }
   ],
   "source": [
    "class Matematica:\n",
    "    @staticmethod\n",
    "    def suma(a, b):\n",
    "        return a + b\n",
    "\n",
    "print(Matematica.suma(5, 3))"
   ]
  },
  {
   "cell_type": "markdown",
   "id": "cf3d022e-609c-403e-bac7-b82524a87c0d",
   "metadata": {},
   "source": [
    "### Métodos de clase:\n",
    "Acceden a la clase, no a la instancia. Se definen con ``@classmethod`` y reciben el argumento cls que representa la clase."
   ]
  },
  {
   "cell_type": "code",
   "execution_count": 28,
   "id": "159b71d1-831a-46b8-8c26-6e4da3533b20",
   "metadata": {},
   "outputs": [
    {
     "name": "stdout",
     "output_type": "stream",
     "text": [
      "1\n"
     ]
    }
   ],
   "source": [
    "class Coche:\n",
    "    cantidad = 0\n",
    "\n",
    "    def __init__(self, marca, modelo):\n",
    "        self.marca = marca\n",
    "        self.modelo = modelo\n",
    "        Coche.incrementar_cantidad()\n",
    "\n",
    "    @classmethod\n",
    "    def incrementar_cantidad(cls):\n",
    "        cls.cantidad += 1\n",
    "\n",
    "mi_coche = Coche(\"Toyota\", \"Corolla\")\n",
    "print(Coche.cantidad) "
   ]
  },
  {
   "cell_type": "markdown",
   "id": "e1569849-1c9a-49e4-9272-e0c8c5fd5e8e",
   "metadata": {},
   "source": [
    "## 4. Polimorfismo\n",
    "Permite que un objeto de una clase derive de otra y sobrescriba sus métodos. Es útil cuando diferentes clases tienen un mismo método con comportamientos distintos."
   ]
  },
  {
   "cell_type": "code",
   "execution_count": 31,
   "id": "3426cf52-abc9-44a6-a225-e17cb02dfc48",
   "metadata": {},
   "outputs": [
    {
     "name": "stdout",
     "output_type": "stream",
     "text": [
      "Guau\n",
      "Miau\n"
     ]
    }
   ],
   "source": [
    "class Animal:\n",
    "    def hablar(self):\n",
    "        raise NotImplementedError(\"Debe ser implementado por la subclase\")\n",
    "\n",
    "class Perro(Animal):\n",
    "    def hablar(self):\n",
    "        return \"Guau\"\n",
    "\n",
    "class Gato(Animal):\n",
    "    def hablar(self):\n",
    "        return \"Miau\"\n",
    "\n",
    "def hacer_hablar(animal):\n",
    "    print(animal.hablar())\n",
    "\n",
    "hacer_hablar(Perro()) \n",
    "hacer_hablar(Gato())  "
   ]
  },
  {
   "cell_type": "markdown",
   "id": "989ebf90-361c-4687-9e1a-b5e6829dc006",
   "metadata": {},
   "source": [
    "## 5. Encapsulamiento\n",
    "En Python, los atributos de clase pueden ser privados o protegidos usando convenciones de nombre, aunque no se fuerza la privacidad. Por ejemplo, los nombres de **atributos privados** suelen empezar con un guion bajo ``_`` o dos guiones bajos ``__``."
   ]
  },
  {
   "cell_type": "code",
   "execution_count": 35,
   "id": "dcbd8be0-8a0e-4d0e-9f04-b9bb821f09dc",
   "metadata": {},
   "outputs": [
    {
     "name": "stdout",
     "output_type": "stream",
     "text": [
      "Toyota\n"
     ]
    }
   ],
   "source": [
    "class Coche:\n",
    "    def __init__(self, marca):\n",
    "        self._marca = marca  # Atributo protegido\n",
    "\n",
    "    def obtener_marca(self):\n",
    "        return self._marca\n",
    "\n",
    "mi_coche = Coche(\"Toyota\")\n",
    "print(mi_coche.obtener_marca())  "
   ]
  },
  {
   "cell_type": "markdown",
   "id": "4c5b673b-72f1-474b-b61f-716310e54917",
   "metadata": {},
   "source": [
    "## 6. Composición\n",
    "La composición es cuando un objeto contiene instancias de otras clases, en lugar de heredar de ellas."
   ]
  },
  {
   "cell_type": "code",
   "execution_count": 37,
   "id": "8283d5d4-ec4b-42bf-a079-df374c8da9d7",
   "metadata": {},
   "outputs": [
    {
     "name": "stdout",
     "output_type": "stream",
     "text": [
      "Motor encendido\n"
     ]
    }
   ],
   "source": [
    "class Motor:\n",
    "    def encender(self):\n",
    "        return \"Motor encendido\"\n",
    "\n",
    "class Coche:\n",
    "    def __init__(self, marca):\n",
    "        self.marca = marca\n",
    "        self.motor = Motor()  # Composición\n",
    "\n",
    "    def arrancar(self):\n",
    "        return self.motor.encender()\n",
    "\n",
    "mi_coche = Coche(\"Toyota\")\n",
    "print(mi_coche.arrancar()) "
   ]
  },
  {
   "cell_type": "markdown",
   "id": "f68a0954-d9a7-4852-8618-ba565fe187d7",
   "metadata": {},
   "source": [
    "## 7. Propiedades\n",
    "El decorador ``@property`` permite que un método se use como un atributo, lo cual es útil para calcular valores sobre la marcha."
   ]
  },
  {
   "cell_type": "code",
   "execution_count": 64,
   "id": "c586c2ea-1673-460f-8baa-159a9ce420fc",
   "metadata": {},
   "outputs": [
    {
     "name": "stdout",
     "output_type": "stream",
     "text": [
      "10000\n",
      "15000\n"
     ]
    }
   ],
   "source": [
    "class Coche:\n",
    "    def __init__(self, kilometros):\n",
    "        self._kilometros = kilometros\n",
    "\n",
    "    @property\n",
    "    def kilometros(self):\n",
    "        return self._kilometros\n",
    "\n",
    "    @kilometros.setter\n",
    "    def kilometros(self, valor):\n",
    "        if valor < 0:\n",
    "            raise ValueError(\"Los kilómetros no pueden ser negativos\")\n",
    "        self._kilometros = valor\n",
    "\n",
    "mi_coche = Coche(10000)\n",
    "print(mi_coche.kilometros) \n",
    "mi_coche.kilometros = 15000\n",
    "print(mi_coche.kilometros) \n"
   ]
  },
  {
   "cell_type": "markdown",
   "id": "02808daa-207e-4bfa-b8d5-370b8748d05f",
   "metadata": {},
   "source": [
    "## 8. Métodos de Comparación\n",
    "Podemos definir cómo comparar objetos usando métodos como ``__eq__``, ``__lt__``, etc. para comparar instancias de clases."
   ]
  },
  {
   "cell_type": "code",
   "execution_count": 68,
   "id": "e7984b78-d9a9-4610-8183-b3876ef3c405",
   "metadata": {},
   "outputs": [
    {
     "name": "stdout",
     "output_type": "stream",
     "text": [
      "True\n"
     ]
    }
   ],
   "source": [
    "class Coche:\n",
    "    def __init__(self, modelo):\n",
    "        self.modelo = modelo\n",
    "\n",
    "    def __eq__(self, other):\n",
    "        return self.modelo == other.modelo\n",
    "\n",
    "mi_coche = Coche(\"Toyota\")\n",
    "otro_coche = Coche(\"Toyota\")\n",
    "print(mi_coche == otro_coche) "
   ]
  },
  {
   "cell_type": "markdown",
   "id": "199991c4-0609-4caf-a662-88d4803df369",
   "metadata": {},
   "source": [
    "## 9. Excepciones en Clases\n",
    "Podemos definir excepciones personalizadas heredando de ``Exception`` para crear nuestras propias reglas de error."
   ]
  },
  {
   "cell_type": "code",
   "execution_count": 70,
   "id": "0379d916-d127-4356-ac9d-0f6eed05631f",
   "metadata": {},
   "outputs": [
    {
     "name": "stdout",
     "output_type": "stream",
     "text": [
      "¡Ocurrió un error!\n"
     ]
    }
   ],
   "source": [
    "class MiError(Exception):\n",
    "    pass\n",
    "\n",
    "try:\n",
    "    raise MiError(\"¡Ocurrió un error!\")\n",
    "except MiError as e:\n",
    "    print(e) \n"
   ]
  },
  {
   "cell_type": "markdown",
   "id": "f6241a1e-01dc-49c2-a5cc-d500a92fa9f7",
   "metadata": {},
   "source": [
    "## 10. Iteradores y Generadores\n",
    "Un iterador es un objeto que implementa los métodos ``__iter__`` y ``__next__``, lo que permite recorrerlo en un bucle for. Los generadores se definen usando yield."
   ]
  },
  {
   "cell_type": "code",
   "execution_count": 74,
   "id": "8725683f-aa82-43b3-aaa2-e571ec16da1c",
   "metadata": {},
   "outputs": [
    {
     "name": "stdout",
     "output_type": "stream",
     "text": [
      "1\n",
      "2\n",
      "3\n"
     ]
    }
   ],
   "source": [
    "class Contador:\n",
    "    def __init__(self, maximo):\n",
    "        self.maximo = maximo\n",
    "        self.contador = 0\n",
    "\n",
    "    def __iter__(self):\n",
    "        return self\n",
    "\n",
    "    def __next__(self):\n",
    "        if self.contador < self.maximo:\n",
    "            self.contador += 1\n",
    "            return self.contador\n",
    "        else:\n",
    "            raise StopIteration\n",
    "\n",
    "contador = Contador(3)\n",
    "for numero in contador:\n",
    "    print(numero)"
   ]
  },
  {
   "cell_type": "markdown",
   "id": "8503bb48-f384-4d6e-8099-89d4e9468094",
   "metadata": {},
   "source": [
    "## 11. Context Manager (``__enter__`` y ``__exit__``)\n",
    "El Context Manager permite que un objeto administre el contexto en el que se encuentra (como abrir y cerrar archivos)."
   ]
  },
  {
   "cell_type": "code",
   "execution_count": 77,
   "id": "df7a1fc2-8a88-43e9-b04e-e6883e4ef196",
   "metadata": {},
   "outputs": [
    {
     "name": "stdout",
     "output_type": "stream",
     "text": [
      "Abriendo archivo\n",
      "Leyendo archivo\n",
      "Cerrando archivo\n"
     ]
    }
   ],
   "source": [
    "class Archivo:\n",
    "    def __enter__(self):\n",
    "        print(\"Abriendo archivo\")\n",
    "        return self\n",
    "\n",
    "    def __exit__(self, exc_type, exc_value, traceback):\n",
    "        print(\"Cerrando archivo\")\n",
    "\n",
    "with Archivo() as archivo:\n",
    "    print(\"Leyendo archivo\")"
   ]
  },
  {
   "cell_type": "code",
   "execution_count": null,
   "id": "d4de9603-9210-49c8-a25a-6af6f0fb4afe",
   "metadata": {},
   "outputs": [],
   "source": []
  }
 ],
 "metadata": {
  "kernelspec": {
   "display_name": "Python [conda env:base] *",
   "language": "python",
   "name": "conda-base-py"
  },
  "language_info": {
   "codemirror_mode": {
    "name": "ipython",
    "version": 3
   },
   "file_extension": ".py",
   "mimetype": "text/x-python",
   "name": "python",
   "nbconvert_exporter": "python",
   "pygments_lexer": "ipython3",
   "version": "3.12.7"
  }
 },
 "nbformat": 4,
 "nbformat_minor": 5
}
