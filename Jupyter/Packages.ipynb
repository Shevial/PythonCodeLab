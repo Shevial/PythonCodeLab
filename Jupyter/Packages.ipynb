{
 "cells": [
  {
   "cell_type": "markdown",
   "id": "48c9334e-d41b-410a-af2a-bf5da7517aee",
   "metadata": {},
   "source": [
    "# Packages\n",
    "Packages are a way of structuring Python’s module namespace by using “dotted module names”.  \n",
    "For example, the module name A.B designates a submodule named B in a package named A. Just like the use of modules saves the authors of different modules from having to worry about each other’s global variable names, the use of dotted module names saves the authors of multi-module packages like NumPy or Pillow from having to worry about each other’s module names."
   ]
  },
  {
   "cell_type": "markdown",
   "id": "0e9ad10b-1005-41f9-abef-56b8ce629e8d",
   "metadata": {},
   "source": [
    "Suppose you want to design a collection of modules (a “package”) for the uniform handling of sound files and sound data. There are many different sound file formats (usually recognized by their extension, for example: .wav, .aiff, .au), so you may need to create and maintain a growing collection of modules for the conversion between the various file formats. There are also many different operations you might want to perform on sound data (such as mixing, adding echo, applying an equalizer function, creating an artificial stereo effect), so in addition you will be writing a never-ending stream of modules to perform these operations. Here’s a possible structure for your package (expressed in terms of a hierarchical filesystem):"
   ]
  },
  {
   "cell_type": "code",
   "execution_count": null,
   "id": "920e76be-7749-4aac-bde9-28ef0ba611a1",
   "metadata": {},
   "outputs": [],
   "source": [
    "sound/                          Top-level package\n",
    "      __init__.py               Initialize the sound package\n",
    "      formats/                  Subpackage for file format conversions\n",
    "              __init__.py\n",
    "              wavread.py\n",
    "              wavwrite.py\n",
    "              aiffread.py\n",
    "              aiffwrite.py\n",
    "              auread.py\n",
    "              auwrite.py\n",
    "              ...\n",
    "      effects/                  Subpackage for sound effects\n",
    "              __init__.py\n",
    "              echo.py\n",
    "              surround.py\n",
    "              reverse.py\n",
    "              ...\n",
    "      filters/                  Subpackage for filters\n",
    "              __init__.py\n",
    "              equalizer.py\n",
    "              vocoder.py\n",
    "              karaoke.py\n",
    "              ..."
   ]
  },
  {
   "cell_type": "markdown",
   "id": "b2cac9ac-0479-4935-bb89-1e186ebfe550",
   "metadata": {},
   "source": [
    "When importing the package, Python searches through the directories on sys.path looking for the package subdirectory.\n",
    "\n",
    "The __init__.py files are required to make Python treat directories containing the file as packages (unless using a namespace package, a relatively advanced feature). This prevents directories with a common name, such as string, from unintentionally hiding valid modules that occur later on the module search path. In the simplest case, __init__.py can just be an empty file, but it can also execute initialization code for the package or set the __all__ variable, described later.\n",
    "\n",
    "Users of the package can import individual modules from the package, for example:"
   ]
  },
  {
   "cell_type": "code",
   "execution_count": null,
   "id": "4b2d3de6-54a3-40dd-9fe1-1a85d965125e",
   "metadata": {
    "scrolled": true
   },
   "outputs": [],
   "source": [
    "import sound.effects.echo"
   ]
  },
  {
   "cell_type": "markdown",
   "id": "8e3ac2de-86d8-47cd-b765-414e8acff499",
   "metadata": {},
   "source": [
    "This loads the submodule sound.effects.echo. It must be referenced with its full name."
   ]
  },
  {
   "cell_type": "code",
   "execution_count": null,
   "id": "d3bb9a42-2b1a-4afd-b326-8a35516b4a34",
   "metadata": {},
   "outputs": [],
   "source": [
    "sound.effects.echo.echofilter(input, output, delay=0.7, atten=4)"
   ]
  },
  {
   "cell_type": "code",
   "execution_count": null,
   "id": "54cf3500-8ada-47ad-b83c-160252a6a929",
   "metadata": {},
   "outputs": [],
   "source": [
    "An alternative way of importing the submodule is:"
   ]
  },
  {
   "cell_type": "code",
   "execution_count": null,
   "id": "61ea91a1-2785-4a71-8b10-3fc31ed83f46",
   "metadata": {},
   "outputs": [],
   "source": [
    "from sound.effects import echo"
   ]
  },
  {
   "cell_type": "markdown",
   "id": "3835c4a3-0b70-43fc-b8f6-1a4ef05a3f16",
   "metadata": {},
   "source": [
    "This also loads the submodule echo, and makes it available without its package prefix, so it can be used as follows:"
   ]
  },
  {
   "cell_type": "code",
   "execution_count": null,
   "id": "03429b7d-be10-483a-aa6d-989881d268b3",
   "metadata": {},
   "outputs": [],
   "source": [
    "echo.echofilter(input, output, delay=0.7, atten=4) "
   ]
  },
  {
   "cell_type": "code",
   "execution_count": null,
   "id": "5cce8a3b-9c6a-4284-adf3-0458e5bcac9e",
   "metadata": {},
   "outputs": [],
   "source": []
  }
 ],
 "metadata": {
  "kernelspec": {
   "display_name": "Python [conda env:base] *",
   "language": "python",
   "name": "conda-base-py"
  },
  "language_info": {
   "codemirror_mode": {
    "name": "ipython",
    "version": 3
   },
   "file_extension": ".py",
   "mimetype": "text/x-python",
   "name": "python",
   "nbconvert_exporter": "python",
   "pygments_lexer": "ipython3",
   "version": "3.12.7"
  }
 },
 "nbformat": 4,
 "nbformat_minor": 5
}
