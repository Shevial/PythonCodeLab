{
 "cells": [
  {
   "cell_type": "markdown",
   "id": "4cebe4dc-76a4-4b07-8630-86fec098f841",
   "metadata": {},
   "source": [
    "### Tuples and Sequences\n",
    "* Inmutable: you cannot add or change elements after creating the tuple\n",
    "* Ordered: you can sort the elements\n",
    "* You can include ***different data types*** (heterogeneous sequence)  \n",
    "* Tuples may be nested\n",
    "\n",
    "A tuple consists of a number of values separated by commas, for instance:"
   ]
  },
  {
   "cell_type": "code",
   "execution_count": 6,
   "id": "e11c08e8-b68f-4da4-ab3c-2dc072c6be42",
   "metadata": {},
   "outputs": [
    {
     "name": "stdout",
     "output_type": "stream",
     "text": [
      "(12345, 54321, 'hello!')\n",
      "12345\n"
     ]
    }
   ],
   "source": [
    "def printtuple():\n",
    "    t = 12345, 54321, 'hello!'\n",
    "    t[0]\n",
    "    print(t)\n",
    "    print(t[0])\n",
    "printtuple()"
   ]
  },
  {
   "cell_type": "markdown",
   "id": "e6517f30-06dc-4c1a-9532-73d05acb1e96",
   "metadata": {},
   "source": [
    "* Tuples may be nested"
   ]
  },
  {
   "cell_type": "code",
   "execution_count": 10,
   "id": "530776a1-981e-4af1-9279-d5d074f52330",
   "metadata": {
    "collapsed": true,
    "jupyter": {
     "outputs_hidden": true
    }
   },
   "outputs": [
    {
     "name": "stdout",
     "output_type": "stream",
     "text": [
      "((12345, 54321, 'hello!'), (1, 2, 3, 4, 5))\n"
     ]
    }
   ],
   "source": [
    "def printnestedtuple():\n",
    "    t = 12345, 54321, 'hello!'\n",
    "    u = t, (1, 2, 3, 4, 5)\n",
    "    print(u)\n",
    "printnestedtuple()"
   ]
  },
  {
   "cell_type": "markdown",
   "id": "f621bdc6-a71e-4b1f-9fad-2862977ee074",
   "metadata": {},
   "source": [
    "* Tuples are inmutable"
   ]
  },
  {
   "cell_type": "code",
   "execution_count": 9,
   "id": "1096d425-9125-4e6a-bee6-f88c19a91155",
   "metadata": {
    "scrolled": true
   },
   "outputs": [
    {
     "ename": "TypeError",
     "evalue": "'tuple' object does not support item assignment",
     "output_type": "error",
     "traceback": [
      "\u001b[1;31m---------------------------------------------------------------------------\u001b[0m",
      "\u001b[1;31mTypeError\u001b[0m                                 Traceback (most recent call last)",
      "Cell \u001b[1;32mIn[9], line 2\u001b[0m\n\u001b[0;32m      1\u001b[0m t \u001b[38;5;241m=\u001b[39m \u001b[38;5;241m12345\u001b[39m, \u001b[38;5;241m54321\u001b[39m, \u001b[38;5;124m'\u001b[39m\u001b[38;5;124mhello!\u001b[39m\u001b[38;5;124m'\u001b[39m\n\u001b[1;32m----> 2\u001b[0m t[\u001b[38;5;241m0\u001b[39m] \u001b[38;5;241m=\u001b[39m \u001b[38;5;241m1\u001b[39m\n",
      "\u001b[1;31mTypeError\u001b[0m: 'tuple' object does not support item assignment"
     ]
    }
   ],
   "source": [
    "t = 12345, 54321, 'hello!'\n",
    "t[0] = 1"
   ]
  },
  {
   "cell_type": "code",
   "execution_count": null,
   "id": "d4280f8f-6927-4f07-ab37-270aaa5b0c69",
   "metadata": {},
   "outputs": [],
   "source": []
  }
 ],
 "metadata": {
  "kernelspec": {
   "display_name": "Python [conda env:base] *",
   "language": "python",
   "name": "conda-base-py"
  },
  "language_info": {
   "codemirror_mode": {
    "name": "ipython",
    "version": 3
   },
   "file_extension": ".py",
   "mimetype": "text/x-python",
   "name": "python",
   "nbconvert_exporter": "python",
   "pygments_lexer": "ipython3",
   "version": "3.12.7"
  }
 },
 "nbformat": 4,
 "nbformat_minor": 5
}
