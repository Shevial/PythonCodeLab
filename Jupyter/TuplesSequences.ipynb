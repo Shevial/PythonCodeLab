{
 "cells": [
  {
   "cell_type": "markdown",
   "id": "4cebe4dc-76a4-4b07-8630-86fec098f841",
   "metadata": {},
   "source": [
    "### Tuples and Sequences\n",
    "* Inmutable: you cannot add or change elements after creating the tuple\n",
    "* Ordered: you can sort the elements\n",
    "* You can include ***different data types*** (heterogeneous sequence)  \n",
    "* Tuples may be nested\n",
    "\n",
    "A tuple consists of a number of values separated by commas, for instance:"
   ]
  },
  {
   "cell_type": "code",
   "execution_count": 6,
   "id": "e11c08e8-b68f-4da4-ab3c-2dc072c6be42",
   "metadata": {},
   "outputs": [
    {
     "name": "stdout",
     "output_type": "stream",
     "text": [
      "(12345, 54321, 'hello!')\n",
      "12345\n"
     ]
    }
   ],
   "source": [
    "def printtuple():\n",
    "    t = 12345, 54321, 'hello!'\n",
    "    t[0]\n",
    "    print(t)\n",
    "    print(t[0])\n",
    "printtuple()"
   ]
  },
  {
   "cell_type": "markdown",
   "id": "e6517f30-06dc-4c1a-9532-73d05acb1e96",
   "metadata": {},
   "source": [
    "* Tuples may be nested"
   ]
  },
  {
   "cell_type": "code",
   "execution_count": 10,
   "id": "530776a1-981e-4af1-9279-d5d074f52330",
   "metadata": {},
   "outputs": [
    {
     "name": "stdout",
     "output_type": "stream",
     "text": [
      "((12345, 54321, 'hello!'), (1, 2, 3, 4, 5))\n"
     ]
    }
   ],
   "source": [
    "def printnestedtuple():\n",
    "    t = 12345, 54321, 'hello!'\n",
    "    u = t, (1, 2, 3, 4, 5)\n",
    "    print(u)\n",
    "printnestedtuple()"
   ]
  },
  {
   "cell_type": "code",
   "execution_count": null,
   "id": "f133e968-4171-461f-801e-fa576e70f997",
   "metadata": {},
   "outputs": [],
   "source": []
  }
 ],
 "metadata": {
  "kernelspec": {
   "display_name": "Python [conda env:base] *",
   "language": "python",
   "name": "conda-base-py"
  },
  "language_info": {
   "codemirror_mode": {
    "name": "ipython",
    "version": 3
   },
   "file_extension": ".py",
   "mimetype": "text/x-python",
   "name": "python",
   "nbconvert_exporter": "python",
   "pygments_lexer": "ipython3",
   "version": "3.12.7"
  }
 },
 "nbformat": 4,
 "nbformat_minor": 5
}
