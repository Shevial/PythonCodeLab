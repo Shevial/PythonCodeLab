{
 "cells": [
  {
   "cell_type": "markdown",
   "id": "2a13b209-ecd8-4a78-9e4a-853811f1eba4",
   "metadata": {},
   "source": [
    "### Dictionaries\n",
    "* Mutable\n",
    "Likely used for JSON (for APIS that return JSON)"
   ]
  },
  {
   "cell_type": "code",
   "execution_count": 4,
   "id": "d0565fc2-881e-4ef5-93ef-b3243859821b",
   "metadata": {},
   "outputs": [
    {
     "name": "stdout",
     "output_type": "stream",
     "text": [
      "{'a': 61, 'b': 62, 'c': 63}\n"
     ]
    }
   ],
   "source": [
    "def printdictionary():\n",
    "    di = {'a': 61, 'b': 62}\n",
    "    di['c'] = 63\n",
    "    print(di)\n",
    "printdictionary()"
   ]
  },
  {
   "cell_type": "code",
   "execution_count": null,
   "id": "da5d40ab-9ecb-4632-92be-2294c9cd1785",
   "metadata": {},
   "outputs": [],
   "source": []
  }
 ],
 "metadata": {
  "kernelspec": {
   "display_name": "Python [conda env:base] *",
   "language": "python",
   "name": "conda-base-py"
  },
  "language_info": {
   "codemirror_mode": {
    "name": "ipython",
    "version": 3
   },
   "file_extension": ".py",
   "mimetype": "text/x-python",
   "name": "python",
   "nbconvert_exporter": "python",
   "pygments_lexer": "ipython3",
   "version": "3.12.7"
  }
 },
 "nbformat": 4,
 "nbformat_minor": 5
}
