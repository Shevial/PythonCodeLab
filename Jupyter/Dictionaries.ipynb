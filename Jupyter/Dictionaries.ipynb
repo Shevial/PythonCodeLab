{
 "cells": [
  {
   "cell_type": "markdown",
   "id": "2a13b209-ecd8-4a78-9e4a-853811f1eba4",
   "metadata": {},
   "source": [
    "### Dictionaries\n",
    "* Mutable\n",
    "Likely used for JSON (for APIS that return JSON)\n",
    "It is best to think of a dictionary as a set of key: value pairs, with the requirement that the keys are unique (within one dictionary). A pair of braces creates an empty dictionary: {}. Placing a comma-separated list of key:value pairs within the braces adds initial key:value pairs to the dictionary; this is also the way dictionaries are written on output.  \n",
    "* It is also possible to delete a key:value pair with del.\n",
    "* If you store using a key that is already in use, the old value associated with that key is forgotten.\n",
    "* It is an error to extract a value using a non-existent key."
   ]
  },
  {
   "cell_type": "code",
   "execution_count": 3,
   "id": "d0565fc2-881e-4ef5-93ef-b3243859821b",
   "metadata": {},
   "outputs": [
    {
     "name": "stdout",
     "output_type": "stream",
     "text": [
      "{'a': 61, 'c': 63}\n"
     ]
    }
   ],
   "source": [
    "def printdictionary():\n",
    "    di = {'a': 6, 'b': 62}\n",
    "    di['c'] = 63\n",
    "    del di['b']\n",
    "    print(di)\n",
    "printdictionary()"
   ]
  },
  {
   "cell_type": "markdown",
   "id": "0fc2cdbb-f3b1-47fe-bb12-1559e516d9d3",
   "metadata": {},
   "source": [
    "Performing ``list(d)`` on a dictionary returns a list of all the keys used in the dictionary, in insertion order (if you want it sorted, just use ``sorted(d)`` instead). To check whether a single key is in the dictionary, use the ``in`` keyword."
   ]
  },
  {
   "cell_type": "code",
   "execution_count": 16,
   "id": "2685d9b3-6677-4903-a805-eec40aafd2cb",
   "metadata": {},
   "outputs": [
    {
     "name": "stdout",
     "output_type": "stream",
     "text": [
      "['a', 'b', 'd', 'c']\n",
      "['a', 'b', 'c', 'd']\n",
      "True\n",
      "False\n"
     ]
    }
   ],
   "source": [
    "def printdictionary():\n",
    "    di = {'a': 61, 'b': 62}\n",
    "    di['d'] = 64\n",
    "    di['c'] = 63\n",
    "    print(list(di))\n",
    "    print(sorted(di))\n",
    "    print('a' in di)\n",
    "    print('d' not in di)\n",
    "printdictionary()"
   ]
  },
  {
   "cell_type": "markdown",
   "id": "590785bb-a8db-4b3a-baad-8e36233cfabf",
   "metadata": {},
   "source": [
    "The ``dict()`` constructor builds dictionaries directly from sequences of key-value pairs:\n",
    "This creates a temporal dictionary that is not storing anywhere."
   ]
  },
  {
   "cell_type": "code",
   "execution_count": 21,
   "id": "ce2e541d-cf4a-4179-8a3e-b455c944c85d",
   "metadata": {},
   "outputs": [
    {
     "name": "stdout",
     "output_type": "stream",
     "text": [
      "{}\n"
     ]
    }
   ],
   "source": [
    "def printphoneticalphabet():\n",
    "    dict([('alpha', 1), ('bravo', 2), ('charlie', 3)])\n",
    "    print(dict())\n",
    "printphoneticalphabet()"
   ]
  },
  {
   "cell_type": "markdown",
   "id": "c2669c7b-f1a5-4f9d-8091-3fc429c6a5a9",
   "metadata": {},
   "source": [
    "In addition, dict comprehensions can be used to create dictionaries from arbitrary key and value expressions:"
   ]
  },
  {
   "cell_type": "code",
   "execution_count": 24,
   "id": "6642b1a9-2d43-4462-b0b7-8275ed118cea",
   "metadata": {},
   "outputs": [
    {
     "name": "stdout",
     "output_type": "stream",
     "text": [
      "{2: 4, 4: 16, 6: 36}\n"
     ]
    }
   ],
   "source": [
    "def printmulti():\n",
    "    dict = {x: x**2 for x in (2, 4, 6)}\n",
    "    print(dict)\n",
    "printmulti()"
   ]
  },
  {
   "cell_type": "code",
   "execution_count": null,
   "id": "ee847891-fd39-4257-bc8e-f836a0432f16",
   "metadata": {},
   "outputs": [],
   "source": []
  }
 ],
 "metadata": {
  "kernelspec": {
   "display_name": "Python [conda env:base] *",
   "language": "python",
   "name": "conda-base-py"
  },
  "language_info": {
   "codemirror_mode": {
    "name": "ipython",
    "version": 3
   },
   "file_extension": ".py",
   "mimetype": "text/x-python",
   "name": "python",
   "nbconvert_exporter": "python",
   "pygments_lexer": "ipython3",
   "version": "3.12.7"
  }
 },
 "nbformat": 4,
 "nbformat_minor": 5
}
