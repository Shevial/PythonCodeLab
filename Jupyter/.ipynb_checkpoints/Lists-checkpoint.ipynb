{
 "cells": [
  {
   "cell_type": "markdown",
   "id": "1e850066-7ce9-498e-9799-005ddfa99d42",
   "metadata": {},
   "source": [
    "## **Lists**\n",
    "The elements between ``[]`` will be automatically detected by their type of data\n",
    "This type of list is **mutable** (you can change its elements) and **ordered** (you can sort it)\n",
    "```python\n",
    "nameList=[\"\",\"\",\"\"]"
   ]
  },
  {
   "cell_type": "markdown",
   "id": "86a8aabc-f4c5-4e71-a236-ddb534d7c6ae",
   "metadata": {},
   "source": [
    "You can use ```nameList.append``` to add a new element  \n",
    "You can use ```nameList.sort``` to sort the list"
   ]
  },
  {
   "cell_type": "code",
   "execution_count": 40,
   "id": "6682a7c9-bb3c-4258-863b-a5f0b5e78751",
   "metadata": {},
   "outputs": [
    {
     "name": "stdout",
     "output_type": "stream",
     "text": [
      "['apple', 'grapes', 'orange', 'strawberry']\n"
     ]
    }
   ],
   "source": [
    "def lists():   #mutable and ordered\n",
    "    #creating a new list:\n",
    "    fruits = [\"apple\",\"orange\",\"grapes\"]\n",
    "    \n",
    "    #adding a new element:\n",
    "    fruits.append(\"strawberry\")\n",
    "    \n",
    "    #sorting the list alphabetically\n",
    "    fruits.sort()\n",
    "    \n",
    "    print(fruits)\n",
    "    \n",
    "lists() "
   ]
  },
  {
   "cell_type": "markdown",
   "id": "9a953f1a-7247-48d7-8e83-e05d53418ba3",
   "metadata": {},
   "source": [
    "---\n",
    "### More on lists  \n",
    "List datatype has some more methods:\n",
    "* ``list.append(x)``  \n",
    "Add an item to the end of the list\n",
    " Similar to ``a[len(a):] = [x]``"
   ]
  },
  {
   "cell_type": "markdown",
   "id": "28f44b1c-8f4b-4f1f-899a-9b9762e6dae0",
   "metadata": {},
   "source": [
    "* ``list.count(x)``\n",
    "Return the number of times x appears in the list"
   ]
  },
  {
   "cell_type": "markdown",
   "id": "d51992d4-b9ea-42c2-8b8c-7d3263ab07a7",
   "metadata": {},
   "source": [
    "* ``list.extend(iterable)``\n",
    "Extend the list by appendind all the items from the iterable.\n",
    "Similar to ``a[len(a):] = iterable``"
   ]
  },
  {
   "cell_type": "markdown",
   "id": "8dfb1469-f1e2-4fdb-8473-ae7c0c0450b9",
   "metadata": {},
   "source": [
    "* ``list.insert(i, x)``  \n",
    "Insert an item at a given position. The first argument is the index of the element before which to insert,  so ``a.insert(0, x)`` inserts at the front of the list.\n",
    "and ``a.insert(len(a), x)`` is equivalent to ``a.append(x)``"
   ]
  },
  {
   "cell_type": "markdown",
   "id": "4d8cba9b-c426-486a-903a-69608e57617d",
   "metadata": {},
   "source": [
    "* `list.remove(x)`\n",
    "Remove the **first** item from the list whose value is equal to ``x``.  \n",
    "It raises a *ValueError* if there is no such item."
   ]
  },
  {
   "cell_type": "markdown",
   "id": "792b5236-1693-4278-b03e-7ae5d1193461",
   "metadata": {},
   "source": [
    "* ``list.pop([i])``  \n",
    "Remove the item at the given position in the list, and return it.  \n",
    "If no index is specified, ``a.pop()`` removes and returns the **last item** in the list.  \n",
    "It raises an *IndexError* if the list is empty or the index is outside the list range."
   ]
  },
  {
   "cell_type": "markdown",
   "id": "1e782bd3-2840-4837-b54b-5304c7a815fc",
   "metadata": {},
   "source": [
    "* ``list.clear()``  \n",
    "Remove all items from the list.  \n",
    "Similar to ``del a[:]``."
   ]
  },
  {
   "cell_type": "markdown",
   "id": "c9d99dff-eeb9-472c-ad55-03bdbc737eb7",
   "metadata": {},
   "source": [
    "* ``list.index(x,[, start[, end]])``  \n",
    "Return zero-based index in the list of the first item whose value is equal to x. Raises a *ValueError* if there is no such item.\n",
    "The optional arguments *start* and *end* are interpreted as in the slice notation and are used to limit the search to a particular subsequence of the list. The returned index is computed relative to the beginning of the full sequence rather than the start argument."
   ]
  },
  {
   "cell_type": "markdown",
   "id": "b640d4d8-eda4-45c3-8bf8-91d1d224df53",
   "metadata": {},
   "source": [
    "* ``list.reverse()``  \n",
    "Reverse the elements of the list in place."
   ]
  },
  {
   "cell_type": "markdown",
   "id": "962ed8fe-5949-4c11-b87f-d4602df35b59",
   "metadata": {},
   "source": [
    "* ``list.copy()``  \n",
    "Return a shallow copy of the list. Similar to ``a[:]``."
   ]
  },
  {
   "cell_type": "markdown",
   "id": "363200c6-6279-4539-9fb5-7c6e7a0d8eee",
   "metadata": {},
   "source": [
    "### Using lists as ***Stacks***\n",
    "**LIFO** (last-in, first-out)\n",
    "To add an item to the top of the stack, use ``append()``.  \n",
    "To retrieve an item from the top of the stack, use ``pop()`` without an explicit index. \n"
   ]
  },
  {
   "cell_type": "code",
   "execution_count": 11,
   "id": "b3b131a4-96c4-4d9b-acce-a1944e51e7e0",
   "metadata": {},
   "outputs": [
    {
     "name": "stdout",
     "output_type": "stream",
     "text": [
      "[3, 4, 5, 6, 7]\n",
      "7\n",
      "[3, 4, 5, 6]\n",
      "6\n",
      "5\n",
      "[3, 4]\n"
     ]
    }
   ],
   "source": [
    "def printstack():\n",
    "    stack = [3, 4, 5]\n",
    "    stack.append(6)\n",
    "    stack.append(7)\n",
    "    print(stack)\n",
    "    print(stack.pop())\n",
    "    print(stack)\n",
    "    print(stack.pop())\n",
    "    print(stack.pop())\n",
    "    print(stack)\n",
    "printstack()\n"
   ]
  },
  {
   "cell_type": "markdown",
   "id": "3d89cdbf-9298-41bb-8911-6f7723400f7f",
   "metadata": {},
   "source": [
    "### Using lists as ***Queues***\n",
    "+Must import:\n",
    "``from collections import deque``  \n",
    "**FIFO** (first-in, first-out)  \n",
    "The first element added is the first element retrieved "
   ]
  },
  {
   "cell_type": "code",
   "execution_count": 19,
   "id": "786c1834-08d3-4a11-9cd8-e16be103547b",
   "metadata": {},
   "outputs": [
    {
     "name": "stdout",
     "output_type": "stream",
     "text": [
      "deque(['Eric', 'John', 'Michael'])\n",
      "deque(['Eric', 'John', 'Michael', 'Terry'])\n",
      "deque(['Eric', 'John', 'Michael', 'Terry', 'Graham'])\n",
      "deque(['John', 'Michael', 'Terry', 'Graham'])\n",
      "deque(['Michael', 'Terry', 'Graham'])\n"
     ]
    }
   ],
   "source": [
    "from collections import deque\n",
    "def printdeque():\n",
    "    queue = deque([\"Eric\", \"John\", \"Michael\"])\n",
    "    print(queue)\n",
    "    queue.append(\"Terry\")           # Terry arrives\n",
    "    print(queue)\n",
    "    queue.append(\"Graham\")          # Graham arrives\n",
    "    print(queue)\n",
    "    queue.popleft()                 # The first to arrive now leaves\n",
    "    print(queue)\n",
    "    queue.popleft()                 # The second to arrive now leaves\n",
    "    print(queue)                    # Remaining queue in order of arrival\n",
    "printdeque()"
   ]
  },
  {
   "cell_type": "markdown",
   "id": "0db3ceef-b68f-4f48-9314-5241eac02280",
   "metadata": {},
   "source": [
    "## List Comprehensions\n",
    "List comprehensions provide a concise way to create lists.  \n",
    "Common applications are to make new lists where **each element is the result of some operations applied to each member of another sequence or iterable**, or to **create a subsequence of those elements that satisfy a certain condition**."
   ]
  },
  {
   "cell_type": "code",
   "execution_count": 26,
   "id": "ff05e0dc-0436-45c7-b43b-11b711282d64",
   "metadata": {},
   "outputs": [
    {
     "name": "stdout",
     "output_type": "stream",
     "text": [
      "0\n",
      "1\n",
      "2\n",
      "3\n",
      "4\n",
      "5\n",
      "6\n",
      "7\n",
      "8\n",
      "9\n",
      "[0, 1, 4, 9, 16, 25, 36, 49, 64, 81]\n",
      "9\n"
     ]
    }
   ],
   "source": [
    "def printsquares():\n",
    "    squares = []\n",
    "    for x in range(10):\n",
    "        squares.append(x**2)\n",
    "        print(x)\n",
    "    print(squares)\n",
    "    print(x)\n",
    "\n",
    "printsquares()"
   ]
  },
  {
   "cell_type": "markdown",
   "id": "87e1067d-5b5f-4321-bc98-606edd587c42",
   "metadata": {},
   "source": [
    "Note that this creates (or overwrites) a variable named x that still exists after the loop completes. We can calculate the list of squares without any side effects using:"
   ]
  },
  {
   "cell_type": "code",
   "execution_count": 30,
   "id": "0738b991-2da1-4b86-832d-e27f66295a06",
   "metadata": {},
   "outputs": [
    {
     "name": "stdout",
     "output_type": "stream",
     "text": [
      "[0, 1, 4, 9, 16, 25, 36, 49, 64, 81]\n"
     ]
    }
   ],
   "source": [
    "def printsquares():\n",
    "    squares = list(map(lambda x: x**2, range(10)))\n",
    "    print(squares)\n",
    "printsquares()\n"
   ]
  },
  {
   "cell_type": "markdown",
   "id": "16d50e12-ea12-492c-b611-f0d1c7c979f7",
   "metadata": {},
   "source": [
    "Or, equivalently:"
   ]
  },
  {
   "cell_type": "code",
   "execution_count": 56,
   "id": "24465e2f-723c-4fcf-b600-12c611569d1d",
   "metadata": {},
   "outputs": [
    {
     "name": "stdout",
     "output_type": "stream",
     "text": [
      "[0, 1, 4, 9, 16, 25, 36, 49, 64, 81]\n"
     ]
    }
   ],
   "source": [
    "def printsquares():\n",
    "    squares = [x**2 for x in range(10)]\n",
    "    print(squares)\n",
    "printsquares()"
   ]
  }
 ],
 "metadata": {
  "kernelspec": {
   "display_name": "Python [conda env:base] *",
   "language": "python",
   "name": "conda-base-py"
  },
  "language_info": {
   "codemirror_mode": {
    "name": "ipython",
    "version": 3
   },
   "file_extension": ".py",
   "mimetype": "text/x-python",
   "name": "python",
   "nbconvert_exporter": "python",
   "pygments_lexer": "ipython3",
   "version": "3.12.7"
  }
 },
 "nbformat": 4,
 "nbformat_minor": 5
}
