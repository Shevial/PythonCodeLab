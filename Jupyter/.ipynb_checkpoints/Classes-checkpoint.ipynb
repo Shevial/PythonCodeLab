{
 "cells": [
  {
   "cell_type": "markdown",
   "id": "429009fe-f941-4c0c-936c-8e8fb6fc661b",
   "metadata": {},
   "source": [
    "## Class creation"
   ]
  },
  {
   "cell_type": "code",
   "execution_count": null,
   "id": "a6064d8a-2c37-46ad-bb46-61b06a4650b0",
   "metadata": {},
   "outputs": [],
   "source": [
    "class ClassName:\n",
    "    i = 12345\n",
    "\n",
    "    def f(self): ## metodo de la clase siempre tiene SELF\n",
    "        return 'hello world'\n",
    "\n"
   ]
  },
  {
   "cell_type": "markdown",
   "id": "f9d043c5-cd99-4706-8964-8e62438bf563",
   "metadata": {},
   "source": [
    "Class creation"
   ]
  },
  {
   "cell_type": "code",
   "execution_count": 2,
   "id": "02ec2097-695b-447c-9c16-09c87572181e",
   "metadata": {},
   "outputs": [
    {
     "name": "stdout",
     "output_type": "stream",
     "text": [
      "Ford\n",
      "Escort\n"
     ]
    }
   ],
   "source": [
    "class Car:\n",
    "    def __init__(self, marca, model):\n",
    "        self.marca = marca\n",
    "        self.model = model\n",
    "\n",
    "# Instanciar\n",
    "car = Car ('Ford', 'Escort')\n",
    "print(car.marca)\n",
    "print(car.model)\n"
   ]
  },
  {
   "cell_type": "code",
   "execution_count": 20,
   "id": "b6d25421-882b-4906-bdb8-d0fb75ae52eb",
   "metadata": {},
   "outputs": [
    {
     "name": "stdout",
     "output_type": "stream",
     "text": [
      "Accelerating\n"
     ]
    }
   ],
   "source": [
    "class Car:\n",
    "    def __init__(self, marca, model):\n",
    "        self.marca = marca\n",
    "        self.model = model\n",
    "    def accelerate(self):\n",
    "        print(\"Accelerating\")\n",
    "\n",
    "car = Car(\"Toyota\", \"Corolla\")\n",
    "car.accelerate()"
   ]
  },
  {
   "cell_type": "markdown",
   "id": "55cd3b6b-4838-4ca4-8f34-8581eb27b55d",
   "metadata": {},
   "source": [
    "Inheritance\n",
    "Python soporta herencia multiple  \n",
    "Java nosoporta para evitar problemas de jerarquía"
   ]
  },
  {
   "cell_type": "markdown",
   "id": "c2570dba-6415-4fbb-9f49-ccb84c56074f",
   "metadata": {},
   "source": [
    "¿Cómo importar clases de otros archivos?\n",
    "Si estuviera en otro archivo, se haria asi"
   ]
  },
  {
   "cell_type": "code",
   "execution_count": null,
   "id": "b459a0fe-2304-4597-956c-45d64c9b634c",
   "metadata": {},
   "outputs": [],
   "source": [
    "import teoria\n",
    "class eclass ElecticCar(teoria.Car):\n",
    "    def __init__(self)\n",
    "        super__init__()"
   ]
  },
  {
   "cell_type": "markdown",
   "id": "81f7a401-942c-487a-8e2c-eb970543ea87",
   "metadata": {},
   "source": [
    "En la clase hija hereda los constructores también: "
   ]
  },
  {
   "cell_type": "code",
   "execution_count": 26,
   "id": "d2151e02-6a05-4b76-a499-1cf3db64765d",
   "metadata": {},
   "outputs": [
    {
     "name": "stdout",
     "output_type": "stream",
     "text": [
      "hola desde hija\n",
      "Accelerating\n"
     ]
    }
   ],
   "source": [
    "class Car:\n",
    "    def __init__(self, marca, model):\n",
    "        self.marca = marca\n",
    "        self.model = model\n",
    "    def accelerate(self):\n",
    "        print(\"Accelerating\")\n",
    "\n",
    "class ElectricCar(Car):\n",
    "    def saludarHija(self):\n",
    "            print(\"hola desde hija\")\n",
    "\n",
    "electric = ElectricCar(\"audi\", \"a3\") ## Constructor heredado\n",
    "electric.saludarHija()\n",
    "electric.accelerate()"
   ]
  },
  {
   "cell_type": "markdown",
   "id": "54088a0f-0a19-4daa-8ba1-c13b777129cc",
   "metadata": {},
   "source": [
    "Heredando clases, si hay un constructor en la hija con argumentos y en el padre con argumentos, se complica:"
   ]
  },
  {
   "cell_type": "code",
   "execution_count": 36,
   "id": "360c1f57-d3f3-46ce-9951-23e2c42395f1",
   "metadata": {},
   "outputs": [
    {
     "ename": "TypeError",
     "evalue": "ElectricCar.__init__() takes 2 positional arguments but 4 were given",
     "output_type": "error",
     "traceback": [
      "\u001b[1;31m---------------------------------------------------------------------------\u001b[0m",
      "\u001b[1;31mTypeError\u001b[0m                                 Traceback (most recent call last)",
      "Cell \u001b[1;32mIn[36], line 16\u001b[0m\n\u001b[0;32m     13\u001b[0m     \u001b[38;5;28;01mdef\u001b[39;00m \u001b[38;5;21msaludarHija\u001b[39m(\u001b[38;5;28mself\u001b[39m):\n\u001b[0;32m     14\u001b[0m             \u001b[38;5;28mprint\u001b[39m(\u001b[38;5;124m\"\u001b[39m\u001b[38;5;124mhola desde hija\u001b[39m\u001b[38;5;124m\"\u001b[39m)\n\u001b[1;32m---> 16\u001b[0m electric \u001b[38;5;241m=\u001b[39m ElectricCar(\u001b[38;5;241m1500\u001b[39m, \u001b[38;5;124m\"\u001b[39m\u001b[38;5;124maudi\u001b[39m\u001b[38;5;124m\"\u001b[39m, \u001b[38;5;124m\"\u001b[39m\u001b[38;5;124ma3\u001b[39m\u001b[38;5;124m\"\u001b[39m) \u001b[38;5;66;03m## Constructor heredado\u001b[39;00m\n\u001b[0;32m     17\u001b[0m electric\u001b[38;5;241m.\u001b[39msaludarHija()\n\u001b[0;32m     18\u001b[0m electric\u001b[38;5;241m.\u001b[39maccelerate()\n",
      "\u001b[1;31mTypeError\u001b[0m: ElectricCar.__init__() takes 2 positional arguments but 4 were given"
     ]
    }
   ],
   "source": [
    "class Car:\n",
    "    def __init__(self, marca, model):\n",
    "        self.marca = marca\n",
    "        self.model = model\n",
    "    def accelerate(self):\n",
    "        print(\"Accelerating\")\n",
    "\n",
    "class ElectricCar(Car):\n",
    "    def __init__(self, precio):\n",
    "        self.precio = precio\n",
    "        super().__init__() ## aqui hay que poner \n",
    "        \n",
    "    def saludarHija(self):\n",
    "            print(\"hola desde hija\")\n",
    "\n",
    "electric = ElectricCar(1500, \"audi\", \"a3\") ## Constructor heredado\n",
    "electric.saludarHija()\n",
    "electric.accelerate()"
   ]
  },
  {
   "cell_type": "markdown",
   "id": "44c4bad5-545e-4b99-b028-b57d4da0fa1b",
   "metadata": {},
   "source": [
    "¿como se pasan argumentos desde la hija al padre?"
   ]
  },
  {
   "cell_type": "code",
   "execution_count": null,
   "id": "8846c3b6-0fac-4c00-897e-6c1d825c42d3",
   "metadata": {},
   "outputs": [],
   "source": []
  }
 ],
 "metadata": {
  "kernelspec": {
   "display_name": "Python [conda env:base] *",
   "language": "python",
   "name": "conda-base-py"
  },
  "language_info": {
   "codemirror_mode": {
    "name": "ipython",
    "version": 3
   },
   "file_extension": ".py",
   "mimetype": "text/x-python",
   "name": "python",
   "nbconvert_exporter": "python",
   "pygments_lexer": "ipython3",
   "version": "3.12.7"
  }
 },
 "nbformat": 4,
 "nbformat_minor": 5
}
