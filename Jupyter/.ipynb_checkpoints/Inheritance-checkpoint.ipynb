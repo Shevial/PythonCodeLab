{
 "cells": [
  {
   "cell_type": "markdown",
   "id": "33c0e535-98d0-41fb-8076-726a2991615a",
   "metadata": {},
   "source": [
    "# Kwargs vs __init__"
   ]
  },
  {
   "cell_type": "markdown",
   "id": "76c60e85-4ce2-4e71-b718-47e1276ee8c6",
   "metadata": {},
   "source": [
    "## Inheritance using **kwargs**"
   ]
  },
  {
   "cell_type": "markdown",
   "id": "225f9613-78d0-45a9-8f33-ba936f8385d3",
   "metadata": {},
   "source": [
    "If the parent class changes or more parameters are added, **the subclass does not need to be modified:**  \n",
    "To avoid having to specify the parent class arguments."
   ]
  },
  {
   "cell_type": "code",
   "execution_count": 7,
   "id": "801677a7-adc3-40d2-b364-f1fdbba2b22d",
   "metadata": {},
   "outputs": [
    {
     "name": "stdout",
     "output_type": "stream",
     "text": [
      "Tesla\n",
      "Roadster\n",
      "30000\n"
     ]
    }
   ],
   "source": [
    "class Car:\n",
    "    def __init__(self, brand, model):\n",
    "        self.brand = brand\n",
    "        self.model = model\n",
    "\n",
    "class ElectricCar(Car):\n",
    "    def __init__(self, price,**kwargs):\n",
    "        super().__init__(**kwargs) #Automatically pass the remaining parameters\n",
    "        self.price = price\n",
    "            \n",
    "    # Creating the object without repeating parameters\n",
    "car = ElectricCar(price =30000, brand=\"Tesla\", model=\"Roadster\")\n",
    "\n",
    "print(car.brand) # Tesla\n",
    "print(car.model) # Roadster\n",
    "print(car.price) #30000\n",
    "\n"
   ]
  },
  {
   "cell_type": "markdown",
   "id": "405ef1d3-12c1-4021-833f-884eeaab470f",
   "metadata": {},
   "source": [
    "## Inheritance using **__init__ in superclass**"
   ]
  },
  {
   "cell_type": "markdown",
   "id": "cc2eb803-663d-4ef7-819a-ecafad43134b",
   "metadata": {},
   "source": [
    "Not necessary to use ``super()`` and repeat code"
   ]
  },
  {
   "cell_type": "code",
   "execution_count": 16,
   "id": "901a663c-42cf-48b3-b0e3-6c3b1f525372",
   "metadata": {},
   "outputs": [
    {
     "name": "stdout",
     "output_type": "stream",
     "text": [
      "Tesla\n",
      "Model S\n",
      "50000\n"
     ]
    }
   ],
   "source": [
    "class Car:\n",
    "    def __init__(self, brand, model, price):\n",
    "        self.brand = brand\n",
    "        self.model = model\n",
    "        self.price = price #define directly in supeclass\n",
    "\n",
    "class ElectricCar(Car):\n",
    "    pass # not necesary redefine consructor \n",
    "    \n",
    "#object creation\n",
    "car = ElectricCar(brand=\"Tesla\", model = \"Model S\", price = 50000)\n",
    "print(car.brand)\n",
    "print(car.model)\n",
    "print(car.price)\n",
    "\n"
   ]
  },
  {
   "cell_type": "code",
   "execution_count": null,
   "id": "b29e7bcb-e072-4fe7-bc0d-6a4f776ca0cd",
   "metadata": {},
   "outputs": [],
   "source": []
  }
 ],
 "metadata": {
  "kernelspec": {
   "display_name": "Python [conda env:base] *",
   "language": "python",
   "name": "conda-base-py"
  },
  "language_info": {
   "codemirror_mode": {
    "name": "ipython",
    "version": 3
   },
   "file_extension": ".py",
   "mimetype": "text/x-python",
   "name": "python",
   "nbconvert_exporter": "python",
   "pygments_lexer": "ipython3",
   "version": "3.12.7"
  }
 },
 "nbformat": 4,
 "nbformat_minor": 5
}
