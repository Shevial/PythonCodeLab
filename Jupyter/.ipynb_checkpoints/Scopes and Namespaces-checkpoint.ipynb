{
 "cells": [
  {
   "cell_type": "markdown",
   "id": "fcef4313-6f2c-4f02-9f72-67b5a38bf645",
   "metadata": {},
   "source": [
    "## Namespaces (espacios de nombres)  \n",
    "  \n",
    "Relación entre nombres y objetos. \n",
    "* Nombres globales de un módulo.\n",
    "* Nombres locales dentro de una función.\n",
    "* Atributos de un objeto (nombres que siguen a un punto): ``obj.atributo``  \n",
    "  - Se pueden eliminar ``del obj.atributo``  \n",
    "  - Pueden ser de modo lectura o modificables    \n",
    "    \n",
    "  No hay relación entre nombres en distintos espacios de nombres, por lo que dos módulos pueden tener la misma función sin conflicto (``modulo1.maximize``, ``modulo2.maximize``)\n",
    "    \n",
    "  **Creación y duración de espacios de nombres**\n",
    "* Los **nombres incorporados** se crean al iniciar Python y duran toda la ejecución.\n",
    "* Los **nombres globales** de un módulo se crean al importarlo y existen hasta que se cierra el intérprete.  \n",
    "* Las **funciones** crean su propio namespace al ejecutarse y lo eliminan al finalizar.\n",
    "\n",
    "## Scope (reglas de alcance / ámbito)  \n",
    "  \n",
    "Un ámbito es la región del código donde un nombre es accesible directamente. Hay 3-4 niveles de ámbitos\n",
    "1. Local (dentro de una función).\n",
    "2. No local (en funciones anidadas).\n",
    "   Si es no local, se puede modificar en funciones anidadas con nonlocal.\n",
    "4. Global (del módulo actual).\n",
    "   Si una variable es global, afecta al módulo completo.\n",
    "5. Incorporado (funciones y objetos de Python).  \n",
    "\n",
    "En ausencia de estas declaraciones, cualquier asignación crea una nueva variable en el ámbito más interno.\n",
    "Las funciones siempre **buscan primero en su ámbito local** y luego **van subiendo de nivel hasta encontrar el nombre**. La resolución de nombres está evolucionando hacia una detección más estática en tiempo de compilación."
   ]
  },
  {
   "cell_type": "markdown",
   "id": "3d1192de-c6cc-454f-9cca-b58eb54d53a8",
   "metadata": {},
   "source": [
    "Ejemplo de Scopes y Namespaces"
   ]
  },
  {
   "cell_type": "code",
   "execution_count": 5,
   "id": "0ad627fc-2c46-4af8-a22a-48f031a88b92",
   "metadata": {},
   "outputs": [
    {
     "name": "stdout",
     "output_type": "stream",
     "text": [
      "After local assignment: test spam\n",
      "After nonlocal assignment: nonlocal spam\n",
      "After global assignment: nonlocal spam\n",
      "In global scope: global spam\n"
     ]
    }
   ],
   "source": [
    "def scope_test():  \n",
    "    def do_local():  \n",
    "        spam = \"local spam\"  \n",
    "\n",
    "    def do_nonlocal():  \n",
    "        nonlocal spam  # Accede y modifica la variable 'spam' de 'scope_test'\n",
    "        spam = \"nonlocal spam\"  \n",
    "\n",
    "    def do_global():  \n",
    "        global spam  # Modifica la variable 'spam' a nivel global\n",
    "        spam = \"global spam\"  \n",
    "\n",
    "    spam = \"test spam\"  # Variable local de 'scope_test'\n",
    "    do_local()\n",
    "    print(\"After local assignment:\", spam)  # ➝ 'test spam' (no se modifica) \n",
    "\n",
    "    do_nonlocal()\n",
    "    print(\"After nonlocal assignment:\", spam)  # ➝ 'nonlocal spam' (modifica la de 'scope_test')\n",
    "\n",
    "    do_global()\n",
    "    print(\"After global assignment:\", spam)  # ➝ Sigue siendo 'nonlocal spam'\n",
    "\n",
    "scope_test()\n",
    "print(\"In global scope:\", spam)  # ➝ 'global spam' (modificado por 'do_global')\n"
   ]
  },
  {
   "cell_type": "markdown",
   "id": "cc7e3e2a-003d-4d8f-be50-1784cf137648",
   "metadata": {},
   "source": [
    "1. Local (``do_local()``)  \n",
    "- spam se crea solo dentro de ``do_local()``, sin afectar afuera.  \n",
    "- No puede modificar spam de ``scope_test()`` ni la global.  \n",
    "  \n",
    "2. Nonlocal (``do_nonlocal()``)\n",
    "- Modifica la spam de ``scope_test()``, pero no la global.  \n",
    "- Solo funciona si ``scope_test()`` ya tiene una spam.\n",
    "  \n",
    "3. Global (``do_global()``)\n",
    "\n",
    "- Modifica la spam global (o la crea si no existe).\n",
    "- No afecta la spam de ``scope_test()``, porque es otro ámbito."
   ]
  }
 ],
 "metadata": {
  "kernelspec": {
   "display_name": "Python [conda env:base] *",
   "language": "python",
   "name": "conda-base-py"
  },
  "language_info": {
   "codemirror_mode": {
    "name": "ipython",
    "version": 3
   },
   "file_extension": ".py",
   "mimetype": "text/x-python",
   "name": "python",
   "nbconvert_exporter": "python",
   "pygments_lexer": "ipython3",
   "version": "3.12.7"
  }
 },
 "nbformat": 4,
 "nbformat_minor": 5
}
