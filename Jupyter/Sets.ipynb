{
 "cells": [
  {
   "cell_type": "markdown",
   "id": "36da593a-ff98-44d2-a84a-ed3f9ab0c455",
   "metadata": {},
   "source": [
    "### Sets \n",
    "* Unordered\n",
    "* No duplicate elements\n",
    "* Inmutable \n",
    " Basic uses include membership testing and eliminating duplicate entries.\n",
    " Set objects also support mathematical operations like union, intersection, difference, and symmetric difference."
   ]
  },
  {
   "cell_type": "code",
   "execution_count": 6,
   "id": "e1df5f06-e513-4d8f-b6f2-d0722f17941e",
   "metadata": {},
   "outputs": [
    {
     "name": "stdout",
     "output_type": "stream",
     "text": [
      "{False, 'abc', 2.0, 14}\n"
     ]
    }
   ],
   "source": [
    "def printset():\n",
    "    items = {14, 'abc', False, 2.0}\n",
    "    print(items)\n",
    "printset()"
   ]
  },
  {
   "cell_type": "code",
   "execution_count": null,
   "id": "cd850e9a-0847-4aff-b245-d3d05fad401f",
   "metadata": {},
   "outputs": [],
   "source": []
  },
  {
   "cell_type": "code",
   "execution_count": null,
   "id": "d37d466b-6057-406e-9bf5-19bf9a8bdf7e",
   "metadata": {},
   "outputs": [],
   "source": []
  },
  {
   "cell_type": "markdown",
   "id": "babd0cdf-01ca-4dbe-9829-e61d2c45bc59",
   "metadata": {},
   "source": [
    "Similarly to list comprehensions, set comprehensions are also supported: "
   ]
  },
  {
   "cell_type": "code",
   "execution_count": 11,
   "id": "365d0eaf-893d-4761-bf6e-4f1b9a6e0540",
   "metadata": {},
   "outputs": [
    {
     "name": "stdout",
     "output_type": "stream",
     "text": [
      "{'r', 'd'}\n"
     ]
    }
   ],
   "source": [
    "def printsetcomprehension():\n",
    "    a = {x for x in 'abracadabra' if x not in 'abc'}\n",
    "    print(a)\n",
    "printsetcomprehension()"
   ]
  },
  {
   "cell_type": "code",
   "execution_count": null,
   "id": "7fa657d7-0824-4b19-88e0-07e097bc17b8",
   "metadata": {},
   "outputs": [],
   "source": []
  }
 ],
 "metadata": {
  "kernelspec": {
   "display_name": "Python [conda env:base] *",
   "language": "python",
   "name": "conda-base-py"
  },
  "language_info": {
   "codemirror_mode": {
    "name": "ipython",
    "version": 3
   },
   "file_extension": ".py",
   "mimetype": "text/x-python",
   "name": "python",
   "nbconvert_exporter": "python",
   "pygments_lexer": "ipython3",
   "version": "3.12.7"
  }
 },
 "nbformat": 4,
 "nbformat_minor": 5
}
