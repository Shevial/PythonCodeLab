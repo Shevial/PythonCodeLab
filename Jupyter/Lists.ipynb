{
 "cells": [
  {
   "cell_type": "markdown",
   "id": "1e850066-7ce9-498e-9799-005ddfa99d42",
   "metadata": {},
   "source": [
    "## **Lists**\n",
    "The elements between ``[]`` will be automatically detected by their type of data\n",
    "This type of list is **mutable** (you can change its elements) and **ordered** (you can sort it)\n",
    "```python\n",
    "nameList=[\"\",\"\",\"\"]"
   ]
  },
  {
   "cell_type": "markdown",
   "id": "86a8aabc-f4c5-4e71-a236-ddb534d7c6ae",
   "metadata": {},
   "source": [
    "You can use ```nameList.append``` to add a new element  \n",
    "You can use ```nameList.sort``` to sort the list"
   ]
  },
  {
   "cell_type": "code",
   "execution_count": 40,
   "id": "6682a7c9-bb3c-4258-863b-a5f0b5e78751",
   "metadata": {},
   "outputs": [
    {
     "name": "stdout",
     "output_type": "stream",
     "text": [
      "['apple', 'grapes', 'orange', 'strawberry']\n"
     ]
    }
   ],
   "source": [
    "def lists():   #mutable and ordered\n",
    "    #creating a new list:\n",
    "    fruits = [\"apple\",\"orange\",\"grapes\"]\n",
    "    \n",
    "    #adding a new element:\n",
    "    fruits.append(\"strawberry\")\n",
    "    \n",
    "    #sorting the list alphabetically\n",
    "    fruits.sort()\n",
    "    \n",
    "    print(fruits)\n",
    "    \n",
    "lists() "
   ]
  },
  {
   "cell_type": "markdown",
   "id": "9a953f1a-7247-48d7-8e83-e05d53418ba3",
   "metadata": {},
   "source": [
    "---\n",
    "### More on lists  \n",
    "List datatype has some more methods:\n",
    "* ``list.append(x)``  \n",
    "Add an item to the end of the list\n",
    " Similar to ``a[len(a):] = [x]``"
   ]
  },
  {
   "cell_type": "markdown",
   "id": "28f44b1c-8f4b-4f1f-899a-9b9762e6dae0",
   "metadata": {},
   "source": [
    "* ``list.count(x)``\n",
    "Return the number of times x appears in the list"
   ]
  },
  {
   "cell_type": "markdown",
   "id": "d51992d4-b9ea-42c2-8b8c-7d3263ab07a7",
   "metadata": {},
   "source": [
    "* ``list.extend(iterable)``\n",
    "Extend the list by appendind all the items from the iterable.\n",
    "Similar to ``a[len(a):] = iterable``"
   ]
  },
  {
   "cell_type": "markdown",
   "id": "8dfb1469-f1e2-4fdb-8473-ae7c0c0450b9",
   "metadata": {},
   "source": [
    "* ``list.insert(i, x)``  \n",
    "Insert an item at a given position. The first argument is the index of the element before which to insert,  so ``a.insert(0, x)`` inserts at the front of the list.\n",
    "and ``a.insert(len(a), x)`` is equivalent to ``a.append(x)``"
   ]
  },
  {
   "cell_type": "markdown",
   "id": "4d8cba9b-c426-486a-903a-69608e57617d",
   "metadata": {},
   "source": [
    "* `list.remove(x)`\n",
    "Remove the **first** item from the list whose value is equal to ``x``.  \n",
    "It raises a *ValueError* if there is no such item."
   ]
  },
  {
   "cell_type": "markdown",
   "id": "792b5236-1693-4278-b03e-7ae5d1193461",
   "metadata": {},
   "source": [
    "* ``list.pop([i])``  \n",
    "Remove the item at the given position in the list, and return it.  \n",
    "If no index is specified, ``a.pop()`` removes and returns the **last item** in the list.  \n",
    "It raises an *IndexError* if the list is empty or the index is outside the list range."
   ]
  },
  {
   "cell_type": "markdown",
   "id": "1e782bd3-2840-4837-b54b-5304c7a815fc",
   "metadata": {},
   "source": [
    "* ``list.clear()``  \n",
    "Remove all items from the list.  \n",
    "Similar to ``del a[:]``."
   ]
  },
  {
   "cell_type": "markdown",
   "id": "c9d99dff-eeb9-472c-ad55-03bdbc737eb7",
   "metadata": {},
   "source": [
    "* ``list.index(x,[, start[, end]])``  \n",
    "Return zero-based index in the list of the first item whose value is equal to x. Raises a *ValueError* if there is no such item.\n",
    "The optional arguments *start* and *end* are interpreted as in the slice notation and are used to limit the search to a particular subsequence of the list. The returned index is computed relative to the beginning of the full sequence rather than the start argument."
   ]
  },
  {
   "cell_type": "markdown",
   "id": "b640d4d8-eda4-45c3-8bf8-91d1d224df53",
   "metadata": {},
   "source": [
    "* ``list.reverse()``  \n",
    "Reverse the elements of the list in place."
   ]
  },
  {
   "cell_type": "markdown",
   "id": "962ed8fe-5949-4c11-b87f-d4602df35b59",
   "metadata": {},
   "source": [
    "* ``list.copy()``  \n",
    "Return a shallow copy of the list. Similar to ``a[:]``."
   ]
  },
  {
   "cell_type": "markdown",
   "id": "8392466a-a6d7-4e14-9445-55b4fdae37f9",
   "metadata": {},
   "source": [
    "## Del statement  \n",
    " Remove an item from a list given its index instead of its value  \n",
    " The ``del`` statement can also be used to remove slices from a list or clear the entire list \n"
   ]
  },
  {
   "cell_type": "code",
   "execution_count": 4,
   "id": "7e82ee41-b536-4307-bc95-98123a7d1ef5",
   "metadata": {},
   "outputs": [
    {
     "name": "stdout",
     "output_type": "stream",
     "text": [
      "[-1, 1, 66.25, 333, 333, 1234.5]\n",
      "[1, 66.25, 333, 333, 1234.5]\n",
      "[1, 66.25, 1234.5]\n",
      "[]\n"
     ]
    }
   ],
   "source": [
    "def printdel():\n",
    "    a = [-1, 1, 66.25, 333, 333, 1234.5]\n",
    "    print(a)\n",
    "    del a[0]\n",
    "    print(a)\n",
    "    del a[2:4]\n",
    "    print(a)\n",
    "    del a[:] #clear all\n",
    "    print(a)\n",
    "printdel()\n"
   ]
  },
  {
   "cell_type": "markdown",
   "id": "363200c6-6279-4539-9fb5-7c6e7a0d8eee",
   "metadata": {},
   "source": [
    "### Using lists as ***Stacks***\n",
    "**LIFO** (last-in, first-out)\n",
    "To add an item to the top of the stack, use ``append()``.  \n",
    "To retrieve an item from the top of the stack, use ``pop()`` without an explicit index. \n"
   ]
  },
  {
   "cell_type": "code",
   "execution_count": 11,
   "id": "b3b131a4-96c4-4d9b-acce-a1944e51e7e0",
   "metadata": {},
   "outputs": [
    {
     "name": "stdout",
     "output_type": "stream",
     "text": [
      "[3, 4, 5, 6, 7]\n",
      "7\n",
      "[3, 4, 5, 6]\n",
      "6\n",
      "5\n",
      "[3, 4]\n"
     ]
    }
   ],
   "source": [
    "def printstack():\n",
    "    stack = [3, 4, 5]\n",
    "    stack.append(6)\n",
    "    stack.append(7)\n",
    "    print(stack)\n",
    "    print(stack.pop())\n",
    "    print(stack)\n",
    "    print(stack.pop())\n",
    "    print(stack.pop())\n",
    "    print(stack)\n",
    "printstack()\n"
   ]
  },
  {
   "cell_type": "markdown",
   "id": "3d89cdbf-9298-41bb-8911-6f7723400f7f",
   "metadata": {},
   "source": [
    "### Using lists as ***Queues***\n",
    "+Must import:\n",
    "``from collections import deque``  \n",
    "**FIFO** (first-in, first-out)  \n",
    "The first element added is the first element retrieved "
   ]
  },
  {
   "cell_type": "code",
   "execution_count": 19,
   "id": "786c1834-08d3-4a11-9cd8-e16be103547b",
   "metadata": {},
   "outputs": [
    {
     "name": "stdout",
     "output_type": "stream",
     "text": [
      "deque(['Eric', 'John', 'Michael'])\n",
      "deque(['Eric', 'John', 'Michael', 'Terry'])\n",
      "deque(['Eric', 'John', 'Michael', 'Terry', 'Graham'])\n",
      "deque(['John', 'Michael', 'Terry', 'Graham'])\n",
      "deque(['Michael', 'Terry', 'Graham'])\n"
     ]
    }
   ],
   "source": [
    "from collections import deque\n",
    "def printdeque():\n",
    "    queue = deque([\"Eric\", \"John\", \"Michael\"])\n",
    "    print(queue)\n",
    "    queue.append(\"Terry\")           # Terry arrives\n",
    "    print(queue)\n",
    "    queue.append(\"Graham\")          # Graham arrives\n",
    "    print(queue)\n",
    "    queue.popleft()                 # The first to arrive now leaves\n",
    "    print(queue)\n",
    "    queue.popleft()                 # The second to arrive now leaves\n",
    "    print(queue)                    # Remaining queue in order of arrival\n",
    "printdeque()"
   ]
  },
  {
   "cell_type": "markdown",
   "id": "0db3ceef-b68f-4f48-9314-5241eac02280",
   "metadata": {},
   "source": [
    "## List Comprehensions\n",
    "List comprehensions provide a concise way to create lists.  \n",
    "Common applications are to make new lists where **each element is the result of some operations applied to each member of another sequence or iterable**, or to **create a subsequence of those elements that satisfy a certain condition**."
   ]
  },
  {
   "cell_type": "code",
   "execution_count": 26,
   "id": "ff05e0dc-0436-45c7-b43b-11b711282d64",
   "metadata": {},
   "outputs": [
    {
     "name": "stdout",
     "output_type": "stream",
     "text": [
      "0\n",
      "1\n",
      "2\n",
      "3\n",
      "4\n",
      "5\n",
      "6\n",
      "7\n",
      "8\n",
      "9\n",
      "[0, 1, 4, 9, 16, 25, 36, 49, 64, 81]\n",
      "9\n"
     ]
    }
   ],
   "source": [
    "def printsquares():\n",
    "    squares = []\n",
    "    for x in range(10):\n",
    "        squares.append(x**2)\n",
    "        print(x)\n",
    "    print(squares)\n",
    "    print(x)\n",
    "\n",
    "printsquares()"
   ]
  },
  {
   "cell_type": "markdown",
   "id": "87e1067d-5b5f-4321-bc98-606edd587c42",
   "metadata": {},
   "source": [
    "Note that this creates (or overwrites) a variable named x that still exists after the loop completes. We can calculate the list of squares without any side effects using:"
   ]
  },
  {
   "cell_type": "code",
   "execution_count": 30,
   "id": "0738b991-2da1-4b86-832d-e27f66295a06",
   "metadata": {},
   "outputs": [
    {
     "name": "stdout",
     "output_type": "stream",
     "text": [
      "[0, 1, 4, 9, 16, 25, 36, 49, 64, 81]\n"
     ]
    }
   ],
   "source": [
    "def printsquares():\n",
    "    squares = list(map(lambda x: x**2, range(10)))\n",
    "    print(squares)\n",
    "printsquares()\n"
   ]
  },
  {
   "cell_type": "markdown",
   "id": "16d50e12-ea12-492c-b611-f0d1c7c979f7",
   "metadata": {},
   "source": [
    "Or, equivalently:"
   ]
  },
  {
   "cell_type": "code",
   "execution_count": 56,
   "id": "24465e2f-723c-4fcf-b600-12c611569d1d",
   "metadata": {},
   "outputs": [
    {
     "name": "stdout",
     "output_type": "stream",
     "text": [
      "[0, 1, 4, 9, 16, 25, 36, 49, 64, 81]\n"
     ]
    }
   ],
   "source": [
    "def printsquares():\n",
    "    squares = [x**2 for x in range(10)]\n",
    "    print(squares)\n",
    "printsquares()"
   ]
  },
  {
   "cell_type": "markdown",
   "id": "4a422f73-db33-46b7-9862-e9becae90af9",
   "metadata": {},
   "source": [
    "A **list comprehension** consists of brackets containing an expression followed by a for clause, then zero or more for or if clauses.  \n",
    "The result will be a new list resulting from evaluating the expression in the context of the for and if clauses which follow it.  \n",
    "For example, this listcomp combines the elements of two lists if they are not equal:"
   ]
  },
  {
   "cell_type": "code",
   "execution_count": 3,
   "id": "70102cd7-f7bb-43a0-a518-961143974db4",
   "metadata": {},
   "outputs": [
    {
     "name": "stdout",
     "output_type": "stream",
     "text": [
      "[(1, 3), (1, 4), (2, 3), (2, 1), (2, 4), (3, 1), (3, 4)]\n"
     ]
    }
   ],
   "source": [
    "def printcomprehension():\n",
    "    compreh = [(x, y) for x in [1,2,3] for y in [3,1,4] if x != y]\n",
    "    print(compreh)\n",
    "printcomprehension()"
   ]
  },
  {
   "cell_type": "markdown",
   "id": "14d6463f-e844-4125-914b-facd2cef9bed",
   "metadata": {},
   "source": [
    "And it´s equivalent to:\n",
    "(Note how the order of the for and if statements is the same in both these snippets.)"
   ]
  },
  {
   "cell_type": "code",
   "execution_count": 7,
   "id": "fd9849df-fc3f-4aab-ab8d-6e32057214a8",
   "metadata": {},
   "outputs": [
    {
     "name": "stdout",
     "output_type": "stream",
     "text": [
      "[(1, 3), (1, 4), (2, 3), (2, 1), (2, 4), (3, 1), (3, 4)]\n"
     ]
    }
   ],
   "source": [
    "def printcomprehension2():\n",
    "    combs = []\n",
    "    for x in [1,2,3]:\n",
    "        for y in [3,1,4]:\n",
    "            if x != y:\n",
    "                combs.append((x, y))\n",
    "    print(combs)\n",
    "\n",
    "printcomprehension2()"
   ]
  },
  {
   "cell_type": "markdown",
   "id": "f09de4bf-f213-449e-a203-803d286f9a32",
   "metadata": {},
   "source": [
    "If the expression is a tuple (e.g. the (x, y) in the previous example), it must be parenthesized."
   ]
  },
  {
   "cell_type": "code",
   "execution_count": 17,
   "id": "b5485be0-5322-499b-9117-53b05a2454bd",
   "metadata": {},
   "outputs": [
    {
     "name": "stdout",
     "output_type": "stream",
     "text": [
      "[-8, -4, 0, 4, 8]\n",
      "[0, 2, 4]\n",
      "[4, 2, 0, 2, 4]\n"
     ]
    }
   ],
   "source": [
    "def printcomprehension3():\n",
    "    vec = [-4, -2, 0, 2, 4]\n",
    "    # create a new list with the values doubled\n",
    "    print([x*2 for x in vec])\n",
    "    # filter the list to exclude negative numbers\n",
    "    print([x for x in vec if x >= 0])\n",
    "    # apply a function to all the elements\n",
    "    print([abs(x) for x in vec])\n",
    "printcomprehension3()"
   ]
  },
  {
   "cell_type": "markdown",
   "id": "24259c94-3116-4471-bdcb-94e08e0fbf0c",
   "metadata": {},
   "source": [
    "Flatten a list using a listcomp with two 'for':"
   ]
  },
  {
   "cell_type": "code",
   "execution_count": 21,
   "id": "7bab6dc0-d2d4-42e7-9585-bf78d918ee5d",
   "metadata": {},
   "outputs": [
    {
     "name": "stdout",
     "output_type": "stream",
     "text": [
      "[1, 2, 3, 4, 5, 6, 7, 8, 9]\n"
     ]
    }
   ],
   "source": [
    "def flatten():\n",
    "    vec = [[1,2,3], [4,5,6], [7,8,9]]\n",
    "    print([num for elem in vec for num in elem])\n",
    "flatten()"
   ]
  },
  {
   "cell_type": "markdown",
   "id": "69e03d7a-4ae1-4e2b-a21a-c305667f669f",
   "metadata": {},
   "source": [
    "List comprehensions can contain complex expressions and nested functions:"
   ]
  },
  {
   "cell_type": "code",
   "execution_count": 27,
   "id": "288d0d5e-de32-4b20-a681-d81348c8748b",
   "metadata": {},
   "outputs": [
    {
     "name": "stdout",
     "output_type": "stream",
     "text": [
      "['3.1', '3.14', '3.142', '3.1416', '3.14159']\n"
     ]
    }
   ],
   "source": [
    "from math import pi\n",
    "def printpiround():\n",
    "    print([str(round(pi, i)) for i in range(1, 6)])\n",
    "printpiround()"
   ]
  }
 ],
 "metadata": {
  "kernelspec": {
   "display_name": "Python [conda env:base] *",
   "language": "python",
   "name": "conda-base-py"
  },
  "language_info": {
   "codemirror_mode": {
    "name": "ipython",
    "version": 3
   },
   "file_extension": ".py",
   "mimetype": "text/x-python",
   "name": "python",
   "nbconvert_exporter": "python",
   "pygments_lexer": "ipython3",
   "version": "3.12.7"
  }
 },
 "nbformat": 4,
 "nbformat_minor": 5
}
