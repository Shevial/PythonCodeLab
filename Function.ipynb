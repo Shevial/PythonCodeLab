{
 "cells": [
  {
   "cell_type": "code",
   "execution_count": null,
   "id": "15148cc0-0469-4e93-bd82-063948e763c9",
   "metadata": {},
   "outputs": [],
   "source": []
  }
 ],
 "metadata": {
  "kernelspec": {
   "display_name": "",
   "name": ""
  },
  "language_info": {
   "name": ""
  }
 },
 "nbformat": 4,
 "nbformat_minor": 5
}
