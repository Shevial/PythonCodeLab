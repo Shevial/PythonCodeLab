{
 "cells": [
  {
   "cell_type": "markdown",
   "id": "23d9359b-19ed-4781-850d-7d1bcd73dfc5",
   "metadata": {},
   "source": [
    "## Defining a function\n",
    "### def():\n",
    "The keyword `def` is used to define a new function in Python.  \n",
    "```python\n",
    "def function_name(parameters):  \n",
    " body of the function"
   ]
  },
  {
   "cell_type": "markdown",
   "id": "231af54b-8981-4309-b262-6854253e003f",
   "metadata": {},
   "source": [
    "### print()\n",
    "The `print` function is used to output text to the standard output.\n",
    "```python\n",
    "print(\"Hello World!\")"
   ]
  },
  {
   "cell_type": "code",
   "execution_count": 4,
   "id": "920ce749-f187-49ee-997f-c0809258608d",
   "metadata": {},
   "outputs": [
    {
     "name": "stdout",
     "output_type": "stream",
     "text": [
      "This is a Python introduction\n",
      " with Jupyter Notebook\n"
     ]
    }
   ],
   "source": [
    "def intro():\n",
    "    print(\"This is a Python introduction\")\n",
    "    print(\" with Jupyter Notebook\")\n",
    "intro()"
   ]
  },
  {
   "cell_type": "code",
   "execution_count": null,
   "id": "c4415b6f-174c-4844-b68f-c1c6b0ed6348",
   "metadata": {},
   "outputs": [],
   "source": []
  }
 ],
 "metadata": {
  "kernelspec": {
   "display_name": "Python [conda env:base] *",
   "language": "python",
   "name": "conda-base-py"
  },
  "language_info": {
   "codemirror_mode": {
    "name": "ipython",
    "version": 3
   },
   "file_extension": ".py",
   "mimetype": "text/x-python",
   "name": "python",
   "nbconvert_exporter": "python",
   "pygments_lexer": "ipython3",
   "version": "3.12.7"
  }
 },
 "nbformat": 4,
 "nbformat_minor": 5
}
