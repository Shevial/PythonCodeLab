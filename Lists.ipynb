{
 "cells": [
  {
   "cell_type": "markdown",
   "id": "6d16aaff-4039-4fe0-9c76-26c13be67018",
   "metadata": {},
   "source": [
    "## Defining a function\n",
    "### def():\n",
    "The keyword `def` is used to define a new function in Python.  \n",
    "```python\n",
    "def function_name(parameters):  \n",
    " body of the function"
   ]
  },
  {
   "cell_type": "markdown",
   "id": "c96d71f8-3a91-44ba-bcf8-87d7ba247912",
   "metadata": {},
   "source": [
    "### print()\n",
    "The `print` function is used to output text to the standard output.\n",
    "```python\n",
    "print(\"Hello World!\")"
   ]
  },
  {
   "cell_type": "code",
   "execution_count": 11,
   "id": "568e73be-900d-48a3-8038-69fb3aab7b28",
   "metadata": {},
   "outputs": [
    {
     "name": "stdout",
     "output_type": "stream",
     "text": [
      "This is a Python introduction\n",
      " with Jupyter Notebook\n"
     ]
    }
   ],
   "source": [
    "def intro():\n",
    "    print(\"This is a Python introduction\")\n",
    "    print(\" with Jupyter Notebook\")\n",
    "intro()"
   ]
  },
  {
   "cell_type": "markdown",
   "id": "1e850066-7ce9-498e-9799-005ddfa99d42",
   "metadata": {},
   "source": [
    "## Lists\n",
    "The elements between ``[]`` will be automatically detected by their type of data\n",
    "This type of list is **mutable** (you can change its elements) and **ordered** (you can sort it)\n",
    "```python\n",
    "nameList=[\"\",\"\",\"\"]"
   ]
  },
  {
   "cell_type": "markdown",
   "id": "86a8aabc-f4c5-4e71-a236-ddb534d7c6ae",
   "metadata": {},
   "source": [
    "You can use ```nameList.append``` to add a new element  \n",
    "You can use ```nameList.sort``` to sort the list"
   ]
  },
  {
   "cell_type": "code",
   "execution_count": 40,
   "id": "6682a7c9-bb3c-4258-863b-a5f0b5e78751",
   "metadata": {},
   "outputs": [
    {
     "name": "stdout",
     "output_type": "stream",
     "text": [
      "['apple', 'grapes', 'orange', 'strawberry']\n"
     ]
    }
   ],
   "source": [
    "def lists():   #mutable and ordered\n",
    "    #creating a new list:\n",
    "    fruits = [\"apple\",\"orange\",\"grapes\"]\n",
    "    \n",
    "    #adding a new element:\n",
    "    fruits.append(\"strawberry\")\n",
    "    \n",
    "    #sorting the list alphabetically\n",
    "    fruits.sort()\n",
    "    \n",
    "    print(fruits)\n",
    "    \n",
    "lists() "
   ]
  },
  {
   "cell_type": "markdown",
   "id": "363200c6-6279-4539-9fb5-7c6e7a0d8eee",
   "metadata": {},
   "source": [
    "### Using lists as Stacks\n",
    "**LIFO** (last-in, first-out)"
   ]
  },
  {
   "cell_type": "markdown",
   "id": "3d89cdbf-9298-41bb-8911-6f7723400f7f",
   "metadata": {},
   "source": [
    "### Using lists as Queues\n",
    "+Must import:\n",
    "``from collections import deque``  \n",
    "**FIFO** (first-in, first-out)\n",
    "  "
   ]
  },
  {
   "cell_type": "markdown",
   "id": "0db3ceef-b68f-4f48-9314-5241eac02280",
   "metadata": {},
   "source": [
    "## List Comprehensions\n",
    "List comprehensions provide a concise way to create lists.  \n",
    "Common applications are to make new lists where each element is the result of some operations applied to each member of another sequence or iterable, or to create a subsequence of those elements that satisfy a certain condition."
   ]
  },
  {
   "cell_type": "code",
   "execution_count": 50,
   "id": "ff05e0dc-0436-45c7-b43b-11b711282d64",
   "metadata": {},
   "outputs": [
    {
     "name": "stdout",
     "output_type": "stream",
     "text": [
      "[0, 1, 4, 9, 16, 25, 36, 49, 64, 81]\n"
     ]
    }
   ],
   "source": [
    "def printsquares():\n",
    "    squares = []\n",
    "    for x in range(10):\n",
    "        squares.append(x**2)\n",
    "    print(squares)\n",
    "printsquares()"
   ]
  },
  {
   "cell_type": "markdown",
   "id": "87e1067d-5b5f-4321-bc98-606edd587c42",
   "metadata": {},
   "source": [
    "Note that this creates (or overwrites) a variable named x that still exists after the loop completes. We can calculate the list of squares without any side effects using:"
   ]
  },
  {
   "cell_type": "code",
   "execution_count": 52,
   "id": "0738b991-2da1-4b86-832d-e27f66295a06",
   "metadata": {},
   "outputs": [
    {
     "name": "stdout",
     "output_type": "stream",
     "text": [
      "[0, 1, 4, 9, 16, 25, 36, 49, 64, 81]\n"
     ]
    }
   ],
   "source": [
    "def printsquares():\n",
    "    squares = list(map(lambda x: x**2, range(10)))\n",
    "    print(squares)\n",
    "printsquares()\n"
   ]
  },
  {
   "cell_type": "markdown",
   "id": "16d50e12-ea12-492c-b611-f0d1c7c979f7",
   "metadata": {},
   "source": [
    "Or, equivalently:"
   ]
  },
  {
   "cell_type": "code",
   "execution_count": 56,
   "id": "24465e2f-723c-4fcf-b600-12c611569d1d",
   "metadata": {},
   "outputs": [
    {
     "name": "stdout",
     "output_type": "stream",
     "text": [
      "[0, 1, 4, 9, 16, 25, 36, 49, 64, 81]\n"
     ]
    }
   ],
   "source": [
    "def printsquares():\n",
    "    squares = [x**2 for x in range(10)]\n",
    "    print(squares)\n",
    "printsquares()"
   ]
  },
  {
   "cell_type": "code",
   "execution_count": null,
   "id": "b6c7eb92-8b14-4ca4-b8c9-514c2f2acd7f",
   "metadata": {},
   "outputs": [],
   "source": []
  }
 ],
 "metadata": {
  "kernelspec": {
   "display_name": "Python [conda env:base] *",
   "language": "python",
   "name": "conda-base-py"
  },
  "language_info": {
   "codemirror_mode": {
    "name": "ipython",
    "version": 3
   },
   "file_extension": ".py",
   "mimetype": "text/x-python",
   "name": "python",
   "nbconvert_exporter": "python",
   "pygments_lexer": "ipython3",
   "version": "3.12.7"
  }
 },
 "nbformat": 4,
 "nbformat_minor": 5
}
